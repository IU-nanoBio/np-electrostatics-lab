{
 "cells": [
  {
   "cell_type": "code",
   "execution_count": 1,
   "metadata": {
    "extensions": {
     "jupyter_dashboards": {
      "version": 1,
      "views": {
       "grid_default": {
        "hidden": true
       },
       "report_default": {
        "hidden": true
       }
      }
     }
    }
   },
   "outputs": [
    {
     "data": {
      "application/javascript": [
       "\n",
       "requirejs.undef('filepicker');\n",
       "\n",
       "define('filepicker', [\"jupyter-js-widgets\"], function(widgets) {\n",
       "\n",
       "    var FilePickerView = widgets.DOMWidgetView.extend({\n",
       "        render: function(){\n",
       "            this.file = document.createElement('input');\n",
       "            this.file.setAttribute('class', 'fileinput');\n",
       "            this.file.setAttribute('id', this.cid);\n",
       "            this.file.multiple = this.model.get('multiple');\n",
       "            this.file.required = true;\n",
       "            this.file.setAttribute('type', 'file');\n",
       "            this.file.setAttribute('style', 'display:none');\n",
       "\n",
       "            this.label = document.createElement('label');\n",
       "            this.label.setAttribute('for', this.cid);\n",
       "            this.label.setAttribute('style', 'border: 1px solid; border-radius: 5px; display: inline-block; padding: 6px 12px');\n",
       "\n",
       "            this.icon = document.createElement('i');\n",
       "            this.icon.setAttribute(\"class\", \"fa fa-upload\");\n",
       "\n",
       "            if (this.file.multiple) {\n",
       "                this.labelstr = \"  Upload Files\";\n",
       "            } else {\n",
       "                this.labelstr = \"  Upload File\";\n",
       "            }\n",
       "            this.label.innerHTML = this.labelstr;\n",
       "            this.label.prepend(this.icon);\n",
       "            this.el.appendChild(this.label);\n",
       "            this.el.appendChild(this.file);\n",
       "            this.update();\n",
       "        },\n",
       "\n",
       "        events: {\n",
       "            // List of events and their handlers.\n",
       "            'change': 'handle_file_change',\n",
       "        },\n",
       "\n",
       "        handle_file_change: function(evt) {\n",
       "\n",
       "            var that = this;\n",
       "            var files = evt.target.files;\n",
       "            var filenames = [];\n",
       "            var skipped = [];\n",
       "            var file_readers = [];\n",
       "\n",
       "            for (var i = 0; i < files.length; i++) {\n",
       "                var file = files[i];\n",
       "                console.log(\"Filename: \" + file.name);\n",
       "                console.log(\"Type: \" + file.type);\n",
       "                console.log(\"Size: \" + file.size + \" bytes\");\n",
       "                if (file.size > this.model.get('maxsize')) {\n",
       "                    skipped.push(file.name);\n",
       "                    continue;\n",
       "                };\n",
       "                filenames.push(file.name);\n",
       "\n",
       "                // Read the file's textual content and set value_i to those contents.\n",
       "                file_readers.push(new FileReader());\n",
       "                file_readers[i].onload = (function(file, i) {\n",
       "                    return function(e) {\n",
       "                        that.model.set('value_' + i, e.target.result);\n",
       "                        that.touch();\n",
       "                        console.log(\"file_\" + i + \" loaded: \" + file.name);\n",
       "                    };\n",
       "                })(file, i);\n",
       "                file_readers[i].readAsDataURL(file);\n",
       "            };\n",
       "\n",
       "            // update the label\n",
       "            if (filenames.length == 0) {\n",
       "                this.label.innerHTML = this.labelstr;\n",
       "            } else if (filenames.length == 1) {\n",
       "                this.label.innerHTML = \"  \" + filenames[0];\n",
       "            } else {\n",
       "                this.label.innerHTML = \"  \" + filenames.length + \" files selected\";\n",
       "            };\n",
       "            this.label.prepend(this.icon);\n",
       "\n",
       "            // Set the filenames of the files.\n",
       "            this.model.set('filenames', filenames);\n",
       "            this.model.set('skipped', skipped);\n",
       "            this.touch();\n",
       "        },\n",
       "    });\n",
       "\n",
       "    // Register the FilePickerView with the widget manager.\n",
       "    return {\n",
       "        FilePickerView: FilePickerView\n",
       "    };\n",
       "});\n"
      ],
      "text/plain": [
       "<IPython.core.display.Javascript object>"
      ]
     },
     "metadata": {},
     "output_type": "display_data"
    },
    {
     "data": {
      "text/html": [
       "\n",
       "<script>\n",
       "requirejs.config({\n",
       "    paths: {\n",
       "        'ace': ['//cdnjs.cloudflare.com/ajax/libs/ace/1.2.6/ace'],\n",
       "    },\n",
       "});\n",
       "\n",
       "require(['ace'], function(ace) {\n",
       "    console.log(\"ACE loaded :)\");\n",
       "    return {};\n",
       "});\n",
       "</script>\n",
       "\n",
       "<script>\n",
       "requirejs.undef('editor');\n",
       "\n",
       "define('editor', [\"jupyter-js-widgets\"], function(widgets) {\n",
       "\n",
       "    var EditorView = widgets.DOMWidgetView.extend({\n",
       "\n",
       "        // Render the view.\n",
       "        render: function() {\n",
       "            this.ignorex = false;\n",
       "            this.ignorev = false;\n",
       "            //console.log('RENDER '+this.model.get('name'));\n",
       "            this.div = document.createElement('div');\n",
       "            this.div.setAttribute('id', this.model.get('name'));\n",
       "            this.el.appendChild(this.div);\n",
       "            this.listenTo(this.model, 'change:state', this._state_changed, this);\n",
       "            this.listenTo(this.model, 'change:theme', this._theme_changed, this);\n",
       "            this.listenTo(this.model, 'change:mode', this._mode_changed, this);\n",
       "            this.listenTo(this.model, 'change:value2', this._value2_changed, this);\n",
       "            this.listenTo(this.model, 'change:showmargin', this._showmargin_changed, this);\n",
       "            this.listenTo(this.model, 'change:fontsize', this._fontsize_changed, this);\n",
       "            this.update();\n",
       "        },\n",
       "        update: function() {\n",
       "            return EditorView.__super__.update.apply(this);\n",
       "        },\n",
       "        // Tell Backbone to listen to the change event of input controls\n",
       "        events: {\n",
       "            \"change\": \"handle_color_change\"\n",
       "        },\n",
       "\n",
       "        _state_changed: function() {\n",
       "            var state = this.model.get('state')\n",
       "            //console.log('state: ' + state );\n",
       "            if (state == 'start') {\n",
       "                var that = this;\n",
       "                this._ed = ace.edit(this.model.get('name'));\n",
       "                this._ed.getSession().on('change', function(e) {\n",
       "                    if (that.ignorev == true) { return }\n",
       "                    that.ignorex = true;\n",
       "                    //console.log('CHANGE1');\n",
       "                    that.model.set('value2', that._ed.getValue());\n",
       "                    //console.log('CHANGE2');\n",
       "                    that.touch();\n",
       "                    //console.log('CHANGE3');\n",
       "                    that.ignorex = false;\n",
       "                });\n",
       "            };\n",
       "        },\n",
       "        _theme_changed: function() {\n",
       "            //console.log(\"theme \" + this.model.get('theme'));\n",
       "            this._ed.setTheme(\"ace/theme/\"+this.model.get('theme'));\n",
       "        },\n",
       "        _mode_changed: function() {\n",
       "            //console.log(\"mode \" + this.model.get('mode'));\n",
       "            this._ed.getSession().setMode(\"ace/mode/\"+this.model.get('mode'));\n",
       "        },\n",
       "        _value2_changed: function() {\n",
       "            //console.log('value2 ' + this.ignorex);\n",
       "            if (this.ignorex == true) { return };\n",
       "            var val = this.model.get('value2');\n",
       "            //console.log('VALUE2 ' + val);\n",
       "            this.ignorev = true;\n",
       "            this._ed.setValue(val);\n",
       "            this.ignorev = false;\n",
       "            //console.log('VALUE2 DONE');\n",
       "        },\n",
       "        _showmargin_changed: function() {\n",
       "            this._ed.setShowPrintMargin(this.model.get('showmargin'));\n",
       "        },\n",
       "        _fontsize_changed: function() {\n",
       "            document.getElementById(this.model.get('name')).style.fontSize=this.model.get('fontsize');\n",
       "        },\n",
       "\n",
       "        // Callback for when the color is changed.\n",
       "        handle_color_change: function(event) {\n",
       "            console.log('SOMETHING CHNAGED');\n",
       "            console.log(event);\n",
       "        },\n",
       "    });\n",
       "\n",
       "    return {\n",
       "        EditorView: EditorView\n",
       "    };\n",
       "});\n",
       "</script>\n"
      ],
      "text/plain": [
       "<IPython.core.display.HTML object>"
      ]
     },
     "metadata": {},
     "output_type": "display_data"
    }
   ],
   "source": [
    "%matplotlib notebook\n",
    "import ipywidgets as widgets\n",
    "import sys, os, io, string, shutil, math\n",
    "from hublib.ui import RunCommand\n",
    "\n",
    "\n",
    "style = {'description_width': 'initial'}"
   ]
  },
  {
   "cell_type": "code",
   "execution_count": 2,
   "metadata": {
    "extensions": {
     "jupyter_dashboards": {
      "version": 1,
      "views": {
       "grid_default": {
        "col": 0,
        "height": 2,
        "hidden": false,
        "row": 6,
        "width": 4
       },
       "report_default": {
        "hidden": true
       }
      }
     }
    }
   },
   "outputs": [
    {
     "data": {
      "application/vnd.jupyter.widget-view+json": {
       "model_id": "73b5d0ed2480452bb40b95d6defa7ff9",
       "version_major": 2,
       "version_minor": 0
      },
      "text/html": [
       "<p>Failed to display Jupyter Widget of type <code>BoundedFloatText</code>.</p>\n",
       "<p>\n",
       "  If you're reading this message in the Jupyter Notebook or JupyterLab Notebook, it may mean\n",
       "  that the widgets JavaScript is still loading. If this message persists, it\n",
       "  likely means that the widgets JavaScript library is either not installed or\n",
       "  not enabled. See the <a href=\"https://ipywidgets.readthedocs.io/en/stable/user_install.html\">Jupyter\n",
       "  Widgets Documentation</a> for setup instructions.\n",
       "</p>\n",
       "<p>\n",
       "  If you're reading this message in another frontend (for example, a static\n",
       "  rendering on GitHub or <a href=\"https://nbviewer.jupyter.org/\">NBViewer</a>),\n",
       "  it may mean that your frontend doesn't currently support widgets.\n",
       "</p>\n"
      ],
      "text/plain": [
       "BoundedFloatText(value=78.5, description='Dielectric const inside NP:', max=78.5, min=2.0, step=0.1, style=DescriptionStyle(description_width='initial'))"
      ]
     },
     "metadata": {},
     "output_type": "display_data"
    }
   ],
   "source": [
    "e_np = widgets.BoundedFloatText(\n",
    "    value=78.5,\n",
    "    min=2,\n",
    "    max=78.5,\n",
    "    step=0.1,\n",
    "    description='Dielectric const inside NP:',\n",
    "    style=style,\n",
    ")\n",
    "e_np"
   ]
  },
  {
   "cell_type": "code",
   "execution_count": 3,
   "metadata": {
    "extensions": {
     "jupyter_dashboards": {
      "version": 1,
      "views": {
       "grid_default": {
        "col": 0,
        "height": 2,
        "hidden": false,
        "row": 8,
        "width": 4
       },
       "report_default": {}
      }
     }
    }
   },
   "outputs": [
    {
     "data": {
      "application/vnd.jupyter.widget-view+json": {
       "model_id": "69ad6a15c9d44d75b9815328043b365f",
       "version_major": 2,
       "version_minor": 0
      },
      "text/html": [
       "<p>Failed to display Jupyter Widget of type <code>BoundedFloatText</code>.</p>\n",
       "<p>\n",
       "  If you're reading this message in the Jupyter Notebook or JupyterLab Notebook, it may mean\n",
       "  that the widgets JavaScript is still loading. If this message persists, it\n",
       "  likely means that the widgets JavaScript library is either not installed or\n",
       "  not enabled. See the <a href=\"https://ipywidgets.readthedocs.io/en/stable/user_install.html\">Jupyter\n",
       "  Widgets Documentation</a> for setup instructions.\n",
       "</p>\n",
       "<p>\n",
       "  If you're reading this message in another frontend (for example, a static\n",
       "  rendering on GitHub or <a href=\"https://nbviewer.jupyter.org/\">NBViewer</a>),\n",
       "  it may mean that your frontend doesn't currently support widgets.\n",
       "</p>\n"
      ],
      "text/plain": [
       "BoundedFloatText(value=78.5, description='Dielectric const outside NP:', max=78.5, min=2.0, step=0.1, style=DescriptionStyle(description_width='initial'))"
      ]
     },
     "metadata": {},
     "output_type": "display_data"
    }
   ],
   "source": [
    "e_out = widgets.BoundedFloatText(\n",
    "    value=78.5,\n",
    "    min=2,\n",
    "    max=78.5,\n",
    "    step=0.1,\n",
    "    description='Dielectric const outside NP:',\n",
    "    style=style,\n",
    ")\n",
    "e_out"
   ]
  },
  {
   "cell_type": "code",
   "execution_count": 4,
   "metadata": {
    "extensions": {
     "jupyter_dashboards": {
      "version": 1,
      "views": {
       "grid_default": {
        "col": 0,
        "height": 2,
        "hidden": false,
        "row": 12,
        "width": 4
       },
       "report_default": {
        "hidden": true
       }
      }
     }
    }
   },
   "outputs": [
    {
     "data": {
      "application/vnd.jupyter.widget-view+json": {
       "model_id": "1caa6d5675b54057b67b73dbba390006",
       "version_major": 2,
       "version_minor": 0
      },
      "text/html": [
       "<p>Failed to display Jupyter Widget of type <code>Dropdown</code>.</p>\n",
       "<p>\n",
       "  If you're reading this message in the Jupyter Notebook or JupyterLab Notebook, it may mean\n",
       "  that the widgets JavaScript is still loading. If this message persists, it\n",
       "  likely means that the widgets JavaScript library is either not installed or\n",
       "  not enabled. See the <a href=\"https://ipywidgets.readthedocs.io/en/stable/user_install.html\">Jupyter\n",
       "  Widgets Documentation</a> for setup instructions.\n",
       "</p>\n",
       "<p>\n",
       "  If you're reading this message in another frontend (for example, a static\n",
       "  rendering on GitHub or <a href=\"https://nbviewer.jupyter.org/\">NBViewer</a>),\n",
       "  it may mean that your frontend doesn't currently support widgets.\n",
       "</p>\n"
      ],
      "text/plain": [
       "Dropdown(description='Positive Ion Valency (z)', options={'1(monovalent)': 1, '2(divalent)': 2, '3(trivalent)': 3}, style=DescriptionStyle(description_width='initial'), value=1)"
      ]
     },
     "metadata": {},
     "output_type": "display_data"
    }
   ],
   "source": [
    "pion = widgets.Dropdown(\n",
    "    options={'1(monovalent)': 1, '2(divalent)': 2, '3(trivalent)': 3},\n",
    "    value=1,\n",
    "    description=\"Positive Ion Valency (z)\",\n",
    "    style=style\n",
    ")\n",
    "pion"
   ]
  },
  {
   "cell_type": "code",
   "execution_count": 5,
   "metadata": {
    "extensions": {
     "jupyter_dashboards": {
      "version": 1,
      "views": {
       "grid_default": {
        "col": 0,
        "height": 2,
        "hidden": false,
        "row": 14,
        "width": 4
       },
       "report_default": {
        "hidden": true
       }
      }
     }
    }
   },
   "outputs": [
    {
     "data": {
      "application/vnd.jupyter.widget-view+json": {
       "model_id": "01fa884459a645de82a0e5746537dbab",
       "version_major": 2,
       "version_minor": 0
      },
      "text/html": [
       "<p>Failed to display Jupyter Widget of type <code>BoundedFloatText</code>.</p>\n",
       "<p>\n",
       "  If you're reading this message in the Jupyter Notebook or JupyterLab Notebook, it may mean\n",
       "  that the widgets JavaScript is still loading. If this message persists, it\n",
       "  likely means that the widgets JavaScript library is either not installed or\n",
       "  not enabled. See the <a href=\"https://ipywidgets.readthedocs.io/en/stable/user_install.html\">Jupyter\n",
       "  Widgets Documentation</a> for setup instructions.\n",
       "</p>\n",
       "<p>\n",
       "  If you're reading this message in another frontend (for example, a static\n",
       "  rendering on GitHub or <a href=\"https://nbviewer.jupyter.org/\">NBViewer</a>),\n",
       "  it may mean that your frontend doesn't currently support widgets.\n",
       "</p>\n"
      ],
      "text/plain": [
       "BoundedFloatText(value=0.0, description='salt concentration outside:', max=0.4, step=0.1, style=DescriptionStyle(description_width='initial'))"
      ]
     },
     "metadata": {},
     "output_type": "display_data"
    }
   ],
   "source": [
    "c_out = widgets.BoundedFloatText(\n",
    "    value=0.0,\n",
    "    min=0.0,\n",
    "    max=0.4,\n",
    "    step=0.1,\n",
    "    description='salt concentration outside:',\n",
    "    style=style\n",
    ")\n",
    "c_out"
   ]
  },
  {
   "cell_type": "code",
   "execution_count": 6,
   "metadata": {
    "extensions": {
     "jupyter_dashboards": {
      "version": 1,
      "views": {
       "grid_default": {
        "col": 0,
        "height": 2,
        "hidden": false,
        "row": 10,
        "width": 4
       },
       "report_default": {
        "hidden": true
       }
      }
     }
    }
   },
   "outputs": [
    {
     "data": {
      "application/vnd.jupyter.widget-view+json": {
       "model_id": "32d552cbd61848d5a6436c58aaed8aa4",
       "version_major": 2,
       "version_minor": 0
      },
      "text/html": [
       "<p>Failed to display Jupyter Widget of type <code>BoundedFloatText</code>.</p>\n",
       "<p>\n",
       "  If you're reading this message in the Jupyter Notebook or JupyterLab Notebook, it may mean\n",
       "  that the widgets JavaScript is still loading. If this message persists, it\n",
       "  likely means that the widgets JavaScript library is either not installed or\n",
       "  not enabled. See the <a href=\"https://ipywidgets.readthedocs.io/en/stable/user_install.html\">Jupyter\n",
       "  Widgets Documentation</a> for setup instructions.\n",
       "</p>\n",
       "<p>\n",
       "  If you're reading this message in another frontend (for example, a static\n",
       "  rendering on GitHub or <a href=\"https://nbviewer.jupyter.org/\">NBViewer</a>),\n",
       "  it may mean that your frontend doesn't currently support widgets.\n",
       "</p>\n"
      ],
      "text/plain": [
       "BoundedFloatText(value=2.6775, description='Nanoparticle Radius (nm):', max=5.0, min=2.0, step=0.001, style=DescriptionStyle(description_width='initial'))"
      ]
     },
     "metadata": {},
     "output_type": "display_data"
    }
   ],
   "source": [
    "np_radius = widgets.BoundedFloatText(\n",
    "    value=2.6775,\n",
    "    min=2,\n",
    "    max=5,\n",
    "    step=0.001,\n",
    "    description='Nanoparticle Radius (nm):',\n",
    "    style=style\n",
    ")\n",
    "np_radius"
   ]
  },
  {
   "cell_type": "code",
   "execution_count": 7,
   "metadata": {
    "extensions": {
     "jupyter_dashboards": {
      "version": 1,
      "views": {
       "grid_default": {
        "col": 0,
        "height": 2,
        "hidden": false,
        "row": 16,
        "width": 4
       },
       "report_default": {
        "hidden": true
       }
      }
     }
    }
   },
   "outputs": [
    {
     "data": {
      "application/vnd.jupyter.widget-view+json": {
       "model_id": "c31fd64da73240ff943697399cd4d451",
       "version_major": 2,
       "version_minor": 0
      },
      "text/html": [
       "<p>Failed to display Jupyter Widget of type <code>BoundedFloatText</code>.</p>\n",
       "<p>\n",
       "  If you're reading this message in the Jupyter Notebook or JupyterLab Notebook, it may mean\n",
       "  that the widgets JavaScript is still loading. If this message persists, it\n",
       "  likely means that the widgets JavaScript library is either not installed or\n",
       "  not enabled. See the <a href=\"https://ipywidgets.readthedocs.io/en/stable/user_install.html\">Jupyter\n",
       "  Widgets Documentation</a> for setup instructions.\n",
       "</p>\n",
       "<p>\n",
       "  If you're reading this message in another frontend (for example, a static\n",
       "  rendering on GitHub or <a href=\"https://nbviewer.jupyter.org/\">NBViewer</a>),\n",
       "  it may mean that your frontend doesn't currently support widgets.\n",
       "</p>\n"
      ],
      "text/plain": [
       "BoundedFloatText(value=-60.0, description='Nanoparticle Charge:', max=-30.0, min=-300.0, step=-1.0, style=DescriptionStyle(description_width='initial'))"
      ]
     },
     "metadata": {},
     "output_type": "display_data"
    }
   ],
   "source": [
    "np_charge = widgets.BoundedFloatText(\n",
    "    value=-60,\n",
    "    min=-300,\n",
    "    max=-30,\n",
    "    step=-1,\n",
    "    description='Nanoparticle Charge:',\n",
    "    style=style\n",
    ")\n",
    "np_charge"
   ]
  },
  {
   "cell_type": "code",
   "execution_count": 8,
   "metadata": {
    "extensions": {
     "jupyter_dashboards": {
      "version": 1,
      "views": {
       "grid_default": {
        "col": 0,
        "height": 2,
        "hidden": false,
        "row": 18,
        "width": 4
       },
       "report_default": {
        "hidden": false
       }
      }
     }
    }
   },
   "outputs": [
    {
     "data": {
      "application/vnd.jupyter.widget-view+json": {
       "model_id": "b2a9300b08174c9e9a04ca329073ca72",
       "version_major": 2,
       "version_minor": 0
      },
      "text/html": [
       "<p>Failed to display Jupyter Widget of type <code>BoundedIntText</code>.</p>\n",
       "<p>\n",
       "  If you're reading this message in the Jupyter Notebook or JupyterLab Notebook, it may mean\n",
       "  that the widgets JavaScript is still loading. If this message persists, it\n",
       "  likely means that the widgets JavaScript library is either not installed or\n",
       "  not enabled. See the <a href=\"https://ipywidgets.readthedocs.io/en/stable/user_install.html\">Jupyter\n",
       "  Widgets Documentation</a> for setup instructions.\n",
       "</p>\n",
       "<p>\n",
       "  If you're reading this message in another frontend (for example, a static\n",
       "  rendering on GitHub or <a href=\"https://nbviewer.jupyter.org/\">NBViewer</a>),\n",
       "  it may mean that your frontend doesn't currently support widgets.\n",
       "</p>\n"
      ],
      "text/plain": [
       "BoundedIntText(value=10000, description='Simulation Steps:', max=5000000, min=10000, step=100000, style=DescriptionStyle(description_width='initial'))"
      ]
     },
     "metadata": {},
     "output_type": "display_data"
    }
   ],
   "source": [
    "steps = widgets.BoundedIntText(\n",
    "    value=10000,\n",
    "    min=10000,\n",
    "    max=5000000,\n",
    "    step=100000,\n",
    "    description='Simulation Steps:',\n",
    "    style=style,\n",
    ")\n",
    "steps"
   ]
  },
  {
   "cell_type": "code",
   "execution_count": 9,
   "metadata": {
    "extensions": {
     "jupyter_dashboards": {
      "version": 1,
      "views": {
       "grid_default": {
        "hidden": true
       },
       "report_default": {
        "hidden": true
       }
      }
     }
    }
   },
   "outputs": [],
   "source": [
    "label_style = \"style='background-color: #DCDCDC; font-size:200; padding: 5px'\"\n",
    "def make_label(name, desc=\"\"):\n",
    "    lval = '<p  %s %s>%s</p>' % (desc, label_style, name)\n",
    "    return widgets.HTML(lval)\n",
    "\n",
    "plabel = make_label('Physical', '')\n",
    "clabel = make_label('Computing', '')"
   ]
  },
  {
   "cell_type": "code",
   "execution_count": 10,
   "metadata": {
    "extensions": {
     "jupyter_dashboards": {
      "version": 1,
      "views": {
       "grid_default": {
        "col": 0,
        "height": 12,
        "hidden": false,
        "row": 20,
        "width": 4
       },
       "report_default": {
        "hidden": false
       }
      }
     }
    }
   },
   "outputs": [
    {
     "data": {
      "application/vnd.jupyter.widget-view+json": {
       "model_id": "61bee5550986474c8ee809660c0b5696",
       "version_major": 2,
       "version_minor": 0
      },
      "text/html": [
       "<p>Failed to display Jupyter Widget of type <code>HTML</code>.</p>\n",
       "<p>\n",
       "  If you're reading this message in the Jupyter Notebook or JupyterLab Notebook, it may mean\n",
       "  that the widgets JavaScript is still loading. If this message persists, it\n",
       "  likely means that the widgets JavaScript library is either not installed or\n",
       "  not enabled. See the <a href=\"https://ipywidgets.readthedocs.io/en/stable/user_install.html\">Jupyter\n",
       "  Widgets Documentation</a> for setup instructions.\n",
       "</p>\n",
       "<p>\n",
       "  If you're reading this message in another frontend (for example, a static\n",
       "  rendering on GitHub or <a href=\"https://nbviewer.jupyter.org/\">NBViewer</a>),\n",
       "  it may mean that your frontend doesn't currently support widgets.\n",
       "</p>\n"
      ],
      "text/plain": [
       "HTML(value='<img src=\"webcontent/images/overview.jpg\" style=\"width: 500px\"/>')"
      ]
     },
     "metadata": {},
     "output_type": "display_data"
    }
   ],
   "source": [
    "image_html = widgets.HTML(\n",
    "    value='<img src=\"webcontent/images/overview.jpg\" style=\"width: 500px\"/>',\n",
    ")\n",
    "image_html"
   ]
  },
  {
   "cell_type": "code",
   "execution_count": 11,
   "metadata": {
    "extensions": {
     "jupyter_dashboards": {
      "version": 1,
      "views": {
       "grid_default": {
        "col": 0,
        "height": 6,
        "hidden": false,
        "row": 0,
        "width": 12
       },
       "report_default": {}
      }
     }
    }
   },
   "outputs": [
    {
     "data": {
      "application/vnd.jupyter.widget-view+json": {
       "model_id": "de3e9cfd30e24570a9e673f9b8cd19da",
       "version_major": 2,
       "version_minor": 0
      },
      "text/html": [
       "<p>Failed to display Jupyter Widget of type <code>Textarea</code>.</p>\n",
       "<p>\n",
       "  If you're reading this message in the Jupyter Notebook or JupyterLab Notebook, it may mean\n",
       "  that the widgets JavaScript is still loading. If this message persists, it\n",
       "  likely means that the widgets JavaScript library is either not installed or\n",
       "  not enabled. See the <a href=\"https://ipywidgets.readthedocs.io/en/stable/user_install.html\">Jupyter\n",
       "  Widgets Documentation</a> for setup instructions.\n",
       "</p>\n",
       "<p>\n",
       "  If you're reading this message in another frontend (for example, a static\n",
       "  rendering on GitHub or <a href=\"https://nbviewer.jupyter.org/\">NBViewer</a>),\n",
       "  it may mean that your frontend doesn't currently support widgets.\n",
       "</p>\n"
      ],
      "text/plain": [
       "Textarea(value='This app enables users to simulate ions confined between nanoparticle (NP) surfaces in aqueous media. Nanoparticles can be synthetic (such as gold NPs) or natural (e.g. proteins) and the length of confinement is of the order of nanometers. Example systems include ion channel proteins of the cell membrane, adsorbed ions near surfaces of porous electrodes, and ions confined by NPs and/or colloidal particles. NP surfaces are assumed to be unpolarizable and are modeled as planar interfaces considering the large size difference between the ions and the NPs. \\nThe app facilitates investigations for a wide array of ionic and environmental parameters. Users can extract the ionic structure (density profile) and study its dependence on salt concentration (c), ion valency (z), and other physical attributes. \\nUsers can explore interesting effects by changing the c parameter from 0.3 to 0.9 M. This increase in density leads to crowding of the channel (confinement) with a large number of ions. The effect of symmetry breaking caused by the surfaces is seen: to avoid being pushed by ions from both the sides, an ion prefers the interface over the central region (bulk). The app enables users to explore this effect of ion accumulation near the interface, and make a quantitative assessment of ionic structure in strong confinement.\\nAnother rich avenue to explore is to tune the valency of positive ions (parameter z) from 1 to 3. A positively-charged multivalent ion (+3 Fe or +2 Ca) near an interface is pulled away from the interface by oppositely charged ions with a stronger force relative to the bulk where the symmetry allows for no preferred movement. Thus, stronger electrostatic interactions (as in the case of multivalent ions) tend to cause depletion of the ions from the interface. This app empowers users to investigate this depletion effect via accurate computation of the density profiles of ions. \\nEffects of changing other physical attributes such as confinement length and ion size are also available for users to explore. We invite users to take an inside look at what happens to the self-assembly of ions in these nanoscale channels by investigating the interplay of electrostatic effects and steric (or entropic) effects caused due to confinement, and measuring associated density profiles. \\nWhile we provide a default of 20000 steps for users to get started on exploring different features of the app by obtaining immediate results, converged results of smooth profiles are expected for around 1 million steps.', disabled=True, layout=Layout(height='150px', width='100%'), placeholder='')"
      ]
     },
     "metadata": {},
     "output_type": "display_data"
    }
   ],
   "source": [
    "about=widgets.Textarea(\n",
    "    value='This app enables users to simulate ions confined between nanoparticle (NP) surfaces in aqueous media. Nanoparticles can be synthetic (such as gold NPs) or natural (e.g. proteins) and the length of confinement is of the order of nanometers. Example systems include ion channel proteins of the cell membrane, adsorbed ions near surfaces of porous electrodes, and ions confined by NPs and/or colloidal particles. NP surfaces are assumed to be unpolarizable and are modeled as planar interfaces considering the large size difference between the ions and the NPs. \\nThe app facilitates investigations for a wide array of ionic and environmental parameters. Users can extract the ionic structure (density profile) and study its dependence on salt concentration (c), ion valency (z), and other physical attributes. \\nUsers can explore interesting effects by changing the c parameter from 0.3 to 0.9 M. This increase in density leads to crowding of the channel (confinement) with a large number of ions. The effect of symmetry breaking caused by the surfaces is seen: to avoid being pushed by ions from both the sides, an ion prefers the interface over the central region (bulk). The app enables users to explore this effect of ion accumulation near the interface, and make a quantitative assessment of ionic structure in strong confinement.\\nAnother rich avenue to explore is to tune the valency of positive ions (parameter z) from 1 to 3. A positively-charged multivalent ion (+3 Fe or +2 Ca) near an interface is pulled away from the interface by oppositely charged ions with a stronger force relative to the bulk where the symmetry allows for no preferred movement. Thus, stronger electrostatic interactions (as in the case of multivalent ions) tend to cause depletion of the ions from the interface. This app empowers users to investigate this depletion effect via accurate computation of the density profiles of ions. \\nEffects of changing other physical attributes such as confinement length and ion size are also available for users to explore. We invite users to take an inside look at what happens to the self-assembly of ions in these nanoscale channels by investigating the interplay of electrostatic effects and steric (or entropic) effects caused due to confinement, and measuring associated density profiles. \\nWhile we provide a default of 20000 steps for users to get started on exploring different features of the app by obtaining immediate results, converged results of smooth profiles are expected for around 1 million steps.',\n",
    "    placeholder='',\n",
    "    layout={'height': '150px','width': '100%'},\n",
    "    disabled=True\n",
    ")\n",
    "about"
   ]
  },
  {
   "cell_type": "code",
   "execution_count": null,
   "metadata": {
    "extensions": {
     "jupyter_dashboards": {
      "version": 1,
      "views": {
       "grid_default": {
        "col": 4,
        "height": 10,
        "hidden": true,
        "row": 12,
        "width": 4
       },
       "report_default": {}
      }
     }
    }
   },
   "outputs": [],
   "source": [
    "RunCommand(start_func=my_start, done_func=read_data)"
   ]
  },
  {
   "cell_type": "code",
   "execution_count": 12,
   "metadata": {
    "extensions": {
     "jupyter_dashboards": {
      "version": 1,
      "views": {
       "grid_default": {
        "hidden": true
       },
       "report_default": {}
      }
     }
    }
   },
   "outputs": [],
   "source": [
    "\n",
    "def callExe(s):\n",
    "    \n",
    "    e_np_value = e_np.value\n",
    "    e_out_value = e_out.value\n",
    "    pion_value = pion.value\n",
    "    c_out_value = c_out.value\n",
    "    np_radius_value = np_radius.value\n",
    "    np_charge_value = np_charge.value\n",
    "    sim_steps_value = steps.value\n",
    "    walltime = 10\n",
    "    total_processors = 1\n",
    "    \n",
    "    print(\"Salt concentration is\", e_np_value)\n",
    "    print(\"Positive Ion Valency is\", e_out_value)\n",
    "    print(\"Negative Ion Valency is\", pion_value)\n",
    "    print(\"confinement length is\", c_out_value)\n",
    "    print(\"Ion diameter is\", np_radius_value)\n",
    "    print(\"simulation steps is\", np_charge_value)\n",
    "    print(\"simulation_params is\", sim_steps_value)\n",
    "    print (\"Requested walltime is \",walltime)\n",
    "    print (\"Requested total_processors are \", total_processors)\n",
    "    \n",
    "    shutil.rmtree('datafiles',True)\n",
    "    if not os.path.exists('datafiles'):\n",
    "        os.makedirs('datafiles')\n",
    "    shutil.rmtree('outfiles',True)\n",
    "    if not os.path.exists('outfiles'):\n",
    "        os.makedirs('outfiles')\n",
    "    shutil.rmtree('verifiles',True)\n",
    "    if not os.path.exists('verifiles'):\n",
    "        os.makedirs('verifiles')\n",
    "\n",
    "    os.system(\"use boost-1.62.0-mpich2-1.3-gnu-4.7.2\")\n",
    "\n",
    "    runName='np_electrostatics_lab'\n",
    "    \n",
    "    hiteqm_P =int(sim_steps_value * 0.1);\n",
    "    writedata_U =int(sim_steps_value * 0.1);\n",
    "    writedensity_W =int(sim_steps_value * 0.1);\n",
    "    extra_compute_X = int(sim_steps_value * 0.01);\n",
    "    moviefreq_F = int(sim_steps_value * 0.01);\n",
    "    cpmd_verify_Y = int(sim_steps_value * 0.1); \n",
    "    \n",
    "    run_str = \"'-a',\" + str(np_radius_value)\", '-e',\" + str(e_np_value)+ \", '-E',\" + str(e_out_value) + \", '-V',\" \n",
    "    + str(np_charge_value) + \", '-v',\" + str(pion_value) + \", '-g',\" + str(132) + \", '-S',\" + str(sim_steps_value) + \", '-P',\"\n",
    "    + str(hiteqm_P) + \", '-F',\" + str(moviefreq_F) + \",'-X',\" + str(extra_compute_X)+ \", '-U',\" +str(writedata_U)+\", '-Y',\"\n",
    "    + str(cpmd_verify_Y) + \", '-W',\" + str(writedensity_W)\n",
    "    \n",
    "    \n",
    "    \n",
    "    try:\n",
    "        rname = s.make_rname(e_np_value, e_out_value, pion_value, c_out_value, np_radius_value, np_charge_value, sim_steps_value)\n",
    "        run_str = '--local -p uname -a'\n",
    "        s.run(run_str)\n",
    "        \n",
    "        \n",
    "    except  Exception as e:\n",
    "        sys.stderr.write('Error occured during the execution of np_electrostatics_lab')\n",
    "        sys.stderr.write(str(e))\n",
    "        sys.exit(1)\n",
    "        \n",
    "  \n",
    "    "
   ]
  }
 ],
 "metadata": {
  "extensions": {
   "jupyter_dashboards": {
    "activeView": "grid_default",
    "version": 1,
    "views": {
     "grid_default": {
      "cellMargin": 10,
      "defaultCellHeight": 20,
      "maxColumns": 12,
      "name": "grid",
      "type": "grid"
     },
     "report_default": {
      "name": "report",
      "type": "report"
     }
    }
   }
  },
  "kernelspec": {
   "display_name": "Python3",
   "language": "python",
   "name": "python3"
  },
  "language_info": {
   "codemirror_mode": {
    "name": "ipython",
    "version": 3
   },
   "file_extension": ".py",
   "mimetype": "text/x-python",
   "name": "python",
   "nbconvert_exporter": "python",
   "pygments_lexer": "ipython3",
   "version": "3.6.2"
  },
  "widgets": {
   "application/vnd.jupyter.widget-state+json": {
    "state": {
     "0928bdb3f16145de8f3bdc629c434672": {
      "model_module": "@jupyter-widgets/base",
      "model_module_version": "1.0.0",
      "model_name": "LayoutModel",
      "state": {}
     },
     "113232b6f0b0489c857571e43b2fc7c0": {
      "model_module": "@jupyter-widgets/controls",
      "model_module_version": "1.0.0",
      "model_name": "HTMLModel",
      "state": {
       "layout": "IPY_MODEL_33445fc625f34d0bbeeddd4c97736d58",
       "style": "IPY_MODEL_6d300a697da3458c80bec3d9f5dd9aee",
       "value": "<img src=\"imageV5.jpg\" style=\"width: 300px\"/>"
      }
     },
     "17e316ab391d438ea2d65e76f4767f5e": {
      "model_module": "@jupyter-widgets/base",
      "model_module_version": "1.0.0",
      "model_name": "LayoutModel",
      "state": {}
     },
     "1b37f86d44a84a748bf0f856f082f995": {
      "model_module": "@jupyter-widgets/controls",
      "model_module_version": "1.0.0",
      "model_name": "DropdownModel",
      "state": {
       "_options_labels": [
        "1(monovalent)",
        "2(divalent)",
        "3(trivalent)"
       ],
       "description": "Positive Ion Valency (z)",
       "index": 2,
       "layout": "IPY_MODEL_0928bdb3f16145de8f3bdc629c434672",
       "style": "IPY_MODEL_42bfc62f7b0a40b28042c92ea51358b6"
      }
     },
     "1c1ce5a816634e95ba4fd9c260a0e035": {
      "model_module": "@jupyter-widgets/controls",
      "model_module_version": "1.0.0",
      "model_name": "BoundedFloatTextModel",
      "state": {
       "description": "Ion Diameter (nm):",
       "layout": "IPY_MODEL_b75073530edf4a96b67df16319442848",
       "max": 0.8,
       "min": 0.5,
       "step": 0.001,
       "style": "IPY_MODEL_cba8a7396c344ef49134b9b3b3577ef5",
       "value": 0.714
      }
     },
     "24a70f35d36b4d4eb6b8faef61e818e1": {
      "model_module": "@jupyter-widgets/controls",
      "model_module_version": "1.0.0",
      "model_name": "BoundedFloatTextModel",
      "state": {
       "description": "Salt Concentration (c in M):",
       "layout": "IPY_MODEL_2fedeb6b81c543169901f6f01ed839cd",
       "max": 0.9,
       "min": 0.3,
       "style": "IPY_MODEL_45d6aa209f234a8a9a5d856d1b8c4894",
       "value": 0.7
      }
     },
     "2fedeb6b81c543169901f6f01ed839cd": {
      "model_module": "@jupyter-widgets/base",
      "model_module_version": "1.0.0",
      "model_name": "LayoutModel",
      "state": {}
     },
     "33445fc625f34d0bbeeddd4c97736d58": {
      "model_module": "@jupyter-widgets/base",
      "model_module_version": "1.0.0",
      "model_name": "LayoutModel",
      "state": {}
     },
     "36d5fefc93e84ab081d80ce41001de6f": {
      "model_module": "@jupyter-widgets/controls",
      "model_module_version": "1.0.0",
      "model_name": "ButtonModel",
      "state": {
       "description": "Simulate",
       "layout": "IPY_MODEL_f4cbb854239940da8e36bc8f9611fd13",
       "style": "IPY_MODEL_90d2800131be4e46b2b415fae5cc3976"
      }
     },
     "421f485f7df44b158c5ebc2cead2e4fc": {
      "model_module": "@jupyter-widgets/base",
      "model_module_version": "1.0.0",
      "model_name": "LayoutModel",
      "state": {}
     },
     "42bfc62f7b0a40b28042c92ea51358b6": {
      "model_module": "@jupyter-widgets/controls",
      "model_module_version": "1.0.0",
      "model_name": "DescriptionStyleModel",
      "state": {
       "description_width": "initial"
      }
     },
     "45d6aa209f234a8a9a5d856d1b8c4894": {
      "model_module": "@jupyter-widgets/controls",
      "model_module_version": "1.0.0",
      "model_name": "DescriptionStyleModel",
      "state": {
       "description_width": "initial"
      }
     },
     "45d97dd36250486787312d12a1a0eaf2": {
      "model_module": "@jupyter-widgets/controls",
      "model_module_version": "1.0.0",
      "model_name": "BoundedIntTextModel",
      "state": {
       "description": "Simulation Steps:",
       "layout": "IPY_MODEL_bf0216a2f8b24c489de53ab167969b49",
       "max": 5000000,
       "min": 20000,
       "step": 10000,
       "style": "IPY_MODEL_e4131453ffbf4876acdf9652cdb5b893",
       "value": 20000
      }
     },
     "520b6eb96ab54cd9a7c50b7bd2960207": {
      "model_module": "@jupyter-widgets/controls",
      "model_module_version": "1.0.0",
      "model_name": "DescriptionStyleModel",
      "state": {
       "description_width": "initial"
      }
     },
     "5b8456ddd09d48d8b782d04c0f5a8666": {
      "model_module": "@jupyter-widgets/controls",
      "model_module_version": "1.0.0",
      "model_name": "DescriptionStyleModel",
      "state": {
       "description_width": "initial"
      }
     },
     "6b49ad221a4f4738b7967d0195642151": {
      "model_module": "@jupyter-widgets/controls",
      "model_module_version": "1.0.0",
      "model_name": "BoundedFloatTextModel",
      "state": {
       "description": "Confinement Length (nm):",
       "layout": "IPY_MODEL_17e316ab391d438ea2d65e76f4767f5e",
       "max": 4,
       "min": 2,
       "style": "IPY_MODEL_747d7d8031df4ff984c508e9da864b35",
       "value": 3
      }
     },
     "6d300a697da3458c80bec3d9f5dd9aee": {
      "model_module": "@jupyter-widgets/controls",
      "model_module_version": "1.0.0",
      "model_name": "DescriptionStyleModel",
      "state": {
       "description_width": ""
      }
     },
     "73d6a9e62f6d40938e21e2c7fd5daf6a": {
      "model_module": "@jupyter-widgets/base",
      "model_module_version": "1.0.0",
      "model_name": "LayoutModel",
      "state": {}
     },
     "747d7d8031df4ff984c508e9da864b35": {
      "model_module": "@jupyter-widgets/controls",
      "model_module_version": "1.0.0",
      "model_name": "DescriptionStyleModel",
      "state": {
       "description_width": "initial"
      }
     },
     "75176e8e3f694980b4e2156ab5fdba16": {
      "model_module": "@jupyter-widgets/base",
      "model_module_version": "1.0.0",
      "model_name": "LayoutModel",
      "state": {}
     },
     "76459a9affde44d0a9daa29363008e4a": {
      "model_module": "@jupyter-widgets/controls",
      "model_module_version": "1.0.0",
      "model_name": "VBoxModel",
      "state": {
       "children": [
        "IPY_MODEL_fa7df53473e2422e9184a389817fa28a",
        "IPY_MODEL_24a70f35d36b4d4eb6b8faef61e818e1",
        "IPY_MODEL_1b37f86d44a84a748bf0f856f082f995",
        "IPY_MODEL_aaaf4ee3198948a28c188b9237d15a9f",
        "IPY_MODEL_6b49ad221a4f4738b7967d0195642151",
        "IPY_MODEL_1c1ce5a816634e95ba4fd9c260a0e035",
        "IPY_MODEL_8d645f6477254c368de96a816ed5e9f1",
        "IPY_MODEL_45d97dd36250486787312d12a1a0eaf2",
        "IPY_MODEL_113232b6f0b0489c857571e43b2fc7c0",
        "IPY_MODEL_36d5fefc93e84ab081d80ce41001de6f"
       ],
       "layout": "IPY_MODEL_dcca354f544646418d0eeb48fd1b5a9e"
      }
     },
     "8d645f6477254c368de96a816ed5e9f1": {
      "model_module": "@jupyter-widgets/controls",
      "model_module_version": "1.0.0",
      "model_name": "HTMLModel",
      "state": {
       "layout": "IPY_MODEL_421f485f7df44b158c5ebc2cead2e4fc",
       "style": "IPY_MODEL_de576513a12147e8bc083aeec4971950",
       "value": "<p   style='background-color: #DCDCDC; font-size:200; padding: 5px'>Computing</p>"
      }
     },
     "90d2800131be4e46b2b415fae5cc3976": {
      "model_module": "@jupyter-widgets/controls",
      "model_module_version": "1.0.0",
      "model_name": "ButtonStyleModel",
      "state": {}
     },
     "aaaf4ee3198948a28c188b9237d15a9f": {
      "model_module": "@jupyter-widgets/controls",
      "model_module_version": "1.0.0",
      "model_name": "DropdownModel",
      "state": {
       "_options_labels": [
        "-1",
        "-2",
        "-3"
       ],
       "description": "Negative Ion Valency",
       "index": 0,
       "layout": "IPY_MODEL_75176e8e3f694980b4e2156ab5fdba16",
       "style": "IPY_MODEL_520b6eb96ab54cd9a7c50b7bd2960207"
      }
     },
     "b75073530edf4a96b67df16319442848": {
      "model_module": "@jupyter-widgets/base",
      "model_module_version": "1.0.0",
      "model_name": "LayoutModel",
      "state": {}
     },
     "b9eaabc9eb4144fc82a2c63b9ef58541": {
      "model_module": "@jupyter-widgets/controls",
      "model_module_version": "1.0.0",
      "model_name": "DropdownModel",
      "state": {
       "_options_labels": [
        "1(monovalent)",
        "2(divalent)",
        "3(trivalent)"
       ],
       "description": "Positive Ion Valency (z)",
       "index": 0,
       "layout": "IPY_MODEL_c9aa90d11bec44f4aa17ca4467b7ff64",
       "style": "IPY_MODEL_5b8456ddd09d48d8b782d04c0f5a8666"
      }
     },
     "bf0216a2f8b24c489de53ab167969b49": {
      "model_module": "@jupyter-widgets/base",
      "model_module_version": "1.0.0",
      "model_name": "LayoutModel",
      "state": {}
     },
     "c9aa90d11bec44f4aa17ca4467b7ff64": {
      "model_module": "@jupyter-widgets/base",
      "model_module_version": "1.0.0",
      "model_name": "LayoutModel",
      "state": {}
     },
     "cba8a7396c344ef49134b9b3b3577ef5": {
      "model_module": "@jupyter-widgets/controls",
      "model_module_version": "1.0.0",
      "model_name": "DescriptionStyleModel",
      "state": {
       "description_width": "initial"
      }
     },
     "dcca354f544646418d0eeb48fd1b5a9e": {
      "model_module": "@jupyter-widgets/base",
      "model_module_version": "1.0.0",
      "model_name": "LayoutModel",
      "state": {}
     },
     "de576513a12147e8bc083aeec4971950": {
      "model_module": "@jupyter-widgets/controls",
      "model_module_version": "1.0.0",
      "model_name": "DescriptionStyleModel",
      "state": {
       "description_width": ""
      }
     },
     "e4131453ffbf4876acdf9652cdb5b893": {
      "model_module": "@jupyter-widgets/controls",
      "model_module_version": "1.0.0",
      "model_name": "DescriptionStyleModel",
      "state": {
       "description_width": "initial"
      }
     },
     "eba521d82a8f43bd996a3598254ea209": {
      "model_module": "@jupyter-widgets/controls",
      "model_module_version": "1.0.0",
      "model_name": "DescriptionStyleModel",
      "state": {
       "description_width": ""
      }
     },
     "f4cbb854239940da8e36bc8f9611fd13": {
      "model_module": "@jupyter-widgets/base",
      "model_module_version": "1.0.0",
      "model_name": "LayoutModel",
      "state": {}
     },
     "fa7df53473e2422e9184a389817fa28a": {
      "model_module": "@jupyter-widgets/controls",
      "model_module_version": "1.0.0",
      "model_name": "HTMLModel",
      "state": {
       "layout": "IPY_MODEL_73d6a9e62f6d40938e21e2c7fd5daf6a",
       "style": "IPY_MODEL_eba521d82a8f43bd996a3598254ea209",
       "value": "<p   style='background-color: #DCDCDC; font-size:200; padding: 5px'>Physical</p>"
      }
     }
    },
    "version_major": 2,
    "version_minor": 0
   }
  }
 },
 "nbformat": 4,
 "nbformat_minor": 2
}
