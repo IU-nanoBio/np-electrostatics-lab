{
 "cells": [
  {
   "cell_type": "code",
   "execution_count": 1,
   "metadata": {
    "extensions": {
     "jupyter_dashboards": {
      "version": 1,
      "views": {
       "grid_default": {
        "hidden": true
       },
       "report_default": {
        "hidden": true
       }
      }
     }
    }
   },
   "outputs": [
    {
     "data": {
      "application/javascript": [
       "\n",
       "requirejs.undef('filepicker');\n",
       "\n",
       "define('filepicker', [\"jupyter-js-widgets\"], function(widgets) {\n",
       "\n",
       "    var FilePickerView = widgets.DOMWidgetView.extend({\n",
       "        render: function(){\n",
       "            this.file = document.createElement('input');\n",
       "            this.file.setAttribute('class', 'fileinput');\n",
       "            this.file.setAttribute('id', this.cid);\n",
       "            this.file.multiple = this.model.get('multiple');\n",
       "            this.file.required = true;\n",
       "            this.file.setAttribute('type', 'file');\n",
       "            this.file.setAttribute('style', 'display:none');\n",
       "\n",
       "            this.label = document.createElement('label');\n",
       "            this.label.setAttribute('for', this.cid);\n",
       "            this.label.setAttribute('style', 'border: 1px solid; border-radius: 5px; display: inline-block; padding: 6px 12px');\n",
       "\n",
       "            this.icon = document.createElement('i');\n",
       "            this.icon.setAttribute(\"class\", \"fa fa-upload\");\n",
       "\n",
       "            if (this.file.multiple) {\n",
       "                this.labelstr = \"  Upload Files\";\n",
       "            } else {\n",
       "                this.labelstr = \"  Upload File\";\n",
       "            }\n",
       "            this.label.innerHTML = this.labelstr;\n",
       "            this.label.prepend(this.icon);\n",
       "            this.el.appendChild(this.label);\n",
       "            this.el.appendChild(this.file);\n",
       "            this.update();\n",
       "        },\n",
       "\n",
       "        events: {\n",
       "            // List of events and their handlers.\n",
       "            'change': 'handle_file_change',\n",
       "        },\n",
       "\n",
       "        handle_file_change: function(evt) {\n",
       "\n",
       "            var that = this;\n",
       "            var files = evt.target.files;\n",
       "            var filenames = [];\n",
       "            var skipped = [];\n",
       "            var file_readers = [];\n",
       "\n",
       "            for (var i = 0; i < files.length; i++) {\n",
       "                var file = files[i];\n",
       "                console.log(\"Filename: \" + file.name);\n",
       "                console.log(\"Type: \" + file.type);\n",
       "                console.log(\"Size: \" + file.size + \" bytes\");\n",
       "                if (file.size > this.model.get('maxsize')) {\n",
       "                    skipped.push(file.name);\n",
       "                    continue;\n",
       "                };\n",
       "                filenames.push(file.name);\n",
       "\n",
       "                // Read the file's textual content and set value_i to those contents.\n",
       "                file_readers.push(new FileReader());\n",
       "                file_readers[i].onload = (function(file, i) {\n",
       "                    return function(e) {\n",
       "                        that.model.set('value_' + i, e.target.result);\n",
       "                        that.touch();\n",
       "                        console.log(\"file_\" + i + \" loaded: \" + file.name);\n",
       "                    };\n",
       "                })(file, i);\n",
       "                file_readers[i].readAsDataURL(file);\n",
       "            };\n",
       "\n",
       "            // update the label\n",
       "            if (filenames.length == 0) {\n",
       "                this.label.innerHTML = this.labelstr;\n",
       "            } else if (filenames.length == 1) {\n",
       "                this.label.innerHTML = \"  \" + filenames[0];\n",
       "            } else {\n",
       "                this.label.innerHTML = \"  \" + filenames.length + \" files selected\";\n",
       "            };\n",
       "            this.label.prepend(this.icon);\n",
       "\n",
       "            // Set the filenames of the files.\n",
       "            this.model.set('filenames', filenames);\n",
       "            this.model.set('skipped', skipped);\n",
       "            this.touch();\n",
       "        },\n",
       "    });\n",
       "\n",
       "    // Register the FilePickerView with the widget manager.\n",
       "    return {\n",
       "        FilePickerView: FilePickerView\n",
       "    };\n",
       "});\n"
      ],
      "text/plain": [
       "<IPython.core.display.Javascript object>"
      ]
     },
     "metadata": {},
     "output_type": "display_data"
    },
    {
     "data": {
      "text/html": [
       "\n",
       "<script>\n",
       "requirejs.config({\n",
       "    paths: {\n",
       "        'ace': ['//cdnjs.cloudflare.com/ajax/libs/ace/1.2.6/ace'],\n",
       "    },\n",
       "});\n",
       "\n",
       "require(['ace'], function(ace) {\n",
       "    console.log(\"ACE loaded :)\");\n",
       "    return {};\n",
       "});\n",
       "</script>\n",
       "\n",
       "<script>\n",
       "requirejs.undef('editor');\n",
       "\n",
       "define('editor', [\"jupyter-js-widgets\"], function(widgets) {\n",
       "\n",
       "    var EditorView = widgets.DOMWidgetView.extend({\n",
       "\n",
       "        // Render the view.\n",
       "        render: function() {\n",
       "            this.ignorex = false;\n",
       "            this.ignorev = false;\n",
       "            //console.log('RENDER '+this.model.get('name'));\n",
       "            this.div = document.createElement('div');\n",
       "            this.div.setAttribute('id', this.model.get('name'));\n",
       "            this.el.appendChild(this.div);\n",
       "            this.listenTo(this.model, 'change:state', this._state_changed, this);\n",
       "            this.listenTo(this.model, 'change:theme', this._theme_changed, this);\n",
       "            this.listenTo(this.model, 'change:mode', this._mode_changed, this);\n",
       "            this.listenTo(this.model, 'change:value2', this._value2_changed, this);\n",
       "            this.listenTo(this.model, 'change:showmargin', this._showmargin_changed, this);\n",
       "            this.listenTo(this.model, 'change:fontsize', this._fontsize_changed, this);\n",
       "            this.update();\n",
       "        },\n",
       "        update: function() {\n",
       "            return EditorView.__super__.update.apply(this);\n",
       "        },\n",
       "        // Tell Backbone to listen to the change event of input controls\n",
       "        events: {\n",
       "            \"change\": \"handle_color_change\"\n",
       "        },\n",
       "\n",
       "        _state_changed: function() {\n",
       "            var state = this.model.get('state')\n",
       "            //console.log('state: ' + state );\n",
       "            if (state == 'start') {\n",
       "                var that = this;\n",
       "                this._ed = ace.edit(this.model.get('name'));\n",
       "                this._ed.getSession().on('change', function(e) {\n",
       "                    if (that.ignorev == true) { return }\n",
       "                    that.ignorex = true;\n",
       "                    //console.log('CHANGE1');\n",
       "                    that.model.set('value2', that._ed.getValue());\n",
       "                    //console.log('CHANGE2');\n",
       "                    that.touch();\n",
       "                    //console.log('CHANGE3');\n",
       "                    that.ignorex = false;\n",
       "                });\n",
       "            };\n",
       "        },\n",
       "        _theme_changed: function() {\n",
       "            //console.log(\"theme \" + this.model.get('theme'));\n",
       "            this._ed.setTheme(\"ace/theme/\"+this.model.get('theme'));\n",
       "        },\n",
       "        _mode_changed: function() {\n",
       "            //console.log(\"mode \" + this.model.get('mode'));\n",
       "            this._ed.getSession().setMode(\"ace/mode/\"+this.model.get('mode'));\n",
       "        },\n",
       "        _value2_changed: function() {\n",
       "            //console.log('value2 ' + this.ignorex);\n",
       "            if (this.ignorex == true) { return };\n",
       "            var val = this.model.get('value2');\n",
       "            //console.log('VALUE2 ' + val);\n",
       "            this.ignorev = true;\n",
       "            this._ed.setValue(val);\n",
       "            this.ignorev = false;\n",
       "            //console.log('VALUE2 DONE');\n",
       "        },\n",
       "        _showmargin_changed: function() {\n",
       "            this._ed.setShowPrintMargin(this.model.get('showmargin'));\n",
       "        },\n",
       "        _fontsize_changed: function() {\n",
       "            document.getElementById(this.model.get('name')).style.fontSize=this.model.get('fontsize');\n",
       "        },\n",
       "\n",
       "        // Callback for when the color is changed.\n",
       "        handle_color_change: function(event) {\n",
       "            console.log('SOMETHING CHNAGED');\n",
       "            console.log(event);\n",
       "        },\n",
       "    });\n",
       "\n",
       "    return {\n",
       "        EditorView: EditorView\n",
       "    };\n",
       "});\n",
       "</script>\n"
      ],
      "text/plain": [
       "<IPython.core.display.HTML object>"
      ]
     },
     "metadata": {},
     "output_type": "display_data"
    }
   ],
   "source": [
    "%matplotlib notebook\n",
    "import matplotlib.pyplot as plt\n",
    "#plt.style.use('ggplot')\n",
    "import ipywidgets as widgets\n",
    "import sys, os, io, string, shutil, math\n",
    "from hublib.ui import Submit\n",
    "import hublib.use\n",
    "import numpy as np\n",
    "\n",
    "style = {'description_width': 'initial'}"
   ]
  },
  {
   "cell_type": "code",
   "execution_count": 2,
   "metadata": {
    "extensions": {
     "jupyter_dashboards": {
      "version": 1,
      "views": {
       "grid_default": {
        "col": 0,
        "height": 2,
        "hidden": false,
        "row": 14,
        "width": 4
       },
       "report_default": {
        "hidden": true
       }
      }
     }
    }
   },
   "outputs": [
    {
     "data": {
      "application/vnd.jupyter.widget-view+json": {
       "model_id": "f982f1838c42418fabe3c9b279ac1727",
       "version_major": 2,
       "version_minor": 0
      },
      "text/html": [
       "<p>Failed to display Jupyter Widget of type <code>BoundedFloatText</code>.</p>\n",
       "<p>\n",
       "  If you're reading this message in the Jupyter Notebook or JupyterLab Notebook, it may mean\n",
       "  that the widgets JavaScript is still loading. If this message persists, it\n",
       "  likely means that the widgets JavaScript library is either not installed or\n",
       "  not enabled. See the <a href=\"https://ipywidgets.readthedocs.io/en/stable/user_install.html\">Jupyter\n",
       "  Widgets Documentation</a> for setup instructions.\n",
       "</p>\n",
       "<p>\n",
       "  If you're reading this message in another frontend (for example, a static\n",
       "  rendering on GitHub or <a href=\"https://nbviewer.jupyter.org/\">NBViewer</a>),\n",
       "  it may mean that your frontend doesn't currently support widgets.\n",
       "</p>\n"
      ],
      "text/plain": [
       "BoundedFloatText(value=78.5, description='Dielectric const inside NP:', max=78.5, min=2.0, step=0.1, style=DescriptionStyle(description_width='initial'))"
      ]
     },
     "metadata": {},
     "output_type": "display_data"
    }
   ],
   "source": [
    "e_np = widgets.BoundedFloatText(\n",
    "    value=78.5,\n",
    "    min=2,\n",
    "    max=78.5,\n",
    "    step=0.1,\n",
    "    description='Dielectric const inside NP:',\n",
    "    style=style,\n",
    ")\n",
    "e_np"
   ]
  },
  {
   "cell_type": "code",
   "execution_count": 3,
   "metadata": {
    "extensions": {
     "jupyter_dashboards": {
      "version": 1,
      "views": {
       "grid_default": {
        "col": 0,
        "height": 2,
        "hidden": false,
        "row": 18,
        "width": 4
       },
       "report_default": {
        "hidden": false
       }
      }
     }
    }
   },
   "outputs": [
    {
     "data": {
      "application/vnd.jupyter.widget-view+json": {
       "model_id": "12432324de2341b68f1a0402b859500c",
       "version_major": 2,
       "version_minor": 0
      },
      "text/html": [
       "<p>Failed to display Jupyter Widget of type <code>BoundedFloatText</code>.</p>\n",
       "<p>\n",
       "  If you're reading this message in the Jupyter Notebook or JupyterLab Notebook, it may mean\n",
       "  that the widgets JavaScript is still loading. If this message persists, it\n",
       "  likely means that the widgets JavaScript library is either not installed or\n",
       "  not enabled. See the <a href=\"https://ipywidgets.readthedocs.io/en/stable/user_install.html\">Jupyter\n",
       "  Widgets Documentation</a> for setup instructions.\n",
       "</p>\n",
       "<p>\n",
       "  If you're reading this message in another frontend (for example, a static\n",
       "  rendering on GitHub or <a href=\"https://nbviewer.jupyter.org/\">NBViewer</a>),\n",
       "  it may mean that your frontend doesn't currently support widgets.\n",
       "</p>\n"
      ],
      "text/plain": [
       "BoundedFloatText(value=78.5, description='Dielectric const outside NP:', max=78.5, min=2.0, step=0.1, style=DescriptionStyle(description_width='initial'))"
      ]
     },
     "metadata": {},
     "output_type": "display_data"
    }
   ],
   "source": [
    "e_out = widgets.BoundedFloatText(\n",
    "    value=78.5,\n",
    "    min=2,\n",
    "    max=78.5,\n",
    "    step=0.1,\n",
    "    description='Dielectric const outside NP:',\n",
    "    style=style,\n",
    ")\n",
    "e_out"
   ]
  },
  {
   "cell_type": "code",
   "execution_count": 4,
   "metadata": {
    "extensions": {
     "jupyter_dashboards": {
      "version": 1,
      "views": {
       "grid_default": {
        "col": 0,
        "height": 2,
        "hidden": false,
        "row": 22,
        "width": 4
       },
       "report_default": {
        "hidden": true
       }
      }
     }
    }
   },
   "outputs": [
    {
     "data": {
      "application/vnd.jupyter.widget-view+json": {
       "model_id": "0c1b3d6012c74ee0a03c72c83a770fea",
       "version_major": 2,
       "version_minor": 0
      },
      "text/html": [
       "<p>Failed to display Jupyter Widget of type <code>Dropdown</code>.</p>\n",
       "<p>\n",
       "  If you're reading this message in the Jupyter Notebook or JupyterLab Notebook, it may mean\n",
       "  that the widgets JavaScript is still loading. If this message persists, it\n",
       "  likely means that the widgets JavaScript library is either not installed or\n",
       "  not enabled. See the <a href=\"https://ipywidgets.readthedocs.io/en/stable/user_install.html\">Jupyter\n",
       "  Widgets Documentation</a> for setup instructions.\n",
       "</p>\n",
       "<p>\n",
       "  If you're reading this message in another frontend (for example, a static\n",
       "  rendering on GitHub or <a href=\"https://nbviewer.jupyter.org/\">NBViewer</a>),\n",
       "  it may mean that your frontend doesn't currently support widgets.\n",
       "</p>\n"
      ],
      "text/plain": [
       "Dropdown(description='Positive Ion Valency (z)', options={'1(monovalent)': 1, '2(divalent)': 2, '3(trivalent)': 3}, style=DescriptionStyle(description_width='initial'), value=1)"
      ]
     },
     "metadata": {},
     "output_type": "display_data"
    }
   ],
   "source": [
    "pion = widgets.Dropdown(\n",
    "    options={'1(monovalent)': 1, '2(divalent)': 2, '3(trivalent)': 3},\n",
    "    value=1,\n",
    "    description=\"Positive Ion Valency (z)\",\n",
    "    style=style\n",
    ")\n",
    "pion"
   ]
  },
  {
   "cell_type": "code",
   "execution_count": 5,
   "metadata": {
    "extensions": {
     "jupyter_dashboards": {
      "version": 1,
      "views": {
       "grid_default": {
        "col": 0,
        "height": 2,
        "hidden": false,
        "row": 16,
        "width": 4
       },
       "report_default": {
        "hidden": true
       }
      }
     }
    }
   },
   "outputs": [
    {
     "data": {
      "application/vnd.jupyter.widget-view+json": {
       "model_id": "c11cc414c1cf47d0b3389eb578b222c1",
       "version_major": 2,
       "version_minor": 0
      },
      "text/html": [
       "<p>Failed to display Jupyter Widget of type <code>BoundedFloatText</code>.</p>\n",
       "<p>\n",
       "  If you're reading this message in the Jupyter Notebook or JupyterLab Notebook, it may mean\n",
       "  that the widgets JavaScript is still loading. If this message persists, it\n",
       "  likely means that the widgets JavaScript library is either not installed or\n",
       "  not enabled. See the <a href=\"https://ipywidgets.readthedocs.io/en/stable/user_install.html\">Jupyter\n",
       "  Widgets Documentation</a> for setup instructions.\n",
       "</p>\n",
       "<p>\n",
       "  If you're reading this message in another frontend (for example, a static\n",
       "  rendering on GitHub or <a href=\"https://nbviewer.jupyter.org/\">NBViewer</a>),\n",
       "  it may mean that your frontend doesn't currently support widgets.\n",
       "</p>\n"
      ],
      "text/plain": [
       "BoundedFloatText(value=0.0, description='salt concentration outside:', max=0.4, step=0.1, style=DescriptionStyle(description_width='initial'))"
      ]
     },
     "metadata": {},
     "output_type": "display_data"
    }
   ],
   "source": [
    "c_out = widgets.BoundedFloatText(\n",
    "    value=0.0,\n",
    "    min=0.0,\n",
    "    max=0.4,\n",
    "    step=0.1,\n",
    "    description='salt concentration outside:',\n",
    "    style=style\n",
    ")\n",
    "c_out"
   ]
  },
  {
   "cell_type": "code",
   "execution_count": 6,
   "metadata": {
    "extensions": {
     "jupyter_dashboards": {
      "version": 1,
      "views": {
       "grid_default": {
        "col": 0,
        "height": 2,
        "hidden": false,
        "row": 20,
        "width": 4
       },
       "report_default": {
        "hidden": true
       }
      }
     }
    }
   },
   "outputs": [
    {
     "data": {
      "application/vnd.jupyter.widget-view+json": {
       "model_id": "619745769187407c8e2829e263008710",
       "version_major": 2,
       "version_minor": 0
      },
      "text/html": [
       "<p>Failed to display Jupyter Widget of type <code>BoundedFloatText</code>.</p>\n",
       "<p>\n",
       "  If you're reading this message in the Jupyter Notebook or JupyterLab Notebook, it may mean\n",
       "  that the widgets JavaScript is still loading. If this message persists, it\n",
       "  likely means that the widgets JavaScript library is either not installed or\n",
       "  not enabled. See the <a href=\"https://ipywidgets.readthedocs.io/en/stable/user_install.html\">Jupyter\n",
       "  Widgets Documentation</a> for setup instructions.\n",
       "</p>\n",
       "<p>\n",
       "  If you're reading this message in another frontend (for example, a static\n",
       "  rendering on GitHub or <a href=\"https://nbviewer.jupyter.org/\">NBViewer</a>),\n",
       "  it may mean that your frontend doesn't currently support widgets.\n",
       "</p>\n"
      ],
      "text/plain": [
       "BoundedFloatText(value=2.6775, description='Nanoparticle Radius (nm):', max=5.0, min=2.0, step=0.001, style=DescriptionStyle(description_width='initial'))"
      ]
     },
     "metadata": {},
     "output_type": "display_data"
    }
   ],
   "source": [
    "np_radius = widgets.BoundedFloatText(\n",
    "    value=2.6775,\n",
    "    min=2,\n",
    "    max=5,\n",
    "    step=0.001,\n",
    "    description='Nanoparticle Radius (nm):',\n",
    "    style=style\n",
    ")\n",
    "np_radius"
   ]
  },
  {
   "cell_type": "code",
   "execution_count": 7,
   "metadata": {
    "extensions": {
     "jupyter_dashboards": {
      "version": 1,
      "views": {
       "grid_default": {
        "col": 0,
        "height": 2,
        "hidden": false,
        "row": 12,
        "width": 4
       },
       "report_default": {
        "hidden": true
       }
      }
     }
    }
   },
   "outputs": [
    {
     "data": {
      "application/vnd.jupyter.widget-view+json": {
       "model_id": "ac581305dbe740678f9a8731249a42e2",
       "version_major": 2,
       "version_minor": 0
      },
      "text/html": [
       "<p>Failed to display Jupyter Widget of type <code>BoundedFloatText</code>.</p>\n",
       "<p>\n",
       "  If you're reading this message in the Jupyter Notebook or JupyterLab Notebook, it may mean\n",
       "  that the widgets JavaScript is still loading. If this message persists, it\n",
       "  likely means that the widgets JavaScript library is either not installed or\n",
       "  not enabled. See the <a href=\"https://ipywidgets.readthedocs.io/en/stable/user_install.html\">Jupyter\n",
       "  Widgets Documentation</a> for setup instructions.\n",
       "</p>\n",
       "<p>\n",
       "  If you're reading this message in another frontend (for example, a static\n",
       "  rendering on GitHub or <a href=\"https://nbviewer.jupyter.org/\">NBViewer</a>),\n",
       "  it may mean that your frontend doesn't currently support widgets.\n",
       "</p>\n"
      ],
      "text/plain": [
       "BoundedFloatText(value=-60.0, description='Nanoparticle Charge:', max=-30.0, min=-300.0, step=-1.0, style=DescriptionStyle(description_width='initial'))"
      ]
     },
     "metadata": {},
     "output_type": "display_data"
    }
   ],
   "source": [
    "np_charge = widgets.BoundedFloatText(\n",
    "    value=-60,\n",
    "    min=-300,\n",
    "    max=-30,\n",
    "    step=-1,\n",
    "    description='Nanoparticle Charge:',\n",
    "    style=style\n",
    ")\n",
    "np_charge"
   ]
  },
  {
   "cell_type": "code",
   "execution_count": 8,
   "metadata": {
    "extensions": {
     "jupyter_dashboards": {
      "version": 1,
      "views": {
       "grid_default": {
        "col": 0,
        "height": 2,
        "hidden": false,
        "row": 24,
        "width": 4
       },
       "report_default": {
        "hidden": false
       }
      }
     }
    }
   },
   "outputs": [
    {
     "data": {
      "application/vnd.jupyter.widget-view+json": {
       "model_id": "556b753c93e44b7ea81a2c22b4fc7b63",
       "version_major": 2,
       "version_minor": 0
      },
      "text/html": [
       "<p>Failed to display Jupyter Widget of type <code>BoundedIntText</code>.</p>\n",
       "<p>\n",
       "  If you're reading this message in the Jupyter Notebook or JupyterLab Notebook, it may mean\n",
       "  that the widgets JavaScript is still loading. If this message persists, it\n",
       "  likely means that the widgets JavaScript library is either not installed or\n",
       "  not enabled. See the <a href=\"https://ipywidgets.readthedocs.io/en/stable/user_install.html\">Jupyter\n",
       "  Widgets Documentation</a> for setup instructions.\n",
       "</p>\n",
       "<p>\n",
       "  If you're reading this message in another frontend (for example, a static\n",
       "  rendering on GitHub or <a href=\"https://nbviewer.jupyter.org/\">NBViewer</a>),\n",
       "  it may mean that your frontend doesn't currently support widgets.\n",
       "</p>\n"
      ],
      "text/plain": [
       "BoundedIntText(value=5000, description='Simulation Steps:', max=5000000, min=5000, step=100000, style=DescriptionStyle(description_width='initial'))"
      ]
     },
     "metadata": {},
     "output_type": "display_data"
    }
   ],
   "source": [
    "steps = widgets.BoundedIntText(\n",
    "    value=5000,\n",
    "    min=5000,\n",
    "    max=5000000,\n",
    "    step=100000,\n",
    "    description='Simulation Steps:',\n",
    "    style=style,\n",
    ")\n",
    "steps"
   ]
  },
  {
   "cell_type": "code",
   "execution_count": 9,
   "metadata": {
    "extensions": {
     "jupyter_dashboards": {
      "version": 1,
      "views": {
       "grid_default": {
        "hidden": true
       },
       "report_default": {
        "hidden": true
       }
      }
     }
    }
   },
   "outputs": [],
   "source": [
    "label_style = \"style='background-color: #DCDCDC; font-size:200; padding: 5px'\"\n",
    "def make_label(name, desc=\"\"):\n",
    "    lval = '<p  %s %s>%s</p>' % (desc, label_style, name)\n",
    "    return widgets.HTML(lval)\n",
    "\n",
    "plabel = make_label('Physical', '')\n",
    "clabel = make_label('Computing', '')"
   ]
  },
  {
   "cell_type": "code",
   "execution_count": 10,
   "metadata": {
    "extensions": {
     "jupyter_dashboards": {
      "version": 1,
      "views": {
       "grid_default": {
        "col": 0,
        "height": 12,
        "hidden": false,
        "row": 0,
        "width": 4
       },
       "report_default": {
        "hidden": false
       }
      }
     }
    }
   },
   "outputs": [
    {
     "data": {
      "application/vnd.jupyter.widget-view+json": {
       "model_id": "48be020649bc422ca08a8f69883e2ace",
       "version_major": 2,
       "version_minor": 0
      },
      "text/html": [
       "<p>Failed to display Jupyter Widget of type <code>HTML</code>.</p>\n",
       "<p>\n",
       "  If you're reading this message in the Jupyter Notebook or JupyterLab Notebook, it may mean\n",
       "  that the widgets JavaScript is still loading. If this message persists, it\n",
       "  likely means that the widgets JavaScript library is either not installed or\n",
       "  not enabled. See the <a href=\"https://ipywidgets.readthedocs.io/en/stable/user_install.html\">Jupyter\n",
       "  Widgets Documentation</a> for setup instructions.\n",
       "</p>\n",
       "<p>\n",
       "  If you're reading this message in another frontend (for example, a static\n",
       "  rendering on GitHub or <a href=\"https://nbviewer.jupyter.org/\">NBViewer</a>),\n",
       "  it may mean that your frontend doesn't currently support widgets.\n",
       "</p>\n"
      ],
      "text/plain": [
       "HTML(value='<img src=\"../webcontent/images/overview.jpg\" style=\"width: 500px\"/>')"
      ]
     },
     "metadata": {},
     "output_type": "display_data"
    }
   ],
   "source": [
    "image_html = widgets.HTML(\n",
    "    value='<img src=\"../webcontent/images/overview.jpg\" style=\"width: 500px\"/>',\n",
    ")\n",
    "image_html"
   ]
  },
  {
   "cell_type": "code",
   "execution_count": 18,
   "metadata": {
    "extensions": {
     "jupyter_dashboards": {
      "version": 1,
      "views": {
       "grid_default": {
        "col": 4,
        "height": 5,
        "hidden": false,
        "row": 0,
        "width": 8
       },
       "report_default": {
        "hidden": false
       }
      }
     }
    }
   },
   "outputs": [
    {
     "data": {
      "application/vnd.jupyter.widget-view+json": {
       "model_id": "6a673f0b27504a7fa5b0ba290b78c580",
       "version_major": 2,
       "version_minor": 0
      },
      "text/html": [
       "<p>Failed to display Jupyter Widget of type <code>Textarea</code>.</p>\n",
       "<p>\n",
       "  If you're reading this message in the Jupyter Notebook or JupyterLab Notebook, it may mean\n",
       "  that the widgets JavaScript is still loading. If this message persists, it\n",
       "  likely means that the widgets JavaScript library is either not installed or\n",
       "  not enabled. See the <a href=\"https://ipywidgets.readthedocs.io/en/stable/user_install.html\">Jupyter\n",
       "  Widgets Documentation</a> for setup instructions.\n",
       "</p>\n",
       "<p>\n",
       "  If you're reading this message in another frontend (for example, a static\n",
       "  rendering on GitHub or <a href=\"https://nbviewer.jupyter.org/\">NBViewer</a>),\n",
       "  it may mean that your frontend doesn't currently support widgets.\n",
       "</p>\n"
      ],
      "text/plain": [
       "Textarea(value='This app enables users to simulate ions confined between nanoparticle (NP) surfaces in aqueous media. Nanoparticles can be synthetic (such as gold NPs) or natural (e.g. proteins) and the length of confinement is of the order of nanometers. Example systems include ion channel proteins of the cell membrane, adsorbed ions near surfaces of porous electrodes, and ions confined by NPs and/or colloidal particles. NP surfaces are assumed to be unpolarizable and are modeled as planar interfaces considering the large size difference between the ions and the NPs. \\nThe app facilitates investigations for a wide array of ionic and environmental parameters. Users can extract the ionic structure (density profile) and study its dependence on salt concentration (c), ion valency (z), and other physical attributes. \\nUsers can explore interesting effects by changing the c parameter from 0.3 to 0.9 M. This increase in density leads to crowding of the channel (confinement) with a large number of ions. The effect of symmetry breaking caused by the surfaces is seen: to avoid being pushed by ions from both the sides, an ion prefers the interface over the central region (bulk). The app enables users to explore this effect of ion accumulation near the interface, and make a quantitative assessment of ionic structure in strong confinement.\\nAnother rich avenue to explore is to tune the valency of positive ions (parameter z) from 1 to 3. A positively-charged multivalent ion (+3 Fe or +2 Ca) near an interface is pulled away from the interface by oppositely charged ions with a stronger force relative to the bulk where the symmetry allows for no preferred movement. Thus, stronger electrostatic interactions (as in the case of multivalent ions) tend to cause depletion of the ions from the interface. This app empowers users to investigate this depletion effect via accurate computation of the density profiles of ions. \\nEffects of changing other physical attributes such as confinement length and ion size are also available for users to explore. We invite users to take an inside look at what happens to the self-assembly of ions in these nanoscale channels by investigating the interplay of electrostatic effects and steric (or entropic) effects caused due to confinement, and measuring associated density profiles. \\nWhile we provide a default of 20000 steps for users to get started on exploring different features of the app by obtaining immediate results, converged results of smooth profiles are expected for around 1 million steps.', disabled=True, layout=Layout(height='150px', width='100%'), placeholder='')"
      ]
     },
     "metadata": {},
     "output_type": "display_data"
    }
   ],
   "source": [
    "about=widgets.Textarea(\n",
    "    value='This app enables users to simulate ions confined between nanoparticle (NP) surfaces in aqueous media. Nanoparticles can be synthetic (such as gold NPs) or natural (e.g. proteins) and the length of confinement is of the order of nanometers. Example systems include ion channel proteins of the cell membrane, adsorbed ions near surfaces of porous electrodes, and ions confined by NPs and/or colloidal particles. NP surfaces are assumed to be unpolarizable and are modeled as planar interfaces considering the large size difference between the ions and the NPs. \\nThe app facilitates investigations for a wide array of ionic and environmental parameters. Users can extract the ionic structure (density profile) and study its dependence on salt concentration (c), ion valency (z), and other physical attributes. \\nUsers can explore interesting effects by changing the c parameter from 0.3 to 0.9 M. This increase in density leads to crowding of the channel (confinement) with a large number of ions. The effect of symmetry breaking caused by the surfaces is seen: to avoid being pushed by ions from both the sides, an ion prefers the interface over the central region (bulk). The app enables users to explore this effect of ion accumulation near the interface, and make a quantitative assessment of ionic structure in strong confinement.\\nAnother rich avenue to explore is to tune the valency of positive ions (parameter z) from 1 to 3. A positively-charged multivalent ion (+3 Fe or +2 Ca) near an interface is pulled away from the interface by oppositely charged ions with a stronger force relative to the bulk where the symmetry allows for no preferred movement. Thus, stronger electrostatic interactions (as in the case of multivalent ions) tend to cause depletion of the ions from the interface. This app empowers users to investigate this depletion effect via accurate computation of the density profiles of ions. \\nEffects of changing other physical attributes such as confinement length and ion size are also available for users to explore. We invite users to take an inside look at what happens to the self-assembly of ions in these nanoscale channels by investigating the interplay of electrostatic effects and steric (or entropic) effects caused due to confinement, and measuring associated density profiles. \\nWhile we provide a default of 20000 steps for users to get started on exploring different features of the app by obtaining immediate results, converged results of smooth profiles are expected for around 1 million steps.',\n",
    "    placeholder='',\n",
    "    layout={'height': '150px','width': '100%'},\n",
    "    disabled=True\n",
    ")\n",
    "about"
   ]
  },
  {
   "cell_type": "code",
   "execution_count": 12,
   "metadata": {
    "extensions": {
     "jupyter_dashboards": {
      "version": 1,
      "views": {
       "grid_default": {
        "hidden": true
       },
       "report_default": {
        "hidden": true
       }
      }
     }
    }
   },
   "outputs": [],
   "source": [
    "pdX=[]\n",
    "pdY=[]\n",
    "\n",
    "def callExe(s):\n",
    "    global pdX, pdY\n",
    "    \n",
    "    e_np_value = e_np.value\n",
    "    e_out_value = e_out.value\n",
    "    pion_value = pion.value\n",
    "    c_out_value = c_out.value\n",
    "    np_radius_value = np_radius.value\n",
    "    np_charge_value = np_charge.value\n",
    "    sim_steps_value = steps.value\n",
    "    walltime = 10\n",
    "    total_processors = 1\n",
    "    \n",
    "    print(\"Epsilon inside NP is\", e_np_value)\n",
    "    print(\"Epsilon outside NP is\", e_out_value)\n",
    "    print(\"Positive Ion Valency is\", pion_value)\n",
    "    print(\"Salt concentration outside is\", c_out_value)\n",
    "    print(\"Sphere(NP) radius is\", np_radius_value)\n",
    "    print(\"NP charge is\", np_charge_value)\n",
    "    print(\"simulation time step is\", sim_steps_value)\n",
    "    print (\"Requested walltime is \",walltime)\n",
    "    print (\"Requested total_processors are \", total_processors)\n",
    "    \n",
    "    shutil.rmtree('datafiles',True)\n",
    "    if not os.path.exists('datafiles'):\n",
    "        os.makedirs('datafiles')\n",
    "    shutil.rmtree('outfiles',True)\n",
    "    if not os.path.exists('outfiles'):\n",
    "        os.makedirs('outfiles')\n",
    "    shutil.rmtree('verifiles',True)\n",
    "    if not os.path.exists('verifiles'):\n",
    "        os.makedirs('verifiles')\n",
    "\n",
    "    %use boost-1.62.0-mpich2-1.3-gnu-4.7.2\n",
    "    # forcing OpenMP thread size, comment when deploying\n",
    "    os.environ[\"OMP_NUM_THREADS\"] = \"1\"\n",
    "\n",
    "    runName=''\n",
    "    \n",
    "    #computing parameters are scaled here.\n",
    "    hiteqm_P =int(sim_steps_value * 0.1);\n",
    "    writedata_U =int(sim_steps_value * 0.1);\n",
    "    writedensity_W =int(sim_steps_value * 0.1);\n",
    "    extra_compute_X = int(sim_steps_value * 0.01);\n",
    "    moviefreq_F = int(sim_steps_value * 0.01);\n",
    "    cpmd_verify_Y = int(sim_steps_value * 0.1); \n",
    "    \n",
    "    #submit_str = '--local -p \"@@Vin=%d:%d in %d\" /apps/pegtut/current/examples/capacitor_voltage/sim1.py  --Vin=@@Vin' % (vin.value[0], vin.value[1], steps.value)\n",
    "    \n",
    "    paraList = ' -a ' + str(np_radius_value) + ' -b ' + str(14.28) + ' -e ' + str(e_np_value) + ' -E ' + str(e_out_value) \\\n",
    "    + ' -V ' + str(np_charge_value) + ' -v ' + str(pion_value) + ' -g ' + str(132) + ' -m ' + str(6) + ' -t ' \\\n",
    "    + str(0.001) + ' -s ' + str(10000) + ' -p ' + str(100) + ' -f ' + str(10) + ' -M ' + str(6) + ' -T ' \\\n",
    "    + str(0.001) + ' -k ' + str(0.0025) + ' -q ' + str(0.001) + ' -L ' + str(5) + ' -l ' + str(5) \\\n",
    "    + ' -S ' + str(sim_steps_value) + ' -P ' + str(hiteqm_P) + ' -F ' + str(moviefreq_F) \\\n",
    "    + ' -X ' + str(extra_compute_X) + ' -U ' + str(writedata_U) + ' -Y ' + str(cpmd_verify_Y) \\\n",
    "    + ' -W ' + str(writedensity_W) + ' -B ' + str(0.025)\n",
    "    \n",
    "    \n",
    "    try:\n",
    "        #rname = s.make_rname(e_np_value, e_out_value, pion_value, c_out_value, np_radius_value, np_charge_value, sim_steps_value)\n",
    "         \n",
    "        submit_str = '--local mpirun -np 1 ./np_electrostatics_lab' + paraList\n",
    "        #submit_str = '--local pwd'\n",
    "        s.run(runName, submit_str)\n",
    "        \n",
    "    except  Exception as e:\n",
    "        sys.stderr.write('Error occured during the execution of np_electrostatics_lab')\n",
    "        sys.stderr.write(str(e))\n",
    "        sys.exit(1)\n",
    "        \n",
    "    \n",
    "        \n",
    "  "
   ]
  },
  {
   "cell_type": "code",
   "execution_count": 13,
   "metadata": {
    "extensions": {
     "jupyter_dashboards": {
      "version": 1,
      "views": {
       "grid_default": {
        "hidden": true
       },
       "report_default": {
        "hidden": true
       }
      }
     }
    }
   },
   "outputs": [],
   "source": [
    "# after the run finished, optionally do something\n",
    "# with the output\n",
    "def plot_data(s, rdir):\n",
    "    #We ignore rdir because submit puts non-parametric runs in the current directory\n",
    "    # When caching is enabled, they get put in a chached directory and rdit is always used. \n",
    "    plt.clf()  # clear old plot\n",
    "    plt.figure('Distribution of positive ions near the nanoparticle surface')\n",
    "    plt.xlabel('Distance from the center of the nanoparticle (R = 0 is the midpoint)(nm)', fontsize=10)\n",
    "    plt.ylabel('Density(M)', fontsize=10)\n",
    "    \n",
    "    # our simulation writes to outfiles -> density_profile.dat\n",
    "    try:\n",
    "        density_profile = np.loadtxt('outfiles/density_profile.dat')\n",
    "    except:\n",
    "        sys.stderr.write('Can not find the positive density results file')\n",
    "        sys.exit(1)\n",
    "        \n",
    "    x = density_profile[:,0]\n",
    "    y = density_profile[:,1]\n",
    "    yrr = density_profile[:,2]\n",
    "    plt.errorbar(x,y,xerr=0.0, yerr=yrr, c='b', ecolor='r', capsize=2)\n",
    "    \n",
    "    plt.show()"
   ]
  },
  {
   "cell_type": "code",
   "execution_count": 14,
   "metadata": {
    "extensions": {
     "jupyter_dashboards": {
      "version": 1,
      "views": {
       "grid_default": {
        "col": 4,
        "height": 21,
        "hidden": false,
        "row": 5,
        "width": 8
       },
       "report_default": {
        "hidden": false
       }
      }
     }
    }
   },
   "outputs": [
    {
     "data": {
      "application/javascript": [
       "/* Put everything inside the global mpl namespace */\n",
       "window.mpl = {};\n",
       "\n",
       "\n",
       "mpl.get_websocket_type = function() {\n",
       "    if (typeof(WebSocket) !== 'undefined') {\n",
       "        return WebSocket;\n",
       "    } else if (typeof(MozWebSocket) !== 'undefined') {\n",
       "        return MozWebSocket;\n",
       "    } else {\n",
       "        alert('Your browser does not have WebSocket support.' +\n",
       "              'Please try Chrome, Safari or Firefox ≥ 6. ' +\n",
       "              'Firefox 4 and 5 are also supported but you ' +\n",
       "              'have to enable WebSockets in about:config.');\n",
       "    };\n",
       "}\n",
       "\n",
       "mpl.figure = function(figure_id, websocket, ondownload, parent_element) {\n",
       "    this.id = figure_id;\n",
       "\n",
       "    this.ws = websocket;\n",
       "\n",
       "    this.supports_binary = (this.ws.binaryType != undefined);\n",
       "\n",
       "    if (!this.supports_binary) {\n",
       "        var warnings = document.getElementById(\"mpl-warnings\");\n",
       "        if (warnings) {\n",
       "            warnings.style.display = 'block';\n",
       "            warnings.textContent = (\n",
       "                \"This browser does not support binary websocket messages. \" +\n",
       "                    \"Performance may be slow.\");\n",
       "        }\n",
       "    }\n",
       "\n",
       "    this.imageObj = new Image();\n",
       "\n",
       "    this.context = undefined;\n",
       "    this.message = undefined;\n",
       "    this.canvas = undefined;\n",
       "    this.rubberband_canvas = undefined;\n",
       "    this.rubberband_context = undefined;\n",
       "    this.format_dropdown = undefined;\n",
       "\n",
       "    this.image_mode = 'full';\n",
       "\n",
       "    this.root = $('<div/>');\n",
       "    this._root_extra_style(this.root)\n",
       "    this.root.attr('style', 'display: inline-block');\n",
       "\n",
       "    $(parent_element).append(this.root);\n",
       "\n",
       "    this._init_header(this);\n",
       "    this._init_canvas(this);\n",
       "    this._init_toolbar(this);\n",
       "\n",
       "    var fig = this;\n",
       "\n",
       "    this.waiting = false;\n",
       "\n",
       "    this.ws.onopen =  function () {\n",
       "            fig.send_message(\"supports_binary\", {value: fig.supports_binary});\n",
       "            fig.send_message(\"send_image_mode\", {});\n",
       "            if (mpl.ratio != 1) {\n",
       "                fig.send_message(\"set_dpi_ratio\", {'dpi_ratio': mpl.ratio});\n",
       "            }\n",
       "            fig.send_message(\"refresh\", {});\n",
       "        }\n",
       "\n",
       "    this.imageObj.onload = function() {\n",
       "            if (fig.image_mode == 'full') {\n",
       "                // Full images could contain transparency (where diff images\n",
       "                // almost always do), so we need to clear the canvas so that\n",
       "                // there is no ghosting.\n",
       "                fig.context.clearRect(0, 0, fig.canvas.width, fig.canvas.height);\n",
       "            }\n",
       "            fig.context.drawImage(fig.imageObj, 0, 0);\n",
       "        };\n",
       "\n",
       "    this.imageObj.onunload = function() {\n",
       "        this.ws.close();\n",
       "    }\n",
       "\n",
       "    this.ws.onmessage = this._make_on_message_function(this);\n",
       "\n",
       "    this.ondownload = ondownload;\n",
       "}\n",
       "\n",
       "mpl.figure.prototype._init_header = function() {\n",
       "    var titlebar = $(\n",
       "        '<div class=\"ui-dialog-titlebar ui-widget-header ui-corner-all ' +\n",
       "        'ui-helper-clearfix\"/>');\n",
       "    var titletext = $(\n",
       "        '<div class=\"ui-dialog-title\" style=\"width: 100%; ' +\n",
       "        'text-align: center; padding: 3px;\"/>');\n",
       "    titlebar.append(titletext)\n",
       "    this.root.append(titlebar);\n",
       "    this.header = titletext[0];\n",
       "}\n",
       "\n",
       "\n",
       "\n",
       "mpl.figure.prototype._canvas_extra_style = function(canvas_div) {\n",
       "\n",
       "}\n",
       "\n",
       "\n",
       "mpl.figure.prototype._root_extra_style = function(canvas_div) {\n",
       "\n",
       "}\n",
       "\n",
       "mpl.figure.prototype._init_canvas = function() {\n",
       "    var fig = this;\n",
       "\n",
       "    var canvas_div = $('<div/>');\n",
       "\n",
       "    canvas_div.attr('style', 'position: relative; clear: both; outline: 0');\n",
       "\n",
       "    function canvas_keyboard_event(event) {\n",
       "        return fig.key_event(event, event['data']);\n",
       "    }\n",
       "\n",
       "    canvas_div.keydown('key_press', canvas_keyboard_event);\n",
       "    canvas_div.keyup('key_release', canvas_keyboard_event);\n",
       "    this.canvas_div = canvas_div\n",
       "    this._canvas_extra_style(canvas_div)\n",
       "    this.root.append(canvas_div);\n",
       "\n",
       "    var canvas = $('<canvas/>');\n",
       "    canvas.addClass('mpl-canvas');\n",
       "    canvas.attr('style', \"left: 0; top: 0; z-index: 0; outline: 0\")\n",
       "\n",
       "    this.canvas = canvas[0];\n",
       "    this.context = canvas[0].getContext(\"2d\");\n",
       "\n",
       "    var backingStore = this.context.backingStorePixelRatio ||\n",
       "\tthis.context.webkitBackingStorePixelRatio ||\n",
       "\tthis.context.mozBackingStorePixelRatio ||\n",
       "\tthis.context.msBackingStorePixelRatio ||\n",
       "\tthis.context.oBackingStorePixelRatio ||\n",
       "\tthis.context.backingStorePixelRatio || 1;\n",
       "\n",
       "    mpl.ratio = (window.devicePixelRatio || 1) / backingStore;\n",
       "\n",
       "    var rubberband = $('<canvas/>');\n",
       "    rubberband.attr('style', \"position: absolute; left: 0; top: 0; z-index: 1;\")\n",
       "\n",
       "    var pass_mouse_events = true;\n",
       "\n",
       "    canvas_div.resizable({\n",
       "        start: function(event, ui) {\n",
       "            pass_mouse_events = false;\n",
       "        },\n",
       "        resize: function(event, ui) {\n",
       "            fig.request_resize(ui.size.width, ui.size.height);\n",
       "        },\n",
       "        stop: function(event, ui) {\n",
       "            pass_mouse_events = true;\n",
       "            fig.request_resize(ui.size.width, ui.size.height);\n",
       "        },\n",
       "    });\n",
       "\n",
       "    function mouse_event_fn(event) {\n",
       "        if (pass_mouse_events)\n",
       "            return fig.mouse_event(event, event['data']);\n",
       "    }\n",
       "\n",
       "    rubberband.mousedown('button_press', mouse_event_fn);\n",
       "    rubberband.mouseup('button_release', mouse_event_fn);\n",
       "    // Throttle sequential mouse events to 1 every 20ms.\n",
       "    rubberband.mousemove('motion_notify', mouse_event_fn);\n",
       "\n",
       "    rubberband.mouseenter('figure_enter', mouse_event_fn);\n",
       "    rubberband.mouseleave('figure_leave', mouse_event_fn);\n",
       "\n",
       "    canvas_div.on(\"wheel\", function (event) {\n",
       "        event = event.originalEvent;\n",
       "        event['data'] = 'scroll'\n",
       "        if (event.deltaY < 0) {\n",
       "            event.step = 1;\n",
       "        } else {\n",
       "            event.step = -1;\n",
       "        }\n",
       "        mouse_event_fn(event);\n",
       "    });\n",
       "\n",
       "    canvas_div.append(canvas);\n",
       "    canvas_div.append(rubberband);\n",
       "\n",
       "    this.rubberband = rubberband;\n",
       "    this.rubberband_canvas = rubberband[0];\n",
       "    this.rubberband_context = rubberband[0].getContext(\"2d\");\n",
       "    this.rubberband_context.strokeStyle = \"#000000\";\n",
       "\n",
       "    this._resize_canvas = function(width, height) {\n",
       "        // Keep the size of the canvas, canvas container, and rubber band\n",
       "        // canvas in synch.\n",
       "        canvas_div.css('width', width)\n",
       "        canvas_div.css('height', height)\n",
       "\n",
       "        canvas.attr('width', width * mpl.ratio);\n",
       "        canvas.attr('height', height * mpl.ratio);\n",
       "        canvas.attr('style', 'width: ' + width + 'px; height: ' + height + 'px;');\n",
       "\n",
       "        rubberband.attr('width', width);\n",
       "        rubberband.attr('height', height);\n",
       "    }\n",
       "\n",
       "    // Set the figure to an initial 600x600px, this will subsequently be updated\n",
       "    // upon first draw.\n",
       "    this._resize_canvas(600, 600);\n",
       "\n",
       "    // Disable right mouse context menu.\n",
       "    $(this.rubberband_canvas).bind(\"contextmenu\",function(e){\n",
       "        return false;\n",
       "    });\n",
       "\n",
       "    function set_focus () {\n",
       "        canvas.focus();\n",
       "        canvas_div.focus();\n",
       "    }\n",
       "\n",
       "    window.setTimeout(set_focus, 100);\n",
       "}\n",
       "\n",
       "mpl.figure.prototype._init_toolbar = function() {\n",
       "    var fig = this;\n",
       "\n",
       "    var nav_element = $('<div/>')\n",
       "    nav_element.attr('style', 'width: 100%');\n",
       "    this.root.append(nav_element);\n",
       "\n",
       "    // Define a callback function for later on.\n",
       "    function toolbar_event(event) {\n",
       "        return fig.toolbar_button_onclick(event['data']);\n",
       "    }\n",
       "    function toolbar_mouse_event(event) {\n",
       "        return fig.toolbar_button_onmouseover(event['data']);\n",
       "    }\n",
       "\n",
       "    for(var toolbar_ind in mpl.toolbar_items) {\n",
       "        var name = mpl.toolbar_items[toolbar_ind][0];\n",
       "        var tooltip = mpl.toolbar_items[toolbar_ind][1];\n",
       "        var image = mpl.toolbar_items[toolbar_ind][2];\n",
       "        var method_name = mpl.toolbar_items[toolbar_ind][3];\n",
       "\n",
       "        if (!name) {\n",
       "            // put a spacer in here.\n",
       "            continue;\n",
       "        }\n",
       "        var button = $('<button/>');\n",
       "        button.addClass('ui-button ui-widget ui-state-default ui-corner-all ' +\n",
       "                        'ui-button-icon-only');\n",
       "        button.attr('role', 'button');\n",
       "        button.attr('aria-disabled', 'false');\n",
       "        button.click(method_name, toolbar_event);\n",
       "        button.mouseover(tooltip, toolbar_mouse_event);\n",
       "\n",
       "        var icon_img = $('<span/>');\n",
       "        icon_img.addClass('ui-button-icon-primary ui-icon');\n",
       "        icon_img.addClass(image);\n",
       "        icon_img.addClass('ui-corner-all');\n",
       "\n",
       "        var tooltip_span = $('<span/>');\n",
       "        tooltip_span.addClass('ui-button-text');\n",
       "        tooltip_span.html(tooltip);\n",
       "\n",
       "        button.append(icon_img);\n",
       "        button.append(tooltip_span);\n",
       "\n",
       "        nav_element.append(button);\n",
       "    }\n",
       "\n",
       "    var fmt_picker_span = $('<span/>');\n",
       "\n",
       "    var fmt_picker = $('<select/>');\n",
       "    fmt_picker.addClass('mpl-toolbar-option ui-widget ui-widget-content');\n",
       "    fmt_picker_span.append(fmt_picker);\n",
       "    nav_element.append(fmt_picker_span);\n",
       "    this.format_dropdown = fmt_picker[0];\n",
       "\n",
       "    for (var ind in mpl.extensions) {\n",
       "        var fmt = mpl.extensions[ind];\n",
       "        var option = $(\n",
       "            '<option/>', {selected: fmt === mpl.default_extension}).html(fmt);\n",
       "        fmt_picker.append(option)\n",
       "    }\n",
       "\n",
       "    // Add hover states to the ui-buttons\n",
       "    $( \".ui-button\" ).hover(\n",
       "        function() { $(this).addClass(\"ui-state-hover\");},\n",
       "        function() { $(this).removeClass(\"ui-state-hover\");}\n",
       "    );\n",
       "\n",
       "    var status_bar = $('<span class=\"mpl-message\"/>');\n",
       "    nav_element.append(status_bar);\n",
       "    this.message = status_bar[0];\n",
       "}\n",
       "\n",
       "mpl.figure.prototype.request_resize = function(x_pixels, y_pixels) {\n",
       "    // Request matplotlib to resize the figure. Matplotlib will then trigger a resize in the client,\n",
       "    // which will in turn request a refresh of the image.\n",
       "    this.send_message('resize', {'width': x_pixels, 'height': y_pixels});\n",
       "}\n",
       "\n",
       "mpl.figure.prototype.send_message = function(type, properties) {\n",
       "    properties['type'] = type;\n",
       "    properties['figure_id'] = this.id;\n",
       "    this.ws.send(JSON.stringify(properties));\n",
       "}\n",
       "\n",
       "mpl.figure.prototype.send_draw_message = function() {\n",
       "    if (!this.waiting) {\n",
       "        this.waiting = true;\n",
       "        this.ws.send(JSON.stringify({type: \"draw\", figure_id: this.id}));\n",
       "    }\n",
       "}\n",
       "\n",
       "\n",
       "mpl.figure.prototype.handle_save = function(fig, msg) {\n",
       "    var format_dropdown = fig.format_dropdown;\n",
       "    var format = format_dropdown.options[format_dropdown.selectedIndex].value;\n",
       "    fig.ondownload(fig, format);\n",
       "}\n",
       "\n",
       "\n",
       "mpl.figure.prototype.handle_resize = function(fig, msg) {\n",
       "    var size = msg['size'];\n",
       "    if (size[0] != fig.canvas.width || size[1] != fig.canvas.height) {\n",
       "        fig._resize_canvas(size[0], size[1]);\n",
       "        fig.send_message(\"refresh\", {});\n",
       "    };\n",
       "}\n",
       "\n",
       "mpl.figure.prototype.handle_rubberband = function(fig, msg) {\n",
       "    var x0 = msg['x0'] / mpl.ratio;\n",
       "    var y0 = (fig.canvas.height - msg['y0']) / mpl.ratio;\n",
       "    var x1 = msg['x1'] / mpl.ratio;\n",
       "    var y1 = (fig.canvas.height - msg['y1']) / mpl.ratio;\n",
       "    x0 = Math.floor(x0) + 0.5;\n",
       "    y0 = Math.floor(y0) + 0.5;\n",
       "    x1 = Math.floor(x1) + 0.5;\n",
       "    y1 = Math.floor(y1) + 0.5;\n",
       "    var min_x = Math.min(x0, x1);\n",
       "    var min_y = Math.min(y0, y1);\n",
       "    var width = Math.abs(x1 - x0);\n",
       "    var height = Math.abs(y1 - y0);\n",
       "\n",
       "    fig.rubberband_context.clearRect(\n",
       "        0, 0, fig.canvas.width, fig.canvas.height);\n",
       "\n",
       "    fig.rubberband_context.strokeRect(min_x, min_y, width, height);\n",
       "}\n",
       "\n",
       "mpl.figure.prototype.handle_figure_label = function(fig, msg) {\n",
       "    // Updates the figure title.\n",
       "    fig.header.textContent = msg['label'];\n",
       "}\n",
       "\n",
       "mpl.figure.prototype.handle_cursor = function(fig, msg) {\n",
       "    var cursor = msg['cursor'];\n",
       "    switch(cursor)\n",
       "    {\n",
       "    case 0:\n",
       "        cursor = 'pointer';\n",
       "        break;\n",
       "    case 1:\n",
       "        cursor = 'default';\n",
       "        break;\n",
       "    case 2:\n",
       "        cursor = 'crosshair';\n",
       "        break;\n",
       "    case 3:\n",
       "        cursor = 'move';\n",
       "        break;\n",
       "    }\n",
       "    fig.rubberband_canvas.style.cursor = cursor;\n",
       "}\n",
       "\n",
       "mpl.figure.prototype.handle_message = function(fig, msg) {\n",
       "    fig.message.textContent = msg['message'];\n",
       "}\n",
       "\n",
       "mpl.figure.prototype.handle_draw = function(fig, msg) {\n",
       "    // Request the server to send over a new figure.\n",
       "    fig.send_draw_message();\n",
       "}\n",
       "\n",
       "mpl.figure.prototype.handle_image_mode = function(fig, msg) {\n",
       "    fig.image_mode = msg['mode'];\n",
       "}\n",
       "\n",
       "mpl.figure.prototype.updated_canvas_event = function() {\n",
       "    // Called whenever the canvas gets updated.\n",
       "    this.send_message(\"ack\", {});\n",
       "}\n",
       "\n",
       "// A function to construct a web socket function for onmessage handling.\n",
       "// Called in the figure constructor.\n",
       "mpl.figure.prototype._make_on_message_function = function(fig) {\n",
       "    return function socket_on_message(evt) {\n",
       "        if (evt.data instanceof Blob) {\n",
       "            /* FIXME: We get \"Resource interpreted as Image but\n",
       "             * transferred with MIME type text/plain:\" errors on\n",
       "             * Chrome.  But how to set the MIME type?  It doesn't seem\n",
       "             * to be part of the websocket stream */\n",
       "            evt.data.type = \"image/png\";\n",
       "\n",
       "            /* Free the memory for the previous frames */\n",
       "            if (fig.imageObj.src) {\n",
       "                (window.URL || window.webkitURL).revokeObjectURL(\n",
       "                    fig.imageObj.src);\n",
       "            }\n",
       "\n",
       "            fig.imageObj.src = (window.URL || window.webkitURL).createObjectURL(\n",
       "                evt.data);\n",
       "            fig.updated_canvas_event();\n",
       "            fig.waiting = false;\n",
       "            return;\n",
       "        }\n",
       "        else if (typeof evt.data === 'string' && evt.data.slice(0, 21) == \"data:image/png;base64\") {\n",
       "            fig.imageObj.src = evt.data;\n",
       "            fig.updated_canvas_event();\n",
       "            fig.waiting = false;\n",
       "            return;\n",
       "        }\n",
       "\n",
       "        var msg = JSON.parse(evt.data);\n",
       "        var msg_type = msg['type'];\n",
       "\n",
       "        // Call the  \"handle_{type}\" callback, which takes\n",
       "        // the figure and JSON message as its only arguments.\n",
       "        try {\n",
       "            var callback = fig[\"handle_\" + msg_type];\n",
       "        } catch (e) {\n",
       "            console.log(\"No handler for the '\" + msg_type + \"' message type: \", msg);\n",
       "            return;\n",
       "        }\n",
       "\n",
       "        if (callback) {\n",
       "            try {\n",
       "                // console.log(\"Handling '\" + msg_type + \"' message: \", msg);\n",
       "                callback(fig, msg);\n",
       "            } catch (e) {\n",
       "                console.log(\"Exception inside the 'handler_\" + msg_type + \"' callback:\", e, e.stack, msg);\n",
       "            }\n",
       "        }\n",
       "    };\n",
       "}\n",
       "\n",
       "// from http://stackoverflow.com/questions/1114465/getting-mouse-location-in-canvas\n",
       "mpl.findpos = function(e) {\n",
       "    //this section is from http://www.quirksmode.org/js/events_properties.html\n",
       "    var targ;\n",
       "    if (!e)\n",
       "        e = window.event;\n",
       "    if (e.target)\n",
       "        targ = e.target;\n",
       "    else if (e.srcElement)\n",
       "        targ = e.srcElement;\n",
       "    if (targ.nodeType == 3) // defeat Safari bug\n",
       "        targ = targ.parentNode;\n",
       "\n",
       "    // jQuery normalizes the pageX and pageY\n",
       "    // pageX,Y are the mouse positions relative to the document\n",
       "    // offset() returns the position of the element relative to the document\n",
       "    var x = e.pageX - $(targ).offset().left;\n",
       "    var y = e.pageY - $(targ).offset().top;\n",
       "\n",
       "    return {\"x\": x, \"y\": y};\n",
       "};\n",
       "\n",
       "/*\n",
       " * return a copy of an object with only non-object keys\n",
       " * we need this to avoid circular references\n",
       " * http://stackoverflow.com/a/24161582/3208463\n",
       " */\n",
       "function simpleKeys (original) {\n",
       "  return Object.keys(original).reduce(function (obj, key) {\n",
       "    if (typeof original[key] !== 'object')\n",
       "        obj[key] = original[key]\n",
       "    return obj;\n",
       "  }, {});\n",
       "}\n",
       "\n",
       "mpl.figure.prototype.mouse_event = function(event, name) {\n",
       "    var canvas_pos = mpl.findpos(event)\n",
       "\n",
       "    if (name === 'button_press')\n",
       "    {\n",
       "        this.canvas.focus();\n",
       "        this.canvas_div.focus();\n",
       "    }\n",
       "\n",
       "    var x = canvas_pos.x * mpl.ratio;\n",
       "    var y = canvas_pos.y * mpl.ratio;\n",
       "\n",
       "    this.send_message(name, {x: x, y: y, button: event.button,\n",
       "                             step: event.step,\n",
       "                             guiEvent: simpleKeys(event)});\n",
       "\n",
       "    /* This prevents the web browser from automatically changing to\n",
       "     * the text insertion cursor when the button is pressed.  We want\n",
       "     * to control all of the cursor setting manually through the\n",
       "     * 'cursor' event from matplotlib */\n",
       "    event.preventDefault();\n",
       "    return false;\n",
       "}\n",
       "\n",
       "mpl.figure.prototype._key_event_extra = function(event, name) {\n",
       "    // Handle any extra behaviour associated with a key event\n",
       "}\n",
       "\n",
       "mpl.figure.prototype.key_event = function(event, name) {\n",
       "\n",
       "    // Prevent repeat events\n",
       "    if (name == 'key_press')\n",
       "    {\n",
       "        if (event.which === this._key)\n",
       "            return;\n",
       "        else\n",
       "            this._key = event.which;\n",
       "    }\n",
       "    if (name == 'key_release')\n",
       "        this._key = null;\n",
       "\n",
       "    var value = '';\n",
       "    if (event.ctrlKey && event.which != 17)\n",
       "        value += \"ctrl+\";\n",
       "    if (event.altKey && event.which != 18)\n",
       "        value += \"alt+\";\n",
       "    if (event.shiftKey && event.which != 16)\n",
       "        value += \"shift+\";\n",
       "\n",
       "    value += 'k';\n",
       "    value += event.which.toString();\n",
       "\n",
       "    this._key_event_extra(event, name);\n",
       "\n",
       "    this.send_message(name, {key: value,\n",
       "                             guiEvent: simpleKeys(event)});\n",
       "    return false;\n",
       "}\n",
       "\n",
       "mpl.figure.prototype.toolbar_button_onclick = function(name) {\n",
       "    if (name == 'download') {\n",
       "        this.handle_save(this, null);\n",
       "    } else {\n",
       "        this.send_message(\"toolbar_button\", {name: name});\n",
       "    }\n",
       "};\n",
       "\n",
       "mpl.figure.prototype.toolbar_button_onmouseover = function(tooltip) {\n",
       "    this.message.textContent = tooltip;\n",
       "};\n",
       "mpl.toolbar_items = [[\"Home\", \"Reset original view\", \"fa fa-home icon-home\", \"home\"], [\"Back\", \"Back to  previous view\", \"fa fa-arrow-left icon-arrow-left\", \"back\"], [\"Forward\", \"Forward to next view\", \"fa fa-arrow-right icon-arrow-right\", \"forward\"], [\"\", \"\", \"\", \"\"], [\"Pan\", \"Pan axes with left mouse, zoom with right\", \"fa fa-arrows icon-move\", \"pan\"], [\"Zoom\", \"Zoom to rectangle\", \"fa fa-square-o icon-check-empty\", \"zoom\"], [\"\", \"\", \"\", \"\"], [\"Download\", \"Download plot\", \"fa fa-floppy-o icon-save\", \"download\"]];\n",
       "\n",
       "mpl.extensions = [\"eps\", \"jpeg\", \"pdf\", \"png\", \"ps\", \"raw\", \"svg\", \"tif\"];\n",
       "\n",
       "mpl.default_extension = \"png\";var comm_websocket_adapter = function(comm) {\n",
       "    // Create a \"websocket\"-like object which calls the given IPython comm\n",
       "    // object with the appropriate methods. Currently this is a non binary\n",
       "    // socket, so there is still some room for performance tuning.\n",
       "    var ws = {};\n",
       "\n",
       "    ws.close = function() {\n",
       "        comm.close()\n",
       "    };\n",
       "    ws.send = function(m) {\n",
       "        //console.log('sending', m);\n",
       "        comm.send(m);\n",
       "    };\n",
       "    // Register the callback with on_msg.\n",
       "    comm.on_msg(function(msg) {\n",
       "        //console.log('receiving', msg['content']['data'], msg);\n",
       "        // Pass the mpl event to the overriden (by mpl) onmessage function.\n",
       "        ws.onmessage(msg['content']['data'])\n",
       "    });\n",
       "    return ws;\n",
       "}\n",
       "\n",
       "mpl.mpl_figure_comm = function(comm, msg) {\n",
       "    // This is the function which gets called when the mpl process\n",
       "    // starts-up an IPython Comm through the \"matplotlib\" channel.\n",
       "\n",
       "    var id = msg.content.data.id;\n",
       "    // Get hold of the div created by the display call when the Comm\n",
       "    // socket was opened in Python.\n",
       "    var element = $(\"#\" + id);\n",
       "    var ws_proxy = comm_websocket_adapter(comm)\n",
       "\n",
       "    function ondownload(figure, format) {\n",
       "        window.open(figure.imageObj.src);\n",
       "    }\n",
       "\n",
       "    var fig = new mpl.figure(id, ws_proxy,\n",
       "                           ondownload,\n",
       "                           element.get(0));\n",
       "\n",
       "    // Call onopen now - mpl needs it, as it is assuming we've passed it a real\n",
       "    // web socket which is closed, not our websocket->open comm proxy.\n",
       "    ws_proxy.onopen();\n",
       "\n",
       "    fig.parent_element = element.get(0);\n",
       "    fig.cell_info = mpl.find_output_cell(\"<div id='\" + id + \"'></div>\");\n",
       "    if (!fig.cell_info) {\n",
       "        console.error(\"Failed to find cell for figure\", id, fig);\n",
       "        return;\n",
       "    }\n",
       "\n",
       "    var output_index = fig.cell_info[2]\n",
       "    var cell = fig.cell_info[0];\n",
       "\n",
       "};\n",
       "\n",
       "mpl.figure.prototype.handle_close = function(fig, msg) {\n",
       "    var width = fig.canvas.width/mpl.ratio\n",
       "    fig.root.unbind('remove')\n",
       "\n",
       "    // Update the output cell to use the data from the current canvas.\n",
       "    fig.push_to_output();\n",
       "    var dataURL = fig.canvas.toDataURL();\n",
       "    // Re-enable the keyboard manager in IPython - without this line, in FF,\n",
       "    // the notebook keyboard shortcuts fail.\n",
       "    IPython.keyboard_manager.enable()\n",
       "    $(fig.parent_element).html('<img src=\"' + dataURL + '\" width=\"' + width + '\">');\n",
       "    fig.close_ws(fig, msg);\n",
       "}\n",
       "\n",
       "mpl.figure.prototype.close_ws = function(fig, msg){\n",
       "    fig.send_message('closing', msg);\n",
       "    // fig.ws.close()\n",
       "}\n",
       "\n",
       "mpl.figure.prototype.push_to_output = function(remove_interactive) {\n",
       "    // Turn the data on the canvas into data in the output cell.\n",
       "    var width = this.canvas.width/mpl.ratio\n",
       "    var dataURL = this.canvas.toDataURL();\n",
       "    this.cell_info[1]['text/html'] = '<img src=\"' + dataURL + '\" width=\"' + width + '\">';\n",
       "}\n",
       "\n",
       "mpl.figure.prototype.updated_canvas_event = function() {\n",
       "    // Tell IPython that the notebook contents must change.\n",
       "    IPython.notebook.set_dirty(true);\n",
       "    this.send_message(\"ack\", {});\n",
       "    var fig = this;\n",
       "    // Wait a second, then push the new image to the DOM so\n",
       "    // that it is saved nicely (might be nice to debounce this).\n",
       "    setTimeout(function () { fig.push_to_output() }, 1000);\n",
       "}\n",
       "\n",
       "mpl.figure.prototype._init_toolbar = function() {\n",
       "    var fig = this;\n",
       "\n",
       "    var nav_element = $('<div/>')\n",
       "    nav_element.attr('style', 'width: 100%');\n",
       "    this.root.append(nav_element);\n",
       "\n",
       "    // Define a callback function for later on.\n",
       "    function toolbar_event(event) {\n",
       "        return fig.toolbar_button_onclick(event['data']);\n",
       "    }\n",
       "    function toolbar_mouse_event(event) {\n",
       "        return fig.toolbar_button_onmouseover(event['data']);\n",
       "    }\n",
       "\n",
       "    for(var toolbar_ind in mpl.toolbar_items){\n",
       "        var name = mpl.toolbar_items[toolbar_ind][0];\n",
       "        var tooltip = mpl.toolbar_items[toolbar_ind][1];\n",
       "        var image = mpl.toolbar_items[toolbar_ind][2];\n",
       "        var method_name = mpl.toolbar_items[toolbar_ind][3];\n",
       "\n",
       "        if (!name) { continue; };\n",
       "\n",
       "        var button = $('<button class=\"btn btn-default\" href=\"#\" title=\"' + name + '\"><i class=\"fa ' + image + ' fa-lg\"></i></button>');\n",
       "        button.click(method_name, toolbar_event);\n",
       "        button.mouseover(tooltip, toolbar_mouse_event);\n",
       "        nav_element.append(button);\n",
       "    }\n",
       "\n",
       "    // Add the status bar.\n",
       "    var status_bar = $('<span class=\"mpl-message\" style=\"text-align:right; float: right;\"/>');\n",
       "    nav_element.append(status_bar);\n",
       "    this.message = status_bar[0];\n",
       "\n",
       "    // Add the close button to the window.\n",
       "    var buttongrp = $('<div class=\"btn-group inline pull-right\"></div>');\n",
       "    var button = $('<button class=\"btn btn-mini btn-primary\" href=\"#\" title=\"Stop Interaction\"><i class=\"fa fa-power-off icon-remove icon-large\"></i></button>');\n",
       "    button.click(function (evt) { fig.handle_close(fig, {}); } );\n",
       "    button.mouseover('Stop Interaction', toolbar_mouse_event);\n",
       "    buttongrp.append(button);\n",
       "    var titlebar = this.root.find($('.ui-dialog-titlebar'));\n",
       "    titlebar.prepend(buttongrp);\n",
       "}\n",
       "\n",
       "mpl.figure.prototype._root_extra_style = function(el){\n",
       "    var fig = this\n",
       "    el.on(\"remove\", function(){\n",
       "\tfig.close_ws(fig, {});\n",
       "    });\n",
       "}\n",
       "\n",
       "mpl.figure.prototype._canvas_extra_style = function(el){\n",
       "    // this is important to make the div 'focusable\n",
       "    el.attr('tabindex', 0)\n",
       "    // reach out to IPython and tell the keyboard manager to turn it's self\n",
       "    // off when our div gets focus\n",
       "\n",
       "    // location in version 3\n",
       "    if (IPython.notebook.keyboard_manager) {\n",
       "        IPython.notebook.keyboard_manager.register_events(el);\n",
       "    }\n",
       "    else {\n",
       "        // location in version 2\n",
       "        IPython.keyboard_manager.register_events(el);\n",
       "    }\n",
       "\n",
       "}\n",
       "\n",
       "mpl.figure.prototype._key_event_extra = function(event, name) {\n",
       "    var manager = IPython.notebook.keyboard_manager;\n",
       "    if (!manager)\n",
       "        manager = IPython.keyboard_manager;\n",
       "\n",
       "    // Check for shift+enter\n",
       "    if (event.shiftKey && event.which == 13) {\n",
       "        this.canvas_div.blur();\n",
       "        // select the cell after this one\n",
       "        var index = IPython.notebook.find_cell_index(this.cell_info[0]);\n",
       "        IPython.notebook.select(index + 1);\n",
       "    }\n",
       "}\n",
       "\n",
       "mpl.figure.prototype.handle_save = function(fig, msg) {\n",
       "    fig.ondownload(fig, null);\n",
       "}\n",
       "\n",
       "\n",
       "mpl.find_output_cell = function(html_output) {\n",
       "    // Return the cell and output element which can be found *uniquely* in the notebook.\n",
       "    // Note - this is a bit hacky, but it is done because the \"notebook_saving.Notebook\"\n",
       "    // IPython event is triggered only after the cells have been serialised, which for\n",
       "    // our purposes (turning an active figure into a static one), is too late.\n",
       "    var cells = IPython.notebook.get_cells();\n",
       "    var ncells = cells.length;\n",
       "    for (var i=0; i<ncells; i++) {\n",
       "        var cell = cells[i];\n",
       "        if (cell.cell_type === 'code'){\n",
       "            for (var j=0; j<cell.output_area.outputs.length; j++) {\n",
       "                var data = cell.output_area.outputs[j];\n",
       "                if (data.data) {\n",
       "                    // IPython >= 3 moved mimebundle to data attribute of output\n",
       "                    data = data.data;\n",
       "                }\n",
       "                if (data['text/html'] == html_output) {\n",
       "                    return [cell, data, j];\n",
       "                }\n",
       "            }\n",
       "        }\n",
       "    }\n",
       "}\n",
       "\n",
       "// Register the function which deals with the matplotlib target/channel.\n",
       "// The kernel may be null if the page has been refreshed.\n",
       "if (IPython.notebook.kernel != null) {\n",
       "    IPython.notebook.kernel.comm_manager.register_target('matplotlib', mpl.mpl_figure_comm);\n",
       "}\n"
      ],
      "text/plain": [
       "<IPython.core.display.Javascript object>"
      ]
     },
     "metadata": {},
     "output_type": "display_data"
    },
    {
     "data": {
      "text/html": [
       "<img src=\"data:image/png;base64,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\" width=\"730.8\">"
      ],
      "text/plain": [
       "<IPython.core.display.HTML object>"
      ]
     },
     "metadata": {},
     "output_type": "display_data"
    }
   ],
   "source": [
    "# we want the plot to go here, so create an empty one initially\n",
    "plt.figure('Distribution of positive ions near the nanoparticle surface')\n",
    "plt.xlabel('Distance from the center of the nanoparticle (R = 0 is the midpoint)(nm)', fontsize=10)\n",
    "plt.ylabel('Density(M)', fontsize=10)\n",
    "plt.show()"
   ]
  },
  {
   "cell_type": "code",
   "execution_count": 15,
   "metadata": {
    "extensions": {
     "jupyter_dashboards": {
      "version": 1,
      "views": {
       "grid_default": {
        "col": null,
        "height": 10,
        "hidden": false,
        "row": 26,
        "width": null
       },
       "report_default": {
        "hidden": false
       }
      }
     }
    }
   },
   "outputs": [
    {
     "data": {
      "application/vnd.jupyter.widget-view+json": {
       "model_id": "85189627bc2b4f11b7500f99914e470b",
       "version_major": 2,
       "version_minor": 0
      },
      "text/html": [
       "<p>Failed to display Jupyter Widget of type <code>VBox</code>.</p>\n",
       "<p>\n",
       "  If you're reading this message in the Jupyter Notebook or JupyterLab Notebook, it may mean\n",
       "  that the widgets JavaScript is still loading. If this message persists, it\n",
       "  likely means that the widgets JavaScript library is either not installed or\n",
       "  not enabled. See the <a href=\"https://ipywidgets.readthedocs.io/en/stable/user_install.html\">Jupyter\n",
       "  Widgets Documentation</a> for setup instructions.\n",
       "</p>\n",
       "<p>\n",
       "  If you're reading this message in another frontend (for example, a static\n",
       "  rendering on GitHub or <a href=\"https://nbviewer.jupyter.org/\">NBViewer</a>),\n",
       "  it may mean that your frontend doesn't currently support widgets.\n",
       "</p>\n"
      ],
      "text/plain": [
       "VBox(children=(Button(button_style='success', description='Run', style=ButtonStyle(), tooltip='Run Simulation'),))"
      ]
     },
     "metadata": {},
     "output_type": "display_data"
    },
    {
     "name": "stdout",
     "output_type": "stream",
     "text": [
      "Epsilon inside NP is 78.5\n",
      "Epsilon outside NP is 78.5\n",
      "Positive Ion Valency is 1\n",
      "Salt concentration outside is 0.0\n",
      "Sphere(NP) radius is 2.6775\n",
      "NP charge is -60.0\n",
      "simulation time step is 5000\n",
      "Requested walltime is  10\n",
      "Requested total_processors are  1\n"
     ]
    }
   ],
   "source": [
    "#Submit(start_func=callExe, done_func=plot_data, cachename='SubmitTest1')\n",
    "Submit(start_func=callExe, done_func=plot_data)\n"
   ]
  }
 ],
 "metadata": {
  "extensions": {
   "jupyter_dashboards": {
    "activeView": "grid_default",
    "version": 1,
    "views": {
     "grid_default": {
      "cellMargin": 10,
      "defaultCellHeight": 20,
      "maxColumns": 12,
      "name": "grid",
      "type": "grid"
     },
     "report_default": {
      "name": "report",
      "type": "report"
     }
    }
   }
  },
  "kernelspec": {
   "display_name": "Python3",
   "language": "python",
   "name": "python3"
  },
  "language_info": {
   "codemirror_mode": {
    "name": "ipython",
    "version": 3
   },
   "file_extension": ".py",
   "mimetype": "text/x-python",
   "name": "python",
   "nbconvert_exporter": "python",
   "pygments_lexer": "ipython3",
   "version": "3.6.2"
  },
  "widgets": {
   "application/vnd.jupyter.widget-state+json": {
    "state": {
     "0928bdb3f16145de8f3bdc629c434672": {
      "model_module": "@jupyter-widgets/base",
      "model_module_version": "1.0.0",
      "model_name": "LayoutModel",
      "state": {}
     },
     "113232b6f0b0489c857571e43b2fc7c0": {
      "model_module": "@jupyter-widgets/controls",
      "model_module_version": "1.0.0",
      "model_name": "HTMLModel",
      "state": {
       "layout": "IPY_MODEL_33445fc625f34d0bbeeddd4c97736d58",
       "style": "IPY_MODEL_6d300a697da3458c80bec3d9f5dd9aee",
       "value": "<img src=\"imageV5.jpg\" style=\"width: 300px\"/>"
      }
     },
     "17e316ab391d438ea2d65e76f4767f5e": {
      "model_module": "@jupyter-widgets/base",
      "model_module_version": "1.0.0",
      "model_name": "LayoutModel",
      "state": {}
     },
     "1b37f86d44a84a748bf0f856f082f995": {
      "model_module": "@jupyter-widgets/controls",
      "model_module_version": "1.0.0",
      "model_name": "DropdownModel",
      "state": {
       "_options_labels": [
        "1(monovalent)",
        "2(divalent)",
        "3(trivalent)"
       ],
       "description": "Positive Ion Valency (z)",
       "index": 2,
       "layout": "IPY_MODEL_0928bdb3f16145de8f3bdc629c434672",
       "style": "IPY_MODEL_42bfc62f7b0a40b28042c92ea51358b6"
      }
     },
     "1c1ce5a816634e95ba4fd9c260a0e035": {
      "model_module": "@jupyter-widgets/controls",
      "model_module_version": "1.0.0",
      "model_name": "BoundedFloatTextModel",
      "state": {
       "description": "Ion Diameter (nm):",
       "layout": "IPY_MODEL_b75073530edf4a96b67df16319442848",
       "max": 0.8,
       "min": 0.5,
       "step": 0.001,
       "style": "IPY_MODEL_cba8a7396c344ef49134b9b3b3577ef5",
       "value": 0.714
      }
     },
     "24a70f35d36b4d4eb6b8faef61e818e1": {
      "model_module": "@jupyter-widgets/controls",
      "model_module_version": "1.0.0",
      "model_name": "BoundedFloatTextModel",
      "state": {
       "description": "Salt Concentration (c in M):",
       "layout": "IPY_MODEL_2fedeb6b81c543169901f6f01ed839cd",
       "max": 0.9,
       "min": 0.3,
       "style": "IPY_MODEL_45d6aa209f234a8a9a5d856d1b8c4894",
       "value": 0.7
      }
     },
     "2fedeb6b81c543169901f6f01ed839cd": {
      "model_module": "@jupyter-widgets/base",
      "model_module_version": "1.0.0",
      "model_name": "LayoutModel",
      "state": {}
     },
     "33445fc625f34d0bbeeddd4c97736d58": {
      "model_module": "@jupyter-widgets/base",
      "model_module_version": "1.0.0",
      "model_name": "LayoutModel",
      "state": {}
     },
     "36d5fefc93e84ab081d80ce41001de6f": {
      "model_module": "@jupyter-widgets/controls",
      "model_module_version": "1.0.0",
      "model_name": "ButtonModel",
      "state": {
       "description": "Simulate",
       "layout": "IPY_MODEL_f4cbb854239940da8e36bc8f9611fd13",
       "style": "IPY_MODEL_90d2800131be4e46b2b415fae5cc3976"
      }
     },
     "421f485f7df44b158c5ebc2cead2e4fc": {
      "model_module": "@jupyter-widgets/base",
      "model_module_version": "1.0.0",
      "model_name": "LayoutModel",
      "state": {}
     },
     "42bfc62f7b0a40b28042c92ea51358b6": {
      "model_module": "@jupyter-widgets/controls",
      "model_module_version": "1.0.0",
      "model_name": "DescriptionStyleModel",
      "state": {
       "description_width": "initial"
      }
     },
     "45d6aa209f234a8a9a5d856d1b8c4894": {
      "model_module": "@jupyter-widgets/controls",
      "model_module_version": "1.0.0",
      "model_name": "DescriptionStyleModel",
      "state": {
       "description_width": "initial"
      }
     },
     "45d97dd36250486787312d12a1a0eaf2": {
      "model_module": "@jupyter-widgets/controls",
      "model_module_version": "1.0.0",
      "model_name": "BoundedIntTextModel",
      "state": {
       "description": "Simulation Steps:",
       "layout": "IPY_MODEL_bf0216a2f8b24c489de53ab167969b49",
       "max": 5000000,
       "min": 20000,
       "step": 10000,
       "style": "IPY_MODEL_e4131453ffbf4876acdf9652cdb5b893",
       "value": 20000
      }
     },
     "520b6eb96ab54cd9a7c50b7bd2960207": {
      "model_module": "@jupyter-widgets/controls",
      "model_module_version": "1.0.0",
      "model_name": "DescriptionStyleModel",
      "state": {
       "description_width": "initial"
      }
     },
     "5b8456ddd09d48d8b782d04c0f5a8666": {
      "model_module": "@jupyter-widgets/controls",
      "model_module_version": "1.0.0",
      "model_name": "DescriptionStyleModel",
      "state": {
       "description_width": "initial"
      }
     },
     "6b49ad221a4f4738b7967d0195642151": {
      "model_module": "@jupyter-widgets/controls",
      "model_module_version": "1.0.0",
      "model_name": "BoundedFloatTextModel",
      "state": {
       "description": "Confinement Length (nm):",
       "layout": "IPY_MODEL_17e316ab391d438ea2d65e76f4767f5e",
       "max": 4,
       "min": 2,
       "style": "IPY_MODEL_747d7d8031df4ff984c508e9da864b35",
       "value": 3
      }
     },
     "6d300a697da3458c80bec3d9f5dd9aee": {
      "model_module": "@jupyter-widgets/controls",
      "model_module_version": "1.0.0",
      "model_name": "DescriptionStyleModel",
      "state": {
       "description_width": ""
      }
     },
     "73d6a9e62f6d40938e21e2c7fd5daf6a": {
      "model_module": "@jupyter-widgets/base",
      "model_module_version": "1.0.0",
      "model_name": "LayoutModel",
      "state": {}
     },
     "747d7d8031df4ff984c508e9da864b35": {
      "model_module": "@jupyter-widgets/controls",
      "model_module_version": "1.0.0",
      "model_name": "DescriptionStyleModel",
      "state": {
       "description_width": "initial"
      }
     },
     "75176e8e3f694980b4e2156ab5fdba16": {
      "model_module": "@jupyter-widgets/base",
      "model_module_version": "1.0.0",
      "model_name": "LayoutModel",
      "state": {}
     },
     "76459a9affde44d0a9daa29363008e4a": {
      "model_module": "@jupyter-widgets/controls",
      "model_module_version": "1.0.0",
      "model_name": "VBoxModel",
      "state": {
       "children": [
        "IPY_MODEL_fa7df53473e2422e9184a389817fa28a",
        "IPY_MODEL_24a70f35d36b4d4eb6b8faef61e818e1",
        "IPY_MODEL_1b37f86d44a84a748bf0f856f082f995",
        "IPY_MODEL_aaaf4ee3198948a28c188b9237d15a9f",
        "IPY_MODEL_6b49ad221a4f4738b7967d0195642151",
        "IPY_MODEL_1c1ce5a816634e95ba4fd9c260a0e035",
        "IPY_MODEL_8d645f6477254c368de96a816ed5e9f1",
        "IPY_MODEL_45d97dd36250486787312d12a1a0eaf2",
        "IPY_MODEL_113232b6f0b0489c857571e43b2fc7c0",
        "IPY_MODEL_36d5fefc93e84ab081d80ce41001de6f"
       ],
       "layout": "IPY_MODEL_dcca354f544646418d0eeb48fd1b5a9e"
      }
     },
     "8d645f6477254c368de96a816ed5e9f1": {
      "model_module": "@jupyter-widgets/controls",
      "model_module_version": "1.0.0",
      "model_name": "HTMLModel",
      "state": {
       "layout": "IPY_MODEL_421f485f7df44b158c5ebc2cead2e4fc",
       "style": "IPY_MODEL_de576513a12147e8bc083aeec4971950",
       "value": "<p   style='background-color: #DCDCDC; font-size:200; padding: 5px'>Computing</p>"
      }
     },
     "90d2800131be4e46b2b415fae5cc3976": {
      "model_module": "@jupyter-widgets/controls",
      "model_module_version": "1.0.0",
      "model_name": "ButtonStyleModel",
      "state": {}
     },
     "aaaf4ee3198948a28c188b9237d15a9f": {
      "model_module": "@jupyter-widgets/controls",
      "model_module_version": "1.0.0",
      "model_name": "DropdownModel",
      "state": {
       "_options_labels": [
        "-1",
        "-2",
        "-3"
       ],
       "description": "Negative Ion Valency",
       "index": 0,
       "layout": "IPY_MODEL_75176e8e3f694980b4e2156ab5fdba16",
       "style": "IPY_MODEL_520b6eb96ab54cd9a7c50b7bd2960207"
      }
     },
     "b75073530edf4a96b67df16319442848": {
      "model_module": "@jupyter-widgets/base",
      "model_module_version": "1.0.0",
      "model_name": "LayoutModel",
      "state": {}
     },
     "b9eaabc9eb4144fc82a2c63b9ef58541": {
      "model_module": "@jupyter-widgets/controls",
      "model_module_version": "1.0.0",
      "model_name": "DropdownModel",
      "state": {
       "_options_labels": [
        "1(monovalent)",
        "2(divalent)",
        "3(trivalent)"
       ],
       "description": "Positive Ion Valency (z)",
       "index": 0,
       "layout": "IPY_MODEL_c9aa90d11bec44f4aa17ca4467b7ff64",
       "style": "IPY_MODEL_5b8456ddd09d48d8b782d04c0f5a8666"
      }
     },
     "bf0216a2f8b24c489de53ab167969b49": {
      "model_module": "@jupyter-widgets/base",
      "model_module_version": "1.0.0",
      "model_name": "LayoutModel",
      "state": {}
     },
     "c9aa90d11bec44f4aa17ca4467b7ff64": {
      "model_module": "@jupyter-widgets/base",
      "model_module_version": "1.0.0",
      "model_name": "LayoutModel",
      "state": {}
     },
     "cba8a7396c344ef49134b9b3b3577ef5": {
      "model_module": "@jupyter-widgets/controls",
      "model_module_version": "1.0.0",
      "model_name": "DescriptionStyleModel",
      "state": {
       "description_width": "initial"
      }
     },
     "dcca354f544646418d0eeb48fd1b5a9e": {
      "model_module": "@jupyter-widgets/base",
      "model_module_version": "1.0.0",
      "model_name": "LayoutModel",
      "state": {}
     },
     "de576513a12147e8bc083aeec4971950": {
      "model_module": "@jupyter-widgets/controls",
      "model_module_version": "1.0.0",
      "model_name": "DescriptionStyleModel",
      "state": {
       "description_width": ""
      }
     },
     "e4131453ffbf4876acdf9652cdb5b893": {
      "model_module": "@jupyter-widgets/controls",
      "model_module_version": "1.0.0",
      "model_name": "DescriptionStyleModel",
      "state": {
       "description_width": "initial"
      }
     },
     "eba521d82a8f43bd996a3598254ea209": {
      "model_module": "@jupyter-widgets/controls",
      "model_module_version": "1.0.0",
      "model_name": "DescriptionStyleModel",
      "state": {
       "description_width": ""
      }
     },
     "f4cbb854239940da8e36bc8f9611fd13": {
      "model_module": "@jupyter-widgets/base",
      "model_module_version": "1.0.0",
      "model_name": "LayoutModel",
      "state": {}
     },
     "fa7df53473e2422e9184a389817fa28a": {
      "model_module": "@jupyter-widgets/controls",
      "model_module_version": "1.0.0",
      "model_name": "HTMLModel",
      "state": {
       "layout": "IPY_MODEL_73d6a9e62f6d40938e21e2c7fd5daf6a",
       "style": "IPY_MODEL_eba521d82a8f43bd996a3598254ea209",
       "value": "<p   style='background-color: #DCDCDC; font-size:200; padding: 5px'>Physical</p>"
      }
     }
    },
    "version_major": 2,
    "version_minor": 0
   }
  }
 },
 "nbformat": 4,
 "nbformat_minor": 2
}
