{
 "cells": [
  {
   "cell_type": "code",
   "execution_count": 1,
   "metadata": {
    "extensions": {
     "jupyter_dashboards": {
      "version": 1,
      "views": {
       "grid_default": {
        "hidden": true
       },
       "report_default": {
        "hidden": true
       }
      }
     }
    }
   },
   "outputs": [
    {
     "data": {
      "application/javascript": [
       "\n",
       "requirejs.undef('filepicker');\n",
       "\n",
       "define('filepicker', [\"@jupyter-widgets/base\"], function(widgets) {\n",
       "\n",
       "    var FilePickerView = widgets.DOMWidgetView.extend({\n",
       "        render: function(){\n",
       "            this.file = document.createElement('input');\n",
       "            this.file.setAttribute('class', 'fileinput');\n",
       "            this.file.setAttribute('id', this.cid);\n",
       "            this.file.multiple = this.model.get('multiple');\n",
       "            this.file.required = true;\n",
       "            this.file.setAttribute('type', 'file');\n",
       "            this.file.setAttribute('style', 'display:none');\n",
       "\n",
       "            this.label = document.createElement('label');\n",
       "            this.label.setAttribute('for', this.cid);\n",
       "            this.label.setAttribute('style', 'border: 1px solid; border-radius: 5px; display: inline-block; padding: 6px 12px');\n",
       "\n",
       "            this.icon = document.createElement('i');\n",
       "            this.icon.setAttribute(\"class\", \"fa fa-upload\");\n",
       "\n",
       "            if (this.file.multiple) {\n",
       "                this.labelstr = \"  Upload Files\";\n",
       "            } else {\n",
       "                this.labelstr = \"  Upload File\";\n",
       "            }\n",
       "            this.label.innerHTML = this.labelstr;\n",
       "            this.label.prepend(this.icon);\n",
       "            this.el.appendChild(this.label);\n",
       "            this.el.appendChild(this.file);\n",
       "            this.listenTo(this.model, 'change:send', this._send_changed, this);\n",
       "            this.listenTo(this.model, 'change:reset', this._reset, this);\n",
       "            this.update();\n",
       "        },\n",
       "\n",
       "        events: {\n",
       "            // List of events and their handlers.\n",
       "            'change': 'handle_file_change'\n",
       "        },\n",
       "\n",
       "        _reset: function() {\n",
       "            this.label.innerHTML = this.labelstr;\n",
       "            this.label.prepend(this.icon);\n",
       "            this.file.removeAttribute(\"disabled\");\n",
       "        },\n",
       "\n",
       "        _send_changed: function() {\n",
       "            var that = this;\n",
       "            var send = this.model.get('send');\n",
       "            var fnum = send[0];\n",
       "            var offset = send[1];\n",
       "            var chunk_size=64*1024;\n",
       "            var reader;\n",
       "\n",
       "            if (offset == 0) {\n",
       "                this.model.set('sent', -1);\n",
       "                this.touch();\n",
       "            }\n",
       "\n",
       "            // console.log('send: ' + fnum + ' ' + offset);\n",
       "            function tob64( buffer ) {\n",
       "                var binary = '';\n",
       "                var bytes = new Uint8Array( buffer );\n",
       "                var len = bytes.byteLength;\n",
       "                for (var i = 0; i < len; i++) {\n",
       "                    binary += String.fromCharCode( bytes[ i ] );\n",
       "                }\n",
       "                return window.btoa( binary );\n",
       "            }\n",
       "\n",
       "            var reader_done = function (event) {\n",
       "                // chunk is finished.  Send to python\n",
       "                if (event.target.error == null) {\n",
       "                    var b64 = tob64(event.target.result);\n",
       "                    that.model.set('data', b64);\n",
       "                    that.model.set('sent', offset);\n",
       "                    that.touch();\n",
       "                } else {\n",
       "                    console.log(\"Read error: \" + event.target.error);\n",
       "                    that.model.set('data', '');\n",
       "                    that.model.set('sent', -2);\n",
       "                    that.touch();\n",
       "                }\n",
       "                that.touch();\n",
       "            }\n",
       "        \n",
       "            var chunk_reader = function (_offset, _f) {\n",
       "                // console.log('CR' + ' ' + _f + ' ' + _offset);\n",
       "                reader = new FileReader();\n",
       "                var chunk = _f.slice(_offset, chunk_size + _offset);            \n",
       "                reader.readAsArrayBuffer(chunk);\n",
       "                reader.onload = reader_done;\n",
       "            }\n",
       "    \n",
       "            // OK. request next chunk\n",
       "            chunk_reader(offset, this.files[fnum]);\n",
       "        },\n",
       "        \n",
       "        \n",
       "        handle_file_change: function(evt) {\n",
       "\n",
       "            var _files = evt.target.files;\n",
       "            var filenames = [];\n",
       "            var file_readers = [];\n",
       "            this.files = [];\n",
       "\n",
       "            for (var i = 0; i < _files.length; i++) {\n",
       "                var file = _files[i];\n",
       "                console.log(\"Filename: \" + file.name);\n",
       "                console.log(\"Type: \" + file.type);\n",
       "                console.log(\"Size: \" + file.size + \" bytes\");\n",
       "                this.files.push(file);\n",
       "                filenames.push([file.name, file.size]);\n",
       "            };\n",
       "\n",
       "            // Set the filenames of the files.\n",
       "            this.model.set('filenames', filenames);\n",
       "            this.touch();\n",
       "\n",
       "            // update the label\n",
       "            if (filenames.length == 0) {\n",
       "                this.label.innerHTML = this.labelstr;\n",
       "            } else if (filenames.length == 1) {\n",
       "                this.label.innerHTML = \"  \" + filenames[0][0];\n",
       "            } else {\n",
       "                this.label.innerHTML = \"  \" + filenames.length + \" files selected\";\n",
       "            };\n",
       "            this.label.prepend(this.icon);\n",
       "            this.file.setAttribute('disabled', 'true');           \n",
       "        },\n",
       "    });\n",
       "\n",
       "    // Register the FilePickerView with the widget manager.\n",
       "    return {\n",
       "        FilePickerView: FilePickerView\n",
       "    };\n",
       "});\n"
      ],
      "text/plain": [
       "<IPython.core.display.Javascript object>"
      ]
     },
     "metadata": {},
     "output_type": "display_data"
    },
    {
     "data": {
      "text/html": [
       "\n",
       "<script>\n",
       "requirejs.config({\n",
       "    paths: {\n",
       "        'ace': ['//cdnjs.cloudflare.com/ajax/libs/ace/1.2.6/ace'],\n",
       "    },\n",
       "});\n",
       "\n",
       "require(['ace'], function(ace) {\n",
       "    console.log(\"ACE loaded :)\");\n",
       "    return {};\n",
       "});\n",
       "</script>\n",
       "\n",
       "<script>\n",
       "requirejs.undef('editor');\n",
       "\n",
       "define('editor', [\"jupyter-js-widgets\"], function(widgets) {\n",
       "\n",
       "    var EditorView = widgets.DOMWidgetView.extend({\n",
       "\n",
       "        // Render the view.\n",
       "        render: function() {\n",
       "            this.ignorex = false;\n",
       "            this.ignorev = false;\n",
       "            //console.log('RENDER '+this.model.get('name'));\n",
       "            this.div = document.createElement('div');\n",
       "            this.div.setAttribute('id', this.model.get('name'));\n",
       "            this.el.appendChild(this.div);\n",
       "            this.listenTo(this.model, 'change:state', this._state_changed, this);\n",
       "            this.listenTo(this.model, 'change:theme', this._theme_changed, this);\n",
       "            this.listenTo(this.model, 'change:mode', this._mode_changed, this);\n",
       "            this.listenTo(this.model, 'change:value2', this._value2_changed, this);\n",
       "            this.listenTo(this.model, 'change:showmargin', this._showmargin_changed, this);\n",
       "            this.listenTo(this.model, 'change:fontsize', this._fontsize_changed, this);\n",
       "            this.update();\n",
       "        },\n",
       "        update: function() {\n",
       "            return EditorView.__super__.update.apply(this);\n",
       "        },\n",
       "        // Tell Backbone to listen to the change event of input controls\n",
       "        events: {\n",
       "            \"change\": \"handle_color_change\"\n",
       "        },\n",
       "\n",
       "        _state_changed: function() {\n",
       "            var state = this.model.get('state')\n",
       "            //console.log('state: ' + state );\n",
       "            if (state == 'start') {\n",
       "                var that = this;\n",
       "                this._ed = ace.edit(this.model.get('name'));\n",
       "                this._ed.getSession().on('change', function(e) {\n",
       "                    if (that.ignorev == true) { return }\n",
       "                    that.ignorex = true;\n",
       "                    //console.log('CHANGE1');\n",
       "                    that.model.set('value2', that._ed.getValue());\n",
       "                    //console.log('CHANGE2');\n",
       "                    that.touch();\n",
       "                    //console.log('CHANGE3');\n",
       "                    that.ignorex = false;\n",
       "                });\n",
       "            };\n",
       "        },\n",
       "        _theme_changed: function() {\n",
       "            //console.log(\"theme \" + this.model.get('theme'));\n",
       "            this._ed.setTheme(\"ace/theme/\"+this.model.get('theme'));\n",
       "        },\n",
       "        _mode_changed: function() {\n",
       "            //console.log(\"mode \" + this.model.get('mode'));\n",
       "            this._ed.getSession().setMode(\"ace/mode/\"+this.model.get('mode'));\n",
       "        },\n",
       "        _value2_changed: function() {\n",
       "            //console.log('value2 ' + this.ignorex);\n",
       "            if (this.ignorex == true) { return };\n",
       "            var val = this.model.get('value2');\n",
       "            //console.log('VALUE2 ' + val);\n",
       "            this.ignorev = true;\n",
       "            this._ed.setValue(val);\n",
       "            this.ignorev = false;\n",
       "            //console.log('VALUE2 DONE');\n",
       "        },\n",
       "        _showmargin_changed: function() {\n",
       "            this._ed.setShowPrintMargin(this.model.get('showmargin'));\n",
       "        },\n",
       "        _fontsize_changed: function() {\n",
       "            document.getElementById(this.model.get('name')).style.fontSize=this.model.get('fontsize');\n",
       "        },\n",
       "\n",
       "        // Callback for when the color is changed.\n",
       "        handle_color_change: function(event) {\n",
       "            console.log('SOMETHING CHNAGED');\n",
       "            console.log(event);\n",
       "        },\n",
       "    });\n",
       "\n",
       "    return {\n",
       "        EditorView: EditorView\n",
       "    };\n",
       "});\n",
       "</script>\n"
      ],
      "text/plain": [
       "<IPython.core.display.HTML object>"
      ]
     },
     "metadata": {},
     "output_type": "display_data"
    }
   ],
   "source": [
    "%matplotlib notebook\n",
    "import matplotlib.pyplot as plt\n",
    "#plt.style.use('ggplot')\n",
    "import ipywidgets as widgets\n",
    "import sys, os, io, string, shutil, math\n",
    "from hublib.ui import Submit\n",
    "import hublib.use\n",
    "%use boost-1.62.0-mpich2-1.3-gnu-4.7.2\n",
    "import numpy as np\n",
    "import re\n",
    "import time\n",
    "from threading import Thread\n",
    "from io import StringIO\n",
    "\n",
    "style = {'description_width': 'initial'}"
   ]
  },
  {
   "cell_type": "code",
   "execution_count": 2,
   "metadata": {
    "extensions": {
     "jupyter_dashboards": {
      "version": 1,
      "views": {
       "grid_default": {
        "col": 0,
        "height": 2,
        "hidden": false,
        "row": 14,
        "width": 4
       },
       "report_default": {
        "hidden": true
       }
      }
     }
    }
   },
   "outputs": [
    {
     "data": {
      "application/vnd.jupyter.widget-view+json": {
       "model_id": "75dfc337fa584ed19b4cf2df2be1515e",
       "version_major": 2,
       "version_minor": 0
      },
      "text/html": [
       "<p>Failed to display Jupyter Widget of type <code>BoundedFloatText</code>.</p>\n",
       "<p>\n",
       "  If you're reading this message in the Jupyter Notebook or JupyterLab Notebook, it may mean\n",
       "  that the widgets JavaScript is still loading. If this message persists, it\n",
       "  likely means that the widgets JavaScript library is either not installed or\n",
       "  not enabled. See the <a href=\"https://ipywidgets.readthedocs.io/en/stable/user_install.html\">Jupyter\n",
       "  Widgets Documentation</a> for setup instructions.\n",
       "</p>\n",
       "<p>\n",
       "  If you're reading this message in another frontend (for example, a static\n",
       "  rendering on GitHub or <a href=\"https://nbviewer.jupyter.org/\">NBViewer</a>),\n",
       "  it may mean that your frontend doesn't currently support widgets.\n",
       "</p>\n"
      ],
      "text/plain": [
       "BoundedFloatText(value=78.5, description='Dielectric const inside NP:', max=78.5, min=2.0, step=0.1, style=DescriptionStyle(description_width='initial'))"
      ]
     },
     "metadata": {},
     "output_type": "display_data"
    }
   ],
   "source": [
    "e_np = widgets.BoundedFloatText(\n",
    "    value=78.5,\n",
    "    min=2,\n",
    "    max=78.5,\n",
    "    step=0.1,\n",
    "    description='Dielectric const inside NP:',\n",
    "    style=style,\n",
    ")\n",
    "e_np"
   ]
  },
  {
   "cell_type": "code",
   "execution_count": 3,
   "metadata": {
    "extensions": {
     "jupyter_dashboards": {
      "version": 1,
      "views": {
       "grid_default": {
        "col": 0,
        "height": 2,
        "hidden": false,
        "row": 18,
        "width": 4
       },
       "report_default": {
        "hidden": false
       }
      }
     }
    }
   },
   "outputs": [
    {
     "data": {
      "application/vnd.jupyter.widget-view+json": {
       "model_id": "1164b27b805643afa1dd722e1f87b966",
       "version_major": 2,
       "version_minor": 0
      },
      "text/html": [
       "<p>Failed to display Jupyter Widget of type <code>BoundedFloatText</code>.</p>\n",
       "<p>\n",
       "  If you're reading this message in the Jupyter Notebook or JupyterLab Notebook, it may mean\n",
       "  that the widgets JavaScript is still loading. If this message persists, it\n",
       "  likely means that the widgets JavaScript library is either not installed or\n",
       "  not enabled. See the <a href=\"https://ipywidgets.readthedocs.io/en/stable/user_install.html\">Jupyter\n",
       "  Widgets Documentation</a> for setup instructions.\n",
       "</p>\n",
       "<p>\n",
       "  If you're reading this message in another frontend (for example, a static\n",
       "  rendering on GitHub or <a href=\"https://nbviewer.jupyter.org/\">NBViewer</a>),\n",
       "  it may mean that your frontend doesn't currently support widgets.\n",
       "</p>\n"
      ],
      "text/plain": [
       "BoundedFloatText(value=78.5, description='Dielectric const outside NP:', max=78.5, min=2.0, step=0.1, style=DescriptionStyle(description_width='initial'))"
      ]
     },
     "metadata": {},
     "output_type": "display_data"
    }
   ],
   "source": [
    "e_out = widgets.BoundedFloatText(\n",
    "    value=78.5,\n",
    "    min=2,\n",
    "    max=78.5,\n",
    "    step=0.1,\n",
    "    description='Dielectric const outside NP:',\n",
    "    style=style,\n",
    ")\n",
    "e_out"
   ]
  },
  {
   "cell_type": "code",
   "execution_count": 4,
   "metadata": {
    "extensions": {
     "jupyter_dashboards": {
      "version": 1,
      "views": {
       "grid_default": {
        "col": 0,
        "height": 2,
        "hidden": false,
        "row": 22,
        "width": 4
       },
       "report_default": {
        "hidden": true
       }
      }
     }
    }
   },
   "outputs": [
    {
     "data": {
      "application/vnd.jupyter.widget-view+json": {
       "model_id": "df6b3a35aa384375a22ab5303c11e38f",
       "version_major": 2,
       "version_minor": 0
      },
      "text/html": [
       "<p>Failed to display Jupyter Widget of type <code>Dropdown</code>.</p>\n",
       "<p>\n",
       "  If you're reading this message in the Jupyter Notebook or JupyterLab Notebook, it may mean\n",
       "  that the widgets JavaScript is still loading. If this message persists, it\n",
       "  likely means that the widgets JavaScript library is either not installed or\n",
       "  not enabled. See the <a href=\"https://ipywidgets.readthedocs.io/en/stable/user_install.html\">Jupyter\n",
       "  Widgets Documentation</a> for setup instructions.\n",
       "</p>\n",
       "<p>\n",
       "  If you're reading this message in another frontend (for example, a static\n",
       "  rendering on GitHub or <a href=\"https://nbviewer.jupyter.org/\">NBViewer</a>),\n",
       "  it may mean that your frontend doesn't currently support widgets.\n",
       "</p>\n"
      ],
      "text/plain": [
       "Dropdown(description='Positive Ion Valency (z)', options={'1(monovalent)': 1, '2(divalent)': 2, '3(trivalent)': 3}, style=DescriptionStyle(description_width='initial'), value=1)"
      ]
     },
     "metadata": {},
     "output_type": "display_data"
    }
   ],
   "source": [
    "pion = widgets.Dropdown(\n",
    "    options={'1(monovalent)': 1, '2(divalent)': 2, '3(trivalent)': 3},\n",
    "    value=1,\n",
    "    description=\"Positive Ion Valency (z)\",\n",
    "    style=style\n",
    ")\n",
    "pion"
   ]
  },
  {
   "cell_type": "code",
   "execution_count": 5,
   "metadata": {
    "extensions": {
     "jupyter_dashboards": {
      "version": 1,
      "views": {
       "grid_default": {
        "col": 0,
        "height": 2,
        "hidden": false,
        "row": 16,
        "width": 4
       },
       "report_default": {
        "hidden": true
       }
      }
     }
    }
   },
   "outputs": [
    {
     "data": {
      "application/vnd.jupyter.widget-view+json": {
       "model_id": "4df65df30481412bb08f32ece0484df3",
       "version_major": 2,
       "version_minor": 0
      },
      "text/html": [
       "<p>Failed to display Jupyter Widget of type <code>BoundedFloatText</code>.</p>\n",
       "<p>\n",
       "  If you're reading this message in the Jupyter Notebook or JupyterLab Notebook, it may mean\n",
       "  that the widgets JavaScript is still loading. If this message persists, it\n",
       "  likely means that the widgets JavaScript library is either not installed or\n",
       "  not enabled. See the <a href=\"https://ipywidgets.readthedocs.io/en/stable/user_install.html\">Jupyter\n",
       "  Widgets Documentation</a> for setup instructions.\n",
       "</p>\n",
       "<p>\n",
       "  If you're reading this message in another frontend (for example, a static\n",
       "  rendering on GitHub or <a href=\"https://nbviewer.jupyter.org/\">NBViewer</a>),\n",
       "  it may mean that your frontend doesn't currently support widgets.\n",
       "</p>\n"
      ],
      "text/plain": [
       "BoundedFloatText(value=0.0, description='salt concentration outside:', max=0.4, step=0.1, style=DescriptionStyle(description_width='initial'))"
      ]
     },
     "metadata": {},
     "output_type": "display_data"
    }
   ],
   "source": [
    "c_out = widgets.BoundedFloatText(\n",
    "    value=0.0,\n",
    "    min=0.0,\n",
    "    max=0.4,\n",
    "    step=0.1,\n",
    "    description='salt concentration outside:',\n",
    "    style=style\n",
    ")\n",
    "c_out"
   ]
  },
  {
   "cell_type": "code",
   "execution_count": 6,
   "metadata": {
    "extensions": {
     "jupyter_dashboards": {
      "version": 1,
      "views": {
       "grid_default": {
        "col": 0,
        "height": 2,
        "hidden": false,
        "row": 20,
        "width": 4
       },
       "report_default": {
        "hidden": true
       }
      }
     }
    }
   },
   "outputs": [
    {
     "data": {
      "application/vnd.jupyter.widget-view+json": {
       "model_id": "71405d27b5f54437ab1e88757b3996de",
       "version_major": 2,
       "version_minor": 0
      },
      "text/html": [
       "<p>Failed to display Jupyter Widget of type <code>BoundedFloatText</code>.</p>\n",
       "<p>\n",
       "  If you're reading this message in the Jupyter Notebook or JupyterLab Notebook, it may mean\n",
       "  that the widgets JavaScript is still loading. If this message persists, it\n",
       "  likely means that the widgets JavaScript library is either not installed or\n",
       "  not enabled. See the <a href=\"https://ipywidgets.readthedocs.io/en/stable/user_install.html\">Jupyter\n",
       "  Widgets Documentation</a> for setup instructions.\n",
       "</p>\n",
       "<p>\n",
       "  If you're reading this message in another frontend (for example, a static\n",
       "  rendering on GitHub or <a href=\"https://nbviewer.jupyter.org/\">NBViewer</a>),\n",
       "  it may mean that your frontend doesn't currently support widgets.\n",
       "</p>\n"
      ],
      "text/plain": [
       "BoundedFloatText(value=2.6775, description='Nanoparticle Radius (nm):', max=5.0, min=2.0, step=0.001, style=DescriptionStyle(description_width='initial'))"
      ]
     },
     "metadata": {},
     "output_type": "display_data"
    }
   ],
   "source": [
    "np_radius = widgets.BoundedFloatText(\n",
    "    value=2.6775,\n",
    "    min=2,\n",
    "    max=5,\n",
    "    step=0.001,\n",
    "    description='Nanoparticle Radius (nm):',\n",
    "    style=style\n",
    ")\n",
    "np_radius"
   ]
  },
  {
   "cell_type": "code",
   "execution_count": 7,
   "metadata": {
    "extensions": {
     "jupyter_dashboards": {
      "version": 1,
      "views": {
       "grid_default": {
        "col": 0,
        "height": 2,
        "hidden": false,
        "row": 12,
        "width": 4
       },
       "report_default": {
        "hidden": true
       }
      }
     }
    }
   },
   "outputs": [
    {
     "data": {
      "application/vnd.jupyter.widget-view+json": {
       "model_id": "4ff58c84f2504e478a198a3823814bed",
       "version_major": 2,
       "version_minor": 0
      },
      "text/html": [
       "<p>Failed to display Jupyter Widget of type <code>BoundedFloatText</code>.</p>\n",
       "<p>\n",
       "  If you're reading this message in the Jupyter Notebook or JupyterLab Notebook, it may mean\n",
       "  that the widgets JavaScript is still loading. If this message persists, it\n",
       "  likely means that the widgets JavaScript library is either not installed or\n",
       "  not enabled. See the <a href=\"https://ipywidgets.readthedocs.io/en/stable/user_install.html\">Jupyter\n",
       "  Widgets Documentation</a> for setup instructions.\n",
       "</p>\n",
       "<p>\n",
       "  If you're reading this message in another frontend (for example, a static\n",
       "  rendering on GitHub or <a href=\"https://nbviewer.jupyter.org/\">NBViewer</a>),\n",
       "  it may mean that your frontend doesn't currently support widgets.\n",
       "</p>\n"
      ],
      "text/plain": [
       "BoundedFloatText(value=-60.0, description='Nanoparticle Charge:', max=-30.0, min=-300.0, step=-1.0, style=DescriptionStyle(description_width='initial'))"
      ]
     },
     "metadata": {},
     "output_type": "display_data"
    }
   ],
   "source": [
    "np_charge = widgets.BoundedFloatText(\n",
    "    value=-60,\n",
    "    min=-300,\n",
    "    max=-30,\n",
    "    step=-1,\n",
    "    description='Nanoparticle Charge:',\n",
    "    style=style\n",
    ")\n",
    "np_charge"
   ]
  },
  {
   "cell_type": "code",
   "execution_count": 8,
   "metadata": {
    "extensions": {
     "jupyter_dashboards": {
      "version": 1,
      "views": {
       "grid_default": {
        "col": 0,
        "height": 2,
        "hidden": false,
        "row": 24,
        "width": 4
       },
       "report_default": {
        "hidden": false
       }
      }
     }
    }
   },
   "outputs": [
    {
     "data": {
      "application/vnd.jupyter.widget-view+json": {
       "model_id": "6ed2144f77dc4dc0a4017e70826726b2",
       "version_major": 2,
       "version_minor": 0
      },
      "text/html": [
       "<p>Failed to display Jupyter Widget of type <code>BoundedIntText</code>.</p>\n",
       "<p>\n",
       "  If you're reading this message in the Jupyter Notebook or JupyterLab Notebook, it may mean\n",
       "  that the widgets JavaScript is still loading. If this message persists, it\n",
       "  likely means that the widgets JavaScript library is either not installed or\n",
       "  not enabled. See the <a href=\"https://ipywidgets.readthedocs.io/en/stable/user_install.html\">Jupyter\n",
       "  Widgets Documentation</a> for setup instructions.\n",
       "</p>\n",
       "<p>\n",
       "  If you're reading this message in another frontend (for example, a static\n",
       "  rendering on GitHub or <a href=\"https://nbviewer.jupyter.org/\">NBViewer</a>),\n",
       "  it may mean that your frontend doesn't currently support widgets.\n",
       "</p>\n"
      ],
      "text/plain": [
       "BoundedIntText(value=5000, description='Simulation Steps:', max=5000000, min=5000, step=100000, style=DescriptionStyle(description_width='initial'))"
      ]
     },
     "metadata": {},
     "output_type": "display_data"
    }
   ],
   "source": [
    "steps = widgets.BoundedIntText(\n",
    "    value=5000,\n",
    "    min=5000,\n",
    "    max=5000000,\n",
    "    step=100000,\n",
    "    description='Simulation Steps:',\n",
    "    style=style,\n",
    ")\n",
    "steps"
   ]
  },
  {
   "cell_type": "code",
   "execution_count": 9,
   "metadata": {
    "extensions": {
     "jupyter_dashboards": {
      "version": 1,
      "views": {
       "grid_default": {
        "hidden": true
       },
       "report_default": {
        "hidden": true
       }
      }
     }
    }
   },
   "outputs": [],
   "source": [
    "label_style = \"style='background-color: #DCDCDC; font-size:200; padding: 5px'\"\n",
    "def make_label(name, desc=\"\"):\n",
    "    lval = '<p  %s %s>%s</p>' % (desc, label_style, name)\n",
    "    return widgets.HTML(lval)\n",
    "\n",
    "plabel = make_label('Physical', '')\n",
    "clabel = make_label('Computing', '')"
   ]
  },
  {
   "cell_type": "code",
   "execution_count": 10,
   "metadata": {
    "extensions": {
     "jupyter_dashboards": {
      "version": 1,
      "views": {
       "grid_default": {
        "col": 0,
        "height": 12,
        "hidden": false,
        "row": 0,
        "width": 4
       },
       "report_default": {
        "hidden": false
       }
      }
     }
    }
   },
   "outputs": [
    {
     "data": {
      "application/vnd.jupyter.widget-view+json": {
       "model_id": "481c991ba4fe4da492eebd0ad6b75c19",
       "version_major": 2,
       "version_minor": 0
      },
      "text/html": [
       "<p>Failed to display Jupyter Widget of type <code>HTML</code>.</p>\n",
       "<p>\n",
       "  If you're reading this message in the Jupyter Notebook or JupyterLab Notebook, it may mean\n",
       "  that the widgets JavaScript is still loading. If this message persists, it\n",
       "  likely means that the widgets JavaScript library is either not installed or\n",
       "  not enabled. See the <a href=\"https://ipywidgets.readthedocs.io/en/stable/user_install.html\">Jupyter\n",
       "  Widgets Documentation</a> for setup instructions.\n",
       "</p>\n",
       "<p>\n",
       "  If you're reading this message in another frontend (for example, a static\n",
       "  rendering on GitHub or <a href=\"https://nbviewer.jupyter.org/\">NBViewer</a>),\n",
       "  it may mean that your frontend doesn't currently support widgets.\n",
       "</p>\n"
      ],
      "text/plain": [
       "HTML(value='<img src=\"../webcontent/images/overview.jpg\" style=\"width: 500px\"/>')"
      ]
     },
     "metadata": {},
     "output_type": "display_data"
    }
   ],
   "source": [
    "image_html = widgets.HTML(\n",
    "    value='<img src=\"../webcontent/images/overview.jpg\" style=\"width: 500px\"/>',\n",
    ")\n",
    "image_html"
   ]
  },
  {
   "cell_type": "code",
   "execution_count": 11,
   "metadata": {
    "extensions": {
     "jupyter_dashboards": {
      "version": 1,
      "views": {
       "grid_default": {
        "col": 4,
        "height": 7,
        "hidden": false,
        "row": 0,
        "width": 8
       },
       "report_default": {
        "hidden": false
       }
      }
     }
    }
   },
   "outputs": [
    {
     "data": {
      "application/vnd.jupyter.widget-view+json": {
       "model_id": "56c3a5a1e0ec4408b8aaa13bed25630d",
       "version_major": 2,
       "version_minor": 0
      },
      "text/html": [
       "<p>Failed to display Jupyter Widget of type <code>Textarea</code>.</p>\n",
       "<p>\n",
       "  If you're reading this message in the Jupyter Notebook or JupyterLab Notebook, it may mean\n",
       "  that the widgets JavaScript is still loading. If this message persists, it\n",
       "  likely means that the widgets JavaScript library is either not installed or\n",
       "  not enabled. See the <a href=\"https://ipywidgets.readthedocs.io/en/stable/user_install.html\">Jupyter\n",
       "  Widgets Documentation</a> for setup instructions.\n",
       "</p>\n",
       "<p>\n",
       "  If you're reading this message in another frontend (for example, a static\n",
       "  rendering on GitHub or <a href=\"https://nbviewer.jupyter.org/\">NBViewer</a>),\n",
       "  it may mean that your frontend doesn't currently support widgets.\n",
       "</p>\n"
      ],
      "text/plain": [
       "Textarea(value='This app enables users to simulate ions confined between nanoparticle (NP) surfaces in aqueous media. Nanoparticles can be synthetic (such as gold NPs) or natural (e.g. proteins) and the length of confinement is of the order of nanometers. Example systems include ion channel proteins of the cell membrane, adsorbed ions near surfaces of porous electrodes, and ions confined by NPs and/or colloidal particles. NP surfaces are assumed to be unpolarizable and are modeled as planar interfaces considering the large size difference between the ions and the NPs. \\nThe app facilitates investigations for a wide array of ionic and environmental parameters. Users can extract the ionic structure (density profile) and study its dependence on salt concentration (c), ion valency (z), and other physical attributes. \\nUsers can explore interesting effects by changing the c parameter from 0.3 to 0.9 M. This increase in density leads to crowding of the channel (confinement) with a large number of ions. The effect of symmetry breaking caused by the surfaces is seen: to avoid being pushed by ions from both the sides, an ion prefers the interface over the central region (bulk). The app enables users to explore this effect of ion accumulation near the interface, and make a quantitative assessment of ionic structure in strong confinement.\\nAnother rich avenue to explore is to tune the valency of positive ions (parameter z) from 1 to 3. A positively-charged multivalent ion (+3 Fe or +2 Ca) near an interface is pulled away from the interface by oppositely charged ions with a stronger force relative to the bulk where the symmetry allows for no preferred movement. Thus, stronger electrostatic interactions (as in the case of multivalent ions) tend to cause depletion of the ions from the interface. This app empowers users to investigate this depletion effect via accurate computation of the density profiles of ions. \\nEffects of changing other physical attributes such as confinement length and ion size are also available for users to explore. We invite users to take an inside look at what happens to the self-assembly of ions in these nanoscale channels by investigating the interplay of electrostatic effects and steric (or entropic) effects caused due to confinement, and measuring associated density profiles. \\nWhile we provide a default of 20000 steps for users to get started on exploring different features of the app by obtaining immediate results, converged results of smooth profiles are expected for around 1 million steps.', disabled=True, layout=Layout(height='200px', width='100%'), placeholder='')"
      ]
     },
     "metadata": {},
     "output_type": "display_data"
    }
   ],
   "source": [
    "about=widgets.Textarea(\n",
    "    value='This app enables users to simulate ions confined between nanoparticle (NP) surfaces in aqueous media. Nanoparticles can be synthetic (such as gold NPs) or natural (e.g. proteins) and the length of confinement is of the order of nanometers. Example systems include ion channel proteins of the cell membrane, adsorbed ions near surfaces of porous electrodes, and ions confined by NPs and/or colloidal particles. NP surfaces are assumed to be unpolarizable and are modeled as planar interfaces considering the large size difference between the ions and the NPs. \\nThe app facilitates investigations for a wide array of ionic and environmental parameters. Users can extract the ionic structure (density profile) and study its dependence on salt concentration (c), ion valency (z), and other physical attributes. \\nUsers can explore interesting effects by changing the c parameter from 0.3 to 0.9 M. This increase in density leads to crowding of the channel (confinement) with a large number of ions. The effect of symmetry breaking caused by the surfaces is seen: to avoid being pushed by ions from both the sides, an ion prefers the interface over the central region (bulk). The app enables users to explore this effect of ion accumulation near the interface, and make a quantitative assessment of ionic structure in strong confinement.\\nAnother rich avenue to explore is to tune the valency of positive ions (parameter z) from 1 to 3. A positively-charged multivalent ion (+3 Fe or +2 Ca) near an interface is pulled away from the interface by oppositely charged ions with a stronger force relative to the bulk where the symmetry allows for no preferred movement. Thus, stronger electrostatic interactions (as in the case of multivalent ions) tend to cause depletion of the ions from the interface. This app empowers users to investigate this depletion effect via accurate computation of the density profiles of ions. \\nEffects of changing other physical attributes such as confinement length and ion size are also available for users to explore. We invite users to take an inside look at what happens to the self-assembly of ions in these nanoscale channels by investigating the interplay of electrostatic effects and steric (or entropic) effects caused due to confinement, and measuring associated density profiles. \\nWhile we provide a default of 20000 steps for users to get started on exploring different features of the app by obtaining immediate results, converged results of smooth profiles are expected for around 1 million steps.',\n",
    "    placeholder='',\n",
    "    layout={'height': '200px','width': '100%'},\n",
    "    disabled=True\n",
    ")\n",
    "about"
   ]
  },
  {
   "cell_type": "code",
   "execution_count": 12,
   "metadata": {
    "extensions": {
     "jupyter_dashboards": {
      "version": 1,
      "views": {
       "grid_default": {
        "col": 0,
        "height": 2,
        "hidden": false,
        "row": 26,
        "width": 4
       },
       "report_default": {}
      }
     }
    }
   },
   "outputs": [
    {
     "data": {
      "application/vnd.jupyter.widget-view+json": {
       "model_id": "42113bf0b7b54ca8b939dce3dce6dbe9",
       "version_major": 2,
       "version_minor": 0
      },
      "text/html": [
       "<p>Failed to display Jupyter Widget of type <code>IntProgress</code>.</p>\n",
       "<p>\n",
       "  If you're reading this message in the Jupyter Notebook or JupyterLab Notebook, it may mean\n",
       "  that the widgets JavaScript is still loading. If this message persists, it\n",
       "  likely means that the widgets JavaScript library is either not installed or\n",
       "  not enabled. See the <a href=\"https://ipywidgets.readthedocs.io/en/stable/user_install.html\">Jupyter\n",
       "  Widgets Documentation</a> for setup instructions.\n",
       "</p>\n",
       "<p>\n",
       "  If you're reading this message in another frontend (for example, a static\n",
       "  rendering on GitHub or <a href=\"https://nbviewer.jupyter.org/\">NBViewer</a>),\n",
       "  it may mean that your frontend doesn't currently support widgets.\n",
       "</p>\n"
      ],
      "text/plain": [
       "IntProgress(value=0, description='Progress:', layout=Layout(width='100%'))"
      ]
     },
     "metadata": {},
     "output_type": "display_data"
    }
   ],
   "source": [
    "progressBar=widgets.IntProgress(\n",
    "    value=0,\n",
    "    min=0,\n",
    "    max=100,\n",
    "    step=1,\n",
    "    description='Progress:',\n",
    "    bar_style='', # 'success', 'info', 'warning', 'danger' or ''\n",
    "    orientation='horizontal',\n",
    "    layout={'width': '100%'},\n",
    ")\n",
    "progressBar"
   ]
  },
  {
   "cell_type": "code",
   "execution_count": 13,
   "metadata": {
    "extensions": {
     "jupyter_dashboards": {
      "version": 1,
      "views": {
       "grid_default": {
        "hidden": true
       },
       "report_default": {
        "hidden": true
       }
      }
     }
    }
   },
   "outputs": [],
   "source": [
    "\n",
    "runFlag=True\n",
    "working_dir=\"\"\n",
    "\n",
    "def callExe(s):\n",
    "    global runFlag, working_dir\n",
    "    \n",
    "    e_np_value = e_np.value\n",
    "    e_out_value = e_out.value\n",
    "    pion_value = pion.value\n",
    "    c_out_value = c_out.value\n",
    "    np_radius_value = np_radius.value\n",
    "    np_charge_value = np_charge.value\n",
    "    sim_steps_value = steps.value\n",
    "    walltime = 10\n",
    "    total_processors = 1\n",
    "    \n",
    "    print(\"Epsilon inside NP is\", e_np_value)\n",
    "    print(\"Epsilon outside NP is\", e_out_value)\n",
    "    print(\"Positive Ion Valency is\", pion_value)\n",
    "    print(\"Salt concentration outside is\", c_out_value)\n",
    "    print(\"Sphere(NP) radius is\", np_radius_value)\n",
    "    print(\"NP charge is\", np_charge_value)\n",
    "    print(\"simulation time step is\", sim_steps_value)\n",
    "    print (\"Requested walltime is \",walltime)\n",
    "    print (\"Requested total_processors are \", total_processors)\n",
    "    \n",
    "    shutil.rmtree('datafiles',True)\n",
    "    if not os.path.exists('datafiles'):\n",
    "        os.makedirs('datafiles')\n",
    "    shutil.rmtree('outfiles',True)\n",
    "    if not os.path.exists('outfiles'):\n",
    "        os.makedirs('outfiles')\n",
    "    shutil.rmtree('verifiles',True)\n",
    "    if not os.path.exists('verifiles'):\n",
    "        os.makedirs('verifiles')\n",
    "\n",
    "    # forcing OpenMP thread size, comment when deploying\n",
    "    os.environ[\"OMP_NUM_THREADS\"] = \"1\"\n",
    "\n",
    "    runName=''\n",
    "    \n",
    "    #computing parameters are scaled here.\n",
    "    hiteqm_P =int(sim_steps_value * 0.1);\n",
    "    writedata_U =int(sim_steps_value * 0.1);\n",
    "    writedensity_W =int(sim_steps_value * 0.1);\n",
    "    extra_compute_X = int(sim_steps_value * 0.01);\n",
    "    moviefreq_F = int(sim_steps_value * 0.01);\n",
    "    cpmd_verify_Y = int(sim_steps_value * 0.1); \n",
    "    \n",
    "    #submit_str = '--local -p \"@@Vin=%d:%d in %d\" /apps/pegtut/current/examples/capacitor_voltage/sim1.py  --Vin=@@Vin' % (vin.value[0], vin.value[1], steps.value)\n",
    "    \n",
    "    paraList = ' -a ' + str(np_radius_value) + ' -b ' + str(14.28) + ' -e ' + str(e_np_value) + ' -E ' + str(e_out_value) \\\n",
    "    + ' -V ' + str(np_charge_value) + ' -v ' + str(pion_value) + ' -g ' + str(132) + ' -m ' + str(6) + ' -t ' \\\n",
    "    + str(0.001) + ' -s ' + str(10000) + ' -p ' + str(100) + ' -f ' + str(10) + ' -M ' + str(6) + ' -T ' \\\n",
    "    + str(0.001) + ' -k ' + str(0.0025) + ' -q ' + str(0.001) + ' -L ' + str(5) + ' -l ' + str(5) \\\n",
    "    + ' -S ' + str(sim_steps_value) + ' -P ' + str(hiteqm_P) + ' -F ' + str(moviefreq_F) \\\n",
    "    + ' -X ' + str(extra_compute_X) + ' -U ' + str(writedata_U) + ' -Y ' + str(cpmd_verify_Y) \\\n",
    "    + ' -W ' + str(writedensity_W) + ' -B ' + str(0.025) + '-I' + 'false'\n",
    "    \n",
    "    #starting a thread for on the fly density plot\n",
    "    t2 = Thread(target=iterative_density_plot)\n",
    "    t2.start()\n",
    "    \n",
    "    try:\n",
    "        #rname = s.make_rname(e_np_value, e_out_value, pion_value, c_out_value, np_radius_value, np_charge_value, sim_steps_value)\n",
    "         \n",
    "        submit_str = '--local mpirun -np 1 ./np_electrostatics_lab' + paraList\n",
    "        #submit_str = '--local pwd'\n",
    "        s.run(runName, submit_str)\n",
    "        \n",
    "    except  Exception as e:\n",
    "        sys.stderr.write('Error occured during the execution of np_electrostatics_lab')\n",
    "        sys.stderr.write(str(e))\n",
    "        sys.exit(1)\n",
    "    \n",
    "    time.sleep(1)\n",
    "    runFlag = False\n",
    "    t2.join()\n",
    "        \n",
    "    \n",
    "        \n",
    "  "
   ]
  },
  {
   "cell_type": "code",
   "execution_count": 14,
   "metadata": {
    "extensions": {
     "jupyter_dashboards": {
      "version": 1,
      "views": {
       "grid_default": {
        "hidden": true
       },
       "report_default": {
        "hidden": true
       }
      }
     }
    }
   },
   "outputs": [],
   "source": [
    "# after the run finished, optionally do something\n",
    "# with the output\n",
    "def plot_data(s, rdir):\n",
    "    #We ignore rdir because submit puts non-parametric runs in the current directory\n",
    "    # When caching is enabled, they get put in a chached directory and rdit is always used. \n",
    "    plt.clf()  # clear old plot\n",
    "    plt.figure('Distribution of positive ions near the nanoparticle surface')\n",
    "    plt.xlabel('Distance from the center of the nanoparticle (R = 0 is the midpoint)(nm)', fontsize=10)\n",
    "    plt.ylabel('Density(M)', fontsize=10)\n",
    "    \n",
    "    # our simulation writes to outfiles -> density_profile.dat\n",
    "    try:\n",
    "        density_profile = np.loadtxt(working_dir + 'outfiles/density_profile.dat')\n",
    "    except:\n",
    "        sys.stderr.write('Can not find the positive density results file')\n",
    "        sys.exit(1)\n",
    "        \n",
    "    x = density_profile[:,0]\n",
    "    y = density_profile[:,1]\n",
    "    yrr = density_profile[:,2]\n",
    "    plt.errorbar(x,y,xerr=0.0, yerr=yrr, c='b', ecolor='r', capsize=2)\n",
    "    \n",
    "    plt.show()"
   ]
  },
  {
   "cell_type": "code",
   "execution_count": 15,
   "metadata": {
    "extensions": {
     "jupyter_dashboards": {
      "version": 1,
      "views": {
       "grid_default": {
        "hidden": true
       },
       "report_default": {}
      }
     }
    }
   },
   "outputs": [],
   "source": [
    "def iterative_density_plot():\n",
    "    global runFlag, working_dir\n",
    "    preFileName=''\n",
    "    while runFlag:\n",
    "        list_of_files = os.listdir(working_dir + \"datafiles\")\n",
    "        print('File List: '+ str(list_of_files))\n",
    "        \n",
    "        if list_of_files:\n",
    "            fileName=max(list_of_files,key=extract_number)\n",
    "            if preFileName != fileName:\n",
    "                preFileName = fileName\n",
    "                density_plot(fileName)\n",
    "            print('doing this  '+ fileName )\n",
    "        time.sleep(0.1)\n",
    "\n",
    "def extract_number(f):\n",
    "    s = re.findall(\"\\d+$\",f)\n",
    "    return (int(s[0]) if s else -1,f)"
   ]
  },
  {
   "cell_type": "code",
   "execution_count": 16,
   "metadata": {
    "extensions": {
     "jupyter_dashboards": {
      "version": 1,
      "views": {
       "grid_default": {
        "hidden": true
       },
       "report_default": {}
      }
     }
    }
   },
   "outputs": [],
   "source": [
    "def density_plot(filepathname):\n",
    "    plt.clf()  # clear old plot\n",
    "    timeStep = int(re.search(r'\\d+', filepathname).group())\n",
    "    plt.figure('Distribution of positive ions near the nanoparticle surface at time step = ' + str(timeStep))\n",
    "    plt.xlabel('Distance from the center of the nanoparticle (R = 0 is the midpoint)(nm)', fontsize=10)\n",
    "    plt.ylabel('Density(M)', fontsize=10)\n",
    "    print(filepathname)\n",
    "    # our simulation writes to datafiles -> _den_******.dat\n",
    "    #try:\n",
    "    density_profile = np.loadtxt(working_dir + 'datafiles/'+ filepathname)\n",
    "    #except:\n",
    "    #    sys.stderr.write('Can not find the positive density results file')\n",
    "    #   sys.exit(1)\n",
    "\n",
    "    x = density_profile[:,0]\n",
    "    y = density_profile[:,1]\n",
    "    plt.polt(x,y,'r-')\n",
    "\n",
    "    plt.show()\n",
    "    "
   ]
  },
  {
   "cell_type": "code",
   "execution_count": 17,
   "metadata": {
    "extensions": {
     "jupyter_dashboards": {
      "version": 1,
      "views": {
       "grid_default": {
        "hidden": true
       },
       "report_default": {}
      }
     }
    }
   },
   "outputs": [],
   "source": [
    "def progressBar(txt):\n",
    "    print(txt)"
   ]
  },
  {
   "cell_type": "code",
   "execution_count": 18,
   "metadata": {
    "extensions": {
     "jupyter_dashboards": {
      "version": 1,
      "views": {
       "grid_default": {
        "col": 4,
        "height": 21,
        "hidden": false,
        "row": 7,
        "width": 8
       },
       "report_default": {
        "hidden": false
       }
      }
     }
    }
   },
   "outputs": [
    {
     "data": {
      "application/javascript": [
       "/* Put everything inside the global mpl namespace */\n",
       "window.mpl = {};\n",
       "\n",
       "\n",
       "mpl.get_websocket_type = function() {\n",
       "    if (typeof(WebSocket) !== 'undefined') {\n",
       "        return WebSocket;\n",
       "    } else if (typeof(MozWebSocket) !== 'undefined') {\n",
       "        return MozWebSocket;\n",
       "    } else {\n",
       "        alert('Your browser does not have WebSocket support.' +\n",
       "              'Please try Chrome, Safari or Firefox ≥ 6. ' +\n",
       "              'Firefox 4 and 5 are also supported but you ' +\n",
       "              'have to enable WebSockets in about:config.');\n",
       "    };\n",
       "}\n",
       "\n",
       "mpl.figure = function(figure_id, websocket, ondownload, parent_element) {\n",
       "    this.id = figure_id;\n",
       "\n",
       "    this.ws = websocket;\n",
       "\n",
       "    this.supports_binary = (this.ws.binaryType != undefined);\n",
       "\n",
       "    if (!this.supports_binary) {\n",
       "        var warnings = document.getElementById(\"mpl-warnings\");\n",
       "        if (warnings) {\n",
       "            warnings.style.display = 'block';\n",
       "            warnings.textContent = (\n",
       "                \"This browser does not support binary websocket messages. \" +\n",
       "                    \"Performance may be slow.\");\n",
       "        }\n",
       "    }\n",
       "\n",
       "    this.imageObj = new Image();\n",
       "\n",
       "    this.context = undefined;\n",
       "    this.message = undefined;\n",
       "    this.canvas = undefined;\n",
       "    this.rubberband_canvas = undefined;\n",
       "    this.rubberband_context = undefined;\n",
       "    this.format_dropdown = undefined;\n",
       "\n",
       "    this.image_mode = 'full';\n",
       "\n",
       "    this.root = $('<div/>');\n",
       "    this._root_extra_style(this.root)\n",
       "    this.root.attr('style', 'display: inline-block');\n",
       "\n",
       "    $(parent_element).append(this.root);\n",
       "\n",
       "    this._init_header(this);\n",
       "    this._init_canvas(this);\n",
       "    this._init_toolbar(this);\n",
       "\n",
       "    var fig = this;\n",
       "\n",
       "    this.waiting = false;\n",
       "\n",
       "    this.ws.onopen =  function () {\n",
       "            fig.send_message(\"supports_binary\", {value: fig.supports_binary});\n",
       "            fig.send_message(\"send_image_mode\", {});\n",
       "            if (mpl.ratio != 1) {\n",
       "                fig.send_message(\"set_dpi_ratio\", {'dpi_ratio': mpl.ratio});\n",
       "            }\n",
       "            fig.send_message(\"refresh\", {});\n",
       "        }\n",
       "\n",
       "    this.imageObj.onload = function() {\n",
       "            if (fig.image_mode == 'full') {\n",
       "                // Full images could contain transparency (where diff images\n",
       "                // almost always do), so we need to clear the canvas so that\n",
       "                // there is no ghosting.\n",
       "                fig.context.clearRect(0, 0, fig.canvas.width, fig.canvas.height);\n",
       "            }\n",
       "            fig.context.drawImage(fig.imageObj, 0, 0);\n",
       "        };\n",
       "\n",
       "    this.imageObj.onunload = function() {\n",
       "        fig.ws.close();\n",
       "    }\n",
       "\n",
       "    this.ws.onmessage = this._make_on_message_function(this);\n",
       "\n",
       "    this.ondownload = ondownload;\n",
       "}\n",
       "\n",
       "mpl.figure.prototype._init_header = function() {\n",
       "    var titlebar = $(\n",
       "        '<div class=\"ui-dialog-titlebar ui-widget-header ui-corner-all ' +\n",
       "        'ui-helper-clearfix\"/>');\n",
       "    var titletext = $(\n",
       "        '<div class=\"ui-dialog-title\" style=\"width: 100%; ' +\n",
       "        'text-align: center; padding: 3px;\"/>');\n",
       "    titlebar.append(titletext)\n",
       "    this.root.append(titlebar);\n",
       "    this.header = titletext[0];\n",
       "}\n",
       "\n",
       "\n",
       "\n",
       "mpl.figure.prototype._canvas_extra_style = function(canvas_div) {\n",
       "\n",
       "}\n",
       "\n",
       "\n",
       "mpl.figure.prototype._root_extra_style = function(canvas_div) {\n",
       "\n",
       "}\n",
       "\n",
       "mpl.figure.prototype._init_canvas = function() {\n",
       "    var fig = this;\n",
       "\n",
       "    var canvas_div = $('<div/>');\n",
       "\n",
       "    canvas_div.attr('style', 'position: relative; clear: both; outline: 0');\n",
       "\n",
       "    function canvas_keyboard_event(event) {\n",
       "        return fig.key_event(event, event['data']);\n",
       "    }\n",
       "\n",
       "    canvas_div.keydown('key_press', canvas_keyboard_event);\n",
       "    canvas_div.keyup('key_release', canvas_keyboard_event);\n",
       "    this.canvas_div = canvas_div\n",
       "    this._canvas_extra_style(canvas_div)\n",
       "    this.root.append(canvas_div);\n",
       "\n",
       "    var canvas = $('<canvas/>');\n",
       "    canvas.addClass('mpl-canvas');\n",
       "    canvas.attr('style', \"left: 0; top: 0; z-index: 0; outline: 0\")\n",
       "\n",
       "    this.canvas = canvas[0];\n",
       "    this.context = canvas[0].getContext(\"2d\");\n",
       "\n",
       "    var backingStore = this.context.backingStorePixelRatio ||\n",
       "\tthis.context.webkitBackingStorePixelRatio ||\n",
       "\tthis.context.mozBackingStorePixelRatio ||\n",
       "\tthis.context.msBackingStorePixelRatio ||\n",
       "\tthis.context.oBackingStorePixelRatio ||\n",
       "\tthis.context.backingStorePixelRatio || 1;\n",
       "\n",
       "    mpl.ratio = (window.devicePixelRatio || 1) / backingStore;\n",
       "\n",
       "    var rubberband = $('<canvas/>');\n",
       "    rubberband.attr('style', \"position: absolute; left: 0; top: 0; z-index: 1;\")\n",
       "\n",
       "    var pass_mouse_events = true;\n",
       "\n",
       "    canvas_div.resizable({\n",
       "        start: function(event, ui) {\n",
       "            pass_mouse_events = false;\n",
       "        },\n",
       "        resize: function(event, ui) {\n",
       "            fig.request_resize(ui.size.width, ui.size.height);\n",
       "        },\n",
       "        stop: function(event, ui) {\n",
       "            pass_mouse_events = true;\n",
       "            fig.request_resize(ui.size.width, ui.size.height);\n",
       "        },\n",
       "    });\n",
       "\n",
       "    function mouse_event_fn(event) {\n",
       "        if (pass_mouse_events)\n",
       "            return fig.mouse_event(event, event['data']);\n",
       "    }\n",
       "\n",
       "    rubberband.mousedown('button_press', mouse_event_fn);\n",
       "    rubberband.mouseup('button_release', mouse_event_fn);\n",
       "    // Throttle sequential mouse events to 1 every 20ms.\n",
       "    rubberband.mousemove('motion_notify', mouse_event_fn);\n",
       "\n",
       "    rubberband.mouseenter('figure_enter', mouse_event_fn);\n",
       "    rubberband.mouseleave('figure_leave', mouse_event_fn);\n",
       "\n",
       "    canvas_div.on(\"wheel\", function (event) {\n",
       "        event = event.originalEvent;\n",
       "        event['data'] = 'scroll'\n",
       "        if (event.deltaY < 0) {\n",
       "            event.step = 1;\n",
       "        } else {\n",
       "            event.step = -1;\n",
       "        }\n",
       "        mouse_event_fn(event);\n",
       "    });\n",
       "\n",
       "    canvas_div.append(canvas);\n",
       "    canvas_div.append(rubberband);\n",
       "\n",
       "    this.rubberband = rubberband;\n",
       "    this.rubberband_canvas = rubberband[0];\n",
       "    this.rubberband_context = rubberband[0].getContext(\"2d\");\n",
       "    this.rubberband_context.strokeStyle = \"#000000\";\n",
       "\n",
       "    this._resize_canvas = function(width, height) {\n",
       "        // Keep the size of the canvas, canvas container, and rubber band\n",
       "        // canvas in synch.\n",
       "        canvas_div.css('width', width)\n",
       "        canvas_div.css('height', height)\n",
       "\n",
       "        canvas.attr('width', width * mpl.ratio);\n",
       "        canvas.attr('height', height * mpl.ratio);\n",
       "        canvas.attr('style', 'width: ' + width + 'px; height: ' + height + 'px;');\n",
       "\n",
       "        rubberband.attr('width', width);\n",
       "        rubberband.attr('height', height);\n",
       "    }\n",
       "\n",
       "    // Set the figure to an initial 600x600px, this will subsequently be updated\n",
       "    // upon first draw.\n",
       "    this._resize_canvas(600, 600);\n",
       "\n",
       "    // Disable right mouse context menu.\n",
       "    $(this.rubberband_canvas).bind(\"contextmenu\",function(e){\n",
       "        return false;\n",
       "    });\n",
       "\n",
       "    function set_focus () {\n",
       "        canvas.focus();\n",
       "        canvas_div.focus();\n",
       "    }\n",
       "\n",
       "    window.setTimeout(set_focus, 100);\n",
       "}\n",
       "\n",
       "mpl.figure.prototype._init_toolbar = function() {\n",
       "    var fig = this;\n",
       "\n",
       "    var nav_element = $('<div/>')\n",
       "    nav_element.attr('style', 'width: 100%');\n",
       "    this.root.append(nav_element);\n",
       "\n",
       "    // Define a callback function for later on.\n",
       "    function toolbar_event(event) {\n",
       "        return fig.toolbar_button_onclick(event['data']);\n",
       "    }\n",
       "    function toolbar_mouse_event(event) {\n",
       "        return fig.toolbar_button_onmouseover(event['data']);\n",
       "    }\n",
       "\n",
       "    for(var toolbar_ind in mpl.toolbar_items) {\n",
       "        var name = mpl.toolbar_items[toolbar_ind][0];\n",
       "        var tooltip = mpl.toolbar_items[toolbar_ind][1];\n",
       "        var image = mpl.toolbar_items[toolbar_ind][2];\n",
       "        var method_name = mpl.toolbar_items[toolbar_ind][3];\n",
       "\n",
       "        if (!name) {\n",
       "            // put a spacer in here.\n",
       "            continue;\n",
       "        }\n",
       "        var button = $('<button/>');\n",
       "        button.addClass('ui-button ui-widget ui-state-default ui-corner-all ' +\n",
       "                        'ui-button-icon-only');\n",
       "        button.attr('role', 'button');\n",
       "        button.attr('aria-disabled', 'false');\n",
       "        button.click(method_name, toolbar_event);\n",
       "        button.mouseover(tooltip, toolbar_mouse_event);\n",
       "\n",
       "        var icon_img = $('<span/>');\n",
       "        icon_img.addClass('ui-button-icon-primary ui-icon');\n",
       "        icon_img.addClass(image);\n",
       "        icon_img.addClass('ui-corner-all');\n",
       "\n",
       "        var tooltip_span = $('<span/>');\n",
       "        tooltip_span.addClass('ui-button-text');\n",
       "        tooltip_span.html(tooltip);\n",
       "\n",
       "        button.append(icon_img);\n",
       "        button.append(tooltip_span);\n",
       "\n",
       "        nav_element.append(button);\n",
       "    }\n",
       "\n",
       "    var fmt_picker_span = $('<span/>');\n",
       "\n",
       "    var fmt_picker = $('<select/>');\n",
       "    fmt_picker.addClass('mpl-toolbar-option ui-widget ui-widget-content');\n",
       "    fmt_picker_span.append(fmt_picker);\n",
       "    nav_element.append(fmt_picker_span);\n",
       "    this.format_dropdown = fmt_picker[0];\n",
       "\n",
       "    for (var ind in mpl.extensions) {\n",
       "        var fmt = mpl.extensions[ind];\n",
       "        var option = $(\n",
       "            '<option/>', {selected: fmt === mpl.default_extension}).html(fmt);\n",
       "        fmt_picker.append(option)\n",
       "    }\n",
       "\n",
       "    // Add hover states to the ui-buttons\n",
       "    $( \".ui-button\" ).hover(\n",
       "        function() { $(this).addClass(\"ui-state-hover\");},\n",
       "        function() { $(this).removeClass(\"ui-state-hover\");}\n",
       "    );\n",
       "\n",
       "    var status_bar = $('<span class=\"mpl-message\"/>');\n",
       "    nav_element.append(status_bar);\n",
       "    this.message = status_bar[0];\n",
       "}\n",
       "\n",
       "mpl.figure.prototype.request_resize = function(x_pixels, y_pixels) {\n",
       "    // Request matplotlib to resize the figure. Matplotlib will then trigger a resize in the client,\n",
       "    // which will in turn request a refresh of the image.\n",
       "    this.send_message('resize', {'width': x_pixels, 'height': y_pixels});\n",
       "}\n",
       "\n",
       "mpl.figure.prototype.send_message = function(type, properties) {\n",
       "    properties['type'] = type;\n",
       "    properties['figure_id'] = this.id;\n",
       "    this.ws.send(JSON.stringify(properties));\n",
       "}\n",
       "\n",
       "mpl.figure.prototype.send_draw_message = function() {\n",
       "    if (!this.waiting) {\n",
       "        this.waiting = true;\n",
       "        this.ws.send(JSON.stringify({type: \"draw\", figure_id: this.id}));\n",
       "    }\n",
       "}\n",
       "\n",
       "\n",
       "mpl.figure.prototype.handle_save = function(fig, msg) {\n",
       "    var format_dropdown = fig.format_dropdown;\n",
       "    var format = format_dropdown.options[format_dropdown.selectedIndex].value;\n",
       "    fig.ondownload(fig, format);\n",
       "}\n",
       "\n",
       "\n",
       "mpl.figure.prototype.handle_resize = function(fig, msg) {\n",
       "    var size = msg['size'];\n",
       "    if (size[0] != fig.canvas.width || size[1] != fig.canvas.height) {\n",
       "        fig._resize_canvas(size[0], size[1]);\n",
       "        fig.send_message(\"refresh\", {});\n",
       "    };\n",
       "}\n",
       "\n",
       "mpl.figure.prototype.handle_rubberband = function(fig, msg) {\n",
       "    var x0 = msg['x0'] / mpl.ratio;\n",
       "    var y0 = (fig.canvas.height - msg['y0']) / mpl.ratio;\n",
       "    var x1 = msg['x1'] / mpl.ratio;\n",
       "    var y1 = (fig.canvas.height - msg['y1']) / mpl.ratio;\n",
       "    x0 = Math.floor(x0) + 0.5;\n",
       "    y0 = Math.floor(y0) + 0.5;\n",
       "    x1 = Math.floor(x1) + 0.5;\n",
       "    y1 = Math.floor(y1) + 0.5;\n",
       "    var min_x = Math.min(x0, x1);\n",
       "    var min_y = Math.min(y0, y1);\n",
       "    var width = Math.abs(x1 - x0);\n",
       "    var height = Math.abs(y1 - y0);\n",
       "\n",
       "    fig.rubberband_context.clearRect(\n",
       "        0, 0, fig.canvas.width, fig.canvas.height);\n",
       "\n",
       "    fig.rubberband_context.strokeRect(min_x, min_y, width, height);\n",
       "}\n",
       "\n",
       "mpl.figure.prototype.handle_figure_label = function(fig, msg) {\n",
       "    // Updates the figure title.\n",
       "    fig.header.textContent = msg['label'];\n",
       "}\n",
       "\n",
       "mpl.figure.prototype.handle_cursor = function(fig, msg) {\n",
       "    var cursor = msg['cursor'];\n",
       "    switch(cursor)\n",
       "    {\n",
       "    case 0:\n",
       "        cursor = 'pointer';\n",
       "        break;\n",
       "    case 1:\n",
       "        cursor = 'default';\n",
       "        break;\n",
       "    case 2:\n",
       "        cursor = 'crosshair';\n",
       "        break;\n",
       "    case 3:\n",
       "        cursor = 'move';\n",
       "        break;\n",
       "    }\n",
       "    fig.rubberband_canvas.style.cursor = cursor;\n",
       "}\n",
       "\n",
       "mpl.figure.prototype.handle_message = function(fig, msg) {\n",
       "    fig.message.textContent = msg['message'];\n",
       "}\n",
       "\n",
       "mpl.figure.prototype.handle_draw = function(fig, msg) {\n",
       "    // Request the server to send over a new figure.\n",
       "    fig.send_draw_message();\n",
       "}\n",
       "\n",
       "mpl.figure.prototype.handle_image_mode = function(fig, msg) {\n",
       "    fig.image_mode = msg['mode'];\n",
       "}\n",
       "\n",
       "mpl.figure.prototype.updated_canvas_event = function() {\n",
       "    // Called whenever the canvas gets updated.\n",
       "    this.send_message(\"ack\", {});\n",
       "}\n",
       "\n",
       "// A function to construct a web socket function for onmessage handling.\n",
       "// Called in the figure constructor.\n",
       "mpl.figure.prototype._make_on_message_function = function(fig) {\n",
       "    return function socket_on_message(evt) {\n",
       "        if (evt.data instanceof Blob) {\n",
       "            /* FIXME: We get \"Resource interpreted as Image but\n",
       "             * transferred with MIME type text/plain:\" errors on\n",
       "             * Chrome.  But how to set the MIME type?  It doesn't seem\n",
       "             * to be part of the websocket stream */\n",
       "            evt.data.type = \"image/png\";\n",
       "\n",
       "            /* Free the memory for the previous frames */\n",
       "            if (fig.imageObj.src) {\n",
       "                (window.URL || window.webkitURL).revokeObjectURL(\n",
       "                    fig.imageObj.src);\n",
       "            }\n",
       "\n",
       "            fig.imageObj.src = (window.URL || window.webkitURL).createObjectURL(\n",
       "                evt.data);\n",
       "            fig.updated_canvas_event();\n",
       "            fig.waiting = false;\n",
       "            return;\n",
       "        }\n",
       "        else if (typeof evt.data === 'string' && evt.data.slice(0, 21) == \"data:image/png;base64\") {\n",
       "            fig.imageObj.src = evt.data;\n",
       "            fig.updated_canvas_event();\n",
       "            fig.waiting = false;\n",
       "            return;\n",
       "        }\n",
       "\n",
       "        var msg = JSON.parse(evt.data);\n",
       "        var msg_type = msg['type'];\n",
       "\n",
       "        // Call the  \"handle_{type}\" callback, which takes\n",
       "        // the figure and JSON message as its only arguments.\n",
       "        try {\n",
       "            var callback = fig[\"handle_\" + msg_type];\n",
       "        } catch (e) {\n",
       "            console.log(\"No handler for the '\" + msg_type + \"' message type: \", msg);\n",
       "            return;\n",
       "        }\n",
       "\n",
       "        if (callback) {\n",
       "            try {\n",
       "                // console.log(\"Handling '\" + msg_type + \"' message: \", msg);\n",
       "                callback(fig, msg);\n",
       "            } catch (e) {\n",
       "                console.log(\"Exception inside the 'handler_\" + msg_type + \"' callback:\", e, e.stack, msg);\n",
       "            }\n",
       "        }\n",
       "    };\n",
       "}\n",
       "\n",
       "// from http://stackoverflow.com/questions/1114465/getting-mouse-location-in-canvas\n",
       "mpl.findpos = function(e) {\n",
       "    //this section is from http://www.quirksmode.org/js/events_properties.html\n",
       "    var targ;\n",
       "    if (!e)\n",
       "        e = window.event;\n",
       "    if (e.target)\n",
       "        targ = e.target;\n",
       "    else if (e.srcElement)\n",
       "        targ = e.srcElement;\n",
       "    if (targ.nodeType == 3) // defeat Safari bug\n",
       "        targ = targ.parentNode;\n",
       "\n",
       "    // jQuery normalizes the pageX and pageY\n",
       "    // pageX,Y are the mouse positions relative to the document\n",
       "    // offset() returns the position of the element relative to the document\n",
       "    var x = e.pageX - $(targ).offset().left;\n",
       "    var y = e.pageY - $(targ).offset().top;\n",
       "\n",
       "    return {\"x\": x, \"y\": y};\n",
       "};\n",
       "\n",
       "/*\n",
       " * return a copy of an object with only non-object keys\n",
       " * we need this to avoid circular references\n",
       " * http://stackoverflow.com/a/24161582/3208463\n",
       " */\n",
       "function simpleKeys (original) {\n",
       "  return Object.keys(original).reduce(function (obj, key) {\n",
       "    if (typeof original[key] !== 'object')\n",
       "        obj[key] = original[key]\n",
       "    return obj;\n",
       "  }, {});\n",
       "}\n",
       "\n",
       "mpl.figure.prototype.mouse_event = function(event, name) {\n",
       "    var canvas_pos = mpl.findpos(event)\n",
       "\n",
       "    if (name === 'button_press')\n",
       "    {\n",
       "        this.canvas.focus();\n",
       "        this.canvas_div.focus();\n",
       "    }\n",
       "\n",
       "    var x = canvas_pos.x * mpl.ratio;\n",
       "    var y = canvas_pos.y * mpl.ratio;\n",
       "\n",
       "    this.send_message(name, {x: x, y: y, button: event.button,\n",
       "                             step: event.step,\n",
       "                             guiEvent: simpleKeys(event)});\n",
       "\n",
       "    /* This prevents the web browser from automatically changing to\n",
       "     * the text insertion cursor when the button is pressed.  We want\n",
       "     * to control all of the cursor setting manually through the\n",
       "     * 'cursor' event from matplotlib */\n",
       "    event.preventDefault();\n",
       "    return false;\n",
       "}\n",
       "\n",
       "mpl.figure.prototype._key_event_extra = function(event, name) {\n",
       "    // Handle any extra behaviour associated with a key event\n",
       "}\n",
       "\n",
       "mpl.figure.prototype.key_event = function(event, name) {\n",
       "\n",
       "    // Prevent repeat events\n",
       "    if (name == 'key_press')\n",
       "    {\n",
       "        if (event.which === this._key)\n",
       "            return;\n",
       "        else\n",
       "            this._key = event.which;\n",
       "    }\n",
       "    if (name == 'key_release')\n",
       "        this._key = null;\n",
       "\n",
       "    var value = '';\n",
       "    if (event.ctrlKey && event.which != 17)\n",
       "        value += \"ctrl+\";\n",
       "    if (event.altKey && event.which != 18)\n",
       "        value += \"alt+\";\n",
       "    if (event.shiftKey && event.which != 16)\n",
       "        value += \"shift+\";\n",
       "\n",
       "    value += 'k';\n",
       "    value += event.which.toString();\n",
       "\n",
       "    this._key_event_extra(event, name);\n",
       "\n",
       "    this.send_message(name, {key: value,\n",
       "                             guiEvent: simpleKeys(event)});\n",
       "    return false;\n",
       "}\n",
       "\n",
       "mpl.figure.prototype.toolbar_button_onclick = function(name) {\n",
       "    if (name == 'download') {\n",
       "        this.handle_save(this, null);\n",
       "    } else {\n",
       "        this.send_message(\"toolbar_button\", {name: name});\n",
       "    }\n",
       "};\n",
       "\n",
       "mpl.figure.prototype.toolbar_button_onmouseover = function(tooltip) {\n",
       "    this.message.textContent = tooltip;\n",
       "};\n",
       "mpl.toolbar_items = [[\"Home\", \"Reset original view\", \"fa fa-home icon-home\", \"home\"], [\"Back\", \"Back to  previous view\", \"fa fa-arrow-left icon-arrow-left\", \"back\"], [\"Forward\", \"Forward to next view\", \"fa fa-arrow-right icon-arrow-right\", \"forward\"], [\"\", \"\", \"\", \"\"], [\"Pan\", \"Pan axes with left mouse, zoom with right\", \"fa fa-arrows icon-move\", \"pan\"], [\"Zoom\", \"Zoom to rectangle\", \"fa fa-square-o icon-check-empty\", \"zoom\"], [\"\", \"\", \"\", \"\"], [\"Download\", \"Download plot\", \"fa fa-floppy-o icon-save\", \"download\"]];\n",
       "\n",
       "mpl.extensions = [\"eps\", \"jpeg\", \"pdf\", \"png\", \"ps\", \"raw\", \"svg\", \"tif\"];\n",
       "\n",
       "mpl.default_extension = \"png\";var comm_websocket_adapter = function(comm) {\n",
       "    // Create a \"websocket\"-like object which calls the given IPython comm\n",
       "    // object with the appropriate methods. Currently this is a non binary\n",
       "    // socket, so there is still some room for performance tuning.\n",
       "    var ws = {};\n",
       "\n",
       "    ws.close = function() {\n",
       "        comm.close()\n",
       "    };\n",
       "    ws.send = function(m) {\n",
       "        //console.log('sending', m);\n",
       "        comm.send(m);\n",
       "    };\n",
       "    // Register the callback with on_msg.\n",
       "    comm.on_msg(function(msg) {\n",
       "        //console.log('receiving', msg['content']['data'], msg);\n",
       "        // Pass the mpl event to the overridden (by mpl) onmessage function.\n",
       "        ws.onmessage(msg['content']['data'])\n",
       "    });\n",
       "    return ws;\n",
       "}\n",
       "\n",
       "mpl.mpl_figure_comm = function(comm, msg) {\n",
       "    // This is the function which gets called when the mpl process\n",
       "    // starts-up an IPython Comm through the \"matplotlib\" channel.\n",
       "\n",
       "    var id = msg.content.data.id;\n",
       "    // Get hold of the div created by the display call when the Comm\n",
       "    // socket was opened in Python.\n",
       "    var element = $(\"#\" + id);\n",
       "    var ws_proxy = comm_websocket_adapter(comm)\n",
       "\n",
       "    function ondownload(figure, format) {\n",
       "        window.open(figure.imageObj.src);\n",
       "    }\n",
       "\n",
       "    var fig = new mpl.figure(id, ws_proxy,\n",
       "                           ondownload,\n",
       "                           element.get(0));\n",
       "\n",
       "    // Call onopen now - mpl needs it, as it is assuming we've passed it a real\n",
       "    // web socket which is closed, not our websocket->open comm proxy.\n",
       "    ws_proxy.onopen();\n",
       "\n",
       "    fig.parent_element = element.get(0);\n",
       "    fig.cell_info = mpl.find_output_cell(\"<div id='\" + id + \"'></div>\");\n",
       "    if (!fig.cell_info) {\n",
       "        console.error(\"Failed to find cell for figure\", id, fig);\n",
       "        return;\n",
       "    }\n",
       "\n",
       "    var output_index = fig.cell_info[2]\n",
       "    var cell = fig.cell_info[0];\n",
       "\n",
       "};\n",
       "\n",
       "mpl.figure.prototype.handle_close = function(fig, msg) {\n",
       "    var width = fig.canvas.width/mpl.ratio\n",
       "    fig.root.unbind('remove')\n",
       "\n",
       "    // Update the output cell to use the data from the current canvas.\n",
       "    fig.push_to_output();\n",
       "    var dataURL = fig.canvas.toDataURL();\n",
       "    // Re-enable the keyboard manager in IPython - without this line, in FF,\n",
       "    // the notebook keyboard shortcuts fail.\n",
       "    IPython.keyboard_manager.enable()\n",
       "    $(fig.parent_element).html('<img src=\"' + dataURL + '\" width=\"' + width + '\">');\n",
       "    fig.close_ws(fig, msg);\n",
       "}\n",
       "\n",
       "mpl.figure.prototype.close_ws = function(fig, msg){\n",
       "    fig.send_message('closing', msg);\n",
       "    // fig.ws.close()\n",
       "}\n",
       "\n",
       "mpl.figure.prototype.push_to_output = function(remove_interactive) {\n",
       "    // Turn the data on the canvas into data in the output cell.\n",
       "    var width = this.canvas.width/mpl.ratio\n",
       "    var dataURL = this.canvas.toDataURL();\n",
       "    this.cell_info[1]['text/html'] = '<img src=\"' + dataURL + '\" width=\"' + width + '\">';\n",
       "}\n",
       "\n",
       "mpl.figure.prototype.updated_canvas_event = function() {\n",
       "    // Tell IPython that the notebook contents must change.\n",
       "    IPython.notebook.set_dirty(true);\n",
       "    this.send_message(\"ack\", {});\n",
       "    var fig = this;\n",
       "    // Wait a second, then push the new image to the DOM so\n",
       "    // that it is saved nicely (might be nice to debounce this).\n",
       "    setTimeout(function () { fig.push_to_output() }, 1000);\n",
       "}\n",
       "\n",
       "mpl.figure.prototype._init_toolbar = function() {\n",
       "    var fig = this;\n",
       "\n",
       "    var nav_element = $('<div/>')\n",
       "    nav_element.attr('style', 'width: 100%');\n",
       "    this.root.append(nav_element);\n",
       "\n",
       "    // Define a callback function for later on.\n",
       "    function toolbar_event(event) {\n",
       "        return fig.toolbar_button_onclick(event['data']);\n",
       "    }\n",
       "    function toolbar_mouse_event(event) {\n",
       "        return fig.toolbar_button_onmouseover(event['data']);\n",
       "    }\n",
       "\n",
       "    for(var toolbar_ind in mpl.toolbar_items){\n",
       "        var name = mpl.toolbar_items[toolbar_ind][0];\n",
       "        var tooltip = mpl.toolbar_items[toolbar_ind][1];\n",
       "        var image = mpl.toolbar_items[toolbar_ind][2];\n",
       "        var method_name = mpl.toolbar_items[toolbar_ind][3];\n",
       "\n",
       "        if (!name) { continue; };\n",
       "\n",
       "        var button = $('<button class=\"btn btn-default\" href=\"#\" title=\"' + name + '\"><i class=\"fa ' + image + ' fa-lg\"></i></button>');\n",
       "        button.click(method_name, toolbar_event);\n",
       "        button.mouseover(tooltip, toolbar_mouse_event);\n",
       "        nav_element.append(button);\n",
       "    }\n",
       "\n",
       "    // Add the status bar.\n",
       "    var status_bar = $('<span class=\"mpl-message\" style=\"text-align:right; float: right;\"/>');\n",
       "    nav_element.append(status_bar);\n",
       "    this.message = status_bar[0];\n",
       "\n",
       "    // Add the close button to the window.\n",
       "    var buttongrp = $('<div class=\"btn-group inline pull-right\"></div>');\n",
       "    var button = $('<button class=\"btn btn-mini btn-primary\" href=\"#\" title=\"Stop Interaction\"><i class=\"fa fa-power-off icon-remove icon-large\"></i></button>');\n",
       "    button.click(function (evt) { fig.handle_close(fig, {}); } );\n",
       "    button.mouseover('Stop Interaction', toolbar_mouse_event);\n",
       "    buttongrp.append(button);\n",
       "    var titlebar = this.root.find($('.ui-dialog-titlebar'));\n",
       "    titlebar.prepend(buttongrp);\n",
       "}\n",
       "\n",
       "mpl.figure.prototype._root_extra_style = function(el){\n",
       "    var fig = this\n",
       "    el.on(\"remove\", function(){\n",
       "\tfig.close_ws(fig, {});\n",
       "    });\n",
       "}\n",
       "\n",
       "mpl.figure.prototype._canvas_extra_style = function(el){\n",
       "    // this is important to make the div 'focusable\n",
       "    el.attr('tabindex', 0)\n",
       "    // reach out to IPython and tell the keyboard manager to turn it's self\n",
       "    // off when our div gets focus\n",
       "\n",
       "    // location in version 3\n",
       "    if (IPython.notebook.keyboard_manager) {\n",
       "        IPython.notebook.keyboard_manager.register_events(el);\n",
       "    }\n",
       "    else {\n",
       "        // location in version 2\n",
       "        IPython.keyboard_manager.register_events(el);\n",
       "    }\n",
       "\n",
       "}\n",
       "\n",
       "mpl.figure.prototype._key_event_extra = function(event, name) {\n",
       "    var manager = IPython.notebook.keyboard_manager;\n",
       "    if (!manager)\n",
       "        manager = IPython.keyboard_manager;\n",
       "\n",
       "    // Check for shift+enter\n",
       "    if (event.shiftKey && event.which == 13) {\n",
       "        this.canvas_div.blur();\n",
       "        event.shiftKey = false;\n",
       "        // Send a \"J\" for go to next cell\n",
       "        event.which = 74;\n",
       "        event.keyCode = 74;\n",
       "        manager.command_mode();\n",
       "        manager.handle_keydown(event);\n",
       "    }\n",
       "}\n",
       "\n",
       "mpl.figure.prototype.handle_save = function(fig, msg) {\n",
       "    fig.ondownload(fig, null);\n",
       "}\n",
       "\n",
       "\n",
       "mpl.find_output_cell = function(html_output) {\n",
       "    // Return the cell and output element which can be found *uniquely* in the notebook.\n",
       "    // Note - this is a bit hacky, but it is done because the \"notebook_saving.Notebook\"\n",
       "    // IPython event is triggered only after the cells have been serialised, which for\n",
       "    // our purposes (turning an active figure into a static one), is too late.\n",
       "    var cells = IPython.notebook.get_cells();\n",
       "    var ncells = cells.length;\n",
       "    for (var i=0; i<ncells; i++) {\n",
       "        var cell = cells[i];\n",
       "        if (cell.cell_type === 'code'){\n",
       "            for (var j=0; j<cell.output_area.outputs.length; j++) {\n",
       "                var data = cell.output_area.outputs[j];\n",
       "                if (data.data) {\n",
       "                    // IPython >= 3 moved mimebundle to data attribute of output\n",
       "                    data = data.data;\n",
       "                }\n",
       "                if (data['text/html'] == html_output) {\n",
       "                    return [cell, data, j];\n",
       "                }\n",
       "            }\n",
       "        }\n",
       "    }\n",
       "}\n",
       "\n",
       "// Register the function which deals with the matplotlib target/channel.\n",
       "// The kernel may be null if the page has been refreshed.\n",
       "if (IPython.notebook.kernel != null) {\n",
       "    IPython.notebook.kernel.comm_manager.register_target('matplotlib', mpl.mpl_figure_comm);\n",
       "}\n"
      ],
      "text/plain": [
       "<IPython.core.display.Javascript object>"
      ]
     },
     "metadata": {},
     "output_type": "display_data"
    },
    {
     "data": {
      "text/html": [
       "<img src=\"data:image/png;base64,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\" width=\"639.9333333333333\">"
      ],
      "text/plain": [
       "<IPython.core.display.HTML object>"
      ]
     },
     "metadata": {},
     "output_type": "display_data"
    }
   ],
   "source": [
    "# we want the plot to go here, so create an empty one initially\n",
    "plt.figure('Distribution of positive ions near the nanoparticle surface')\n",
    "plt.xlabel('Distance from the center of the nanoparticle (R = 0 is the midpoint)(nm)', fontsize=10)\n",
    "plt.ylabel('Density(M)', fontsize=10)\n",
    "plt.show()"
   ]
  },
  {
   "cell_type": "code",
   "execution_count": 19,
   "metadata": {
    "extensions": {
     "jupyter_dashboards": {
      "version": 1,
      "views": {
       "grid_default": {
        "col": 0,
        "height": 8,
        "hidden": false,
        "row": 28,
        "width": null
       },
       "report_default": {
        "hidden": false
       }
      }
     }
    }
   },
   "outputs": [
    {
     "data": {
      "application/vnd.jupyter.widget-view+json": {
       "model_id": "3b54354cad82454b94e3dd57facc45a1",
       "version_major": 2,
       "version_minor": 0
      },
      "text/html": [
       "<p>Failed to display Jupyter Widget of type <code>VBox</code>.</p>\n",
       "<p>\n",
       "  If you're reading this message in the Jupyter Notebook or JupyterLab Notebook, it may mean\n",
       "  that the widgets JavaScript is still loading. If this message persists, it\n",
       "  likely means that the widgets JavaScript library is either not installed or\n",
       "  not enabled. See the <a href=\"https://ipywidgets.readthedocs.io/en/stable/user_install.html\">Jupyter\n",
       "  Widgets Documentation</a> for setup instructions.\n",
       "</p>\n",
       "<p>\n",
       "  If you're reading this message in another frontend (for example, a static\n",
       "  rendering on GitHub or <a href=\"https://nbviewer.jupyter.org/\">NBViewer</a>),\n",
       "  it may mean that your frontend doesn't currently support widgets.\n",
       "</p>\n"
      ],
      "text/plain": [
       "VBox(children=(Button(button_style='success', description='Run', style=ButtonStyle(), tooltip='Run Simulation'),), layout=Layout(flex_flow='column', justify_content='flex-start', width='auto'))"
      ]
     },
     "metadata": {},
     "output_type": "display_data"
    }
   ],
   "source": [
    "#Submit(start_func=callExe, done_func=plot_data, cachename='SubmitTest1')\n",
    "Submit(start_func=callExe, done_func=plot_data, outcb=progressBar)\n"
   ]
  }
 ],
 "metadata": {
  "extensions": {
   "jupyter_dashboards": {
    "activeView": "grid_default",
    "version": 1,
    "views": {
     "grid_default": {
      "cellMargin": 10,
      "defaultCellHeight": 20,
      "maxColumns": 12,
      "name": "grid",
      "type": "grid"
     },
     "report_default": {
      "name": "report",
      "type": "report"
     }
    }
   }
  },
  "kernelspec": {
   "display_name": "Python3",
   "language": "python",
   "name": "python3"
  },
  "language_info": {
   "codemirror_mode": {
    "name": "ipython",
    "version": 3
   },
   "file_extension": ".py",
   "mimetype": "text/x-python",
   "name": "python",
   "nbconvert_exporter": "python",
   "pygments_lexer": "ipython3",
   "version": "3.6.4"
  },
  "widgets": {
   "application/vnd.jupyter.widget-state+json": {
    "state": {
     "0928bdb3f16145de8f3bdc629c434672": {
      "model_module": "@jupyter-widgets/base",
      "model_module_version": "1.0.0",
      "model_name": "LayoutModel",
      "state": {}
     },
     "113232b6f0b0489c857571e43b2fc7c0": {
      "model_module": "@jupyter-widgets/controls",
      "model_module_version": "1.0.0",
      "model_name": "HTMLModel",
      "state": {
       "layout": "IPY_MODEL_33445fc625f34d0bbeeddd4c97736d58",
       "style": "IPY_MODEL_6d300a697da3458c80bec3d9f5dd9aee",
       "value": "<img src=\"imageV5.jpg\" style=\"width: 300px\"/>"
      }
     },
     "17e316ab391d438ea2d65e76f4767f5e": {
      "model_module": "@jupyter-widgets/base",
      "model_module_version": "1.0.0",
      "model_name": "LayoutModel",
      "state": {}
     },
     "1b37f86d44a84a748bf0f856f082f995": {
      "model_module": "@jupyter-widgets/controls",
      "model_module_version": "1.0.0",
      "model_name": "DropdownModel",
      "state": {
       "_options_labels": [
        "1(monovalent)",
        "2(divalent)",
        "3(trivalent)"
       ],
       "description": "Positive Ion Valency (z)",
       "index": 2,
       "layout": "IPY_MODEL_0928bdb3f16145de8f3bdc629c434672",
       "style": "IPY_MODEL_42bfc62f7b0a40b28042c92ea51358b6"
      }
     },
     "1c1ce5a816634e95ba4fd9c260a0e035": {
      "model_module": "@jupyter-widgets/controls",
      "model_module_version": "1.0.0",
      "model_name": "BoundedFloatTextModel",
      "state": {
       "description": "Ion Diameter (nm):",
       "layout": "IPY_MODEL_b75073530edf4a96b67df16319442848",
       "max": 0.8,
       "min": 0.5,
       "step": 0.001,
       "style": "IPY_MODEL_cba8a7396c344ef49134b9b3b3577ef5",
       "value": 0.714
      }
     },
     "24a70f35d36b4d4eb6b8faef61e818e1": {
      "model_module": "@jupyter-widgets/controls",
      "model_module_version": "1.0.0",
      "model_name": "BoundedFloatTextModel",
      "state": {
       "description": "Salt Concentration (c in M):",
       "layout": "IPY_MODEL_2fedeb6b81c543169901f6f01ed839cd",
       "max": 0.9,
       "min": 0.3,
       "style": "IPY_MODEL_45d6aa209f234a8a9a5d856d1b8c4894",
       "value": 0.7
      }
     },
     "2fedeb6b81c543169901f6f01ed839cd": {
      "model_module": "@jupyter-widgets/base",
      "model_module_version": "1.0.0",
      "model_name": "LayoutModel",
      "state": {}
     },
     "33445fc625f34d0bbeeddd4c97736d58": {
      "model_module": "@jupyter-widgets/base",
      "model_module_version": "1.0.0",
      "model_name": "LayoutModel",
      "state": {}
     },
     "36d5fefc93e84ab081d80ce41001de6f": {
      "model_module": "@jupyter-widgets/controls",
      "model_module_version": "1.0.0",
      "model_name": "ButtonModel",
      "state": {
       "description": "Simulate",
       "layout": "IPY_MODEL_f4cbb854239940da8e36bc8f9611fd13",
       "style": "IPY_MODEL_90d2800131be4e46b2b415fae5cc3976"
      }
     },
     "421f485f7df44b158c5ebc2cead2e4fc": {
      "model_module": "@jupyter-widgets/base",
      "model_module_version": "1.0.0",
      "model_name": "LayoutModel",
      "state": {}
     },
     "42bfc62f7b0a40b28042c92ea51358b6": {
      "model_module": "@jupyter-widgets/controls",
      "model_module_version": "1.0.0",
      "model_name": "DescriptionStyleModel",
      "state": {
       "description_width": "initial"
      }
     },
     "45d6aa209f234a8a9a5d856d1b8c4894": {
      "model_module": "@jupyter-widgets/controls",
      "model_module_version": "1.0.0",
      "model_name": "DescriptionStyleModel",
      "state": {
       "description_width": "initial"
      }
     },
     "45d97dd36250486787312d12a1a0eaf2": {
      "model_module": "@jupyter-widgets/controls",
      "model_module_version": "1.0.0",
      "model_name": "BoundedIntTextModel",
      "state": {
       "description": "Simulation Steps:",
       "layout": "IPY_MODEL_bf0216a2f8b24c489de53ab167969b49",
       "max": 5000000,
       "min": 20000,
       "step": 10000,
       "style": "IPY_MODEL_e4131453ffbf4876acdf9652cdb5b893",
       "value": 20000
      }
     },
     "520b6eb96ab54cd9a7c50b7bd2960207": {
      "model_module": "@jupyter-widgets/controls",
      "model_module_version": "1.0.0",
      "model_name": "DescriptionStyleModel",
      "state": {
       "description_width": "initial"
      }
     },
     "5b8456ddd09d48d8b782d04c0f5a8666": {
      "model_module": "@jupyter-widgets/controls",
      "model_module_version": "1.0.0",
      "model_name": "DescriptionStyleModel",
      "state": {
       "description_width": "initial"
      }
     },
     "6b49ad221a4f4738b7967d0195642151": {
      "model_module": "@jupyter-widgets/controls",
      "model_module_version": "1.0.0",
      "model_name": "BoundedFloatTextModel",
      "state": {
       "description": "Confinement Length (nm):",
       "layout": "IPY_MODEL_17e316ab391d438ea2d65e76f4767f5e",
       "max": 4,
       "min": 2,
       "style": "IPY_MODEL_747d7d8031df4ff984c508e9da864b35",
       "value": 3
      }
     },
     "6d300a697da3458c80bec3d9f5dd9aee": {
      "model_module": "@jupyter-widgets/controls",
      "model_module_version": "1.0.0",
      "model_name": "DescriptionStyleModel",
      "state": {
       "description_width": ""
      }
     },
     "73d6a9e62f6d40938e21e2c7fd5daf6a": {
      "model_module": "@jupyter-widgets/base",
      "model_module_version": "1.0.0",
      "model_name": "LayoutModel",
      "state": {}
     },
     "747d7d8031df4ff984c508e9da864b35": {
      "model_module": "@jupyter-widgets/controls",
      "model_module_version": "1.0.0",
      "model_name": "DescriptionStyleModel",
      "state": {
       "description_width": "initial"
      }
     },
     "75176e8e3f694980b4e2156ab5fdba16": {
      "model_module": "@jupyter-widgets/base",
      "model_module_version": "1.0.0",
      "model_name": "LayoutModel",
      "state": {}
     },
     "76459a9affde44d0a9daa29363008e4a": {
      "model_module": "@jupyter-widgets/controls",
      "model_module_version": "1.0.0",
      "model_name": "VBoxModel",
      "state": {
       "children": [
        "IPY_MODEL_fa7df53473e2422e9184a389817fa28a",
        "IPY_MODEL_24a70f35d36b4d4eb6b8faef61e818e1",
        "IPY_MODEL_1b37f86d44a84a748bf0f856f082f995",
        "IPY_MODEL_aaaf4ee3198948a28c188b9237d15a9f",
        "IPY_MODEL_6b49ad221a4f4738b7967d0195642151",
        "IPY_MODEL_1c1ce5a816634e95ba4fd9c260a0e035",
        "IPY_MODEL_8d645f6477254c368de96a816ed5e9f1",
        "IPY_MODEL_45d97dd36250486787312d12a1a0eaf2",
        "IPY_MODEL_113232b6f0b0489c857571e43b2fc7c0",
        "IPY_MODEL_36d5fefc93e84ab081d80ce41001de6f"
       ],
       "layout": "IPY_MODEL_dcca354f544646418d0eeb48fd1b5a9e"
      }
     },
     "8d645f6477254c368de96a816ed5e9f1": {
      "model_module": "@jupyter-widgets/controls",
      "model_module_version": "1.0.0",
      "model_name": "HTMLModel",
      "state": {
       "layout": "IPY_MODEL_421f485f7df44b158c5ebc2cead2e4fc",
       "style": "IPY_MODEL_de576513a12147e8bc083aeec4971950",
       "value": "<p   style='background-color: #DCDCDC; font-size:200; padding: 5px'>Computing</p>"
      }
     },
     "90d2800131be4e46b2b415fae5cc3976": {
      "model_module": "@jupyter-widgets/controls",
      "model_module_version": "1.0.0",
      "model_name": "ButtonStyleModel",
      "state": {}
     },
     "aaaf4ee3198948a28c188b9237d15a9f": {
      "model_module": "@jupyter-widgets/controls",
      "model_module_version": "1.0.0",
      "model_name": "DropdownModel",
      "state": {
       "_options_labels": [
        "-1",
        "-2",
        "-3"
       ],
       "description": "Negative Ion Valency",
       "index": 0,
       "layout": "IPY_MODEL_75176e8e3f694980b4e2156ab5fdba16",
       "style": "IPY_MODEL_520b6eb96ab54cd9a7c50b7bd2960207"
      }
     },
     "b75073530edf4a96b67df16319442848": {
      "model_module": "@jupyter-widgets/base",
      "model_module_version": "1.0.0",
      "model_name": "LayoutModel",
      "state": {}
     },
     "b9eaabc9eb4144fc82a2c63b9ef58541": {
      "model_module": "@jupyter-widgets/controls",
      "model_module_version": "1.0.0",
      "model_name": "DropdownModel",
      "state": {
       "_options_labels": [
        "1(monovalent)",
        "2(divalent)",
        "3(trivalent)"
       ],
       "description": "Positive Ion Valency (z)",
       "index": 0,
       "layout": "IPY_MODEL_c9aa90d11bec44f4aa17ca4467b7ff64",
       "style": "IPY_MODEL_5b8456ddd09d48d8b782d04c0f5a8666"
      }
     },
     "bf0216a2f8b24c489de53ab167969b49": {
      "model_module": "@jupyter-widgets/base",
      "model_module_version": "1.0.0",
      "model_name": "LayoutModel",
      "state": {}
     },
     "c9aa90d11bec44f4aa17ca4467b7ff64": {
      "model_module": "@jupyter-widgets/base",
      "model_module_version": "1.0.0",
      "model_name": "LayoutModel",
      "state": {}
     },
     "cba8a7396c344ef49134b9b3b3577ef5": {
      "model_module": "@jupyter-widgets/controls",
      "model_module_version": "1.0.0",
      "model_name": "DescriptionStyleModel",
      "state": {
       "description_width": "initial"
      }
     },
     "dcca354f544646418d0eeb48fd1b5a9e": {
      "model_module": "@jupyter-widgets/base",
      "model_module_version": "1.0.0",
      "model_name": "LayoutModel",
      "state": {}
     },
     "de576513a12147e8bc083aeec4971950": {
      "model_module": "@jupyter-widgets/controls",
      "model_module_version": "1.0.0",
      "model_name": "DescriptionStyleModel",
      "state": {
       "description_width": ""
      }
     },
     "e4131453ffbf4876acdf9652cdb5b893": {
      "model_module": "@jupyter-widgets/controls",
      "model_module_version": "1.0.0",
      "model_name": "DescriptionStyleModel",
      "state": {
       "description_width": "initial"
      }
     },
     "eba521d82a8f43bd996a3598254ea209": {
      "model_module": "@jupyter-widgets/controls",
      "model_module_version": "1.0.0",
      "model_name": "DescriptionStyleModel",
      "state": {
       "description_width": ""
      }
     },
     "f4cbb854239940da8e36bc8f9611fd13": {
      "model_module": "@jupyter-widgets/base",
      "model_module_version": "1.0.0",
      "model_name": "LayoutModel",
      "state": {}
     },
     "fa7df53473e2422e9184a389817fa28a": {
      "model_module": "@jupyter-widgets/controls",
      "model_module_version": "1.0.0",
      "model_name": "HTMLModel",
      "state": {
       "layout": "IPY_MODEL_73d6a9e62f6d40938e21e2c7fd5daf6a",
       "style": "IPY_MODEL_eba521d82a8f43bd996a3598254ea209",
       "value": "<p   style='background-color: #DCDCDC; font-size:200; padding: 5px'>Physical</p>"
      }
     }
    },
    "version_major": 2,
    "version_minor": 0
   }
  }
 },
 "nbformat": 4,
 "nbformat_minor": 2
}
