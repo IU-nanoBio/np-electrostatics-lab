{
 "cells": [
  {
   "cell_type": "code",
   "execution_count": 1,
   "metadata": {
    "extensions": {
     "jupyter_dashboards": {
      "version": 1,
      "views": {
       "grid_default": {
        "hidden": true
       },
       "report_default": {
        "hidden": true
       }
      }
     }
    }
   },
   "outputs": [
    {
     "data": {
      "application/javascript": [
       "\n",
       "requirejs.undef('filepicker');\n",
       "\n",
       "define('filepicker', [\"@jupyter-widgets/base\"], function(widgets) {\n",
       "\n",
       "    var FilePickerView = widgets.DOMWidgetView.extend({\n",
       "        render: function(){\n",
       "            this.file = document.createElement('input');\n",
       "            this.file.setAttribute('class', 'fileinput');\n",
       "            this.file.setAttribute('id', this.cid);\n",
       "            this.file.multiple = this.model.get('multiple');\n",
       "            this.file.required = true;\n",
       "            this.file.setAttribute('type', 'file');\n",
       "            this.file.setAttribute('style', 'display:none');\n",
       "\n",
       "            this.label = document.createElement('label');\n",
       "            this.label.setAttribute('for', this.cid);\n",
       "            this.label.setAttribute('style', 'border: 1px solid; border-radius: 5px; display: inline-block; padding: 6px 12px');\n",
       "\n",
       "            this.icon = document.createElement('i');\n",
       "            this.icon.setAttribute(\"class\", \"fa fa-upload\");\n",
       "\n",
       "            if (this.file.multiple) {\n",
       "                this.labelstr = \"  Upload Files\";\n",
       "            } else {\n",
       "                this.labelstr = \"  Upload File\";\n",
       "            }\n",
       "            this.label.innerHTML = this.labelstr;\n",
       "            this.label.prepend(this.icon);\n",
       "            this.el.appendChild(this.label);\n",
       "            this.el.appendChild(this.file);\n",
       "            this.listenTo(this.model, 'change:send', this._send_changed, this);\n",
       "            this.listenTo(this.model, 'change:reset', this._reset, this);\n",
       "            this.update();\n",
       "        },\n",
       "\n",
       "        events: {\n",
       "            // List of events and their handlers.\n",
       "            'change': 'handle_file_change'\n",
       "        },\n",
       "\n",
       "        _reset: function() {\n",
       "            this.label.innerHTML = this.labelstr;\n",
       "            this.label.prepend(this.icon);\n",
       "            this.file.removeAttribute(\"disabled\");\n",
       "        },\n",
       "\n",
       "        _send_changed: function() {\n",
       "            var that = this;\n",
       "            var send = this.model.get('send');\n",
       "            var fnum = send[0];\n",
       "            var offset = send[1];\n",
       "            var chunk_size=64*1024;\n",
       "            var reader;\n",
       "\n",
       "            if (offset == 0) {\n",
       "                this.model.set('sent', -1);\n",
       "                this.touch();\n",
       "            }\n",
       "\n",
       "            // console.log('send: ' + fnum + ' ' + offset);\n",
       "            function tob64( buffer ) {\n",
       "                var binary = '';\n",
       "                var bytes = new Uint8Array( buffer );\n",
       "                var len = bytes.byteLength;\n",
       "                for (var i = 0; i < len; i++) {\n",
       "                    binary += String.fromCharCode( bytes[ i ] );\n",
       "                }\n",
       "                return window.btoa( binary );\n",
       "            }\n",
       "\n",
       "            var reader_done = function (event) {\n",
       "                // chunk is finished.  Send to python\n",
       "                if (event.target.error == null) {\n",
       "                    var b64 = tob64(event.target.result);\n",
       "                    that.model.set('data', b64);\n",
       "                    that.model.set('sent', offset);\n",
       "                    that.touch();\n",
       "                } else {\n",
       "                    console.log(\"Read error: \" + event.target.error);\n",
       "                    that.model.set('data', '');\n",
       "                    that.model.set('sent', -2);\n",
       "                    that.touch();\n",
       "                }\n",
       "                that.touch();\n",
       "            }\n",
       "        \n",
       "            var chunk_reader = function (_offset, _f) {\n",
       "                // console.log('CR' + ' ' + _f + ' ' + _offset);\n",
       "                reader = new FileReader();\n",
       "                var chunk = _f.slice(_offset, chunk_size + _offset);            \n",
       "                reader.readAsArrayBuffer(chunk);\n",
       "                reader.onload = reader_done;\n",
       "            }\n",
       "    \n",
       "            // OK. request next chunk\n",
       "            chunk_reader(offset, this.files[fnum]);\n",
       "        },\n",
       "        \n",
       "        \n",
       "        handle_file_change: function(evt) {\n",
       "\n",
       "            var _files = evt.target.files;\n",
       "            var filenames = [];\n",
       "            var file_readers = [];\n",
       "            this.files = [];\n",
       "\n",
       "            for (var i = 0; i < _files.length; i++) {\n",
       "                var file = _files[i];\n",
       "                console.log(\"Filename: \" + file.name);\n",
       "                console.log(\"Type: \" + file.type);\n",
       "                console.log(\"Size: \" + file.size + \" bytes\");\n",
       "                this.files.push(file);\n",
       "                filenames.push([file.name, file.size]);\n",
       "            };\n",
       "\n",
       "            // Set the filenames of the files.\n",
       "            this.model.set('filenames', filenames);\n",
       "            this.touch();\n",
       "\n",
       "            // update the label\n",
       "            if (filenames.length == 0) {\n",
       "                this.label.innerHTML = this.labelstr;\n",
       "            } else if (filenames.length == 1) {\n",
       "                this.label.innerHTML = \"  \" + filenames[0][0];\n",
       "            } else {\n",
       "                this.label.innerHTML = \"  \" + filenames.length + \" files selected\";\n",
       "            };\n",
       "            this.label.prepend(this.icon);\n",
       "            this.file.setAttribute('disabled', 'true');           \n",
       "        },\n",
       "    });\n",
       "\n",
       "    // Register the FilePickerView with the widget manager.\n",
       "    return {\n",
       "        FilePickerView: FilePickerView\n",
       "    };\n",
       "});\n"
      ],
      "text/plain": [
       "<IPython.core.display.Javascript object>"
      ]
     },
     "metadata": {},
     "output_type": "display_data"
    },
    {
     "data": {
      "text/html": [
       "\n",
       "<script>\n",
       "requirejs.config({\n",
       "    paths: {\n",
       "        'ace': ['//cdnjs.cloudflare.com/ajax/libs/ace/1.2.6/ace'],\n",
       "    },\n",
       "});\n",
       "\n",
       "require(['ace'], function(ace) {\n",
       "    console.log(\"ACE loaded :)\");\n",
       "    return {};\n",
       "});\n",
       "</script>\n",
       "\n",
       "<script>\n",
       "requirejs.undef('editor');\n",
       "\n",
       "define('editor', [\"jupyter-js-widgets\"], function(widgets) {\n",
       "\n",
       "    var EditorView = widgets.DOMWidgetView.extend({\n",
       "\n",
       "        // Render the view.\n",
       "        render: function() {\n",
       "            this.ignorex = false;\n",
       "            this.ignorev = false;\n",
       "            //console.log('RENDER '+this.model.get('name'));\n",
       "            this.div = document.createElement('div');\n",
       "            this.div.setAttribute('id', this.model.get('name'));\n",
       "            this.el.appendChild(this.div);\n",
       "            this.listenTo(this.model, 'change:state', this._state_changed, this);\n",
       "            this.listenTo(this.model, 'change:theme', this._theme_changed, this);\n",
       "            this.listenTo(this.model, 'change:mode', this._mode_changed, this);\n",
       "            this.listenTo(this.model, 'change:value2', this._value2_changed, this);\n",
       "            this.listenTo(this.model, 'change:showmargin', this._showmargin_changed, this);\n",
       "            this.listenTo(this.model, 'change:fontsize', this._fontsize_changed, this);\n",
       "            this.update();\n",
       "        },\n",
       "        update: function() {\n",
       "            return EditorView.__super__.update.apply(this);\n",
       "        },\n",
       "        // Tell Backbone to listen to the change event of input controls\n",
       "        events: {\n",
       "            \"change\": \"handle_color_change\"\n",
       "        },\n",
       "\n",
       "        _state_changed: function() {\n",
       "            var state = this.model.get('state')\n",
       "            //console.log('state: ' + state );\n",
       "            if (state == 'start') {\n",
       "                var that = this;\n",
       "                this._ed = ace.edit(this.model.get('name'));\n",
       "                this._ed.getSession().on('change', function(e) {\n",
       "                    if (that.ignorev == true) { return }\n",
       "                    that.ignorex = true;\n",
       "                    //console.log('CHANGE1');\n",
       "                    that.model.set('value2', that._ed.getValue());\n",
       "                    //console.log('CHANGE2');\n",
       "                    that.touch();\n",
       "                    //console.log('CHANGE3');\n",
       "                    that.ignorex = false;\n",
       "                });\n",
       "            };\n",
       "        },\n",
       "        _theme_changed: function() {\n",
       "            //console.log(\"theme \" + this.model.get('theme'));\n",
       "            this._ed.setTheme(\"ace/theme/\"+this.model.get('theme'));\n",
       "        },\n",
       "        _mode_changed: function() {\n",
       "            //console.log(\"mode \" + this.model.get('mode'));\n",
       "            this._ed.getSession().setMode(\"ace/mode/\"+this.model.get('mode'));\n",
       "        },\n",
       "        _value2_changed: function() {\n",
       "            //console.log('value2 ' + this.ignorex);\n",
       "            if (this.ignorex == true) { return };\n",
       "            var val = this.model.get('value2');\n",
       "            //console.log('VALUE2 ' + val);\n",
       "            this.ignorev = true;\n",
       "            this._ed.setValue(val);\n",
       "            this.ignorev = false;\n",
       "            //console.log('VALUE2 DONE');\n",
       "        },\n",
       "        _showmargin_changed: function() {\n",
       "            this._ed.setShowPrintMargin(this.model.get('showmargin'));\n",
       "        },\n",
       "        _fontsize_changed: function() {\n",
       "            document.getElementById(this.model.get('name')).style.fontSize=this.model.get('fontsize');\n",
       "        },\n",
       "\n",
       "        // Callback for when the color is changed.\n",
       "        handle_color_change: function(event) {\n",
       "            console.log('SOMETHING CHNAGED');\n",
       "            console.log(event);\n",
       "        },\n",
       "    });\n",
       "\n",
       "    return {\n",
       "        EditorView: EditorView\n",
       "    };\n",
       "});\n",
       "</script>\n"
      ],
      "text/plain": [
       "<IPython.core.display.HTML object>"
      ]
     },
     "metadata": {},
     "output_type": "display_data"
    }
   ],
   "source": [
    "%matplotlib notebook\n",
    "import matplotlib.pyplot as plt\n",
    "#plt.style.use('ggplot')\n",
    "import ipywidgets as widgets\n",
    "import sys, os, io, string, shutil, math\n",
    "from hublib.ui import Submit\n",
    "import hublib.use\n",
    "%use boost-1.62.0-mpich2-1.3-gnu-4.7.2\n",
    "import numpy as np\n",
    "import re\n",
    "import time\n",
    "from threading import Thread\n",
    "from io import StringIO\n",
    "\n",
    "style = {'description_width': 'initial'}"
   ]
  },
  {
   "cell_type": "code",
   "execution_count": 2,
   "metadata": {
    "extensions": {
     "jupyter_dashboards": {
      "version": 1,
      "views": {
       "grid_default": {
        "col": 0,
        "height": 2,
        "hidden": false,
        "row": 16,
        "width": 4
       },
       "report_default": {
        "hidden": true
       }
      }
     }
    }
   },
   "outputs": [
    {
     "data": {
      "application/vnd.jupyter.widget-view+json": {
       "model_id": "f97ea53b1c6d444893aa7ab5bf399b91",
       "version_major": 2,
       "version_minor": 0
      },
      "text/html": [
       "<p>Failed to display Jupyter Widget of type <code>BoundedFloatText</code>.</p>\n",
       "<p>\n",
       "  If you're reading this message in the Jupyter Notebook or JupyterLab Notebook, it may mean\n",
       "  that the widgets JavaScript is still loading. If this message persists, it\n",
       "  likely means that the widgets JavaScript library is either not installed or\n",
       "  not enabled. See the <a href=\"https://ipywidgets.readthedocs.io/en/stable/user_install.html\">Jupyter\n",
       "  Widgets Documentation</a> for setup instructions.\n",
       "</p>\n",
       "<p>\n",
       "  If you're reading this message in another frontend (for example, a static\n",
       "  rendering on GitHub or <a href=\"https://nbviewer.jupyter.org/\">NBViewer</a>),\n",
       "  it may mean that your frontend doesn't currently support widgets.\n",
       "</p>\n"
      ],
      "text/plain": [
       "BoundedFloatText(value=78.5, description='Dielectric const inside NP:', max=78.5, min=2.0, step=0.1, style=DescriptionStyle(description_width='initial'))"
      ]
     },
     "metadata": {},
     "output_type": "display_data"
    }
   ],
   "source": [
    "e_np = widgets.BoundedFloatText(\n",
    "    value=78.5,\n",
    "    min=2,\n",
    "    max=78.5,\n",
    "    step=0.1,\n",
    "    description='Dielectric const inside NP:',\n",
    "    style=style,\n",
    ")\n",
    "e_np"
   ]
  },
  {
   "cell_type": "code",
   "execution_count": 3,
   "metadata": {
    "extensions": {
     "jupyter_dashboards": {
      "version": 1,
      "views": {
       "grid_default": {
        "col": 0,
        "height": 2,
        "hidden": false,
        "row": 18,
        "width": 4
       },
       "report_default": {
        "hidden": false
       }
      }
     }
    }
   },
   "outputs": [
    {
     "data": {
      "application/vnd.jupyter.widget-view+json": {
       "model_id": "3b1a191ccf684f02ab69cf9af034f9ad",
       "version_major": 2,
       "version_minor": 0
      },
      "text/html": [
       "<p>Failed to display Jupyter Widget of type <code>BoundedFloatText</code>.</p>\n",
       "<p>\n",
       "  If you're reading this message in the Jupyter Notebook or JupyterLab Notebook, it may mean\n",
       "  that the widgets JavaScript is still loading. If this message persists, it\n",
       "  likely means that the widgets JavaScript library is either not installed or\n",
       "  not enabled. See the <a href=\"https://ipywidgets.readthedocs.io/en/stable/user_install.html\">Jupyter\n",
       "  Widgets Documentation</a> for setup instructions.\n",
       "</p>\n",
       "<p>\n",
       "  If you're reading this message in another frontend (for example, a static\n",
       "  rendering on GitHub or <a href=\"https://nbviewer.jupyter.org/\">NBViewer</a>),\n",
       "  it may mean that your frontend doesn't currently support widgets.\n",
       "</p>\n"
      ],
      "text/plain": [
       "BoundedFloatText(value=78.5, description='Dielectric const outside NP:', max=78.5, min=2.0, step=0.1, style=DescriptionStyle(description_width='initial'))"
      ]
     },
     "metadata": {},
     "output_type": "display_data"
    }
   ],
   "source": [
    "e_out = widgets.BoundedFloatText(\n",
    "    value=78.5,\n",
    "    min=2,\n",
    "    max=78.5,\n",
    "    step=0.1,\n",
    "    description='Dielectric const outside NP:',\n",
    "    style=style,\n",
    ")\n",
    "e_out"
   ]
  },
  {
   "cell_type": "code",
   "execution_count": 4,
   "metadata": {
    "extensions": {
     "jupyter_dashboards": {
      "version": 1,
      "views": {
       "grid_default": {
        "col": 0,
        "height": 2,
        "hidden": false,
        "row": 22,
        "width": 4
       },
       "report_default": {
        "hidden": true
       }
      }
     }
    }
   },
   "outputs": [
    {
     "data": {
      "application/vnd.jupyter.widget-view+json": {
       "model_id": "124186e507e74c6892b9572f485a9a4e",
       "version_major": 2,
       "version_minor": 0
      },
      "text/html": [
       "<p>Failed to display Jupyter Widget of type <code>Dropdown</code>.</p>\n",
       "<p>\n",
       "  If you're reading this message in the Jupyter Notebook or JupyterLab Notebook, it may mean\n",
       "  that the widgets JavaScript is still loading. If this message persists, it\n",
       "  likely means that the widgets JavaScript library is either not installed or\n",
       "  not enabled. See the <a href=\"https://ipywidgets.readthedocs.io/en/stable/user_install.html\">Jupyter\n",
       "  Widgets Documentation</a> for setup instructions.\n",
       "</p>\n",
       "<p>\n",
       "  If you're reading this message in another frontend (for example, a static\n",
       "  rendering on GitHub or <a href=\"https://nbviewer.jupyter.org/\">NBViewer</a>),\n",
       "  it may mean that your frontend doesn't currently support widgets.\n",
       "</p>\n"
      ],
      "text/plain": [
       "Dropdown(description='Positive Ion Valency (z)', options={'1(monovalent)': 1, '2(divalent)': 2, '3(trivalent)': 3}, style=DescriptionStyle(description_width='initial'), value=1)"
      ]
     },
     "metadata": {},
     "output_type": "display_data"
    }
   ],
   "source": [
    "pion = widgets.Dropdown(\n",
    "    options={'1(monovalent)': 1, '2(divalent)': 2, '3(trivalent)': 3},\n",
    "    value=1,\n",
    "    description=\"Positive Ion Valency (z)\",\n",
    "    style=style\n",
    ")\n",
    "pion"
   ]
  },
  {
   "cell_type": "code",
   "execution_count": 5,
   "metadata": {
    "extensions": {
     "jupyter_dashboards": {
      "version": 1,
      "views": {
       "grid_default": {
        "col": 0,
        "height": 2,
        "hidden": false,
        "row": 20,
        "width": 4
       },
       "report_default": {
        "hidden": true
       }
      }
     }
    }
   },
   "outputs": [
    {
     "data": {
      "application/vnd.jupyter.widget-view+json": {
       "model_id": "69575787b30c4b95a75e661e916540d6",
       "version_major": 2,
       "version_minor": 0
      },
      "text/html": [
       "<p>Failed to display Jupyter Widget of type <code>BoundedFloatText</code>.</p>\n",
       "<p>\n",
       "  If you're reading this message in the Jupyter Notebook or JupyterLab Notebook, it may mean\n",
       "  that the widgets JavaScript is still loading. If this message persists, it\n",
       "  likely means that the widgets JavaScript library is either not installed or\n",
       "  not enabled. See the <a href=\"https://ipywidgets.readthedocs.io/en/stable/user_install.html\">Jupyter\n",
       "  Widgets Documentation</a> for setup instructions.\n",
       "</p>\n",
       "<p>\n",
       "  If you're reading this message in another frontend (for example, a static\n",
       "  rendering on GitHub or <a href=\"https://nbviewer.jupyter.org/\">NBViewer</a>),\n",
       "  it may mean that your frontend doesn't currently support widgets.\n",
       "</p>\n"
      ],
      "text/plain": [
       "BoundedFloatText(value=0.0, description='salt concentration outside:', max=0.4, step=0.1, style=DescriptionStyle(description_width='initial'))"
      ]
     },
     "metadata": {},
     "output_type": "display_data"
    }
   ],
   "source": [
    "c_out = widgets.BoundedFloatText(\n",
    "    value=0.0,\n",
    "    min=0.0,\n",
    "    max=0.4,\n",
    "    step=0.1,\n",
    "    description='salt concentration outside:',\n",
    "    style=style\n",
    ")\n",
    "c_out"
   ]
  },
  {
   "cell_type": "code",
   "execution_count": 6,
   "metadata": {
    "extensions": {
     "jupyter_dashboards": {
      "version": 1,
      "views": {
       "grid_default": {
        "col": 0,
        "height": 2,
        "hidden": false,
        "row": 14,
        "width": 4
       },
       "report_default": {
        "hidden": true
       }
      }
     }
    }
   },
   "outputs": [
    {
     "data": {
      "application/vnd.jupyter.widget-view+json": {
       "model_id": "d835197f137a4db1a76db05b0b834664",
       "version_major": 2,
       "version_minor": 0
      },
      "text/html": [
       "<p>Failed to display Jupyter Widget of type <code>BoundedFloatText</code>.</p>\n",
       "<p>\n",
       "  If you're reading this message in the Jupyter Notebook or JupyterLab Notebook, it may mean\n",
       "  that the widgets JavaScript is still loading. If this message persists, it\n",
       "  likely means that the widgets JavaScript library is either not installed or\n",
       "  not enabled. See the <a href=\"https://ipywidgets.readthedocs.io/en/stable/user_install.html\">Jupyter\n",
       "  Widgets Documentation</a> for setup instructions.\n",
       "</p>\n",
       "<p>\n",
       "  If you're reading this message in another frontend (for example, a static\n",
       "  rendering on GitHub or <a href=\"https://nbviewer.jupyter.org/\">NBViewer</a>),\n",
       "  it may mean that your frontend doesn't currently support widgets.\n",
       "</p>\n"
      ],
      "text/plain": [
       "BoundedFloatText(value=2.6775, description='Nanoparticle Radius (nm):', max=5.0, min=2.0, step=0.001, style=DescriptionStyle(description_width='initial'))"
      ]
     },
     "metadata": {},
     "output_type": "display_data"
    }
   ],
   "source": [
    "np_radius = widgets.BoundedFloatText(\n",
    "    value=2.6775,\n",
    "    min=2,\n",
    "    max=5,\n",
    "    step=0.001,\n",
    "    description='Nanoparticle Radius (nm):',\n",
    "    style=style\n",
    ")\n",
    "np_radius"
   ]
  },
  {
   "cell_type": "code",
   "execution_count": 7,
   "metadata": {
    "extensions": {
     "jupyter_dashboards": {
      "version": 1,
      "views": {
       "grid_default": {
        "col": 0,
        "height": 2,
        "hidden": false,
        "row": 12,
        "width": 4
       },
       "report_default": {
        "hidden": true
       }
      }
     }
    }
   },
   "outputs": [
    {
     "data": {
      "application/vnd.jupyter.widget-view+json": {
       "model_id": "9753ab01dbf941d18f54b293f97b4f07",
       "version_major": 2,
       "version_minor": 0
      },
      "text/html": [
       "<p>Failed to display Jupyter Widget of type <code>BoundedFloatText</code>.</p>\n",
       "<p>\n",
       "  If you're reading this message in the Jupyter Notebook or JupyterLab Notebook, it may mean\n",
       "  that the widgets JavaScript is still loading. If this message persists, it\n",
       "  likely means that the widgets JavaScript library is either not installed or\n",
       "  not enabled. See the <a href=\"https://ipywidgets.readthedocs.io/en/stable/user_install.html\">Jupyter\n",
       "  Widgets Documentation</a> for setup instructions.\n",
       "</p>\n",
       "<p>\n",
       "  If you're reading this message in another frontend (for example, a static\n",
       "  rendering on GitHub or <a href=\"https://nbviewer.jupyter.org/\">NBViewer</a>),\n",
       "  it may mean that your frontend doesn't currently support widgets.\n",
       "</p>\n"
      ],
      "text/plain": [
       "BoundedFloatText(value=-60.0, description='Nanoparticle Charge:', max=-30.0, min=-300.0, step=-1.0, style=DescriptionStyle(description_width='initial'))"
      ]
     },
     "metadata": {},
     "output_type": "display_data"
    }
   ],
   "source": [
    "np_charge = widgets.BoundedFloatText(\n",
    "    value=-60,\n",
    "    min=-300,\n",
    "    max=-30,\n",
    "    step=-1,\n",
    "    description='Nanoparticle Charge:',\n",
    "    style=style\n",
    ")\n",
    "np_charge"
   ]
  },
  {
   "cell_type": "code",
   "execution_count": 8,
   "metadata": {
    "extensions": {
     "jupyter_dashboards": {
      "version": 1,
      "views": {
       "grid_default": {
        "col": 0,
        "height": 2,
        "hidden": false,
        "row": 24,
        "width": 4
       },
       "report_default": {
        "hidden": false
       }
      }
     }
    }
   },
   "outputs": [
    {
     "data": {
      "application/vnd.jupyter.widget-view+json": {
       "model_id": "ec0fc51856384a9886d34f2e77da8c2d",
       "version_major": 2,
       "version_minor": 0
      },
      "text/html": [
       "<p>Failed to display Jupyter Widget of type <code>BoundedIntText</code>.</p>\n",
       "<p>\n",
       "  If you're reading this message in the Jupyter Notebook or JupyterLab Notebook, it may mean\n",
       "  that the widgets JavaScript is still loading. If this message persists, it\n",
       "  likely means that the widgets JavaScript library is either not installed or\n",
       "  not enabled. See the <a href=\"https://ipywidgets.readthedocs.io/en/stable/user_install.html\">Jupyter\n",
       "  Widgets Documentation</a> for setup instructions.\n",
       "</p>\n",
       "<p>\n",
       "  If you're reading this message in another frontend (for example, a static\n",
       "  rendering on GitHub or <a href=\"https://nbviewer.jupyter.org/\">NBViewer</a>),\n",
       "  it may mean that your frontend doesn't currently support widgets.\n",
       "</p>\n"
      ],
      "text/plain": [
       "BoundedIntText(value=5000, description='Simulation Steps:', max=5000000, min=5000, step=100000, style=DescriptionStyle(description_width='initial'))"
      ]
     },
     "metadata": {},
     "output_type": "display_data"
    }
   ],
   "source": [
    "steps = widgets.BoundedIntText(\n",
    "    value=5000,\n",
    "    min=5000,\n",
    "    max=5000000,\n",
    "    step=100000,\n",
    "    description='Simulation Steps:',\n",
    "    style=style,\n",
    ")\n",
    "steps"
   ]
  },
  {
   "cell_type": "code",
   "execution_count": 9,
   "metadata": {
    "extensions": {
     "jupyter_dashboards": {
      "version": 1,
      "views": {
       "grid_default": {
        "hidden": true
       },
       "report_default": {
        "hidden": true
       }
      }
     }
    }
   },
   "outputs": [],
   "source": [
    "label_style = \"style='background-color: #DCDCDC; font-size:200; padding: 5px'\"\n",
    "def make_label(name, desc=\"\"):\n",
    "    lval = '<p  %s %s>%s</p>' % (desc, label_style, name)\n",
    "    return widgets.HTML(lval)\n",
    "\n",
    "plabel = make_label('Physical', '')\n",
    "clabel = make_label('Computing', '')"
   ]
  },
  {
   "cell_type": "code",
   "execution_count": 10,
   "metadata": {
    "extensions": {
     "jupyter_dashboards": {
      "version": 1,
      "views": {
       "grid_default": {
        "col": 0,
        "height": 12,
        "hidden": false,
        "row": 0,
        "width": 4
       },
       "report_default": {
        "hidden": false
       }
      }
     }
    }
   },
   "outputs": [
    {
     "data": {
      "application/vnd.jupyter.widget-view+json": {
       "model_id": "0bf29843ee0e4aa3972d5299dc73eebb",
       "version_major": 2,
       "version_minor": 0
      },
      "text/html": [
       "<p>Failed to display Jupyter Widget of type <code>HTML</code>.</p>\n",
       "<p>\n",
       "  If you're reading this message in the Jupyter Notebook or JupyterLab Notebook, it may mean\n",
       "  that the widgets JavaScript is still loading. If this message persists, it\n",
       "  likely means that the widgets JavaScript library is either not installed or\n",
       "  not enabled. See the <a href=\"https://ipywidgets.readthedocs.io/en/stable/user_install.html\">Jupyter\n",
       "  Widgets Documentation</a> for setup instructions.\n",
       "</p>\n",
       "<p>\n",
       "  If you're reading this message in another frontend (for example, a static\n",
       "  rendering on GitHub or <a href=\"https://nbviewer.jupyter.org/\">NBViewer</a>),\n",
       "  it may mean that your frontend doesn't currently support widgets.\n",
       "</p>\n"
      ],
      "text/plain": [
       "HTML(value='<img src=\"../webcontent/images/overview.jpg\" style=\"width: 500px\"/>')"
      ]
     },
     "metadata": {},
     "output_type": "display_data"
    }
   ],
   "source": [
    "image_html = widgets.HTML(\n",
    "    value='<img src=\"../webcontent/images/overview.jpg\" style=\"width: 500px\"/>',\n",
    ")\n",
    "image_html"
   ]
  },
  {
   "cell_type": "code",
   "execution_count": 23,
   "metadata": {
    "extensions": {
     "jupyter_dashboards": {
      "version": 1,
      "views": {
       "grid_default": {
        "col": 4,
        "height": 7,
        "hidden": false,
        "row": 0,
        "width": 8
       },
       "report_default": {
        "hidden": false
       }
      }
     }
    }
   },
   "outputs": [
    {
     "data": {
      "application/vnd.jupyter.widget-view+json": {
       "model_id": "022ab62efee7438a8692487a225851b7",
       "version_major": 2,
       "version_minor": 0
      },
      "text/html": [
       "<p>Failed to display Jupyter Widget of type <code>Textarea</code>.</p>\n",
       "<p>\n",
       "  If you're reading this message in the Jupyter Notebook or JupyterLab Notebook, it may mean\n",
       "  that the widgets JavaScript is still loading. If this message persists, it\n",
       "  likely means that the widgets JavaScript library is either not installed or\n",
       "  not enabled. See the <a href=\"https://ipywidgets.readthedocs.io/en/stable/user_install.html\">Jupyter\n",
       "  Widgets Documentation</a> for setup instructions.\n",
       "</p>\n",
       "<p>\n",
       "  If you're reading this message in another frontend (for example, a static\n",
       "  rendering on GitHub or <a href=\"https://nbviewer.jupyter.org/\">NBViewer</a>),\n",
       "  it may mean that your frontend doesn't currently support widgets.\n",
       "</p>\n"
      ],
      "text/plain": [
       "Textarea(value='The Nanosphere Electrostatics Lab empowers users to simulate the self-assembly of ions near a spherically shaped nanoparticle, and extract the effective electrostatic properties.', disabled=True, layout=Layout(height='50px', width='100%'), placeholder='')"
      ]
     },
     "metadata": {},
     "output_type": "display_data"
    }
   ],
   "source": [
    "about=widgets.Textarea(\n",
    "    value='The Nanosphere Electrostatics Lab empowers users to simulate the self-assembly of ions near a spherically shaped nanoparticle, and extract the effective electrostatic properties.',\n",
    "    placeholder='',\n",
    "    layout={'height': '50px','width': '100%'},\n",
    "    disabled=True\n",
    ")\n",
    "about"
   ]
  },
  {
   "cell_type": "code",
   "execution_count": 12,
   "metadata": {
    "extensions": {
     "jupyter_dashboards": {
      "version": 1,
      "views": {
       "grid_default": {
        "hidden": true
       },
       "report_default": {}
      }
     }
    }
   },
   "outputs": [],
   "source": [
    "def clear_All():\n",
    "    progressBar\n",
    "    progressBar.value=int(0)\n",
    "    plt.clf()  # clear old plot"
   ]
  },
  {
   "cell_type": "code",
   "execution_count": 13,
   "metadata": {
    "extensions": {
     "jupyter_dashboards": {
      "version": 1,
      "views": {
       "grid_default": {
        "hidden": true
       },
       "report_default": {
        "hidden": true
       }
      }
     }
    }
   },
   "outputs": [],
   "source": [
    "\n",
    "runFlag=False\n",
    "working_dir=\"\"\n",
    "parameter_append=\"\"\n",
    "sim_bigin=False\n",
    "\n",
    "def callExe(s):\n",
    "    global runFlag, working_dir, parameter_append, sim_bigin\n",
    "    clear_All()\n",
    "    \n",
    "    e_np_value = e_np.value\n",
    "    e_out_value = e_out.value\n",
    "    pion_value = pion.value\n",
    "    c_out_value = c_out.value\n",
    "    np_radius_value = np_radius.value\n",
    "    np_charge_value = np_charge.value\n",
    "    sim_steps_value = steps.value\n",
    "    walltime = 10\n",
    "    total_processors = 1\n",
    "    \n",
    "    #Adding standard outputs to string to be sent to output widget callback function\n",
    "    parameter_append= \"Epsilon inside NP is\"+ str(e_np_value)+\"\\n\"\n",
    "    parameter_append= parameter_append + \"Epsilon outside NP is\"+ str(e_out_value)+\"\\n\"\n",
    "    parameter_append= parameter_append + \"Positive Ion Valency is\"+ str(pion_value)+\"\\n\"\n",
    "    parameter_append= parameter_append + \"Salt concentration outside is\"+ str(c_out_value)+\"\\n\"\n",
    "    parameter_append= parameter_append + \"Sphere(NP) radius is\"+ str(np_radius_value)+\"\\n\"\n",
    "    parameter_append= parameter_append + \"NP charge is\"+ str(np_charge_value)+\"\\n\"\n",
    "    parameter_append= parameter_append + \"simulation time step is\"+ str(sim_steps_value)+\"\\n\"\n",
    "    parameter_append= parameter_append + \"Requested walltime is \"+ str(walltime)+\"\\n\"\n",
    "    parameter_append= parameter_append + \"Requested total_processors are \"+ str(total_processors)+\"\\n\"\n",
    "    \n",
    "    shutil.rmtree('datafiles',True)\n",
    "    if not os.path.exists('datafiles'):\n",
    "        os.makedirs('datafiles')\n",
    "    shutil.rmtree('outfiles',True)\n",
    "    if not os.path.exists('outfiles'):\n",
    "        os.makedirs('outfiles')\n",
    "    shutil.rmtree('verifiles',True)\n",
    "    if not os.path.exists('verifiles'):\n",
    "        os.makedirs('verifiles')\n",
    "\n",
    "    # forcing OpenMP thread size, comment when deploying\n",
    "    os.environ[\"OMP_NUM_THREADS\"] = \"1\"\n",
    "\n",
    "    runName=''\n",
    "    \n",
    "    #computing parameters are scaled here.\n",
    "    hiteqm_P =int(sim_steps_value * 0.1);\n",
    "    writedata_U =int(sim_steps_value * 0.1);\n",
    "    writedensity_W =int(sim_steps_value * 0.1);\n",
    "    extra_compute_X = int(sim_steps_value * 0.01);\n",
    "    moviefreq_F = int(sim_steps_value * 0.01);\n",
    "    cpmd_verify_Y = int(sim_steps_value * 0.1); \n",
    "    \n",
    "    #submit_str = '--local -p \"@@Vin=%d:%d in %d\" /apps/pegtut/current/examples/capacitor_voltage/sim1.py  --Vin=@@Vin' % (vin.value[0], vin.value[1], steps.value)\n",
    "    \n",
    "    paraList = ' -a ' + str(np_radius_value) + ' -b ' + str(14.28) + ' -e ' + str(e_np_value) + ' -E ' + str(e_out_value) \\\n",
    "    + ' -V ' + str(np_charge_value) + ' -v ' + str(pion_value) + ' -g ' + str(132) + ' -m ' + str(6) + ' -t ' \\\n",
    "    + str(0.001) + ' -s ' + str(10000) + ' -p ' + str(100) + ' -f ' + str(10) + ' -M ' + str(6) + ' -T ' \\\n",
    "    + str(0.001) + ' -k ' + str(0.0025) + ' -q ' + str(0.001) + ' -L ' + str(5) + ' -l ' + str(5) \\\n",
    "    + ' -S ' + str(sim_steps_value) + ' -P ' + str(hiteqm_P) + ' -F ' + str(moviefreq_F) \\\n",
    "    + ' -X ' + str(extra_compute_X) + ' -U ' + str(writedata_U) + ' -Y ' + str(cpmd_verify_Y) \\\n",
    "    + ' -W ' + str(writedensity_W) + ' -B ' + str(0.025) + ' -I ' + 'false'\n",
    "    \n",
    "    runFlag=True\n",
    "    sim_bigin=True\n",
    "    \n",
    "    #starting a thread for on the fly density plot\n",
    "    #t2 = Thread(target=iterative_density_plot)\n",
    "    #t2.start()\n",
    "    \n",
    "    try:\n",
    "        #rname = s.make_rname(e_np_value, e_out_value, pion_value, c_out_value, np_radius_value, np_charge_value, sim_steps_value)\n",
    "         \n",
    "        submit_str = '--local mpirun -np 1 ./np_electrostatics_lab' + paraList\n",
    "        #submit_str = '--local pwd'\n",
    "        s.run(runName, submit_str)\n",
    "        \n",
    "    except  Exception as e:\n",
    "        sys.stderr.write('Error occured during the execution of np_electrostatics_lab')\n",
    "        sys.stderr.write(str(e))\n",
    "        sys.exit(1)\n",
    "    \n",
    "    time.sleep(1)\n",
    "    runFlag = False\n",
    "    #t2.join()\n",
    "        \n",
    "    \n",
    "        \n",
    "  "
   ]
  },
  {
   "cell_type": "code",
   "execution_count": 14,
   "metadata": {
    "extensions": {
     "jupyter_dashboards": {
      "version": 1,
      "views": {
       "grid_default": {
        "hidden": true
       },
       "report_default": {
        "hidden": true
       }
      }
     }
    }
   },
   "outputs": [],
   "source": [
    "# after the run finished, optionally do something\n",
    "# with the output\n",
    "def plot_data(s, rdir):\n",
    "    #We ignore rdir because submit puts non-parametric runs in the current directory\n",
    "    # When caching is enabled, they get put in a chached directory and rdit is always used. \n",
    "    progressBar.value=int(100)\n",
    "    plt.clf()  # clear old plot\n",
    "    plt.figure('Distribution of positive ions near the nanoparticle surface')\n",
    "    plt.xlabel('Distance from the center of the nanoparticle (R = 0 is the midpoint)(nm)', fontsize=10)\n",
    "    plt.ylabel('Density(M)', fontsize=10)\n",
    "    \n",
    "    # our simulation writes to outfiles -> density_profile.dat\n",
    "    try:\n",
    "        density_profile = np.loadtxt(working_dir + 'outfiles/density_profile.dat')\n",
    "    except:\n",
    "        sys.stderr.write('Can not find the positive density results file')\n",
    "        sys.exit(1)\n",
    "        \n",
    "    x = density_profile[:,0]\n",
    "    y = density_profile[:,1]\n",
    "    yrr = density_profile[:,2]\n",
    "    plt.errorbar(x,y,xerr=0.0, yerr=yrr, c='b', ecolor='r', capsize=2)\n",
    "    \n",
    "    plt.show()"
   ]
  },
  {
   "cell_type": "code",
   "execution_count": 15,
   "metadata": {
    "extensions": {
     "jupyter_dashboards": {
      "version": 1,
      "views": {
       "grid_default": {
        "hidden": true
       },
       "report_default": {}
      }
     }
    }
   },
   "outputs": [],
   "source": [
    "def iterative_density_plot():\n",
    "    global runFlag, working_dir\n",
    "    preFileName=''\n",
    "    while runFlag:\n",
    "        list_of_files = os.listdir(working_dir + \"datafiles\")\n",
    "        print('File List: '+ str(list_of_files))\n",
    "        \n",
    "        if list_of_files:\n",
    "            fileName=max(list_of_files,key=extract_number)\n",
    "            if preFileName != fileName:\n",
    "                preFileName = fileName\n",
    "                density_plot(fileName)\n",
    "            print('doing this  '+ fileName )\n",
    "        time.sleep(0.1)\n",
    "\n",
    "def extract_number(f):\n",
    "    s = re.findall(\"\\d+$\",f)\n",
    "    return (int(s[0]) if s else -1,f)"
   ]
  },
  {
   "cell_type": "code",
   "execution_count": 16,
   "metadata": {
    "extensions": {
     "jupyter_dashboards": {
      "version": 1,
      "views": {
       "grid_default": {
        "hidden": true
       },
       "report_default": {}
      }
     }
    }
   },
   "outputs": [],
   "source": [
    "def density_plot(filepathname):\n",
    "    plt.clf()  # clear old plot\n",
    "    timeStep = int(re.search(r'\\d+', filepathname).group())\n",
    "    plt.figure('Distribution of positive ions near the nanoparticle surface at time step = ' + str(timeStep))\n",
    "    plt.xlabel('Distance from the center of the nanoparticle (R = 0 is the midpoint)(nm)', fontsize=10)\n",
    "    plt.ylabel('Density(M)', fontsize=10)\n",
    "    print(filepathname)\n",
    "    # our simulation writes to datafiles -> _den_******.dat\n",
    "    #try:\n",
    "    density_profile = np.loadtxt(working_dir + 'datafiles/'+ filepathname)\n",
    "    #except:\n",
    "    #    sys.stderr.write('Can not find the positive density results file')\n",
    "    #   sys.exit(1)\n",
    "\n",
    "    x = density_profile[:,0]\n",
    "    y = density_profile[:,1]\n",
    "    plt.polt(x,y,'r-')\n",
    "\n",
    "    plt.show()\n",
    "    "
   ]
  },
  {
   "cell_type": "code",
   "execution_count": 17,
   "metadata": {
    "extensions": {
     "jupyter_dashboards": {
      "version": 1,
      "views": {
       "grid_default": {
        "hidden": true
       },
       "report_default": {}
      }
     }
    }
   },
   "outputs": [],
   "source": [
    "in_wrapper = False\n",
    "saved_data = \"\"\n",
    "def stdoutput_handler(buffer):\n",
    "    global in_wrapper, saved_data, parameter_append, sim_bigin\n",
    "    output = []\n",
    "    \n",
    "    if sim_bigin:\n",
    "        output.append(parameter_append)\n",
    "        sim_bigin = False\n",
    "   \n",
    "    data = buffer.split('\\n')\n",
    "    last = len(data) - 1\n",
    "    \n",
    "    for i, line in enumerate(data):\n",
    "        if in_wrapper:\n",
    "            if line.startswith('####_Density_Profile_Wrapper_Over_#'):\n",
    "                in_wrapper = False\n",
    "            else:\n",
    "                saved_data += line\n",
    "                if line == '' or (i != last):\n",
    "                    saved_data += '\\n'\n",
    "            continue        \n",
    "        if line.startswith('=PROGRESS=>'):\n",
    "            percent = (line.split('=PROGRESS=>'))[1]\n",
    "            progressBar.value=int(percent)\n",
    "        elif line.startswith('####_Density_Profile_Wrapper_#'):\n",
    "            print(saved_data)\n",
    "            in_wrapper = True\n",
    "            saved_data = \"\"\n",
    "        else:\n",
    "            output.append(line)\n",
    "    return '\\n'.join(output)"
   ]
  },
  {
   "cell_type": "code",
   "execution_count": 18,
   "metadata": {
    "extensions": {
     "jupyter_dashboards": {
      "version": 1,
      "views": {
       "grid_default": {
        "col": 4,
        "height": 19,
        "hidden": false,
        "row": 7,
        "width": 8
       },
       "report_default": {
        "hidden": false
       }
      }
     }
    }
   },
   "outputs": [
    {
     "data": {
      "application/javascript": [
       "/* Put everything inside the global mpl namespace */\n",
       "window.mpl = {};\n",
       "\n",
       "\n",
       "mpl.get_websocket_type = function() {\n",
       "    if (typeof(WebSocket) !== 'undefined') {\n",
       "        return WebSocket;\n",
       "    } else if (typeof(MozWebSocket) !== 'undefined') {\n",
       "        return MozWebSocket;\n",
       "    } else {\n",
       "        alert('Your browser does not have WebSocket support.' +\n",
       "              'Please try Chrome, Safari or Firefox ≥ 6. ' +\n",
       "              'Firefox 4 and 5 are also supported but you ' +\n",
       "              'have to enable WebSockets in about:config.');\n",
       "    };\n",
       "}\n",
       "\n",
       "mpl.figure = function(figure_id, websocket, ondownload, parent_element) {\n",
       "    this.id = figure_id;\n",
       "\n",
       "    this.ws = websocket;\n",
       "\n",
       "    this.supports_binary = (this.ws.binaryType != undefined);\n",
       "\n",
       "    if (!this.supports_binary) {\n",
       "        var warnings = document.getElementById(\"mpl-warnings\");\n",
       "        if (warnings) {\n",
       "            warnings.style.display = 'block';\n",
       "            warnings.textContent = (\n",
       "                \"This browser does not support binary websocket messages. \" +\n",
       "                    \"Performance may be slow.\");\n",
       "        }\n",
       "    }\n",
       "\n",
       "    this.imageObj = new Image();\n",
       "\n",
       "    this.context = undefined;\n",
       "    this.message = undefined;\n",
       "    this.canvas = undefined;\n",
       "    this.rubberband_canvas = undefined;\n",
       "    this.rubberband_context = undefined;\n",
       "    this.format_dropdown = undefined;\n",
       "\n",
       "    this.image_mode = 'full';\n",
       "\n",
       "    this.root = $('<div/>');\n",
       "    this._root_extra_style(this.root)\n",
       "    this.root.attr('style', 'display: inline-block');\n",
       "\n",
       "    $(parent_element).append(this.root);\n",
       "\n",
       "    this._init_header(this);\n",
       "    this._init_canvas(this);\n",
       "    this._init_toolbar(this);\n",
       "\n",
       "    var fig = this;\n",
       "\n",
       "    this.waiting = false;\n",
       "\n",
       "    this.ws.onopen =  function () {\n",
       "            fig.send_message(\"supports_binary\", {value: fig.supports_binary});\n",
       "            fig.send_message(\"send_image_mode\", {});\n",
       "            if (mpl.ratio != 1) {\n",
       "                fig.send_message(\"set_dpi_ratio\", {'dpi_ratio': mpl.ratio});\n",
       "            }\n",
       "            fig.send_message(\"refresh\", {});\n",
       "        }\n",
       "\n",
       "    this.imageObj.onload = function() {\n",
       "            if (fig.image_mode == 'full') {\n",
       "                // Full images could contain transparency (where diff images\n",
       "                // almost always do), so we need to clear the canvas so that\n",
       "                // there is no ghosting.\n",
       "                fig.context.clearRect(0, 0, fig.canvas.width, fig.canvas.height);\n",
       "            }\n",
       "            fig.context.drawImage(fig.imageObj, 0, 0);\n",
       "        };\n",
       "\n",
       "    this.imageObj.onunload = function() {\n",
       "        fig.ws.close();\n",
       "    }\n",
       "\n",
       "    this.ws.onmessage = this._make_on_message_function(this);\n",
       "\n",
       "    this.ondownload = ondownload;\n",
       "}\n",
       "\n",
       "mpl.figure.prototype._init_header = function() {\n",
       "    var titlebar = $(\n",
       "        '<div class=\"ui-dialog-titlebar ui-widget-header ui-corner-all ' +\n",
       "        'ui-helper-clearfix\"/>');\n",
       "    var titletext = $(\n",
       "        '<div class=\"ui-dialog-title\" style=\"width: 100%; ' +\n",
       "        'text-align: center; padding: 3px;\"/>');\n",
       "    titlebar.append(titletext)\n",
       "    this.root.append(titlebar);\n",
       "    this.header = titletext[0];\n",
       "}\n",
       "\n",
       "\n",
       "\n",
       "mpl.figure.prototype._canvas_extra_style = function(canvas_div) {\n",
       "\n",
       "}\n",
       "\n",
       "\n",
       "mpl.figure.prototype._root_extra_style = function(canvas_div) {\n",
       "\n",
       "}\n",
       "\n",
       "mpl.figure.prototype._init_canvas = function() {\n",
       "    var fig = this;\n",
       "\n",
       "    var canvas_div = $('<div/>');\n",
       "\n",
       "    canvas_div.attr('style', 'position: relative; clear: both; outline: 0');\n",
       "\n",
       "    function canvas_keyboard_event(event) {\n",
       "        return fig.key_event(event, event['data']);\n",
       "    }\n",
       "\n",
       "    canvas_div.keydown('key_press', canvas_keyboard_event);\n",
       "    canvas_div.keyup('key_release', canvas_keyboard_event);\n",
       "    this.canvas_div = canvas_div\n",
       "    this._canvas_extra_style(canvas_div)\n",
       "    this.root.append(canvas_div);\n",
       "\n",
       "    var canvas = $('<canvas/>');\n",
       "    canvas.addClass('mpl-canvas');\n",
       "    canvas.attr('style', \"left: 0; top: 0; z-index: 0; outline: 0\")\n",
       "\n",
       "    this.canvas = canvas[0];\n",
       "    this.context = canvas[0].getContext(\"2d\");\n",
       "\n",
       "    var backingStore = this.context.backingStorePixelRatio ||\n",
       "\tthis.context.webkitBackingStorePixelRatio ||\n",
       "\tthis.context.mozBackingStorePixelRatio ||\n",
       "\tthis.context.msBackingStorePixelRatio ||\n",
       "\tthis.context.oBackingStorePixelRatio ||\n",
       "\tthis.context.backingStorePixelRatio || 1;\n",
       "\n",
       "    mpl.ratio = (window.devicePixelRatio || 1) / backingStore;\n",
       "\n",
       "    var rubberband = $('<canvas/>');\n",
       "    rubberband.attr('style', \"position: absolute; left: 0; top: 0; z-index: 1;\")\n",
       "\n",
       "    var pass_mouse_events = true;\n",
       "\n",
       "    canvas_div.resizable({\n",
       "        start: function(event, ui) {\n",
       "            pass_mouse_events = false;\n",
       "        },\n",
       "        resize: function(event, ui) {\n",
       "            fig.request_resize(ui.size.width, ui.size.height);\n",
       "        },\n",
       "        stop: function(event, ui) {\n",
       "            pass_mouse_events = true;\n",
       "            fig.request_resize(ui.size.width, ui.size.height);\n",
       "        },\n",
       "    });\n",
       "\n",
       "    function mouse_event_fn(event) {\n",
       "        if (pass_mouse_events)\n",
       "            return fig.mouse_event(event, event['data']);\n",
       "    }\n",
       "\n",
       "    rubberband.mousedown('button_press', mouse_event_fn);\n",
       "    rubberband.mouseup('button_release', mouse_event_fn);\n",
       "    // Throttle sequential mouse events to 1 every 20ms.\n",
       "    rubberband.mousemove('motion_notify', mouse_event_fn);\n",
       "\n",
       "    rubberband.mouseenter('figure_enter', mouse_event_fn);\n",
       "    rubberband.mouseleave('figure_leave', mouse_event_fn);\n",
       "\n",
       "    canvas_div.on(\"wheel\", function (event) {\n",
       "        event = event.originalEvent;\n",
       "        event['data'] = 'scroll'\n",
       "        if (event.deltaY < 0) {\n",
       "            event.step = 1;\n",
       "        } else {\n",
       "            event.step = -1;\n",
       "        }\n",
       "        mouse_event_fn(event);\n",
       "    });\n",
       "\n",
       "    canvas_div.append(canvas);\n",
       "    canvas_div.append(rubberband);\n",
       "\n",
       "    this.rubberband = rubberband;\n",
       "    this.rubberband_canvas = rubberband[0];\n",
       "    this.rubberband_context = rubberband[0].getContext(\"2d\");\n",
       "    this.rubberband_context.strokeStyle = \"#000000\";\n",
       "\n",
       "    this._resize_canvas = function(width, height) {\n",
       "        // Keep the size of the canvas, canvas container, and rubber band\n",
       "        // canvas in synch.\n",
       "        canvas_div.css('width', width)\n",
       "        canvas_div.css('height', height)\n",
       "\n",
       "        canvas.attr('width', width * mpl.ratio);\n",
       "        canvas.attr('height', height * mpl.ratio);\n",
       "        canvas.attr('style', 'width: ' + width + 'px; height: ' + height + 'px;');\n",
       "\n",
       "        rubberband.attr('width', width);\n",
       "        rubberband.attr('height', height);\n",
       "    }\n",
       "\n",
       "    // Set the figure to an initial 600x600px, this will subsequently be updated\n",
       "    // upon first draw.\n",
       "    this._resize_canvas(600, 600);\n",
       "\n",
       "    // Disable right mouse context menu.\n",
       "    $(this.rubberband_canvas).bind(\"contextmenu\",function(e){\n",
       "        return false;\n",
       "    });\n",
       "\n",
       "    function set_focus () {\n",
       "        canvas.focus();\n",
       "        canvas_div.focus();\n",
       "    }\n",
       "\n",
       "    window.setTimeout(set_focus, 100);\n",
       "}\n",
       "\n",
       "mpl.figure.prototype._init_toolbar = function() {\n",
       "    var fig = this;\n",
       "\n",
       "    var nav_element = $('<div/>')\n",
       "    nav_element.attr('style', 'width: 100%');\n",
       "    this.root.append(nav_element);\n",
       "\n",
       "    // Define a callback function for later on.\n",
       "    function toolbar_event(event) {\n",
       "        return fig.toolbar_button_onclick(event['data']);\n",
       "    }\n",
       "    function toolbar_mouse_event(event) {\n",
       "        return fig.toolbar_button_onmouseover(event['data']);\n",
       "    }\n",
       "\n",
       "    for(var toolbar_ind in mpl.toolbar_items) {\n",
       "        var name = mpl.toolbar_items[toolbar_ind][0];\n",
       "        var tooltip = mpl.toolbar_items[toolbar_ind][1];\n",
       "        var image = mpl.toolbar_items[toolbar_ind][2];\n",
       "        var method_name = mpl.toolbar_items[toolbar_ind][3];\n",
       "\n",
       "        if (!name) {\n",
       "            // put a spacer in here.\n",
       "            continue;\n",
       "        }\n",
       "        var button = $('<button/>');\n",
       "        button.addClass('ui-button ui-widget ui-state-default ui-corner-all ' +\n",
       "                        'ui-button-icon-only');\n",
       "        button.attr('role', 'button');\n",
       "        button.attr('aria-disabled', 'false');\n",
       "        button.click(method_name, toolbar_event);\n",
       "        button.mouseover(tooltip, toolbar_mouse_event);\n",
       "\n",
       "        var icon_img = $('<span/>');\n",
       "        icon_img.addClass('ui-button-icon-primary ui-icon');\n",
       "        icon_img.addClass(image);\n",
       "        icon_img.addClass('ui-corner-all');\n",
       "\n",
       "        var tooltip_span = $('<span/>');\n",
       "        tooltip_span.addClass('ui-button-text');\n",
       "        tooltip_span.html(tooltip);\n",
       "\n",
       "        button.append(icon_img);\n",
       "        button.append(tooltip_span);\n",
       "\n",
       "        nav_element.append(button);\n",
       "    }\n",
       "\n",
       "    var fmt_picker_span = $('<span/>');\n",
       "\n",
       "    var fmt_picker = $('<select/>');\n",
       "    fmt_picker.addClass('mpl-toolbar-option ui-widget ui-widget-content');\n",
       "    fmt_picker_span.append(fmt_picker);\n",
       "    nav_element.append(fmt_picker_span);\n",
       "    this.format_dropdown = fmt_picker[0];\n",
       "\n",
       "    for (var ind in mpl.extensions) {\n",
       "        var fmt = mpl.extensions[ind];\n",
       "        var option = $(\n",
       "            '<option/>', {selected: fmt === mpl.default_extension}).html(fmt);\n",
       "        fmt_picker.append(option)\n",
       "    }\n",
       "\n",
       "    // Add hover states to the ui-buttons\n",
       "    $( \".ui-button\" ).hover(\n",
       "        function() { $(this).addClass(\"ui-state-hover\");},\n",
       "        function() { $(this).removeClass(\"ui-state-hover\");}\n",
       "    );\n",
       "\n",
       "    var status_bar = $('<span class=\"mpl-message\"/>');\n",
       "    nav_element.append(status_bar);\n",
       "    this.message = status_bar[0];\n",
       "}\n",
       "\n",
       "mpl.figure.prototype.request_resize = function(x_pixels, y_pixels) {\n",
       "    // Request matplotlib to resize the figure. Matplotlib will then trigger a resize in the client,\n",
       "    // which will in turn request a refresh of the image.\n",
       "    this.send_message('resize', {'width': x_pixels, 'height': y_pixels});\n",
       "}\n",
       "\n",
       "mpl.figure.prototype.send_message = function(type, properties) {\n",
       "    properties['type'] = type;\n",
       "    properties['figure_id'] = this.id;\n",
       "    this.ws.send(JSON.stringify(properties));\n",
       "}\n",
       "\n",
       "mpl.figure.prototype.send_draw_message = function() {\n",
       "    if (!this.waiting) {\n",
       "        this.waiting = true;\n",
       "        this.ws.send(JSON.stringify({type: \"draw\", figure_id: this.id}));\n",
       "    }\n",
       "}\n",
       "\n",
       "\n",
       "mpl.figure.prototype.handle_save = function(fig, msg) {\n",
       "    var format_dropdown = fig.format_dropdown;\n",
       "    var format = format_dropdown.options[format_dropdown.selectedIndex].value;\n",
       "    fig.ondownload(fig, format);\n",
       "}\n",
       "\n",
       "\n",
       "mpl.figure.prototype.handle_resize = function(fig, msg) {\n",
       "    var size = msg['size'];\n",
       "    if (size[0] != fig.canvas.width || size[1] != fig.canvas.height) {\n",
       "        fig._resize_canvas(size[0], size[1]);\n",
       "        fig.send_message(\"refresh\", {});\n",
       "    };\n",
       "}\n",
       "\n",
       "mpl.figure.prototype.handle_rubberband = function(fig, msg) {\n",
       "    var x0 = msg['x0'] / mpl.ratio;\n",
       "    var y0 = (fig.canvas.height - msg['y0']) / mpl.ratio;\n",
       "    var x1 = msg['x1'] / mpl.ratio;\n",
       "    var y1 = (fig.canvas.height - msg['y1']) / mpl.ratio;\n",
       "    x0 = Math.floor(x0) + 0.5;\n",
       "    y0 = Math.floor(y0) + 0.5;\n",
       "    x1 = Math.floor(x1) + 0.5;\n",
       "    y1 = Math.floor(y1) + 0.5;\n",
       "    var min_x = Math.min(x0, x1);\n",
       "    var min_y = Math.min(y0, y1);\n",
       "    var width = Math.abs(x1 - x0);\n",
       "    var height = Math.abs(y1 - y0);\n",
       "\n",
       "    fig.rubberband_context.clearRect(\n",
       "        0, 0, fig.canvas.width, fig.canvas.height);\n",
       "\n",
       "    fig.rubberband_context.strokeRect(min_x, min_y, width, height);\n",
       "}\n",
       "\n",
       "mpl.figure.prototype.handle_figure_label = function(fig, msg) {\n",
       "    // Updates the figure title.\n",
       "    fig.header.textContent = msg['label'];\n",
       "}\n",
       "\n",
       "mpl.figure.prototype.handle_cursor = function(fig, msg) {\n",
       "    var cursor = msg['cursor'];\n",
       "    switch(cursor)\n",
       "    {\n",
       "    case 0:\n",
       "        cursor = 'pointer';\n",
       "        break;\n",
       "    case 1:\n",
       "        cursor = 'default';\n",
       "        break;\n",
       "    case 2:\n",
       "        cursor = 'crosshair';\n",
       "        break;\n",
       "    case 3:\n",
       "        cursor = 'move';\n",
       "        break;\n",
       "    }\n",
       "    fig.rubberband_canvas.style.cursor = cursor;\n",
       "}\n",
       "\n",
       "mpl.figure.prototype.handle_message = function(fig, msg) {\n",
       "    fig.message.textContent = msg['message'];\n",
       "}\n",
       "\n",
       "mpl.figure.prototype.handle_draw = function(fig, msg) {\n",
       "    // Request the server to send over a new figure.\n",
       "    fig.send_draw_message();\n",
       "}\n",
       "\n",
       "mpl.figure.prototype.handle_image_mode = function(fig, msg) {\n",
       "    fig.image_mode = msg['mode'];\n",
       "}\n",
       "\n",
       "mpl.figure.prototype.updated_canvas_event = function() {\n",
       "    // Called whenever the canvas gets updated.\n",
       "    this.send_message(\"ack\", {});\n",
       "}\n",
       "\n",
       "// A function to construct a web socket function for onmessage handling.\n",
       "// Called in the figure constructor.\n",
       "mpl.figure.prototype._make_on_message_function = function(fig) {\n",
       "    return function socket_on_message(evt) {\n",
       "        if (evt.data instanceof Blob) {\n",
       "            /* FIXME: We get \"Resource interpreted as Image but\n",
       "             * transferred with MIME type text/plain:\" errors on\n",
       "             * Chrome.  But how to set the MIME type?  It doesn't seem\n",
       "             * to be part of the websocket stream */\n",
       "            evt.data.type = \"image/png\";\n",
       "\n",
       "            /* Free the memory for the previous frames */\n",
       "            if (fig.imageObj.src) {\n",
       "                (window.URL || window.webkitURL).revokeObjectURL(\n",
       "                    fig.imageObj.src);\n",
       "            }\n",
       "\n",
       "            fig.imageObj.src = (window.URL || window.webkitURL).createObjectURL(\n",
       "                evt.data);\n",
       "            fig.updated_canvas_event();\n",
       "            fig.waiting = false;\n",
       "            return;\n",
       "        }\n",
       "        else if (typeof evt.data === 'string' && evt.data.slice(0, 21) == \"data:image/png;base64\") {\n",
       "            fig.imageObj.src = evt.data;\n",
       "            fig.updated_canvas_event();\n",
       "            fig.waiting = false;\n",
       "            return;\n",
       "        }\n",
       "\n",
       "        var msg = JSON.parse(evt.data);\n",
       "        var msg_type = msg['type'];\n",
       "\n",
       "        // Call the  \"handle_{type}\" callback, which takes\n",
       "        // the figure and JSON message as its only arguments.\n",
       "        try {\n",
       "            var callback = fig[\"handle_\" + msg_type];\n",
       "        } catch (e) {\n",
       "            console.log(\"No handler for the '\" + msg_type + \"' message type: \", msg);\n",
       "            return;\n",
       "        }\n",
       "\n",
       "        if (callback) {\n",
       "            try {\n",
       "                // console.log(\"Handling '\" + msg_type + \"' message: \", msg);\n",
       "                callback(fig, msg);\n",
       "            } catch (e) {\n",
       "                console.log(\"Exception inside the 'handler_\" + msg_type + \"' callback:\", e, e.stack, msg);\n",
       "            }\n",
       "        }\n",
       "    };\n",
       "}\n",
       "\n",
       "// from http://stackoverflow.com/questions/1114465/getting-mouse-location-in-canvas\n",
       "mpl.findpos = function(e) {\n",
       "    //this section is from http://www.quirksmode.org/js/events_properties.html\n",
       "    var targ;\n",
       "    if (!e)\n",
       "        e = window.event;\n",
       "    if (e.target)\n",
       "        targ = e.target;\n",
       "    else if (e.srcElement)\n",
       "        targ = e.srcElement;\n",
       "    if (targ.nodeType == 3) // defeat Safari bug\n",
       "        targ = targ.parentNode;\n",
       "\n",
       "    // jQuery normalizes the pageX and pageY\n",
       "    // pageX,Y are the mouse positions relative to the document\n",
       "    // offset() returns the position of the element relative to the document\n",
       "    var x = e.pageX - $(targ).offset().left;\n",
       "    var y = e.pageY - $(targ).offset().top;\n",
       "\n",
       "    return {\"x\": x, \"y\": y};\n",
       "};\n",
       "\n",
       "/*\n",
       " * return a copy of an object with only non-object keys\n",
       " * we need this to avoid circular references\n",
       " * http://stackoverflow.com/a/24161582/3208463\n",
       " */\n",
       "function simpleKeys (original) {\n",
       "  return Object.keys(original).reduce(function (obj, key) {\n",
       "    if (typeof original[key] !== 'object')\n",
       "        obj[key] = original[key]\n",
       "    return obj;\n",
       "  }, {});\n",
       "}\n",
       "\n",
       "mpl.figure.prototype.mouse_event = function(event, name) {\n",
       "    var canvas_pos = mpl.findpos(event)\n",
       "\n",
       "    if (name === 'button_press')\n",
       "    {\n",
       "        this.canvas.focus();\n",
       "        this.canvas_div.focus();\n",
       "    }\n",
       "\n",
       "    var x = canvas_pos.x * mpl.ratio;\n",
       "    var y = canvas_pos.y * mpl.ratio;\n",
       "\n",
       "    this.send_message(name, {x: x, y: y, button: event.button,\n",
       "                             step: event.step,\n",
       "                             guiEvent: simpleKeys(event)});\n",
       "\n",
       "    /* This prevents the web browser from automatically changing to\n",
       "     * the text insertion cursor when the button is pressed.  We want\n",
       "     * to control all of the cursor setting manually through the\n",
       "     * 'cursor' event from matplotlib */\n",
       "    event.preventDefault();\n",
       "    return false;\n",
       "}\n",
       "\n",
       "mpl.figure.prototype._key_event_extra = function(event, name) {\n",
       "    // Handle any extra behaviour associated with a key event\n",
       "}\n",
       "\n",
       "mpl.figure.prototype.key_event = function(event, name) {\n",
       "\n",
       "    // Prevent repeat events\n",
       "    if (name == 'key_press')\n",
       "    {\n",
       "        if (event.which === this._key)\n",
       "            return;\n",
       "        else\n",
       "            this._key = event.which;\n",
       "    }\n",
       "    if (name == 'key_release')\n",
       "        this._key = null;\n",
       "\n",
       "    var value = '';\n",
       "    if (event.ctrlKey && event.which != 17)\n",
       "        value += \"ctrl+\";\n",
       "    if (event.altKey && event.which != 18)\n",
       "        value += \"alt+\";\n",
       "    if (event.shiftKey && event.which != 16)\n",
       "        value += \"shift+\";\n",
       "\n",
       "    value += 'k';\n",
       "    value += event.which.toString();\n",
       "\n",
       "    this._key_event_extra(event, name);\n",
       "\n",
       "    this.send_message(name, {key: value,\n",
       "                             guiEvent: simpleKeys(event)});\n",
       "    return false;\n",
       "}\n",
       "\n",
       "mpl.figure.prototype.toolbar_button_onclick = function(name) {\n",
       "    if (name == 'download') {\n",
       "        this.handle_save(this, null);\n",
       "    } else {\n",
       "        this.send_message(\"toolbar_button\", {name: name});\n",
       "    }\n",
       "};\n",
       "\n",
       "mpl.figure.prototype.toolbar_button_onmouseover = function(tooltip) {\n",
       "    this.message.textContent = tooltip;\n",
       "};\n",
       "mpl.toolbar_items = [[\"Home\", \"Reset original view\", \"fa fa-home icon-home\", \"home\"], [\"Back\", \"Back to  previous view\", \"fa fa-arrow-left icon-arrow-left\", \"back\"], [\"Forward\", \"Forward to next view\", \"fa fa-arrow-right icon-arrow-right\", \"forward\"], [\"\", \"\", \"\", \"\"], [\"Pan\", \"Pan axes with left mouse, zoom with right\", \"fa fa-arrows icon-move\", \"pan\"], [\"Zoom\", \"Zoom to rectangle\", \"fa fa-square-o icon-check-empty\", \"zoom\"], [\"\", \"\", \"\", \"\"], [\"Download\", \"Download plot\", \"fa fa-floppy-o icon-save\", \"download\"]];\n",
       "\n",
       "mpl.extensions = [\"eps\", \"jpeg\", \"pdf\", \"png\", \"ps\", \"raw\", \"svg\", \"tif\"];\n",
       "\n",
       "mpl.default_extension = \"png\";var comm_websocket_adapter = function(comm) {\n",
       "    // Create a \"websocket\"-like object which calls the given IPython comm\n",
       "    // object with the appropriate methods. Currently this is a non binary\n",
       "    // socket, so there is still some room for performance tuning.\n",
       "    var ws = {};\n",
       "\n",
       "    ws.close = function() {\n",
       "        comm.close()\n",
       "    };\n",
       "    ws.send = function(m) {\n",
       "        //console.log('sending', m);\n",
       "        comm.send(m);\n",
       "    };\n",
       "    // Register the callback with on_msg.\n",
       "    comm.on_msg(function(msg) {\n",
       "        //console.log('receiving', msg['content']['data'], msg);\n",
       "        // Pass the mpl event to the overridden (by mpl) onmessage function.\n",
       "        ws.onmessage(msg['content']['data'])\n",
       "    });\n",
       "    return ws;\n",
       "}\n",
       "\n",
       "mpl.mpl_figure_comm = function(comm, msg) {\n",
       "    // This is the function which gets called when the mpl process\n",
       "    // starts-up an IPython Comm through the \"matplotlib\" channel.\n",
       "\n",
       "    var id = msg.content.data.id;\n",
       "    // Get hold of the div created by the display call when the Comm\n",
       "    // socket was opened in Python.\n",
       "    var element = $(\"#\" + id);\n",
       "    var ws_proxy = comm_websocket_adapter(comm)\n",
       "\n",
       "    function ondownload(figure, format) {\n",
       "        window.open(figure.imageObj.src);\n",
       "    }\n",
       "\n",
       "    var fig = new mpl.figure(id, ws_proxy,\n",
       "                           ondownload,\n",
       "                           element.get(0));\n",
       "\n",
       "    // Call onopen now - mpl needs it, as it is assuming we've passed it a real\n",
       "    // web socket which is closed, not our websocket->open comm proxy.\n",
       "    ws_proxy.onopen();\n",
       "\n",
       "    fig.parent_element = element.get(0);\n",
       "    fig.cell_info = mpl.find_output_cell(\"<div id='\" + id + \"'></div>\");\n",
       "    if (!fig.cell_info) {\n",
       "        console.error(\"Failed to find cell for figure\", id, fig);\n",
       "        return;\n",
       "    }\n",
       "\n",
       "    var output_index = fig.cell_info[2]\n",
       "    var cell = fig.cell_info[0];\n",
       "\n",
       "};\n",
       "\n",
       "mpl.figure.prototype.handle_close = function(fig, msg) {\n",
       "    var width = fig.canvas.width/mpl.ratio\n",
       "    fig.root.unbind('remove')\n",
       "\n",
       "    // Update the output cell to use the data from the current canvas.\n",
       "    fig.push_to_output();\n",
       "    var dataURL = fig.canvas.toDataURL();\n",
       "    // Re-enable the keyboard manager in IPython - without this line, in FF,\n",
       "    // the notebook keyboard shortcuts fail.\n",
       "    IPython.keyboard_manager.enable()\n",
       "    $(fig.parent_element).html('<img src=\"' + dataURL + '\" width=\"' + width + '\">');\n",
       "    fig.close_ws(fig, msg);\n",
       "}\n",
       "\n",
       "mpl.figure.prototype.close_ws = function(fig, msg){\n",
       "    fig.send_message('closing', msg);\n",
       "    // fig.ws.close()\n",
       "}\n",
       "\n",
       "mpl.figure.prototype.push_to_output = function(remove_interactive) {\n",
       "    // Turn the data on the canvas into data in the output cell.\n",
       "    var width = this.canvas.width/mpl.ratio\n",
       "    var dataURL = this.canvas.toDataURL();\n",
       "    this.cell_info[1]['text/html'] = '<img src=\"' + dataURL + '\" width=\"' + width + '\">';\n",
       "}\n",
       "\n",
       "mpl.figure.prototype.updated_canvas_event = function() {\n",
       "    // Tell IPython that the notebook contents must change.\n",
       "    IPython.notebook.set_dirty(true);\n",
       "    this.send_message(\"ack\", {});\n",
       "    var fig = this;\n",
       "    // Wait a second, then push the new image to the DOM so\n",
       "    // that it is saved nicely (might be nice to debounce this).\n",
       "    setTimeout(function () { fig.push_to_output() }, 1000);\n",
       "}\n",
       "\n",
       "mpl.figure.prototype._init_toolbar = function() {\n",
       "    var fig = this;\n",
       "\n",
       "    var nav_element = $('<div/>')\n",
       "    nav_element.attr('style', 'width: 100%');\n",
       "    this.root.append(nav_element);\n",
       "\n",
       "    // Define a callback function for later on.\n",
       "    function toolbar_event(event) {\n",
       "        return fig.toolbar_button_onclick(event['data']);\n",
       "    }\n",
       "    function toolbar_mouse_event(event) {\n",
       "        return fig.toolbar_button_onmouseover(event['data']);\n",
       "    }\n",
       "\n",
       "    for(var toolbar_ind in mpl.toolbar_items){\n",
       "        var name = mpl.toolbar_items[toolbar_ind][0];\n",
       "        var tooltip = mpl.toolbar_items[toolbar_ind][1];\n",
       "        var image = mpl.toolbar_items[toolbar_ind][2];\n",
       "        var method_name = mpl.toolbar_items[toolbar_ind][3];\n",
       "\n",
       "        if (!name) { continue; };\n",
       "\n",
       "        var button = $('<button class=\"btn btn-default\" href=\"#\" title=\"' + name + '\"><i class=\"fa ' + image + ' fa-lg\"></i></button>');\n",
       "        button.click(method_name, toolbar_event);\n",
       "        button.mouseover(tooltip, toolbar_mouse_event);\n",
       "        nav_element.append(button);\n",
       "    }\n",
       "\n",
       "    // Add the status bar.\n",
       "    var status_bar = $('<span class=\"mpl-message\" style=\"text-align:right; float: right;\"/>');\n",
       "    nav_element.append(status_bar);\n",
       "    this.message = status_bar[0];\n",
       "\n",
       "    // Add the close button to the window.\n",
       "    var buttongrp = $('<div class=\"btn-group inline pull-right\"></div>');\n",
       "    var button = $('<button class=\"btn btn-mini btn-primary\" href=\"#\" title=\"Stop Interaction\"><i class=\"fa fa-power-off icon-remove icon-large\"></i></button>');\n",
       "    button.click(function (evt) { fig.handle_close(fig, {}); } );\n",
       "    button.mouseover('Stop Interaction', toolbar_mouse_event);\n",
       "    buttongrp.append(button);\n",
       "    var titlebar = this.root.find($('.ui-dialog-titlebar'));\n",
       "    titlebar.prepend(buttongrp);\n",
       "}\n",
       "\n",
       "mpl.figure.prototype._root_extra_style = function(el){\n",
       "    var fig = this\n",
       "    el.on(\"remove\", function(){\n",
       "\tfig.close_ws(fig, {});\n",
       "    });\n",
       "}\n",
       "\n",
       "mpl.figure.prototype._canvas_extra_style = function(el){\n",
       "    // this is important to make the div 'focusable\n",
       "    el.attr('tabindex', 0)\n",
       "    // reach out to IPython and tell the keyboard manager to turn it's self\n",
       "    // off when our div gets focus\n",
       "\n",
       "    // location in version 3\n",
       "    if (IPython.notebook.keyboard_manager) {\n",
       "        IPython.notebook.keyboard_manager.register_events(el);\n",
       "    }\n",
       "    else {\n",
       "        // location in version 2\n",
       "        IPython.keyboard_manager.register_events(el);\n",
       "    }\n",
       "\n",
       "}\n",
       "\n",
       "mpl.figure.prototype._key_event_extra = function(event, name) {\n",
       "    var manager = IPython.notebook.keyboard_manager;\n",
       "    if (!manager)\n",
       "        manager = IPython.keyboard_manager;\n",
       "\n",
       "    // Check for shift+enter\n",
       "    if (event.shiftKey && event.which == 13) {\n",
       "        this.canvas_div.blur();\n",
       "        event.shiftKey = false;\n",
       "        // Send a \"J\" for go to next cell\n",
       "        event.which = 74;\n",
       "        event.keyCode = 74;\n",
       "        manager.command_mode();\n",
       "        manager.handle_keydown(event);\n",
       "    }\n",
       "}\n",
       "\n",
       "mpl.figure.prototype.handle_save = function(fig, msg) {\n",
       "    fig.ondownload(fig, null);\n",
       "}\n",
       "\n",
       "\n",
       "mpl.find_output_cell = function(html_output) {\n",
       "    // Return the cell and output element which can be found *uniquely* in the notebook.\n",
       "    // Note - this is a bit hacky, but it is done because the \"notebook_saving.Notebook\"\n",
       "    // IPython event is triggered only after the cells have been serialised, which for\n",
       "    // our purposes (turning an active figure into a static one), is too late.\n",
       "    var cells = IPython.notebook.get_cells();\n",
       "    var ncells = cells.length;\n",
       "    for (var i=0; i<ncells; i++) {\n",
       "        var cell = cells[i];\n",
       "        if (cell.cell_type === 'code'){\n",
       "            for (var j=0; j<cell.output_area.outputs.length; j++) {\n",
       "                var data = cell.output_area.outputs[j];\n",
       "                if (data.data) {\n",
       "                    // IPython >= 3 moved mimebundle to data attribute of output\n",
       "                    data = data.data;\n",
       "                }\n",
       "                if (data['text/html'] == html_output) {\n",
       "                    return [cell, data, j];\n",
       "                }\n",
       "            }\n",
       "        }\n",
       "    }\n",
       "}\n",
       "\n",
       "// Register the function which deals with the matplotlib target/channel.\n",
       "// The kernel may be null if the page has been refreshed.\n",
       "if (IPython.notebook.kernel != null) {\n",
       "    IPython.notebook.kernel.comm_manager.register_target('matplotlib', mpl.mpl_figure_comm);\n",
       "}\n"
      ],
      "text/plain": [
       "<IPython.core.display.Javascript object>"
      ]
     },
     "metadata": {},
     "output_type": "display_data"
    },
    {
     "data": {
      "text/html": [
       "<img src=\"data:image/png;base64,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\" width=\"639.9333333333333\">"
      ],
      "text/plain": [
       "<IPython.core.display.HTML object>"
      ]
     },
     "metadata": {},
     "output_type": "display_data"
    }
   ],
   "source": [
    "# we want the plot to go here, so create an empty one initially\n",
    "plt.figure('Distribution of positive ions near the nanoparticle surface')\n",
    "plt.xlabel('Distance from the center of the nanoparticle (R = 0 is the midpoint)(nm)', fontsize=10)\n",
    "plt.ylabel('Density(M)', fontsize=10)\n",
    "plt.show()"
   ]
  },
  {
   "cell_type": "code",
   "execution_count": 19,
   "metadata": {
    "extensions": {
     "jupyter_dashboards": {
      "version": 1,
      "views": {
       "grid_default": {
        "col": null,
        "height": 19,
        "hidden": false,
        "row": 28,
        "width": null
       },
       "report_default": {
        "hidden": false
       }
      }
     }
    }
   },
   "outputs": [
    {
     "data": {
      "application/vnd.jupyter.widget-view+json": {
       "model_id": "a2af6646b7824a63b6eafd67dced378a",
       "version_major": 2,
       "version_minor": 0
      },
      "text/html": [
       "<p>Failed to display Jupyter Widget of type <code>VBox</code>.</p>\n",
       "<p>\n",
       "  If you're reading this message in the Jupyter Notebook or JupyterLab Notebook, it may mean\n",
       "  that the widgets JavaScript is still loading. If this message persists, it\n",
       "  likely means that the widgets JavaScript library is either not installed or\n",
       "  not enabled. See the <a href=\"https://ipywidgets.readthedocs.io/en/stable/user_install.html\">Jupyter\n",
       "  Widgets Documentation</a> for setup instructions.\n",
       "</p>\n",
       "<p>\n",
       "  If you're reading this message in another frontend (for example, a static\n",
       "  rendering on GitHub or <a href=\"https://nbviewer.jupyter.org/\">NBViewer</a>),\n",
       "  it may mean that your frontend doesn't currently support widgets.\n",
       "</p>\n"
      ],
      "text/plain": [
       "VBox(children=(Button(button_style='success', description='Run', style=ButtonStyle(), tooltip='Run Simulation'),), layout=Layout(flex_flow='column', justify_content='flex-start', width='auto'))"
      ]
     },
     "metadata": {},
     "output_type": "display_data"
    }
   ],
   "source": [
    "#Submit(start_func=callExe, done_func=plot_data, cachename='SubmitTest1')\n",
    "Submit(start_func=callExe, done_func=plot_data, outcb=stdoutput_handler)\n"
   ]
  },
  {
   "cell_type": "code",
   "execution_count": 20,
   "metadata": {
    "extensions": {
     "jupyter_dashboards": {
      "version": 1,
      "views": {
       "grid_default": {
        "col": 0,
        "height": 2,
        "hidden": false,
        "row": 26,
        "width": 12
       },
       "report_default": {}
      }
     }
    }
   },
   "outputs": [
    {
     "data": {
      "application/vnd.jupyter.widget-view+json": {
       "model_id": "4cb885c45a014ffb867a3098112dd490",
       "version_major": 2,
       "version_minor": 0
      },
      "text/html": [
       "<p>Failed to display Jupyter Widget of type <code>IntProgress</code>.</p>\n",
       "<p>\n",
       "  If you're reading this message in the Jupyter Notebook or JupyterLab Notebook, it may mean\n",
       "  that the widgets JavaScript is still loading. If this message persists, it\n",
       "  likely means that the widgets JavaScript library is either not installed or\n",
       "  not enabled. See the <a href=\"https://ipywidgets.readthedocs.io/en/stable/user_install.html\">Jupyter\n",
       "  Widgets Documentation</a> for setup instructions.\n",
       "</p>\n",
       "<p>\n",
       "  If you're reading this message in another frontend (for example, a static\n",
       "  rendering on GitHub or <a href=\"https://nbviewer.jupyter.org/\">NBViewer</a>),\n",
       "  it may mean that your frontend doesn't currently support widgets.\n",
       "</p>\n"
      ],
      "text/plain": [
       "IntProgress(value=0, description='Progress:', layout=Layout(width='100%'))"
      ]
     },
     "metadata": {},
     "output_type": "display_data"
    }
   ],
   "source": [
    "progressBar=widgets.IntProgress(\n",
    "    value=0,\n",
    "    min=0,\n",
    "    max=100,\n",
    "    step=1,\n",
    "    description='Progress:',\n",
    "    bar_style='', # 'success', 'info', 'warning', 'danger' or ''\n",
    "    orientation='horizontal',\n",
    "    layout={'width': '100%'},\n",
    ")\n",
    "progressBar"
   ]
  }
 ],
 "metadata": {
  "extensions": {
   "jupyter_dashboards": {
    "activeView": "grid_default",
    "version": 1,
    "views": {
     "grid_default": {
      "cellMargin": 10,
      "defaultCellHeight": 20,
      "maxColumns": 12,
      "name": "grid",
      "type": "grid"
     },
     "report_default": {
      "name": "report",
      "type": "report"
     }
    }
   }
  },
  "kernelspec": {
   "display_name": "Python3",
   "language": "python",
   "name": "python3"
  },
  "language_info": {
   "codemirror_mode": {
    "name": "ipython",
    "version": 3
   },
   "file_extension": ".py",
   "mimetype": "text/x-python",
   "name": "python",
   "nbconvert_exporter": "python",
   "pygments_lexer": "ipython3",
   "version": "3.6.4"
  },
  "widgets": {
   "application/vnd.jupyter.widget-state+json": {
    "state": {
     "0928bdb3f16145de8f3bdc629c434672": {
      "model_module": "@jupyter-widgets/base",
      "model_module_version": "1.0.0",
      "model_name": "LayoutModel",
      "state": {}
     },
     "113232b6f0b0489c857571e43b2fc7c0": {
      "model_module": "@jupyter-widgets/controls",
      "model_module_version": "1.0.0",
      "model_name": "HTMLModel",
      "state": {
       "layout": "IPY_MODEL_33445fc625f34d0bbeeddd4c97736d58",
       "style": "IPY_MODEL_6d300a697da3458c80bec3d9f5dd9aee",
       "value": "<img src=\"imageV5.jpg\" style=\"width: 300px\"/>"
      }
     },
     "17e316ab391d438ea2d65e76f4767f5e": {
      "model_module": "@jupyter-widgets/base",
      "model_module_version": "1.0.0",
      "model_name": "LayoutModel",
      "state": {}
     },
     "1b37f86d44a84a748bf0f856f082f995": {
      "model_module": "@jupyter-widgets/controls",
      "model_module_version": "1.0.0",
      "model_name": "DropdownModel",
      "state": {
       "_options_labels": [
        "1(monovalent)",
        "2(divalent)",
        "3(trivalent)"
       ],
       "description": "Positive Ion Valency (z)",
       "index": 2,
       "layout": "IPY_MODEL_0928bdb3f16145de8f3bdc629c434672",
       "style": "IPY_MODEL_42bfc62f7b0a40b28042c92ea51358b6"
      }
     },
     "1c1ce5a816634e95ba4fd9c260a0e035": {
      "model_module": "@jupyter-widgets/controls",
      "model_module_version": "1.0.0",
      "model_name": "BoundedFloatTextModel",
      "state": {
       "description": "Ion Diameter (nm):",
       "layout": "IPY_MODEL_b75073530edf4a96b67df16319442848",
       "max": 0.8,
       "min": 0.5,
       "step": 0.001,
       "style": "IPY_MODEL_cba8a7396c344ef49134b9b3b3577ef5",
       "value": 0.714
      }
     },
     "24a70f35d36b4d4eb6b8faef61e818e1": {
      "model_module": "@jupyter-widgets/controls",
      "model_module_version": "1.0.0",
      "model_name": "BoundedFloatTextModel",
      "state": {
       "description": "Salt Concentration (c in M):",
       "layout": "IPY_MODEL_2fedeb6b81c543169901f6f01ed839cd",
       "max": 0.9,
       "min": 0.3,
       "style": "IPY_MODEL_45d6aa209f234a8a9a5d856d1b8c4894",
       "value": 0.7
      }
     },
     "2fedeb6b81c543169901f6f01ed839cd": {
      "model_module": "@jupyter-widgets/base",
      "model_module_version": "1.0.0",
      "model_name": "LayoutModel",
      "state": {}
     },
     "33445fc625f34d0bbeeddd4c97736d58": {
      "model_module": "@jupyter-widgets/base",
      "model_module_version": "1.0.0",
      "model_name": "LayoutModel",
      "state": {}
     },
     "36d5fefc93e84ab081d80ce41001de6f": {
      "model_module": "@jupyter-widgets/controls",
      "model_module_version": "1.0.0",
      "model_name": "ButtonModel",
      "state": {
       "description": "Simulate",
       "layout": "IPY_MODEL_f4cbb854239940da8e36bc8f9611fd13",
       "style": "IPY_MODEL_90d2800131be4e46b2b415fae5cc3976"
      }
     },
     "421f485f7df44b158c5ebc2cead2e4fc": {
      "model_module": "@jupyter-widgets/base",
      "model_module_version": "1.0.0",
      "model_name": "LayoutModel",
      "state": {}
     },
     "42bfc62f7b0a40b28042c92ea51358b6": {
      "model_module": "@jupyter-widgets/controls",
      "model_module_version": "1.0.0",
      "model_name": "DescriptionStyleModel",
      "state": {
       "description_width": "initial"
      }
     },
     "45d6aa209f234a8a9a5d856d1b8c4894": {
      "model_module": "@jupyter-widgets/controls",
      "model_module_version": "1.0.0",
      "model_name": "DescriptionStyleModel",
      "state": {
       "description_width": "initial"
      }
     },
     "45d97dd36250486787312d12a1a0eaf2": {
      "model_module": "@jupyter-widgets/controls",
      "model_module_version": "1.0.0",
      "model_name": "BoundedIntTextModel",
      "state": {
       "description": "Simulation Steps:",
       "layout": "IPY_MODEL_bf0216a2f8b24c489de53ab167969b49",
       "max": 5000000,
       "min": 20000,
       "step": 10000,
       "style": "IPY_MODEL_e4131453ffbf4876acdf9652cdb5b893",
       "value": 20000
      }
     },
     "520b6eb96ab54cd9a7c50b7bd2960207": {
      "model_module": "@jupyter-widgets/controls",
      "model_module_version": "1.0.0",
      "model_name": "DescriptionStyleModel",
      "state": {
       "description_width": "initial"
      }
     },
     "5b8456ddd09d48d8b782d04c0f5a8666": {
      "model_module": "@jupyter-widgets/controls",
      "model_module_version": "1.0.0",
      "model_name": "DescriptionStyleModel",
      "state": {
       "description_width": "initial"
      }
     },
     "6b49ad221a4f4738b7967d0195642151": {
      "model_module": "@jupyter-widgets/controls",
      "model_module_version": "1.0.0",
      "model_name": "BoundedFloatTextModel",
      "state": {
       "description": "Confinement Length (nm):",
       "layout": "IPY_MODEL_17e316ab391d438ea2d65e76f4767f5e",
       "max": 4,
       "min": 2,
       "style": "IPY_MODEL_747d7d8031df4ff984c508e9da864b35",
       "value": 3
      }
     },
     "6d300a697da3458c80bec3d9f5dd9aee": {
      "model_module": "@jupyter-widgets/controls",
      "model_module_version": "1.0.0",
      "model_name": "DescriptionStyleModel",
      "state": {
       "description_width": ""
      }
     },
     "73d6a9e62f6d40938e21e2c7fd5daf6a": {
      "model_module": "@jupyter-widgets/base",
      "model_module_version": "1.0.0",
      "model_name": "LayoutModel",
      "state": {}
     },
     "747d7d8031df4ff984c508e9da864b35": {
      "model_module": "@jupyter-widgets/controls",
      "model_module_version": "1.0.0",
      "model_name": "DescriptionStyleModel",
      "state": {
       "description_width": "initial"
      }
     },
     "75176e8e3f694980b4e2156ab5fdba16": {
      "model_module": "@jupyter-widgets/base",
      "model_module_version": "1.0.0",
      "model_name": "LayoutModel",
      "state": {}
     },
     "76459a9affde44d0a9daa29363008e4a": {
      "model_module": "@jupyter-widgets/controls",
      "model_module_version": "1.0.0",
      "model_name": "VBoxModel",
      "state": {
       "children": [
        "IPY_MODEL_fa7df53473e2422e9184a389817fa28a",
        "IPY_MODEL_24a70f35d36b4d4eb6b8faef61e818e1",
        "IPY_MODEL_1b37f86d44a84a748bf0f856f082f995",
        "IPY_MODEL_aaaf4ee3198948a28c188b9237d15a9f",
        "IPY_MODEL_6b49ad221a4f4738b7967d0195642151",
        "IPY_MODEL_1c1ce5a816634e95ba4fd9c260a0e035",
        "IPY_MODEL_8d645f6477254c368de96a816ed5e9f1",
        "IPY_MODEL_45d97dd36250486787312d12a1a0eaf2",
        "IPY_MODEL_113232b6f0b0489c857571e43b2fc7c0",
        "IPY_MODEL_36d5fefc93e84ab081d80ce41001de6f"
       ],
       "layout": "IPY_MODEL_dcca354f544646418d0eeb48fd1b5a9e"
      }
     },
     "8d645f6477254c368de96a816ed5e9f1": {
      "model_module": "@jupyter-widgets/controls",
      "model_module_version": "1.0.0",
      "model_name": "HTMLModel",
      "state": {
       "layout": "IPY_MODEL_421f485f7df44b158c5ebc2cead2e4fc",
       "style": "IPY_MODEL_de576513a12147e8bc083aeec4971950",
       "value": "<p   style='background-color: #DCDCDC; font-size:200; padding: 5px'>Computing</p>"
      }
     },
     "90d2800131be4e46b2b415fae5cc3976": {
      "model_module": "@jupyter-widgets/controls",
      "model_module_version": "1.0.0",
      "model_name": "ButtonStyleModel",
      "state": {}
     },
     "aaaf4ee3198948a28c188b9237d15a9f": {
      "model_module": "@jupyter-widgets/controls",
      "model_module_version": "1.0.0",
      "model_name": "DropdownModel",
      "state": {
       "_options_labels": [
        "-1",
        "-2",
        "-3"
       ],
       "description": "Negative Ion Valency",
       "index": 0,
       "layout": "IPY_MODEL_75176e8e3f694980b4e2156ab5fdba16",
       "style": "IPY_MODEL_520b6eb96ab54cd9a7c50b7bd2960207"
      }
     },
     "b75073530edf4a96b67df16319442848": {
      "model_module": "@jupyter-widgets/base",
      "model_module_version": "1.0.0",
      "model_name": "LayoutModel",
      "state": {}
     },
     "b9eaabc9eb4144fc82a2c63b9ef58541": {
      "model_module": "@jupyter-widgets/controls",
      "model_module_version": "1.0.0",
      "model_name": "DropdownModel",
      "state": {
       "_options_labels": [
        "1(monovalent)",
        "2(divalent)",
        "3(trivalent)"
       ],
       "description": "Positive Ion Valency (z)",
       "index": 0,
       "layout": "IPY_MODEL_c9aa90d11bec44f4aa17ca4467b7ff64",
       "style": "IPY_MODEL_5b8456ddd09d48d8b782d04c0f5a8666"
      }
     },
     "bf0216a2f8b24c489de53ab167969b49": {
      "model_module": "@jupyter-widgets/base",
      "model_module_version": "1.0.0",
      "model_name": "LayoutModel",
      "state": {}
     },
     "c9aa90d11bec44f4aa17ca4467b7ff64": {
      "model_module": "@jupyter-widgets/base",
      "model_module_version": "1.0.0",
      "model_name": "LayoutModel",
      "state": {}
     },
     "cba8a7396c344ef49134b9b3b3577ef5": {
      "model_module": "@jupyter-widgets/controls",
      "model_module_version": "1.0.0",
      "model_name": "DescriptionStyleModel",
      "state": {
       "description_width": "initial"
      }
     },
     "dcca354f544646418d0eeb48fd1b5a9e": {
      "model_module": "@jupyter-widgets/base",
      "model_module_version": "1.0.0",
      "model_name": "LayoutModel",
      "state": {}
     },
     "de576513a12147e8bc083aeec4971950": {
      "model_module": "@jupyter-widgets/controls",
      "model_module_version": "1.0.0",
      "model_name": "DescriptionStyleModel",
      "state": {
       "description_width": ""
      }
     },
     "e4131453ffbf4876acdf9652cdb5b893": {
      "model_module": "@jupyter-widgets/controls",
      "model_module_version": "1.0.0",
      "model_name": "DescriptionStyleModel",
      "state": {
       "description_width": "initial"
      }
     },
     "eba521d82a8f43bd996a3598254ea209": {
      "model_module": "@jupyter-widgets/controls",
      "model_module_version": "1.0.0",
      "model_name": "DescriptionStyleModel",
      "state": {
       "description_width": ""
      }
     },
     "f4cbb854239940da8e36bc8f9611fd13": {
      "model_module": "@jupyter-widgets/base",
      "model_module_version": "1.0.0",
      "model_name": "LayoutModel",
      "state": {}
     },
     "fa7df53473e2422e9184a389817fa28a": {
      "model_module": "@jupyter-widgets/controls",
      "model_module_version": "1.0.0",
      "model_name": "HTMLModel",
      "state": {
       "layout": "IPY_MODEL_73d6a9e62f6d40938e21e2c7fd5daf6a",
       "style": "IPY_MODEL_eba521d82a8f43bd996a3598254ea209",
       "value": "<p   style='background-color: #DCDCDC; font-size:200; padding: 5px'>Physical</p>"
      }
     }
    },
    "version_major": 2,
    "version_minor": 0
   }
  }
 },
 "nbformat": 4,
 "nbformat_minor": 2
}
