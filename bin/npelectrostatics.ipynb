{
 "cells": [
  {
   "cell_type": "code",
   "execution_count": 1,
   "metadata": {
    "extensions": {
     "jupyter_dashboards": {
      "version": 1,
      "views": {
       "grid_default": {
        "hidden": true
       },
       "report_default": {
        "hidden": true
       }
      }
     }
    }
   },
   "outputs": [
    {
     "data": {
      "application/javascript": [
       "\n",
       "requirejs.undef('filepicker');\n",
       "\n",
       "define('filepicker', [\"jupyter-js-widgets\"], function(widgets) {\n",
       "\n",
       "    var FilePickerView = widgets.DOMWidgetView.extend({\n",
       "        render: function(){\n",
       "            this.file = document.createElement('input');\n",
       "            this.file.setAttribute('class', 'fileinput');\n",
       "            this.file.setAttribute('id', this.cid);\n",
       "            this.file.multiple = this.model.get('multiple');\n",
       "            this.file.required = true;\n",
       "            this.file.setAttribute('type', 'file');\n",
       "            this.file.setAttribute('style', 'display:none');\n",
       "\n",
       "            this.label = document.createElement('label');\n",
       "            this.label.setAttribute('for', this.cid);\n",
       "            this.label.setAttribute('style', 'border: 1px solid; border-radius: 5px; display: inline-block; padding: 6px 12px');\n",
       "\n",
       "            this.icon = document.createElement('i');\n",
       "            this.icon.setAttribute(\"class\", \"fa fa-upload\");\n",
       "\n",
       "            if (this.file.multiple) {\n",
       "                this.labelstr = \"  Upload Files\";\n",
       "            } else {\n",
       "                this.labelstr = \"  Upload File\";\n",
       "            }\n",
       "            this.label.innerHTML = this.labelstr;\n",
       "            this.label.prepend(this.icon);\n",
       "            this.el.appendChild(this.label);\n",
       "            this.el.appendChild(this.file);\n",
       "            this.update();\n",
       "        },\n",
       "\n",
       "        events: {\n",
       "            // List of events and their handlers.\n",
       "            'change': 'handle_file_change',\n",
       "        },\n",
       "\n",
       "        handle_file_change: function(evt) {\n",
       "\n",
       "            var that = this;\n",
       "            var files = evt.target.files;\n",
       "            var filenames = [];\n",
       "            var skipped = [];\n",
       "            var file_readers = [];\n",
       "\n",
       "            for (var i = 0; i < files.length; i++) {\n",
       "                var file = files[i];\n",
       "                console.log(\"Filename: \" + file.name);\n",
       "                console.log(\"Type: \" + file.type);\n",
       "                console.log(\"Size: \" + file.size + \" bytes\");\n",
       "                if (file.size > this.model.get('maxsize')) {\n",
       "                    skipped.push(file.name);\n",
       "                    continue;\n",
       "                };\n",
       "                filenames.push(file.name);\n",
       "\n",
       "                // Read the file's textual content and set value_i to those contents.\n",
       "                file_readers.push(new FileReader());\n",
       "                file_readers[i].onload = (function(file, i) {\n",
       "                    return function(e) {\n",
       "                        that.model.set('value_' + i, e.target.result);\n",
       "                        that.touch();\n",
       "                        console.log(\"file_\" + i + \" loaded: \" + file.name);\n",
       "                    };\n",
       "                })(file, i);\n",
       "                file_readers[i].readAsDataURL(file);\n",
       "            };\n",
       "\n",
       "            // update the label\n",
       "            if (filenames.length == 0) {\n",
       "                this.label.innerHTML = this.labelstr;\n",
       "            } else if (filenames.length == 1) {\n",
       "                this.label.innerHTML = \"  \" + filenames[0];\n",
       "            } else {\n",
       "                this.label.innerHTML = \"  \" + filenames.length + \" files selected\";\n",
       "            };\n",
       "            this.label.prepend(this.icon);\n",
       "\n",
       "            // Set the filenames of the files.\n",
       "            this.model.set('filenames', filenames);\n",
       "            this.model.set('skipped', skipped);\n",
       "            this.touch();\n",
       "        },\n",
       "    });\n",
       "\n",
       "    // Register the FilePickerView with the widget manager.\n",
       "    return {\n",
       "        FilePickerView: FilePickerView\n",
       "    };\n",
       "});\n"
      ],
      "text/plain": [
       "<IPython.core.display.Javascript object>"
      ]
     },
     "metadata": {},
     "output_type": "display_data"
    },
    {
     "data": {
      "text/html": [
       "\n",
       "<script>\n",
       "requirejs.config({\n",
       "    paths: {\n",
       "        'ace': ['//cdnjs.cloudflare.com/ajax/libs/ace/1.2.6/ace'],\n",
       "    },\n",
       "});\n",
       "\n",
       "require(['ace'], function(ace) {\n",
       "    console.log(\"ACE loaded :)\");\n",
       "    return {};\n",
       "});\n",
       "</script>\n",
       "\n",
       "<script>\n",
       "requirejs.undef('editor');\n",
       "\n",
       "define('editor', [\"jupyter-js-widgets\"], function(widgets) {\n",
       "\n",
       "    var EditorView = widgets.DOMWidgetView.extend({\n",
       "\n",
       "        // Render the view.\n",
       "        render: function() {\n",
       "            this.ignorex = false;\n",
       "            this.ignorev = false;\n",
       "            //console.log('RENDER '+this.model.get('name'));\n",
       "            this.div = document.createElement('div');\n",
       "            this.div.setAttribute('id', this.model.get('name'));\n",
       "            this.el.appendChild(this.div);\n",
       "            this.listenTo(this.model, 'change:state', this._state_changed, this);\n",
       "            this.listenTo(this.model, 'change:theme', this._theme_changed, this);\n",
       "            this.listenTo(this.model, 'change:mode', this._mode_changed, this);\n",
       "            this.listenTo(this.model, 'change:value2', this._value2_changed, this);\n",
       "            this.listenTo(this.model, 'change:showmargin', this._showmargin_changed, this);\n",
       "            this.listenTo(this.model, 'change:fontsize', this._fontsize_changed, this);\n",
       "            this.update();\n",
       "        },\n",
       "        update: function() {\n",
       "            return EditorView.__super__.update.apply(this);\n",
       "        },\n",
       "        // Tell Backbone to listen to the change event of input controls\n",
       "        events: {\n",
       "            \"change\": \"handle_color_change\"\n",
       "        },\n",
       "\n",
       "        _state_changed: function() {\n",
       "            var state = this.model.get('state')\n",
       "            //console.log('state: ' + state );\n",
       "            if (state == 'start') {\n",
       "                var that = this;\n",
       "                this._ed = ace.edit(this.model.get('name'));\n",
       "                this._ed.getSession().on('change', function(e) {\n",
       "                    if (that.ignorev == true) { return }\n",
       "                    that.ignorex = true;\n",
       "                    //console.log('CHANGE1');\n",
       "                    that.model.set('value2', that._ed.getValue());\n",
       "                    //console.log('CHANGE2');\n",
       "                    that.touch();\n",
       "                    //console.log('CHANGE3');\n",
       "                    that.ignorex = false;\n",
       "                });\n",
       "            };\n",
       "        },\n",
       "        _theme_changed: function() {\n",
       "            //console.log(\"theme \" + this.model.get('theme'));\n",
       "            this._ed.setTheme(\"ace/theme/\"+this.model.get('theme'));\n",
       "        },\n",
       "        _mode_changed: function() {\n",
       "            //console.log(\"mode \" + this.model.get('mode'));\n",
       "            this._ed.getSession().setMode(\"ace/mode/\"+this.model.get('mode'));\n",
       "        },\n",
       "        _value2_changed: function() {\n",
       "            //console.log('value2 ' + this.ignorex);\n",
       "            if (this.ignorex == true) { return };\n",
       "            var val = this.model.get('value2');\n",
       "            //console.log('VALUE2 ' + val);\n",
       "            this.ignorev = true;\n",
       "            this._ed.setValue(val);\n",
       "            this.ignorev = false;\n",
       "            //console.log('VALUE2 DONE');\n",
       "        },\n",
       "        _showmargin_changed: function() {\n",
       "            this._ed.setShowPrintMargin(this.model.get('showmargin'));\n",
       "        },\n",
       "        _fontsize_changed: function() {\n",
       "            document.getElementById(this.model.get('name')).style.fontSize=this.model.get('fontsize');\n",
       "        },\n",
       "\n",
       "        // Callback for when the color is changed.\n",
       "        handle_color_change: function(event) {\n",
       "            console.log('SOMETHING CHNAGED');\n",
       "            console.log(event);\n",
       "        },\n",
       "    });\n",
       "\n",
       "    return {\n",
       "        EditorView: EditorView\n",
       "    };\n",
       "});\n",
       "</script>\n"
      ],
      "text/plain": [
       "<IPython.core.display.HTML object>"
      ]
     },
     "metadata": {},
     "output_type": "display_data"
    }
   ],
   "source": [
    "%matplotlib notebook\n",
    "import matplotlib.pyplot as plt\n",
    "#plt.style.use('ggplot')\n",
    "import ipywidgets as widgets\n",
    "import sys, os, io, string, shutil, math\n",
    "from hublib.ui import Submit\n",
    "import hublib.use\n",
    "%use boost-1.62.0-mpich2-1.3-gnu-4.7.2\n",
    "import numpy as np\n",
    "import re\n",
    "import time\n",
    "from threading import Thread\n",
    "from io import StringIO\n",
    "\n",
    "style = {'description_width': 'initial'}"
   ]
  },
  {
   "cell_type": "code",
   "execution_count": 2,
   "metadata": {
    "extensions": {
     "jupyter_dashboards": {
      "version": 1,
      "views": {
       "grid_default": {
        "col": 0,
        "height": 2,
        "hidden": false,
        "row": 14,
        "width": 4
       },
       "report_default": {
        "hidden": true
       }
      }
     }
    }
   },
   "outputs": [
    {
     "data": {
      "application/vnd.jupyter.widget-view+json": {
       "model_id": "4a0320eb27fe4ee881b5d93d5eb22a72",
       "version_major": 2,
       "version_minor": 0
      },
      "text/html": [
       "<p>Failed to display Jupyter Widget of type <code>BoundedFloatText</code>.</p>\n",
       "<p>\n",
       "  If you're reading this message in the Jupyter Notebook or JupyterLab Notebook, it may mean\n",
       "  that the widgets JavaScript is still loading. If this message persists, it\n",
       "  likely means that the widgets JavaScript library is either not installed or\n",
       "  not enabled. See the <a href=\"https://ipywidgets.readthedocs.io/en/stable/user_install.html\">Jupyter\n",
       "  Widgets Documentation</a> for setup instructions.\n",
       "</p>\n",
       "<p>\n",
       "  If you're reading this message in another frontend (for example, a static\n",
       "  rendering on GitHub or <a href=\"https://nbviewer.jupyter.org/\">NBViewer</a>),\n",
       "  it may mean that your frontend doesn't currently support widgets.\n",
       "</p>\n"
      ],
      "text/plain": [
       "BoundedFloatText(value=78.5, description='Dielectric const inside NP:', max=78.5, min=2.0, step=0.1, style=DescriptionStyle(description_width='initial'))"
      ]
     },
     "metadata": {},
     "output_type": "display_data"
    }
   ],
   "source": [
    "e_np = widgets.BoundedFloatText(\n",
    "    value=78.5,\n",
    "    min=2,\n",
    "    max=78.5,\n",
    "    step=0.1,\n",
    "    description='Dielectric const inside NP:',\n",
    "    style=style,\n",
    ")\n",
    "e_np"
   ]
  },
  {
   "cell_type": "code",
   "execution_count": 3,
   "metadata": {
    "extensions": {
     "jupyter_dashboards": {
      "version": 1,
      "views": {
       "grid_default": {
        "col": 0,
        "height": 2,
        "hidden": false,
        "row": 18,
        "width": 4
       },
       "report_default": {
        "hidden": false
       }
      }
     }
    }
   },
   "outputs": [
    {
     "data": {
      "application/vnd.jupyter.widget-view+json": {
       "model_id": "9369028db7c94aba86f757f3e09fe5fb",
       "version_major": 2,
       "version_minor": 0
      },
      "text/html": [
       "<p>Failed to display Jupyter Widget of type <code>BoundedFloatText</code>.</p>\n",
       "<p>\n",
       "  If you're reading this message in the Jupyter Notebook or JupyterLab Notebook, it may mean\n",
       "  that the widgets JavaScript is still loading. If this message persists, it\n",
       "  likely means that the widgets JavaScript library is either not installed or\n",
       "  not enabled. See the <a href=\"https://ipywidgets.readthedocs.io/en/stable/user_install.html\">Jupyter\n",
       "  Widgets Documentation</a> for setup instructions.\n",
       "</p>\n",
       "<p>\n",
       "  If you're reading this message in another frontend (for example, a static\n",
       "  rendering on GitHub or <a href=\"https://nbviewer.jupyter.org/\">NBViewer</a>),\n",
       "  it may mean that your frontend doesn't currently support widgets.\n",
       "</p>\n"
      ],
      "text/plain": [
       "BoundedFloatText(value=78.5, description='Dielectric const outside NP:', max=78.5, min=2.0, step=0.1, style=DescriptionStyle(description_width='initial'))"
      ]
     },
     "metadata": {},
     "output_type": "display_data"
    }
   ],
   "source": [
    "e_out = widgets.BoundedFloatText(\n",
    "    value=78.5,\n",
    "    min=2,\n",
    "    max=78.5,\n",
    "    step=0.1,\n",
    "    description='Dielectric const outside NP:',\n",
    "    style=style,\n",
    ")\n",
    "e_out"
   ]
  },
  {
   "cell_type": "code",
   "execution_count": 4,
   "metadata": {
    "extensions": {
     "jupyter_dashboards": {
      "version": 1,
      "views": {
       "grid_default": {
        "col": 0,
        "height": 2,
        "hidden": false,
        "row": 22,
        "width": 4
       },
       "report_default": {
        "hidden": true
       }
      }
     }
    }
   },
   "outputs": [
    {
     "data": {
      "application/vnd.jupyter.widget-view+json": {
       "model_id": "5cba8a6f1571449bb7042b2306f563a8",
       "version_major": 2,
       "version_minor": 0
      },
      "text/html": [
       "<p>Failed to display Jupyter Widget of type <code>Dropdown</code>.</p>\n",
       "<p>\n",
       "  If you're reading this message in the Jupyter Notebook or JupyterLab Notebook, it may mean\n",
       "  that the widgets JavaScript is still loading. If this message persists, it\n",
       "  likely means that the widgets JavaScript library is either not installed or\n",
       "  not enabled. See the <a href=\"https://ipywidgets.readthedocs.io/en/stable/user_install.html\">Jupyter\n",
       "  Widgets Documentation</a> for setup instructions.\n",
       "</p>\n",
       "<p>\n",
       "  If you're reading this message in another frontend (for example, a static\n",
       "  rendering on GitHub or <a href=\"https://nbviewer.jupyter.org/\">NBViewer</a>),\n",
       "  it may mean that your frontend doesn't currently support widgets.\n",
       "</p>\n"
      ],
      "text/plain": [
       "Dropdown(description='Positive Ion Valency (z)', options={'1(monovalent)': 1, '2(divalent)': 2, '3(trivalent)': 3}, style=DescriptionStyle(description_width='initial'), value=1)"
      ]
     },
     "metadata": {},
     "output_type": "display_data"
    }
   ],
   "source": [
    "pion = widgets.Dropdown(\n",
    "    options={'1(monovalent)': 1, '2(divalent)': 2, '3(trivalent)': 3},\n",
    "    value=1,\n",
    "    description=\"Positive Ion Valency (z)\",\n",
    "    style=style\n",
    ")\n",
    "pion"
   ]
  },
  {
   "cell_type": "code",
   "execution_count": 5,
   "metadata": {
    "extensions": {
     "jupyter_dashboards": {
      "version": 1,
      "views": {
       "grid_default": {
        "col": 0,
        "height": 2,
        "hidden": false,
        "row": 16,
        "width": 4
       },
       "report_default": {
        "hidden": true
       }
      }
     }
    }
   },
   "outputs": [
    {
     "data": {
      "application/vnd.jupyter.widget-view+json": {
       "model_id": "f32d85cbcc7b4cb095052e25c49bbfa1",
       "version_major": 2,
       "version_minor": 0
      },
      "text/html": [
       "<p>Failed to display Jupyter Widget of type <code>BoundedFloatText</code>.</p>\n",
       "<p>\n",
       "  If you're reading this message in the Jupyter Notebook or JupyterLab Notebook, it may mean\n",
       "  that the widgets JavaScript is still loading. If this message persists, it\n",
       "  likely means that the widgets JavaScript library is either not installed or\n",
       "  not enabled. See the <a href=\"https://ipywidgets.readthedocs.io/en/stable/user_install.html\">Jupyter\n",
       "  Widgets Documentation</a> for setup instructions.\n",
       "</p>\n",
       "<p>\n",
       "  If you're reading this message in another frontend (for example, a static\n",
       "  rendering on GitHub or <a href=\"https://nbviewer.jupyter.org/\">NBViewer</a>),\n",
       "  it may mean that your frontend doesn't currently support widgets.\n",
       "</p>\n"
      ],
      "text/plain": [
       "BoundedFloatText(value=0.0, description='salt concentration outside:', max=0.4, step=0.1, style=DescriptionStyle(description_width='initial'))"
      ]
     },
     "metadata": {},
     "output_type": "display_data"
    }
   ],
   "source": [
    "c_out = widgets.BoundedFloatText(\n",
    "    value=0.0,\n",
    "    min=0.0,\n",
    "    max=0.4,\n",
    "    step=0.1,\n",
    "    description='salt concentration outside:',\n",
    "    style=style\n",
    ")\n",
    "c_out"
   ]
  },
  {
   "cell_type": "code",
   "execution_count": 6,
   "metadata": {
    "extensions": {
     "jupyter_dashboards": {
      "version": 1,
      "views": {
       "grid_default": {
        "col": 0,
        "height": 2,
        "hidden": false,
        "row": 20,
        "width": 4
       },
       "report_default": {
        "hidden": true
       }
      }
     }
    }
   },
   "outputs": [
    {
     "data": {
      "application/vnd.jupyter.widget-view+json": {
       "model_id": "16440edb4dd74fcba4a13aff0a8ee04f",
       "version_major": 2,
       "version_minor": 0
      },
      "text/html": [
       "<p>Failed to display Jupyter Widget of type <code>BoundedFloatText</code>.</p>\n",
       "<p>\n",
       "  If you're reading this message in the Jupyter Notebook or JupyterLab Notebook, it may mean\n",
       "  that the widgets JavaScript is still loading. If this message persists, it\n",
       "  likely means that the widgets JavaScript library is either not installed or\n",
       "  not enabled. See the <a href=\"https://ipywidgets.readthedocs.io/en/stable/user_install.html\">Jupyter\n",
       "  Widgets Documentation</a> for setup instructions.\n",
       "</p>\n",
       "<p>\n",
       "  If you're reading this message in another frontend (for example, a static\n",
       "  rendering on GitHub or <a href=\"https://nbviewer.jupyter.org/\">NBViewer</a>),\n",
       "  it may mean that your frontend doesn't currently support widgets.\n",
       "</p>\n"
      ],
      "text/plain": [
       "BoundedFloatText(value=2.6775, description='Nanoparticle Radius (nm):', max=5.0, min=2.0, step=0.001, style=DescriptionStyle(description_width='initial'))"
      ]
     },
     "metadata": {},
     "output_type": "display_data"
    }
   ],
   "source": [
    "np_radius = widgets.BoundedFloatText(\n",
    "    value=2.6775,\n",
    "    min=2,\n",
    "    max=5,\n",
    "    step=0.001,\n",
    "    description='Nanoparticle Radius (nm):',\n",
    "    style=style\n",
    ")\n",
    "np_radius"
   ]
  },
  {
   "cell_type": "code",
   "execution_count": 7,
   "metadata": {
    "extensions": {
     "jupyter_dashboards": {
      "version": 1,
      "views": {
       "grid_default": {
        "col": 0,
        "height": 2,
        "hidden": false,
        "row": 12,
        "width": 4
       },
       "report_default": {
        "hidden": true
       }
      }
     }
    }
   },
   "outputs": [
    {
     "data": {
      "application/vnd.jupyter.widget-view+json": {
       "model_id": "5257edf504bf4d378329a1c779ed337c",
       "version_major": 2,
       "version_minor": 0
      },
      "text/html": [
       "<p>Failed to display Jupyter Widget of type <code>BoundedFloatText</code>.</p>\n",
       "<p>\n",
       "  If you're reading this message in the Jupyter Notebook or JupyterLab Notebook, it may mean\n",
       "  that the widgets JavaScript is still loading. If this message persists, it\n",
       "  likely means that the widgets JavaScript library is either not installed or\n",
       "  not enabled. See the <a href=\"https://ipywidgets.readthedocs.io/en/stable/user_install.html\">Jupyter\n",
       "  Widgets Documentation</a> for setup instructions.\n",
       "</p>\n",
       "<p>\n",
       "  If you're reading this message in another frontend (for example, a static\n",
       "  rendering on GitHub or <a href=\"https://nbviewer.jupyter.org/\">NBViewer</a>),\n",
       "  it may mean that your frontend doesn't currently support widgets.\n",
       "</p>\n"
      ],
      "text/plain": [
       "BoundedFloatText(value=-60.0, description='Nanoparticle Charge:', max=-30.0, min=-300.0, step=-1.0, style=DescriptionStyle(description_width='initial'))"
      ]
     },
     "metadata": {},
     "output_type": "display_data"
    }
   ],
   "source": [
    "np_charge = widgets.BoundedFloatText(\n",
    "    value=-60,\n",
    "    min=-300,\n",
    "    max=-30,\n",
    "    step=-1,\n",
    "    description='Nanoparticle Charge:',\n",
    "    style=style\n",
    ")\n",
    "np_charge"
   ]
  },
  {
   "cell_type": "code",
   "execution_count": 8,
   "metadata": {
    "extensions": {
     "jupyter_dashboards": {
      "version": 1,
      "views": {
       "grid_default": {
        "col": 0,
        "height": 2,
        "hidden": false,
        "row": 24,
        "width": 4
       },
       "report_default": {
        "hidden": false
       }
      }
     }
    }
   },
   "outputs": [
    {
     "data": {
      "application/vnd.jupyter.widget-view+json": {
       "model_id": "09e304dca8034fa3a7aa33bf75215dbf",
       "version_major": 2,
       "version_minor": 0
      },
      "text/html": [
       "<p>Failed to display Jupyter Widget of type <code>BoundedIntText</code>.</p>\n",
       "<p>\n",
       "  If you're reading this message in the Jupyter Notebook or JupyterLab Notebook, it may mean\n",
       "  that the widgets JavaScript is still loading. If this message persists, it\n",
       "  likely means that the widgets JavaScript library is either not installed or\n",
       "  not enabled. See the <a href=\"https://ipywidgets.readthedocs.io/en/stable/user_install.html\">Jupyter\n",
       "  Widgets Documentation</a> for setup instructions.\n",
       "</p>\n",
       "<p>\n",
       "  If you're reading this message in another frontend (for example, a static\n",
       "  rendering on GitHub or <a href=\"https://nbviewer.jupyter.org/\">NBViewer</a>),\n",
       "  it may mean that your frontend doesn't currently support widgets.\n",
       "</p>\n"
      ],
      "text/plain": [
       "BoundedIntText(value=5000, description='Simulation Steps:', max=5000000, min=5000, step=100000, style=DescriptionStyle(description_width='initial'))"
      ]
     },
     "metadata": {},
     "output_type": "display_data"
    }
   ],
   "source": [
    "steps = widgets.BoundedIntText(\n",
    "    value=5000,\n",
    "    min=5000,\n",
    "    max=5000000,\n",
    "    step=100000,\n",
    "    description='Simulation Steps:',\n",
    "    style=style,\n",
    ")\n",
    "steps"
   ]
  },
  {
   "cell_type": "code",
   "execution_count": 9,
   "metadata": {
    "extensions": {
     "jupyter_dashboards": {
      "version": 1,
      "views": {
       "grid_default": {
        "hidden": true
       },
       "report_default": {
        "hidden": true
       }
      }
     }
    }
   },
   "outputs": [],
   "source": [
    "label_style = \"style='background-color: #DCDCDC; font-size:200; padding: 5px'\"\n",
    "def make_label(name, desc=\"\"):\n",
    "    lval = '<p  %s %s>%s</p>' % (desc, label_style, name)\n",
    "    return widgets.HTML(lval)\n",
    "\n",
    "plabel = make_label('Physical', '')\n",
    "clabel = make_label('Computing', '')"
   ]
  },
  {
   "cell_type": "code",
   "execution_count": 10,
   "metadata": {
    "extensions": {
     "jupyter_dashboards": {
      "version": 1,
      "views": {
       "grid_default": {
        "col": 0,
        "height": 12,
        "hidden": false,
        "row": 0,
        "width": 4
       },
       "report_default": {
        "hidden": false
       }
      }
     }
    }
   },
   "outputs": [
    {
     "data": {
      "application/vnd.jupyter.widget-view+json": {
       "model_id": "5cc05a23dc584cae9b08b83d88249bec",
       "version_major": 2,
       "version_minor": 0
      },
      "text/html": [
       "<p>Failed to display Jupyter Widget of type <code>HTML</code>.</p>\n",
       "<p>\n",
       "  If you're reading this message in the Jupyter Notebook or JupyterLab Notebook, it may mean\n",
       "  that the widgets JavaScript is still loading. If this message persists, it\n",
       "  likely means that the widgets JavaScript library is either not installed or\n",
       "  not enabled. See the <a href=\"https://ipywidgets.readthedocs.io/en/stable/user_install.html\">Jupyter\n",
       "  Widgets Documentation</a> for setup instructions.\n",
       "</p>\n",
       "<p>\n",
       "  If you're reading this message in another frontend (for example, a static\n",
       "  rendering on GitHub or <a href=\"https://nbviewer.jupyter.org/\">NBViewer</a>),\n",
       "  it may mean that your frontend doesn't currently support widgets.\n",
       "</p>\n"
      ],
      "text/plain": [
       "HTML(value='<img src=\"../webcontent/images/overview.jpg\" style=\"width: 500px\"/>')"
      ]
     },
     "metadata": {},
     "output_type": "display_data"
    }
   ],
   "source": [
    "image_html = widgets.HTML(\n",
    "    value='<img src=\"../webcontent/images/overview.jpg\" style=\"width: 500px\"/>',\n",
    ")\n",
    "image_html"
   ]
  },
  {
   "cell_type": "code",
   "execution_count": 11,
   "metadata": {
    "extensions": {
     "jupyter_dashboards": {
      "version": 1,
      "views": {
       "grid_default": {
        "col": 4,
        "height": 5,
        "hidden": false,
        "row": 0,
        "width": 8
       },
       "report_default": {
        "hidden": false
       }
      }
     }
    }
   },
   "outputs": [
    {
     "data": {
      "application/vnd.jupyter.widget-view+json": {
       "model_id": "99a6854eacc04bc187b94de256188169",
       "version_major": 2,
       "version_minor": 0
      },
      "text/html": [
       "<p>Failed to display Jupyter Widget of type <code>Textarea</code>.</p>\n",
       "<p>\n",
       "  If you're reading this message in the Jupyter Notebook or JupyterLab Notebook, it may mean\n",
       "  that the widgets JavaScript is still loading. If this message persists, it\n",
       "  likely means that the widgets JavaScript library is either not installed or\n",
       "  not enabled. See the <a href=\"https://ipywidgets.readthedocs.io/en/stable/user_install.html\">Jupyter\n",
       "  Widgets Documentation</a> for setup instructions.\n",
       "</p>\n",
       "<p>\n",
       "  If you're reading this message in another frontend (for example, a static\n",
       "  rendering on GitHub or <a href=\"https://nbviewer.jupyter.org/\">NBViewer</a>),\n",
       "  it may mean that your frontend doesn't currently support widgets.\n",
       "</p>\n"
      ],
      "text/plain": [
       "Textarea(value='This app enables users to simulate ions confined between nanoparticle (NP) surfaces in aqueous media. Nanoparticles can be synthetic (such as gold NPs) or natural (e.g. proteins) and the length of confinement is of the order of nanometers. Example systems include ion channel proteins of the cell membrane, adsorbed ions near surfaces of porous electrodes, and ions confined by NPs and/or colloidal particles. NP surfaces are assumed to be unpolarizable and are modeled as planar interfaces considering the large size difference between the ions and the NPs. \\nThe app facilitates investigations for a wide array of ionic and environmental parameters. Users can extract the ionic structure (density profile) and study its dependence on salt concentration (c), ion valency (z), and other physical attributes. \\nUsers can explore interesting effects by changing the c parameter from 0.3 to 0.9 M. This increase in density leads to crowding of the channel (confinement) with a large number of ions. The effect of symmetry breaking caused by the surfaces is seen: to avoid being pushed by ions from both the sides, an ion prefers the interface over the central region (bulk). The app enables users to explore this effect of ion accumulation near the interface, and make a quantitative assessment of ionic structure in strong confinement.\\nAnother rich avenue to explore is to tune the valency of positive ions (parameter z) from 1 to 3. A positively-charged multivalent ion (+3 Fe or +2 Ca) near an interface is pulled away from the interface by oppositely charged ions with a stronger force relative to the bulk where the symmetry allows for no preferred movement. Thus, stronger electrostatic interactions (as in the case of multivalent ions) tend to cause depletion of the ions from the interface. This app empowers users to investigate this depletion effect via accurate computation of the density profiles of ions. \\nEffects of changing other physical attributes such as confinement length and ion size are also available for users to explore. We invite users to take an inside look at what happens to the self-assembly of ions in these nanoscale channels by investigating the interplay of electrostatic effects and steric (or entropic) effects caused due to confinement, and measuring associated density profiles. \\nWhile we provide a default of 20000 steps for users to get started on exploring different features of the app by obtaining immediate results, converged results of smooth profiles are expected for around 1 million steps.', disabled=True, layout=Layout(height='150px', width='100%'), placeholder='')"
      ]
     },
     "metadata": {},
     "output_type": "display_data"
    }
   ],
   "source": [
    "about=widgets.Textarea(\n",
    "    value='This app enables users to simulate ions confined between nanoparticle (NP) surfaces in aqueous media. Nanoparticles can be synthetic (such as gold NPs) or natural (e.g. proteins) and the length of confinement is of the order of nanometers. Example systems include ion channel proteins of the cell membrane, adsorbed ions near surfaces of porous electrodes, and ions confined by NPs and/or colloidal particles. NP surfaces are assumed to be unpolarizable and are modeled as planar interfaces considering the large size difference between the ions and the NPs. \\nThe app facilitates investigations for a wide array of ionic and environmental parameters. Users can extract the ionic structure (density profile) and study its dependence on salt concentration (c), ion valency (z), and other physical attributes. \\nUsers can explore interesting effects by changing the c parameter from 0.3 to 0.9 M. This increase in density leads to crowding of the channel (confinement) with a large number of ions. The effect of symmetry breaking caused by the surfaces is seen: to avoid being pushed by ions from both the sides, an ion prefers the interface over the central region (bulk). The app enables users to explore this effect of ion accumulation near the interface, and make a quantitative assessment of ionic structure in strong confinement.\\nAnother rich avenue to explore is to tune the valency of positive ions (parameter z) from 1 to 3. A positively-charged multivalent ion (+3 Fe or +2 Ca) near an interface is pulled away from the interface by oppositely charged ions with a stronger force relative to the bulk where the symmetry allows for no preferred movement. Thus, stronger electrostatic interactions (as in the case of multivalent ions) tend to cause depletion of the ions from the interface. This app empowers users to investigate this depletion effect via accurate computation of the density profiles of ions. \\nEffects of changing other physical attributes such as confinement length and ion size are also available for users to explore. We invite users to take an inside look at what happens to the self-assembly of ions in these nanoscale channels by investigating the interplay of electrostatic effects and steric (or entropic) effects caused due to confinement, and measuring associated density profiles. \\nWhile we provide a default of 20000 steps for users to get started on exploring different features of the app by obtaining immediate results, converged results of smooth profiles are expected for around 1 million steps.',\n",
    "    placeholder='',\n",
    "    layout={'height': '150px','width': '100%'},\n",
    "    disabled=True\n",
    ")\n",
    "about"
   ]
  },
  {
   "cell_type": "code",
   "execution_count": 12,
   "metadata": {
    "extensions": {
     "jupyter_dashboards": {
      "version": 1,
      "views": {
       "grid_default": {
        "hidden": true
       },
       "report_default": {
        "hidden": true
       }
      }
     }
    }
   },
   "outputs": [],
   "source": [
    "\n",
    "runFlag=True\n",
    "working_dir=\"\"\n",
    "\n",
    "def callExe(s):\n",
    "    global runFlag, working_dir\n",
    "    \n",
    "    e_np_value = e_np.value\n",
    "    e_out_value = e_out.value\n",
    "    pion_value = pion.value\n",
    "    c_out_value = c_out.value\n",
    "    np_radius_value = np_radius.value\n",
    "    np_charge_value = np_charge.value\n",
    "    sim_steps_value = steps.value\n",
    "    walltime = 10\n",
    "    total_processors = 1\n",
    "    \n",
    "    print(\"Epsilon inside NP is\", e_np_value)\n",
    "    print(\"Epsilon outside NP is\", e_out_value)\n",
    "    print(\"Positive Ion Valency is\", pion_value)\n",
    "    print(\"Salt concentration outside is\", c_out_value)\n",
    "    print(\"Sphere(NP) radius is\", np_radius_value)\n",
    "    print(\"NP charge is\", np_charge_value)\n",
    "    print(\"simulation time step is\", sim_steps_value)\n",
    "    print (\"Requested walltime is \",walltime)\n",
    "    print (\"Requested total_processors are \", total_processors)\n",
    "    \n",
    "    shutil.rmtree('datafiles',True)\n",
    "    if not os.path.exists('datafiles'):\n",
    "        os.makedirs('datafiles')\n",
    "    shutil.rmtree('outfiles',True)\n",
    "    if not os.path.exists('outfiles'):\n",
    "        os.makedirs('outfiles')\n",
    "    shutil.rmtree('verifiles',True)\n",
    "    if not os.path.exists('verifiles'):\n",
    "        os.makedirs('verifiles')\n",
    "\n",
    "    # forcing OpenMP thread size, comment when deploying\n",
    "    os.environ[\"OMP_NUM_THREADS\"] = \"1\"\n",
    "\n",
    "    runName=''\n",
    "    \n",
    "    #computing parameters are scaled here.\n",
    "    hiteqm_P =int(sim_steps_value * 0.1);\n",
    "    writedata_U =int(sim_steps_value * 0.1);\n",
    "    writedensity_W =int(sim_steps_value * 0.1);\n",
    "    extra_compute_X = int(sim_steps_value * 0.01);\n",
    "    moviefreq_F = int(sim_steps_value * 0.01);\n",
    "    cpmd_verify_Y = int(sim_steps_value * 0.1); \n",
    "    \n",
    "    #submit_str = '--local -p \"@@Vin=%d:%d in %d\" /apps/pegtut/current/examples/capacitor_voltage/sim1.py  --Vin=@@Vin' % (vin.value[0], vin.value[1], steps.value)\n",
    "    \n",
    "    paraList = ' -a ' + str(np_radius_value) + ' -b ' + str(14.28) + ' -e ' + str(e_np_value) + ' -E ' + str(e_out_value) \\\n",
    "    + ' -V ' + str(np_charge_value) + ' -v ' + str(pion_value) + ' -g ' + str(132) + ' -m ' + str(6) + ' -t ' \\\n",
    "    + str(0.001) + ' -s ' + str(10000) + ' -p ' + str(100) + ' -f ' + str(10) + ' -M ' + str(6) + ' -T ' \\\n",
    "    + str(0.001) + ' -k ' + str(0.0025) + ' -q ' + str(0.001) + ' -L ' + str(5) + ' -l ' + str(5) \\\n",
    "    + ' -S ' + str(sim_steps_value) + ' -P ' + str(hiteqm_P) + ' -F ' + str(moviefreq_F) \\\n",
    "    + ' -X ' + str(extra_compute_X) + ' -U ' + str(writedata_U) + ' -Y ' + str(cpmd_verify_Y) \\\n",
    "    + ' -W ' + str(writedensity_W) + ' -B ' + str(0.025)\n",
    "    \n",
    "    #starting a thread for on the fly density plot\n",
    "    t2 = Thread(target=iterative_density_plot)\n",
    "    t2.start()\n",
    "    \n",
    "    try:\n",
    "        #rname = s.make_rname(e_np_value, e_out_value, pion_value, c_out_value, np_radius_value, np_charge_value, sim_steps_value)\n",
    "         \n",
    "        submit_str = '--local mpirun -np 1 ./np_electrostatics_lab' + paraList\n",
    "        #submit_str = '--local pwd'\n",
    "        s.run(runName, submit_str)\n",
    "        \n",
    "    except  Exception as e:\n",
    "        sys.stderr.write('Error occured during the execution of np_electrostatics_lab')\n",
    "        sys.stderr.write(str(e))\n",
    "        sys.exit(1)\n",
    "    \n",
    "    time.sleep(1)\n",
    "    runFlag = False\n",
    "    t2.join()\n",
    "        \n",
    "    \n",
    "        \n",
    "  "
   ]
  },
  {
   "cell_type": "code",
   "execution_count": 13,
   "metadata": {
    "extensions": {
     "jupyter_dashboards": {
      "version": 1,
      "views": {
       "grid_default": {
        "hidden": true
       },
       "report_default": {
        "hidden": true
       }
      }
     }
    }
   },
   "outputs": [],
   "source": [
    "# after the run finished, optionally do something\n",
    "# with the output\n",
    "def plot_data(s, rdir):\n",
    "    #We ignore rdir because submit puts non-parametric runs in the current directory\n",
    "    # When caching is enabled, they get put in a chached directory and rdit is always used. \n",
    "    plt.clf()  # clear old plot\n",
    "    plt.figure('Distribution of positive ions near the nanoparticle surface')\n",
    "    plt.xlabel('Distance from the center of the nanoparticle (R = 0 is the midpoint)(nm)', fontsize=10)\n",
    "    plt.ylabel('Density(M)', fontsize=10)\n",
    "    \n",
    "    # our simulation writes to outfiles -> density_profile.dat\n",
    "    try:\n",
    "        density_profile = np.loadtxt(working_dir + 'outfiles/density_profile.dat')\n",
    "    except:\n",
    "        sys.stderr.write('Can not find the positive density results file')\n",
    "        sys.exit(1)\n",
    "        \n",
    "    x = density_profile[:,0]\n",
    "    y = density_profile[:,1]\n",
    "    yrr = density_profile[:,2]\n",
    "    plt.errorbar(x,y,xerr=0.0, yerr=yrr, c='b', ecolor='r', capsize=2)\n",
    "    \n",
    "    plt.show()"
   ]
  },
  {
   "cell_type": "code",
   "execution_count": 14,
   "metadata": {
    "extensions": {
     "jupyter_dashboards": {
      "version": 1,
      "views": {
       "grid_default": {
        "hidden": true
       },
       "report_default": {}
      }
     }
    }
   },
   "outputs": [],
   "source": [
    "def iterative_density_plot():\n",
    "    global runFlag, working_dir\n",
    "    preFileName=''\n",
    "    while runFlag:\n",
    "        list_of_files = os.listdir(working_dir + \"datafiles\")\n",
    "        print('File List: '+ str(list_of_files))\n",
    "        \n",
    "        if list_of_files:\n",
    "            fileName=max(list_of_files,key=extract_number)\n",
    "            if preFileName != fileName:\n",
    "                preFileName = fileName\n",
    "                density_plot(fileName)\n",
    "            print('doing this  '+ fileName )\n",
    "        time.sleep(0.1)\n",
    "\n",
    "def extract_number(f):\n",
    "    s = re.findall(\"\\d+$\",f)\n",
    "    return (int(s[0]) if s else -1,f)"
   ]
  },
  {
   "cell_type": "code",
   "execution_count": 15,
   "metadata": {
    "extensions": {
     "jupyter_dashboards": {
      "version": 1,
      "views": {
       "grid_default": {
        "hidden": true
       },
       "report_default": {}
      }
     }
    }
   },
   "outputs": [],
   "source": [
    "def density_plot(filepathname):\n",
    "    plt.clf()  # clear old plot\n",
    "    timeStep = int(re.search(r'\\d+', filepathname).group())\n",
    "    plt.figure('Distribution of positive ions near the nanoparticle surface at time step = ' + str(timeStep))\n",
    "    plt.xlabel('Distance from the center of the nanoparticle (R = 0 is the midpoint)(nm)', fontsize=10)\n",
    "    plt.ylabel('Density(M)', fontsize=10)\n",
    "    print(filepathname)\n",
    "    # our simulation writes to datafiles -> _den_******.dat\n",
    "    #try:\n",
    "    density_profile = np.loadtxt(working_dir + 'datafiles/'+ filepathname)\n",
    "    #except:\n",
    "    #    sys.stderr.write('Can not find the positive density results file')\n",
    "    #   sys.exit(1)\n",
    "\n",
    "    x = density_profile[:,0]\n",
    "    y = density_profile[:,1]\n",
    "    plt.polt(x,y,'r-')\n",
    "\n",
    "    plt.show()\n",
    "    "
   ]
  },
  {
   "cell_type": "code",
   "execution_count": 16,
   "metadata": {
    "extensions": {
     "jupyter_dashboards": {
      "version": 1,
      "views": {
       "grid_default": {
        "col": 4,
        "height": 21,
        "hidden": false,
        "row": 5,
        "width": 8
       },
       "report_default": {
        "hidden": false
       }
      }
     }
    }
   },
   "outputs": [
    {
     "data": {
      "application/javascript": [
       "/* Put everything inside the global mpl namespace */\n",
       "window.mpl = {};\n",
       "\n",
       "\n",
       "mpl.get_websocket_type = function() {\n",
       "    if (typeof(WebSocket) !== 'undefined') {\n",
       "        return WebSocket;\n",
       "    } else if (typeof(MozWebSocket) !== 'undefined') {\n",
       "        return MozWebSocket;\n",
       "    } else {\n",
       "        alert('Your browser does not have WebSocket support.' +\n",
       "              'Please try Chrome, Safari or Firefox ≥ 6. ' +\n",
       "              'Firefox 4 and 5 are also supported but you ' +\n",
       "              'have to enable WebSockets in about:config.');\n",
       "    };\n",
       "}\n",
       "\n",
       "mpl.figure = function(figure_id, websocket, ondownload, parent_element) {\n",
       "    this.id = figure_id;\n",
       "\n",
       "    this.ws = websocket;\n",
       "\n",
       "    this.supports_binary = (this.ws.binaryType != undefined);\n",
       "\n",
       "    if (!this.supports_binary) {\n",
       "        var warnings = document.getElementById(\"mpl-warnings\");\n",
       "        if (warnings) {\n",
       "            warnings.style.display = 'block';\n",
       "            warnings.textContent = (\n",
       "                \"This browser does not support binary websocket messages. \" +\n",
       "                    \"Performance may be slow.\");\n",
       "        }\n",
       "    }\n",
       "\n",
       "    this.imageObj = new Image();\n",
       "\n",
       "    this.context = undefined;\n",
       "    this.message = undefined;\n",
       "    this.canvas = undefined;\n",
       "    this.rubberband_canvas = undefined;\n",
       "    this.rubberband_context = undefined;\n",
       "    this.format_dropdown = undefined;\n",
       "\n",
       "    this.image_mode = 'full';\n",
       "\n",
       "    this.root = $('<div/>');\n",
       "    this._root_extra_style(this.root)\n",
       "    this.root.attr('style', 'display: inline-block');\n",
       "\n",
       "    $(parent_element).append(this.root);\n",
       "\n",
       "    this._init_header(this);\n",
       "    this._init_canvas(this);\n",
       "    this._init_toolbar(this);\n",
       "\n",
       "    var fig = this;\n",
       "\n",
       "    this.waiting = false;\n",
       "\n",
       "    this.ws.onopen =  function () {\n",
       "            fig.send_message(\"supports_binary\", {value: fig.supports_binary});\n",
       "            fig.send_message(\"send_image_mode\", {});\n",
       "            if (mpl.ratio != 1) {\n",
       "                fig.send_message(\"set_dpi_ratio\", {'dpi_ratio': mpl.ratio});\n",
       "            }\n",
       "            fig.send_message(\"refresh\", {});\n",
       "        }\n",
       "\n",
       "    this.imageObj.onload = function() {\n",
       "            if (fig.image_mode == 'full') {\n",
       "                // Full images could contain transparency (where diff images\n",
       "                // almost always do), so we need to clear the canvas so that\n",
       "                // there is no ghosting.\n",
       "                fig.context.clearRect(0, 0, fig.canvas.width, fig.canvas.height);\n",
       "            }\n",
       "            fig.context.drawImage(fig.imageObj, 0, 0);\n",
       "        };\n",
       "\n",
       "    this.imageObj.onunload = function() {\n",
       "        this.ws.close();\n",
       "    }\n",
       "\n",
       "    this.ws.onmessage = this._make_on_message_function(this);\n",
       "\n",
       "    this.ondownload = ondownload;\n",
       "}\n",
       "\n",
       "mpl.figure.prototype._init_header = function() {\n",
       "    var titlebar = $(\n",
       "        '<div class=\"ui-dialog-titlebar ui-widget-header ui-corner-all ' +\n",
       "        'ui-helper-clearfix\"/>');\n",
       "    var titletext = $(\n",
       "        '<div class=\"ui-dialog-title\" style=\"width: 100%; ' +\n",
       "        'text-align: center; padding: 3px;\"/>');\n",
       "    titlebar.append(titletext)\n",
       "    this.root.append(titlebar);\n",
       "    this.header = titletext[0];\n",
       "}\n",
       "\n",
       "\n",
       "\n",
       "mpl.figure.prototype._canvas_extra_style = function(canvas_div) {\n",
       "\n",
       "}\n",
       "\n",
       "\n",
       "mpl.figure.prototype._root_extra_style = function(canvas_div) {\n",
       "\n",
       "}\n",
       "\n",
       "mpl.figure.prototype._init_canvas = function() {\n",
       "    var fig = this;\n",
       "\n",
       "    var canvas_div = $('<div/>');\n",
       "\n",
       "    canvas_div.attr('style', 'position: relative; clear: both; outline: 0');\n",
       "\n",
       "    function canvas_keyboard_event(event) {\n",
       "        return fig.key_event(event, event['data']);\n",
       "    }\n",
       "\n",
       "    canvas_div.keydown('key_press', canvas_keyboard_event);\n",
       "    canvas_div.keyup('key_release', canvas_keyboard_event);\n",
       "    this.canvas_div = canvas_div\n",
       "    this._canvas_extra_style(canvas_div)\n",
       "    this.root.append(canvas_div);\n",
       "\n",
       "    var canvas = $('<canvas/>');\n",
       "    canvas.addClass('mpl-canvas');\n",
       "    canvas.attr('style', \"left: 0; top: 0; z-index: 0; outline: 0\")\n",
       "\n",
       "    this.canvas = canvas[0];\n",
       "    this.context = canvas[0].getContext(\"2d\");\n",
       "\n",
       "    var backingStore = this.context.backingStorePixelRatio ||\n",
       "\tthis.context.webkitBackingStorePixelRatio ||\n",
       "\tthis.context.mozBackingStorePixelRatio ||\n",
       "\tthis.context.msBackingStorePixelRatio ||\n",
       "\tthis.context.oBackingStorePixelRatio ||\n",
       "\tthis.context.backingStorePixelRatio || 1;\n",
       "\n",
       "    mpl.ratio = (window.devicePixelRatio || 1) / backingStore;\n",
       "\n",
       "    var rubberband = $('<canvas/>');\n",
       "    rubberband.attr('style', \"position: absolute; left: 0; top: 0; z-index: 1;\")\n",
       "\n",
       "    var pass_mouse_events = true;\n",
       "\n",
       "    canvas_div.resizable({\n",
       "        start: function(event, ui) {\n",
       "            pass_mouse_events = false;\n",
       "        },\n",
       "        resize: function(event, ui) {\n",
       "            fig.request_resize(ui.size.width, ui.size.height);\n",
       "        },\n",
       "        stop: function(event, ui) {\n",
       "            pass_mouse_events = true;\n",
       "            fig.request_resize(ui.size.width, ui.size.height);\n",
       "        },\n",
       "    });\n",
       "\n",
       "    function mouse_event_fn(event) {\n",
       "        if (pass_mouse_events)\n",
       "            return fig.mouse_event(event, event['data']);\n",
       "    }\n",
       "\n",
       "    rubberband.mousedown('button_press', mouse_event_fn);\n",
       "    rubberband.mouseup('button_release', mouse_event_fn);\n",
       "    // Throttle sequential mouse events to 1 every 20ms.\n",
       "    rubberband.mousemove('motion_notify', mouse_event_fn);\n",
       "\n",
       "    rubberband.mouseenter('figure_enter', mouse_event_fn);\n",
       "    rubberband.mouseleave('figure_leave', mouse_event_fn);\n",
       "\n",
       "    canvas_div.on(\"wheel\", function (event) {\n",
       "        event = event.originalEvent;\n",
       "        event['data'] = 'scroll'\n",
       "        if (event.deltaY < 0) {\n",
       "            event.step = 1;\n",
       "        } else {\n",
       "            event.step = -1;\n",
       "        }\n",
       "        mouse_event_fn(event);\n",
       "    });\n",
       "\n",
       "    canvas_div.append(canvas);\n",
       "    canvas_div.append(rubberband);\n",
       "\n",
       "    this.rubberband = rubberband;\n",
       "    this.rubberband_canvas = rubberband[0];\n",
       "    this.rubberband_context = rubberband[0].getContext(\"2d\");\n",
       "    this.rubberband_context.strokeStyle = \"#000000\";\n",
       "\n",
       "    this._resize_canvas = function(width, height) {\n",
       "        // Keep the size of the canvas, canvas container, and rubber band\n",
       "        // canvas in synch.\n",
       "        canvas_div.css('width', width)\n",
       "        canvas_div.css('height', height)\n",
       "\n",
       "        canvas.attr('width', width * mpl.ratio);\n",
       "        canvas.attr('height', height * mpl.ratio);\n",
       "        canvas.attr('style', 'width: ' + width + 'px; height: ' + height + 'px;');\n",
       "\n",
       "        rubberband.attr('width', width);\n",
       "        rubberband.attr('height', height);\n",
       "    }\n",
       "\n",
       "    // Set the figure to an initial 600x600px, this will subsequently be updated\n",
       "    // upon first draw.\n",
       "    this._resize_canvas(600, 600);\n",
       "\n",
       "    // Disable right mouse context menu.\n",
       "    $(this.rubberband_canvas).bind(\"contextmenu\",function(e){\n",
       "        return false;\n",
       "    });\n",
       "\n",
       "    function set_focus () {\n",
       "        canvas.focus();\n",
       "        canvas_div.focus();\n",
       "    }\n",
       "\n",
       "    window.setTimeout(set_focus, 100);\n",
       "}\n",
       "\n",
       "mpl.figure.prototype._init_toolbar = function() {\n",
       "    var fig = this;\n",
       "\n",
       "    var nav_element = $('<div/>')\n",
       "    nav_element.attr('style', 'width: 100%');\n",
       "    this.root.append(nav_element);\n",
       "\n",
       "    // Define a callback function for later on.\n",
       "    function toolbar_event(event) {\n",
       "        return fig.toolbar_button_onclick(event['data']);\n",
       "    }\n",
       "    function toolbar_mouse_event(event) {\n",
       "        return fig.toolbar_button_onmouseover(event['data']);\n",
       "    }\n",
       "\n",
       "    for(var toolbar_ind in mpl.toolbar_items) {\n",
       "        var name = mpl.toolbar_items[toolbar_ind][0];\n",
       "        var tooltip = mpl.toolbar_items[toolbar_ind][1];\n",
       "        var image = mpl.toolbar_items[toolbar_ind][2];\n",
       "        var method_name = mpl.toolbar_items[toolbar_ind][3];\n",
       "\n",
       "        if (!name) {\n",
       "            // put a spacer in here.\n",
       "            continue;\n",
       "        }\n",
       "        var button = $('<button/>');\n",
       "        button.addClass('ui-button ui-widget ui-state-default ui-corner-all ' +\n",
       "                        'ui-button-icon-only');\n",
       "        button.attr('role', 'button');\n",
       "        button.attr('aria-disabled', 'false');\n",
       "        button.click(method_name, toolbar_event);\n",
       "        button.mouseover(tooltip, toolbar_mouse_event);\n",
       "\n",
       "        var icon_img = $('<span/>');\n",
       "        icon_img.addClass('ui-button-icon-primary ui-icon');\n",
       "        icon_img.addClass(image);\n",
       "        icon_img.addClass('ui-corner-all');\n",
       "\n",
       "        var tooltip_span = $('<span/>');\n",
       "        tooltip_span.addClass('ui-button-text');\n",
       "        tooltip_span.html(tooltip);\n",
       "\n",
       "        button.append(icon_img);\n",
       "        button.append(tooltip_span);\n",
       "\n",
       "        nav_element.append(button);\n",
       "    }\n",
       "\n",
       "    var fmt_picker_span = $('<span/>');\n",
       "\n",
       "    var fmt_picker = $('<select/>');\n",
       "    fmt_picker.addClass('mpl-toolbar-option ui-widget ui-widget-content');\n",
       "    fmt_picker_span.append(fmt_picker);\n",
       "    nav_element.append(fmt_picker_span);\n",
       "    this.format_dropdown = fmt_picker[0];\n",
       "\n",
       "    for (var ind in mpl.extensions) {\n",
       "        var fmt = mpl.extensions[ind];\n",
       "        var option = $(\n",
       "            '<option/>', {selected: fmt === mpl.default_extension}).html(fmt);\n",
       "        fmt_picker.append(option)\n",
       "    }\n",
       "\n",
       "    // Add hover states to the ui-buttons\n",
       "    $( \".ui-button\" ).hover(\n",
       "        function() { $(this).addClass(\"ui-state-hover\");},\n",
       "        function() { $(this).removeClass(\"ui-state-hover\");}\n",
       "    );\n",
       "\n",
       "    var status_bar = $('<span class=\"mpl-message\"/>');\n",
       "    nav_element.append(status_bar);\n",
       "    this.message = status_bar[0];\n",
       "}\n",
       "\n",
       "mpl.figure.prototype.request_resize = function(x_pixels, y_pixels) {\n",
       "    // Request matplotlib to resize the figure. Matplotlib will then trigger a resize in the client,\n",
       "    // which will in turn request a refresh of the image.\n",
       "    this.send_message('resize', {'width': x_pixels, 'height': y_pixels});\n",
       "}\n",
       "\n",
       "mpl.figure.prototype.send_message = function(type, properties) {\n",
       "    properties['type'] = type;\n",
       "    properties['figure_id'] = this.id;\n",
       "    this.ws.send(JSON.stringify(properties));\n",
       "}\n",
       "\n",
       "mpl.figure.prototype.send_draw_message = function() {\n",
       "    if (!this.waiting) {\n",
       "        this.waiting = true;\n",
       "        this.ws.send(JSON.stringify({type: \"draw\", figure_id: this.id}));\n",
       "    }\n",
       "}\n",
       "\n",
       "\n",
       "mpl.figure.prototype.handle_save = function(fig, msg) {\n",
       "    var format_dropdown = fig.format_dropdown;\n",
       "    var format = format_dropdown.options[format_dropdown.selectedIndex].value;\n",
       "    fig.ondownload(fig, format);\n",
       "}\n",
       "\n",
       "\n",
       "mpl.figure.prototype.handle_resize = function(fig, msg) {\n",
       "    var size = msg['size'];\n",
       "    if (size[0] != fig.canvas.width || size[1] != fig.canvas.height) {\n",
       "        fig._resize_canvas(size[0], size[1]);\n",
       "        fig.send_message(\"refresh\", {});\n",
       "    };\n",
       "}\n",
       "\n",
       "mpl.figure.prototype.handle_rubberband = function(fig, msg) {\n",
       "    var x0 = msg['x0'] / mpl.ratio;\n",
       "    var y0 = (fig.canvas.height - msg['y0']) / mpl.ratio;\n",
       "    var x1 = msg['x1'] / mpl.ratio;\n",
       "    var y1 = (fig.canvas.height - msg['y1']) / mpl.ratio;\n",
       "    x0 = Math.floor(x0) + 0.5;\n",
       "    y0 = Math.floor(y0) + 0.5;\n",
       "    x1 = Math.floor(x1) + 0.5;\n",
       "    y1 = Math.floor(y1) + 0.5;\n",
       "    var min_x = Math.min(x0, x1);\n",
       "    var min_y = Math.min(y0, y1);\n",
       "    var width = Math.abs(x1 - x0);\n",
       "    var height = Math.abs(y1 - y0);\n",
       "\n",
       "    fig.rubberband_context.clearRect(\n",
       "        0, 0, fig.canvas.width, fig.canvas.height);\n",
       "\n",
       "    fig.rubberband_context.strokeRect(min_x, min_y, width, height);\n",
       "}\n",
       "\n",
       "mpl.figure.prototype.handle_figure_label = function(fig, msg) {\n",
       "    // Updates the figure title.\n",
       "    fig.header.textContent = msg['label'];\n",
       "}\n",
       "\n",
       "mpl.figure.prototype.handle_cursor = function(fig, msg) {\n",
       "    var cursor = msg['cursor'];\n",
       "    switch(cursor)\n",
       "    {\n",
       "    case 0:\n",
       "        cursor = 'pointer';\n",
       "        break;\n",
       "    case 1:\n",
       "        cursor = 'default';\n",
       "        break;\n",
       "    case 2:\n",
       "        cursor = 'crosshair';\n",
       "        break;\n",
       "    case 3:\n",
       "        cursor = 'move';\n",
       "        break;\n",
       "    }\n",
       "    fig.rubberband_canvas.style.cursor = cursor;\n",
       "}\n",
       "\n",
       "mpl.figure.prototype.handle_message = function(fig, msg) {\n",
       "    fig.message.textContent = msg['message'];\n",
       "}\n",
       "\n",
       "mpl.figure.prototype.handle_draw = function(fig, msg) {\n",
       "    // Request the server to send over a new figure.\n",
       "    fig.send_draw_message();\n",
       "}\n",
       "\n",
       "mpl.figure.prototype.handle_image_mode = function(fig, msg) {\n",
       "    fig.image_mode = msg['mode'];\n",
       "}\n",
       "\n",
       "mpl.figure.prototype.updated_canvas_event = function() {\n",
       "    // Called whenever the canvas gets updated.\n",
       "    this.send_message(\"ack\", {});\n",
       "}\n",
       "\n",
       "// A function to construct a web socket function for onmessage handling.\n",
       "// Called in the figure constructor.\n",
       "mpl.figure.prototype._make_on_message_function = function(fig) {\n",
       "    return function socket_on_message(evt) {\n",
       "        if (evt.data instanceof Blob) {\n",
       "            /* FIXME: We get \"Resource interpreted as Image but\n",
       "             * transferred with MIME type text/plain:\" errors on\n",
       "             * Chrome.  But how to set the MIME type?  It doesn't seem\n",
       "             * to be part of the websocket stream */\n",
       "            evt.data.type = \"image/png\";\n",
       "\n",
       "            /* Free the memory for the previous frames */\n",
       "            if (fig.imageObj.src) {\n",
       "                (window.URL || window.webkitURL).revokeObjectURL(\n",
       "                    fig.imageObj.src);\n",
       "            }\n",
       "\n",
       "            fig.imageObj.src = (window.URL || window.webkitURL).createObjectURL(\n",
       "                evt.data);\n",
       "            fig.updated_canvas_event();\n",
       "            fig.waiting = false;\n",
       "            return;\n",
       "        }\n",
       "        else if (typeof evt.data === 'string' && evt.data.slice(0, 21) == \"data:image/png;base64\") {\n",
       "            fig.imageObj.src = evt.data;\n",
       "            fig.updated_canvas_event();\n",
       "            fig.waiting = false;\n",
       "            return;\n",
       "        }\n",
       "\n",
       "        var msg = JSON.parse(evt.data);\n",
       "        var msg_type = msg['type'];\n",
       "\n",
       "        // Call the  \"handle_{type}\" callback, which takes\n",
       "        // the figure and JSON message as its only arguments.\n",
       "        try {\n",
       "            var callback = fig[\"handle_\" + msg_type];\n",
       "        } catch (e) {\n",
       "            console.log(\"No handler for the '\" + msg_type + \"' message type: \", msg);\n",
       "            return;\n",
       "        }\n",
       "\n",
       "        if (callback) {\n",
       "            try {\n",
       "                // console.log(\"Handling '\" + msg_type + \"' message: \", msg);\n",
       "                callback(fig, msg);\n",
       "            } catch (e) {\n",
       "                console.log(\"Exception inside the 'handler_\" + msg_type + \"' callback:\", e, e.stack, msg);\n",
       "            }\n",
       "        }\n",
       "    };\n",
       "}\n",
       "\n",
       "// from http://stackoverflow.com/questions/1114465/getting-mouse-location-in-canvas\n",
       "mpl.findpos = function(e) {\n",
       "    //this section is from http://www.quirksmode.org/js/events_properties.html\n",
       "    var targ;\n",
       "    if (!e)\n",
       "        e = window.event;\n",
       "    if (e.target)\n",
       "        targ = e.target;\n",
       "    else if (e.srcElement)\n",
       "        targ = e.srcElement;\n",
       "    if (targ.nodeType == 3) // defeat Safari bug\n",
       "        targ = targ.parentNode;\n",
       "\n",
       "    // jQuery normalizes the pageX and pageY\n",
       "    // pageX,Y are the mouse positions relative to the document\n",
       "    // offset() returns the position of the element relative to the document\n",
       "    var x = e.pageX - $(targ).offset().left;\n",
       "    var y = e.pageY - $(targ).offset().top;\n",
       "\n",
       "    return {\"x\": x, \"y\": y};\n",
       "};\n",
       "\n",
       "/*\n",
       " * return a copy of an object with only non-object keys\n",
       " * we need this to avoid circular references\n",
       " * http://stackoverflow.com/a/24161582/3208463\n",
       " */\n",
       "function simpleKeys (original) {\n",
       "  return Object.keys(original).reduce(function (obj, key) {\n",
       "    if (typeof original[key] !== 'object')\n",
       "        obj[key] = original[key]\n",
       "    return obj;\n",
       "  }, {});\n",
       "}\n",
       "\n",
       "mpl.figure.prototype.mouse_event = function(event, name) {\n",
       "    var canvas_pos = mpl.findpos(event)\n",
       "\n",
       "    if (name === 'button_press')\n",
       "    {\n",
       "        this.canvas.focus();\n",
       "        this.canvas_div.focus();\n",
       "    }\n",
       "\n",
       "    var x = canvas_pos.x * mpl.ratio;\n",
       "    var y = canvas_pos.y * mpl.ratio;\n",
       "\n",
       "    this.send_message(name, {x: x, y: y, button: event.button,\n",
       "                             step: event.step,\n",
       "                             guiEvent: simpleKeys(event)});\n",
       "\n",
       "    /* This prevents the web browser from automatically changing to\n",
       "     * the text insertion cursor when the button is pressed.  We want\n",
       "     * to control all of the cursor setting manually through the\n",
       "     * 'cursor' event from matplotlib */\n",
       "    event.preventDefault();\n",
       "    return false;\n",
       "}\n",
       "\n",
       "mpl.figure.prototype._key_event_extra = function(event, name) {\n",
       "    // Handle any extra behaviour associated with a key event\n",
       "}\n",
       "\n",
       "mpl.figure.prototype.key_event = function(event, name) {\n",
       "\n",
       "    // Prevent repeat events\n",
       "    if (name == 'key_press')\n",
       "    {\n",
       "        if (event.which === this._key)\n",
       "            return;\n",
       "        else\n",
       "            this._key = event.which;\n",
       "    }\n",
       "    if (name == 'key_release')\n",
       "        this._key = null;\n",
       "\n",
       "    var value = '';\n",
       "    if (event.ctrlKey && event.which != 17)\n",
       "        value += \"ctrl+\";\n",
       "    if (event.altKey && event.which != 18)\n",
       "        value += \"alt+\";\n",
       "    if (event.shiftKey && event.which != 16)\n",
       "        value += \"shift+\";\n",
       "\n",
       "    value += 'k';\n",
       "    value += event.which.toString();\n",
       "\n",
       "    this._key_event_extra(event, name);\n",
       "\n",
       "    this.send_message(name, {key: value,\n",
       "                             guiEvent: simpleKeys(event)});\n",
       "    return false;\n",
       "}\n",
       "\n",
       "mpl.figure.prototype.toolbar_button_onclick = function(name) {\n",
       "    if (name == 'download') {\n",
       "        this.handle_save(this, null);\n",
       "    } else {\n",
       "        this.send_message(\"toolbar_button\", {name: name});\n",
       "    }\n",
       "};\n",
       "\n",
       "mpl.figure.prototype.toolbar_button_onmouseover = function(tooltip) {\n",
       "    this.message.textContent = tooltip;\n",
       "};\n",
       "mpl.toolbar_items = [[\"Home\", \"Reset original view\", \"fa fa-home icon-home\", \"home\"], [\"Back\", \"Back to  previous view\", \"fa fa-arrow-left icon-arrow-left\", \"back\"], [\"Forward\", \"Forward to next view\", \"fa fa-arrow-right icon-arrow-right\", \"forward\"], [\"\", \"\", \"\", \"\"], [\"Pan\", \"Pan axes with left mouse, zoom with right\", \"fa fa-arrows icon-move\", \"pan\"], [\"Zoom\", \"Zoom to rectangle\", \"fa fa-square-o icon-check-empty\", \"zoom\"], [\"\", \"\", \"\", \"\"], [\"Download\", \"Download plot\", \"fa fa-floppy-o icon-save\", \"download\"]];\n",
       "\n",
       "mpl.extensions = [\"eps\", \"jpeg\", \"pdf\", \"png\", \"ps\", \"raw\", \"svg\", \"tif\"];\n",
       "\n",
       "mpl.default_extension = \"png\";var comm_websocket_adapter = function(comm) {\n",
       "    // Create a \"websocket\"-like object which calls the given IPython comm\n",
       "    // object with the appropriate methods. Currently this is a non binary\n",
       "    // socket, so there is still some room for performance tuning.\n",
       "    var ws = {};\n",
       "\n",
       "    ws.close = function() {\n",
       "        comm.close()\n",
       "    };\n",
       "    ws.send = function(m) {\n",
       "        //console.log('sending', m);\n",
       "        comm.send(m);\n",
       "    };\n",
       "    // Register the callback with on_msg.\n",
       "    comm.on_msg(function(msg) {\n",
       "        //console.log('receiving', msg['content']['data'], msg);\n",
       "        // Pass the mpl event to the overriden (by mpl) onmessage function.\n",
       "        ws.onmessage(msg['content']['data'])\n",
       "    });\n",
       "    return ws;\n",
       "}\n",
       "\n",
       "mpl.mpl_figure_comm = function(comm, msg) {\n",
       "    // This is the function which gets called when the mpl process\n",
       "    // starts-up an IPython Comm through the \"matplotlib\" channel.\n",
       "\n",
       "    var id = msg.content.data.id;\n",
       "    // Get hold of the div created by the display call when the Comm\n",
       "    // socket was opened in Python.\n",
       "    var element = $(\"#\" + id);\n",
       "    var ws_proxy = comm_websocket_adapter(comm)\n",
       "\n",
       "    function ondownload(figure, format) {\n",
       "        window.open(figure.imageObj.src);\n",
       "    }\n",
       "\n",
       "    var fig = new mpl.figure(id, ws_proxy,\n",
       "                           ondownload,\n",
       "                           element.get(0));\n",
       "\n",
       "    // Call onopen now - mpl needs it, as it is assuming we've passed it a real\n",
       "    // web socket which is closed, not our websocket->open comm proxy.\n",
       "    ws_proxy.onopen();\n",
       "\n",
       "    fig.parent_element = element.get(0);\n",
       "    fig.cell_info = mpl.find_output_cell(\"<div id='\" + id + \"'></div>\");\n",
       "    if (!fig.cell_info) {\n",
       "        console.error(\"Failed to find cell for figure\", id, fig);\n",
       "        return;\n",
       "    }\n",
       "\n",
       "    var output_index = fig.cell_info[2]\n",
       "    var cell = fig.cell_info[0];\n",
       "\n",
       "};\n",
       "\n",
       "mpl.figure.prototype.handle_close = function(fig, msg) {\n",
       "    var width = fig.canvas.width/mpl.ratio\n",
       "    fig.root.unbind('remove')\n",
       "\n",
       "    // Update the output cell to use the data from the current canvas.\n",
       "    fig.push_to_output();\n",
       "    var dataURL = fig.canvas.toDataURL();\n",
       "    // Re-enable the keyboard manager in IPython - without this line, in FF,\n",
       "    // the notebook keyboard shortcuts fail.\n",
       "    IPython.keyboard_manager.enable()\n",
       "    $(fig.parent_element).html('<img src=\"' + dataURL + '\" width=\"' + width + '\">');\n",
       "    fig.close_ws(fig, msg);\n",
       "}\n",
       "\n",
       "mpl.figure.prototype.close_ws = function(fig, msg){\n",
       "    fig.send_message('closing', msg);\n",
       "    // fig.ws.close()\n",
       "}\n",
       "\n",
       "mpl.figure.prototype.push_to_output = function(remove_interactive) {\n",
       "    // Turn the data on the canvas into data in the output cell.\n",
       "    var width = this.canvas.width/mpl.ratio\n",
       "    var dataURL = this.canvas.toDataURL();\n",
       "    this.cell_info[1]['text/html'] = '<img src=\"' + dataURL + '\" width=\"' + width + '\">';\n",
       "}\n",
       "\n",
       "mpl.figure.prototype.updated_canvas_event = function() {\n",
       "    // Tell IPython that the notebook contents must change.\n",
       "    IPython.notebook.set_dirty(true);\n",
       "    this.send_message(\"ack\", {});\n",
       "    var fig = this;\n",
       "    // Wait a second, then push the new image to the DOM so\n",
       "    // that it is saved nicely (might be nice to debounce this).\n",
       "    setTimeout(function () { fig.push_to_output() }, 1000);\n",
       "}\n",
       "\n",
       "mpl.figure.prototype._init_toolbar = function() {\n",
       "    var fig = this;\n",
       "\n",
       "    var nav_element = $('<div/>')\n",
       "    nav_element.attr('style', 'width: 100%');\n",
       "    this.root.append(nav_element);\n",
       "\n",
       "    // Define a callback function for later on.\n",
       "    function toolbar_event(event) {\n",
       "        return fig.toolbar_button_onclick(event['data']);\n",
       "    }\n",
       "    function toolbar_mouse_event(event) {\n",
       "        return fig.toolbar_button_onmouseover(event['data']);\n",
       "    }\n",
       "\n",
       "    for(var toolbar_ind in mpl.toolbar_items){\n",
       "        var name = mpl.toolbar_items[toolbar_ind][0];\n",
       "        var tooltip = mpl.toolbar_items[toolbar_ind][1];\n",
       "        var image = mpl.toolbar_items[toolbar_ind][2];\n",
       "        var method_name = mpl.toolbar_items[toolbar_ind][3];\n",
       "\n",
       "        if (!name) { continue; };\n",
       "\n",
       "        var button = $('<button class=\"btn btn-default\" href=\"#\" title=\"' + name + '\"><i class=\"fa ' + image + ' fa-lg\"></i></button>');\n",
       "        button.click(method_name, toolbar_event);\n",
       "        button.mouseover(tooltip, toolbar_mouse_event);\n",
       "        nav_element.append(button);\n",
       "    }\n",
       "\n",
       "    // Add the status bar.\n",
       "    var status_bar = $('<span class=\"mpl-message\" style=\"text-align:right; float: right;\"/>');\n",
       "    nav_element.append(status_bar);\n",
       "    this.message = status_bar[0];\n",
       "\n",
       "    // Add the close button to the window.\n",
       "    var buttongrp = $('<div class=\"btn-group inline pull-right\"></div>');\n",
       "    var button = $('<button class=\"btn btn-mini btn-primary\" href=\"#\" title=\"Stop Interaction\"><i class=\"fa fa-power-off icon-remove icon-large\"></i></button>');\n",
       "    button.click(function (evt) { fig.handle_close(fig, {}); } );\n",
       "    button.mouseover('Stop Interaction', toolbar_mouse_event);\n",
       "    buttongrp.append(button);\n",
       "    var titlebar = this.root.find($('.ui-dialog-titlebar'));\n",
       "    titlebar.prepend(buttongrp);\n",
       "}\n",
       "\n",
       "mpl.figure.prototype._root_extra_style = function(el){\n",
       "    var fig = this\n",
       "    el.on(\"remove\", function(){\n",
       "\tfig.close_ws(fig, {});\n",
       "    });\n",
       "}\n",
       "\n",
       "mpl.figure.prototype._canvas_extra_style = function(el){\n",
       "    // this is important to make the div 'focusable\n",
       "    el.attr('tabindex', 0)\n",
       "    // reach out to IPython and tell the keyboard manager to turn it's self\n",
       "    // off when our div gets focus\n",
       "\n",
       "    // location in version 3\n",
       "    if (IPython.notebook.keyboard_manager) {\n",
       "        IPython.notebook.keyboard_manager.register_events(el);\n",
       "    }\n",
       "    else {\n",
       "        // location in version 2\n",
       "        IPython.keyboard_manager.register_events(el);\n",
       "    }\n",
       "\n",
       "}\n",
       "\n",
       "mpl.figure.prototype._key_event_extra = function(event, name) {\n",
       "    var manager = IPython.notebook.keyboard_manager;\n",
       "    if (!manager)\n",
       "        manager = IPython.keyboard_manager;\n",
       "\n",
       "    // Check for shift+enter\n",
       "    if (event.shiftKey && event.which == 13) {\n",
       "        this.canvas_div.blur();\n",
       "        // select the cell after this one\n",
       "        var index = IPython.notebook.find_cell_index(this.cell_info[0]);\n",
       "        IPython.notebook.select(index + 1);\n",
       "    }\n",
       "}\n",
       "\n",
       "mpl.figure.prototype.handle_save = function(fig, msg) {\n",
       "    fig.ondownload(fig, null);\n",
       "}\n",
       "\n",
       "\n",
       "mpl.find_output_cell = function(html_output) {\n",
       "    // Return the cell and output element which can be found *uniquely* in the notebook.\n",
       "    // Note - this is a bit hacky, but it is done because the \"notebook_saving.Notebook\"\n",
       "    // IPython event is triggered only after the cells have been serialised, which for\n",
       "    // our purposes (turning an active figure into a static one), is too late.\n",
       "    var cells = IPython.notebook.get_cells();\n",
       "    var ncells = cells.length;\n",
       "    for (var i=0; i<ncells; i++) {\n",
       "        var cell = cells[i];\n",
       "        if (cell.cell_type === 'code'){\n",
       "            for (var j=0; j<cell.output_area.outputs.length; j++) {\n",
       "                var data = cell.output_area.outputs[j];\n",
       "                if (data.data) {\n",
       "                    // IPython >= 3 moved mimebundle to data attribute of output\n",
       "                    data = data.data;\n",
       "                }\n",
       "                if (data['text/html'] == html_output) {\n",
       "                    return [cell, data, j];\n",
       "                }\n",
       "            }\n",
       "        }\n",
       "    }\n",
       "}\n",
       "\n",
       "// Register the function which deals with the matplotlib target/channel.\n",
       "// The kernel may be null if the page has been refreshed.\n",
       "if (IPython.notebook.kernel != null) {\n",
       "    IPython.notebook.kernel.comm_manager.register_target('matplotlib', mpl.mpl_figure_comm);\n",
       "}\n"
      ],
      "text/plain": [
       "<IPython.core.display.Javascript object>"
      ]
     },
     "metadata": {},
     "output_type": "display_data"
    },
    {
     "data": {
      "text/html": [
       "<img src=\"data:image/png;base64,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\" width=\"639.6\">"
      ],
      "text/plain": [
       "<IPython.core.display.HTML object>"
      ]
     },
     "metadata": {},
     "output_type": "display_data"
    }
   ],
   "source": [
    "# we want the plot to go here, so create an empty one initially\n",
    "plt.figure('Distribution of positive ions near the nanoparticle surface')\n",
    "plt.xlabel('Distance from the center of the nanoparticle (R = 0 is the midpoint)(nm)', fontsize=10)\n",
    "plt.ylabel('Density(M)', fontsize=10)\n",
    "plt.show()"
   ]
  },
  {
   "cell_type": "code",
   "execution_count": 17,
   "metadata": {
    "extensions": {
     "jupyter_dashboards": {
      "version": 1,
      "views": {
       "grid_default": {
        "col": 0,
        "height": 10,
        "hidden": false,
        "row": 26,
        "width": null
       },
       "report_default": {
        "hidden": false
       }
      }
     }
    }
   },
   "outputs": [
    {
     "data": {
      "application/vnd.jupyter.widget-view+json": {
       "model_id": "fc3f3c42e57846d693eb04d2ea309722",
       "version_major": 2,
       "version_minor": 0
      },
      "text/html": [
       "<p>Failed to display Jupyter Widget of type <code>VBox</code>.</p>\n",
       "<p>\n",
       "  If you're reading this message in the Jupyter Notebook or JupyterLab Notebook, it may mean\n",
       "  that the widgets JavaScript is still loading. If this message persists, it\n",
       "  likely means that the widgets JavaScript library is either not installed or\n",
       "  not enabled. See the <a href=\"https://ipywidgets.readthedocs.io/en/stable/user_install.html\">Jupyter\n",
       "  Widgets Documentation</a> for setup instructions.\n",
       "</p>\n",
       "<p>\n",
       "  If you're reading this message in another frontend (for example, a static\n",
       "  rendering on GitHub or <a href=\"https://nbviewer.jupyter.org/\">NBViewer</a>),\n",
       "  it may mean that your frontend doesn't currently support widgets.\n",
       "</p>\n"
      ],
      "text/plain": [
       "VBox(children=(Button(button_style='success', description='Run', style=ButtonStyle(), tooltip='Run Simulation'),))"
      ]
     },
     "metadata": {},
     "output_type": "display_data"
    }
   ],
   "source": [
    "#Submit(start_func=callExe, done_func=plot_data, cachename='SubmitTest1')\n",
    "Submit(start_func=callExe, done_func=plot_data)\n"
   ]
  }
 ],
 "metadata": {
  "extensions": {
   "jupyter_dashboards": {
    "activeView": "grid_default",
    "version": 1,
    "views": {
     "grid_default": {
      "cellMargin": 10,
      "defaultCellHeight": 20,
      "maxColumns": 12,
      "name": "grid",
      "type": "grid"
     },
     "report_default": {
      "name": "report",
      "type": "report"
     }
    }
   }
  },
  "kernelspec": {
   "display_name": "Python3",
   "language": "python",
   "name": "python3"
  },
  "language_info": {
   "codemirror_mode": {
    "name": "ipython",
    "version": 3
   },
   "file_extension": ".py",
   "mimetype": "text/x-python",
   "name": "python",
   "nbconvert_exporter": "python",
   "pygments_lexer": "ipython3",
   "version": "3.6.2"
  },
  "widgets": {
   "application/vnd.jupyter.widget-state+json": {
    "state": {
     "0928bdb3f16145de8f3bdc629c434672": {
      "model_module": "@jupyter-widgets/base",
      "model_module_version": "1.0.0",
      "model_name": "LayoutModel",
      "state": {}
     },
     "113232b6f0b0489c857571e43b2fc7c0": {
      "model_module": "@jupyter-widgets/controls",
      "model_module_version": "1.0.0",
      "model_name": "HTMLModel",
      "state": {
       "layout": "IPY_MODEL_33445fc625f34d0bbeeddd4c97736d58",
       "style": "IPY_MODEL_6d300a697da3458c80bec3d9f5dd9aee",
       "value": "<img src=\"imageV5.jpg\" style=\"width: 300px\"/>"
      }
     },
     "17e316ab391d438ea2d65e76f4767f5e": {
      "model_module": "@jupyter-widgets/base",
      "model_module_version": "1.0.0",
      "model_name": "LayoutModel",
      "state": {}
     },
     "1b37f86d44a84a748bf0f856f082f995": {
      "model_module": "@jupyter-widgets/controls",
      "model_module_version": "1.0.0",
      "model_name": "DropdownModel",
      "state": {
       "_options_labels": [
        "1(monovalent)",
        "2(divalent)",
        "3(trivalent)"
       ],
       "description": "Positive Ion Valency (z)",
       "index": 2,
       "layout": "IPY_MODEL_0928bdb3f16145de8f3bdc629c434672",
       "style": "IPY_MODEL_42bfc62f7b0a40b28042c92ea51358b6"
      }
     },
     "1c1ce5a816634e95ba4fd9c260a0e035": {
      "model_module": "@jupyter-widgets/controls",
      "model_module_version": "1.0.0",
      "model_name": "BoundedFloatTextModel",
      "state": {
       "description": "Ion Diameter (nm):",
       "layout": "IPY_MODEL_b75073530edf4a96b67df16319442848",
       "max": 0.8,
       "min": 0.5,
       "step": 0.001,
       "style": "IPY_MODEL_cba8a7396c344ef49134b9b3b3577ef5",
       "value": 0.714
      }
     },
     "24a70f35d36b4d4eb6b8faef61e818e1": {
      "model_module": "@jupyter-widgets/controls",
      "model_module_version": "1.0.0",
      "model_name": "BoundedFloatTextModel",
      "state": {
       "description": "Salt Concentration (c in M):",
       "layout": "IPY_MODEL_2fedeb6b81c543169901f6f01ed839cd",
       "max": 0.9,
       "min": 0.3,
       "style": "IPY_MODEL_45d6aa209f234a8a9a5d856d1b8c4894",
       "value": 0.7
      }
     },
     "2fedeb6b81c543169901f6f01ed839cd": {
      "model_module": "@jupyter-widgets/base",
      "model_module_version": "1.0.0",
      "model_name": "LayoutModel",
      "state": {}
     },
     "33445fc625f34d0bbeeddd4c97736d58": {
      "model_module": "@jupyter-widgets/base",
      "model_module_version": "1.0.0",
      "model_name": "LayoutModel",
      "state": {}
     },
     "36d5fefc93e84ab081d80ce41001de6f": {
      "model_module": "@jupyter-widgets/controls",
      "model_module_version": "1.0.0",
      "model_name": "ButtonModel",
      "state": {
       "description": "Simulate",
       "layout": "IPY_MODEL_f4cbb854239940da8e36bc8f9611fd13",
       "style": "IPY_MODEL_90d2800131be4e46b2b415fae5cc3976"
      }
     },
     "421f485f7df44b158c5ebc2cead2e4fc": {
      "model_module": "@jupyter-widgets/base",
      "model_module_version": "1.0.0",
      "model_name": "LayoutModel",
      "state": {}
     },
     "42bfc62f7b0a40b28042c92ea51358b6": {
      "model_module": "@jupyter-widgets/controls",
      "model_module_version": "1.0.0",
      "model_name": "DescriptionStyleModel",
      "state": {
       "description_width": "initial"
      }
     },
     "45d6aa209f234a8a9a5d856d1b8c4894": {
      "model_module": "@jupyter-widgets/controls",
      "model_module_version": "1.0.0",
      "model_name": "DescriptionStyleModel",
      "state": {
       "description_width": "initial"
      }
     },
     "45d97dd36250486787312d12a1a0eaf2": {
      "model_module": "@jupyter-widgets/controls",
      "model_module_version": "1.0.0",
      "model_name": "BoundedIntTextModel",
      "state": {
       "description": "Simulation Steps:",
       "layout": "IPY_MODEL_bf0216a2f8b24c489de53ab167969b49",
       "max": 5000000,
       "min": 20000,
       "step": 10000,
       "style": "IPY_MODEL_e4131453ffbf4876acdf9652cdb5b893",
       "value": 20000
      }
     },
     "520b6eb96ab54cd9a7c50b7bd2960207": {
      "model_module": "@jupyter-widgets/controls",
      "model_module_version": "1.0.0",
      "model_name": "DescriptionStyleModel",
      "state": {
       "description_width": "initial"
      }
     },
     "5b8456ddd09d48d8b782d04c0f5a8666": {
      "model_module": "@jupyter-widgets/controls",
      "model_module_version": "1.0.0",
      "model_name": "DescriptionStyleModel",
      "state": {
       "description_width": "initial"
      }
     },
     "6b49ad221a4f4738b7967d0195642151": {
      "model_module": "@jupyter-widgets/controls",
      "model_module_version": "1.0.0",
      "model_name": "BoundedFloatTextModel",
      "state": {
       "description": "Confinement Length (nm):",
       "layout": "IPY_MODEL_17e316ab391d438ea2d65e76f4767f5e",
       "max": 4,
       "min": 2,
       "style": "IPY_MODEL_747d7d8031df4ff984c508e9da864b35",
       "value": 3
      }
     },
     "6d300a697da3458c80bec3d9f5dd9aee": {
      "model_module": "@jupyter-widgets/controls",
      "model_module_version": "1.0.0",
      "model_name": "DescriptionStyleModel",
      "state": {
       "description_width": ""
      }
     },
     "73d6a9e62f6d40938e21e2c7fd5daf6a": {
      "model_module": "@jupyter-widgets/base",
      "model_module_version": "1.0.0",
      "model_name": "LayoutModel",
      "state": {}
     },
     "747d7d8031df4ff984c508e9da864b35": {
      "model_module": "@jupyter-widgets/controls",
      "model_module_version": "1.0.0",
      "model_name": "DescriptionStyleModel",
      "state": {
       "description_width": "initial"
      }
     },
     "75176e8e3f694980b4e2156ab5fdba16": {
      "model_module": "@jupyter-widgets/base",
      "model_module_version": "1.0.0",
      "model_name": "LayoutModel",
      "state": {}
     },
     "76459a9affde44d0a9daa29363008e4a": {
      "model_module": "@jupyter-widgets/controls",
      "model_module_version": "1.0.0",
      "model_name": "VBoxModel",
      "state": {
       "children": [
        "IPY_MODEL_fa7df53473e2422e9184a389817fa28a",
        "IPY_MODEL_24a70f35d36b4d4eb6b8faef61e818e1",
        "IPY_MODEL_1b37f86d44a84a748bf0f856f082f995",
        "IPY_MODEL_aaaf4ee3198948a28c188b9237d15a9f",
        "IPY_MODEL_6b49ad221a4f4738b7967d0195642151",
        "IPY_MODEL_1c1ce5a816634e95ba4fd9c260a0e035",
        "IPY_MODEL_8d645f6477254c368de96a816ed5e9f1",
        "IPY_MODEL_45d97dd36250486787312d12a1a0eaf2",
        "IPY_MODEL_113232b6f0b0489c857571e43b2fc7c0",
        "IPY_MODEL_36d5fefc93e84ab081d80ce41001de6f"
       ],
       "layout": "IPY_MODEL_dcca354f544646418d0eeb48fd1b5a9e"
      }
     },
     "8d645f6477254c368de96a816ed5e9f1": {
      "model_module": "@jupyter-widgets/controls",
      "model_module_version": "1.0.0",
      "model_name": "HTMLModel",
      "state": {
       "layout": "IPY_MODEL_421f485f7df44b158c5ebc2cead2e4fc",
       "style": "IPY_MODEL_de576513a12147e8bc083aeec4971950",
       "value": "<p   style='background-color: #DCDCDC; font-size:200; padding: 5px'>Computing</p>"
      }
     },
     "90d2800131be4e46b2b415fae5cc3976": {
      "model_module": "@jupyter-widgets/controls",
      "model_module_version": "1.0.0",
      "model_name": "ButtonStyleModel",
      "state": {}
     },
     "aaaf4ee3198948a28c188b9237d15a9f": {
      "model_module": "@jupyter-widgets/controls",
      "model_module_version": "1.0.0",
      "model_name": "DropdownModel",
      "state": {
       "_options_labels": [
        "-1",
        "-2",
        "-3"
       ],
       "description": "Negative Ion Valency",
       "index": 0,
       "layout": "IPY_MODEL_75176e8e3f694980b4e2156ab5fdba16",
       "style": "IPY_MODEL_520b6eb96ab54cd9a7c50b7bd2960207"
      }
     },
     "b75073530edf4a96b67df16319442848": {
      "model_module": "@jupyter-widgets/base",
      "model_module_version": "1.0.0",
      "model_name": "LayoutModel",
      "state": {}
     },
     "b9eaabc9eb4144fc82a2c63b9ef58541": {
      "model_module": "@jupyter-widgets/controls",
      "model_module_version": "1.0.0",
      "model_name": "DropdownModel",
      "state": {
       "_options_labels": [
        "1(monovalent)",
        "2(divalent)",
        "3(trivalent)"
       ],
       "description": "Positive Ion Valency (z)",
       "index": 0,
       "layout": "IPY_MODEL_c9aa90d11bec44f4aa17ca4467b7ff64",
       "style": "IPY_MODEL_5b8456ddd09d48d8b782d04c0f5a8666"
      }
     },
     "bf0216a2f8b24c489de53ab167969b49": {
      "model_module": "@jupyter-widgets/base",
      "model_module_version": "1.0.0",
      "model_name": "LayoutModel",
      "state": {}
     },
     "c9aa90d11bec44f4aa17ca4467b7ff64": {
      "model_module": "@jupyter-widgets/base",
      "model_module_version": "1.0.0",
      "model_name": "LayoutModel",
      "state": {}
     },
     "cba8a7396c344ef49134b9b3b3577ef5": {
      "model_module": "@jupyter-widgets/controls",
      "model_module_version": "1.0.0",
      "model_name": "DescriptionStyleModel",
      "state": {
       "description_width": "initial"
      }
     },
     "dcca354f544646418d0eeb48fd1b5a9e": {
      "model_module": "@jupyter-widgets/base",
      "model_module_version": "1.0.0",
      "model_name": "LayoutModel",
      "state": {}
     },
     "de576513a12147e8bc083aeec4971950": {
      "model_module": "@jupyter-widgets/controls",
      "model_module_version": "1.0.0",
      "model_name": "DescriptionStyleModel",
      "state": {
       "description_width": ""
      }
     },
     "e4131453ffbf4876acdf9652cdb5b893": {
      "model_module": "@jupyter-widgets/controls",
      "model_module_version": "1.0.0",
      "model_name": "DescriptionStyleModel",
      "state": {
       "description_width": "initial"
      }
     },
     "eba521d82a8f43bd996a3598254ea209": {
      "model_module": "@jupyter-widgets/controls",
      "model_module_version": "1.0.0",
      "model_name": "DescriptionStyleModel",
      "state": {
       "description_width": ""
      }
     },
     "f4cbb854239940da8e36bc8f9611fd13": {
      "model_module": "@jupyter-widgets/base",
      "model_module_version": "1.0.0",
      "model_name": "LayoutModel",
      "state": {}
     },
     "fa7df53473e2422e9184a389817fa28a": {
      "model_module": "@jupyter-widgets/controls",
      "model_module_version": "1.0.0",
      "model_name": "HTMLModel",
      "state": {
       "layout": "IPY_MODEL_73d6a9e62f6d40938e21e2c7fd5daf6a",
       "style": "IPY_MODEL_eba521d82a8f43bd996a3598254ea209",
       "value": "<p   style='background-color: #DCDCDC; font-size:200; padding: 5px'>Physical</p>"
      }
     }
    },
    "version_major": 2,
    "version_minor": 0
   }
  }
 },
 "nbformat": 4,
 "nbformat_minor": 2
}
