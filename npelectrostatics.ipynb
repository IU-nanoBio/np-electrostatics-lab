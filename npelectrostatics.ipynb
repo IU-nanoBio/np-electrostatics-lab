{
 "cells": [
  {
   "cell_type": "code",
   "execution_count": 1,
   "metadata": {
    "extensions": {
     "jupyter_dashboards": {
      "version": 1,
      "views": {
       "grid_default": {
        "hidden": true
       },
       "report_default": {
        "hidden": true
       }
      }
     }
    }
   },
   "outputs": [],
   "source": [
    "%matplotlib notebook\n",
    "import ipywidgets as widgets\n",
    "import sys, os, io, string, shutil, math\n",
    "import hublib.rappture as Rappture\n",
    "from hublib.cmd import runCommand\n",
    "from hubzero.submit.SubmitCommand import SubmitCommand\n",
    "import matplotlib.pyplot as plt\n",
    "import time\n",
    "from threading import Thread\n",
    "style = {'description_width': 'initial'}"
   ]
  },
  {
   "cell_type": "code",
   "execution_count": 2,
   "metadata": {
    "extensions": {
     "jupyter_dashboards": {
      "version": 1,
      "views": {
       "grid_default": {
        "col": 0,
        "height": 2,
        "hidden": false,
        "row": 6,
        "width": 4
       },
       "report_default": {
        "hidden": true
       }
      }
     }
    }
   },
   "outputs": [
    {
     "data": {
      "application/vnd.jupyter.widget-view+json": {
       "model_id": "a22eb8e86c544fcf99019502db54a8b5",
       "version_major": 2,
       "version_minor": 0
      },
      "text/html": [
       "<p>Failed to display Jupyter Widget of type <code>BoundedFloatText</code>.</p>\n",
       "<p>\n",
       "  If you're reading this message in the Jupyter Notebook or JupyterLab Notebook, it may mean\n",
       "  that the widgets JavaScript is still loading. If this message persists, it\n",
       "  likely means that the widgets JavaScript library is either not installed or\n",
       "  not enabled. See the <a href=\"https://ipywidgets.readthedocs.io/en/stable/user_install.html\">Jupyter\n",
       "  Widgets Documentation</a> for setup instructions.\n",
       "</p>\n",
       "<p>\n",
       "  If you're reading this message in another frontend (for example, a static\n",
       "  rendering on GitHub or <a href=\"https://nbviewer.jupyter.org/\">NBViewer</a>),\n",
       "  it may mean that your frontend doesn't currently support widgets.\n",
       "</p>\n"
      ],
      "text/plain": [
       "BoundedFloatText(value=0.5, description='Salt Concentration (c in M):', max=0.9, min=0.3, step=0.1, style=DescriptionStyle(description_width='initial'))"
      ]
     },
     "metadata": {},
     "output_type": "display_data"
    }
   ],
   "source": [
    "salt = widgets.BoundedFloatText(\n",
    "    value=0.5,\n",
    "    min=0.3,\n",
    "    max=0.9,\n",
    "    step=0.1,\n",
    "    description='Salt Concentration (c in M):',\n",
    "    style=style,\n",
    ")\n",
    "salt"
   ]
  },
  {
   "cell_type": "code",
   "execution_count": 3,
   "metadata": {
    "extensions": {
     "jupyter_dashboards": {
      "version": 1,
      "views": {
       "grid_default": {
        "col": 0,
        "height": 2,
        "hidden": false,
        "row": 10,
        "width": 4
       },
       "report_default": {
        "hidden": true
       }
      }
     }
    }
   },
   "outputs": [
    {
     "data": {
      "application/vnd.jupyter.widget-view+json": {
       "model_id": "b0a6f41cf08a4d088725d094de1dae05",
       "version_major": 2,
       "version_minor": 0
      },
      "text/html": [
       "<p>Failed to display Jupyter Widget of type <code>Dropdown</code>.</p>\n",
       "<p>\n",
       "  If you're reading this message in the Jupyter Notebook or JupyterLab Notebook, it may mean\n",
       "  that the widgets JavaScript is still loading. If this message persists, it\n",
       "  likely means that the widgets JavaScript library is either not installed or\n",
       "  not enabled. See the <a href=\"https://ipywidgets.readthedocs.io/en/stable/user_install.html\">Jupyter\n",
       "  Widgets Documentation</a> for setup instructions.\n",
       "</p>\n",
       "<p>\n",
       "  If you're reading this message in another frontend (for example, a static\n",
       "  rendering on GitHub or <a href=\"https://nbviewer.jupyter.org/\">NBViewer</a>),\n",
       "  it may mean that your frontend doesn't currently support widgets.\n",
       "</p>\n"
      ],
      "text/plain": [
       "Dropdown(description='Positive Ion Valency (z)', options={'1(monovalent)': 1, '2(divalent)': 2, '3(trivalent)': 3}, style=DescriptionStyle(description_width='initial'), value=1)"
      ]
     },
     "metadata": {},
     "output_type": "display_data"
    }
   ],
   "source": [
    "pion = widgets.Dropdown(\n",
    "    options={'1(monovalent)': 1, '2(divalent)': 2, '3(trivalent)': 3},\n",
    "    value=1,\n",
    "    description=\"Positive Ion Valency (z)\",\n",
    "    style=style\n",
    ")\n",
    "pion"
   ]
  },
  {
   "cell_type": "code",
   "execution_count": 4,
   "metadata": {
    "extensions": {
     "jupyter_dashboards": {
      "version": 1,
      "views": {
       "grid_default": {
        "col": 0,
        "height": 2,
        "hidden": false,
        "row": 12,
        "width": 4
       },
       "report_default": {
        "hidden": true
       }
      }
     }
    }
   },
   "outputs": [
    {
     "data": {
      "application/vnd.jupyter.widget-view+json": {
       "model_id": "2bbd12897b444c6abd43c7509ba07380",
       "version_major": 2,
       "version_minor": 0
      },
      "text/html": [
       "<p>Failed to display Jupyter Widget of type <code>Dropdown</code>.</p>\n",
       "<p>\n",
       "  If you're reading this message in the Jupyter Notebook or JupyterLab Notebook, it may mean\n",
       "  that the widgets JavaScript is still loading. If this message persists, it\n",
       "  likely means that the widgets JavaScript library is either not installed or\n",
       "  not enabled. See the <a href=\"https://ipywidgets.readthedocs.io/en/stable/user_install.html\">Jupyter\n",
       "  Widgets Documentation</a> for setup instructions.\n",
       "</p>\n",
       "<p>\n",
       "  If you're reading this message in another frontend (for example, a static\n",
       "  rendering on GitHub or <a href=\"https://nbviewer.jupyter.org/\">NBViewer</a>),\n",
       "  it may mean that your frontend doesn't currently support widgets.\n",
       "</p>\n"
      ],
      "text/plain": [
       "Dropdown(description='Negative Ion Valency', options=(-1, -2, -3), style=DescriptionStyle(description_width='initial'), value=-1)"
      ]
     },
     "metadata": {},
     "output_type": "display_data"
    }
   ],
   "source": [
    "nion = widgets.Dropdown(\n",
    "    options=[-1, -2, -3],\n",
    "    value=-1,\n",
    "    description=\"Negative Ion Valency\",\n",
    "    style=style\n",
    ")\n",
    "nion"
   ]
  },
  {
   "cell_type": "code",
   "execution_count": 5,
   "metadata": {
    "extensions": {
     "jupyter_dashboards": {
      "version": 1,
      "views": {
       "grid_default": {
        "col": 0,
        "height": 2,
        "hidden": false,
        "row": 8,
        "width": 4
       },
       "report_default": {
        "hidden": true
       }
      }
     }
    }
   },
   "outputs": [
    {
     "data": {
      "application/vnd.jupyter.widget-view+json": {
       "model_id": "7660f241460543d8ba35288a1e24e891",
       "version_major": 2,
       "version_minor": 0
      },
      "text/html": [
       "<p>Failed to display Jupyter Widget of type <code>BoundedFloatText</code>.</p>\n",
       "<p>\n",
       "  If you're reading this message in the Jupyter Notebook or JupyterLab Notebook, it may mean\n",
       "  that the widgets JavaScript is still loading. If this message persists, it\n",
       "  likely means that the widgets JavaScript library is either not installed or\n",
       "  not enabled. See the <a href=\"https://ipywidgets.readthedocs.io/en/stable/user_install.html\">Jupyter\n",
       "  Widgets Documentation</a> for setup instructions.\n",
       "</p>\n",
       "<p>\n",
       "  If you're reading this message in another frontend (for example, a static\n",
       "  rendering on GitHub or <a href=\"https://nbviewer.jupyter.org/\">NBViewer</a>),\n",
       "  it may mean that your frontend doesn't currently support widgets.\n",
       "</p>\n"
      ],
      "text/plain": [
       "BoundedFloatText(value=3.0, description='Confinement Length (nm):', max=4.0, min=2.0, step=0.1, style=DescriptionStyle(description_width='initial'))"
      ]
     },
     "metadata": {},
     "output_type": "display_data"
    }
   ],
   "source": [
    "clen = widgets.BoundedFloatText(\n",
    "    value=3,\n",
    "    min=2,\n",
    "    max=4,\n",
    "    step=0.1,\n",
    "    description='Confinement Length (nm):',\n",
    "    style=style\n",
    ")\n",
    "clen"
   ]
  },
  {
   "cell_type": "code",
   "execution_count": 6,
   "metadata": {
    "extensions": {
     "jupyter_dashboards": {
      "version": 1,
      "views": {
       "grid_default": {
        "col": 0,
        "height": 2,
        "hidden": false,
        "row": 14,
        "width": 4
       },
       "report_default": {
        "hidden": true
       }
      }
     }
    }
   },
   "outputs": [
    {
     "data": {
      "application/vnd.jupyter.widget-view+json": {
       "model_id": "4d0f13dfeebb4a3eb39f3d0f587ed8a2",
       "version_major": 2,
       "version_minor": 0
      },
      "text/html": [
       "<p>Failed to display Jupyter Widget of type <code>BoundedFloatText</code>.</p>\n",
       "<p>\n",
       "  If you're reading this message in the Jupyter Notebook or JupyterLab Notebook, it may mean\n",
       "  that the widgets JavaScript is still loading. If this message persists, it\n",
       "  likely means that the widgets JavaScript library is either not installed or\n",
       "  not enabled. See the <a href=\"https://ipywidgets.readthedocs.io/en/stable/user_install.html\">Jupyter\n",
       "  Widgets Documentation</a> for setup instructions.\n",
       "</p>\n",
       "<p>\n",
       "  If you're reading this message in another frontend (for example, a static\n",
       "  rendering on GitHub or <a href=\"https://nbviewer.jupyter.org/\">NBViewer</a>),\n",
       "  it may mean that your frontend doesn't currently support widgets.\n",
       "</p>\n"
      ],
      "text/plain": [
       "BoundedFloatText(value=0.714, description='Ion Diameter (nm):', max=0.8, min=0.5, step=0.001, style=DescriptionStyle(description_width='initial'))"
      ]
     },
     "metadata": {},
     "output_type": "display_data"
    }
   ],
   "source": [
    "ion_diam = widgets.BoundedFloatText(\n",
    "    value=.714,\n",
    "    min=.5,\n",
    "    max=.8,\n",
    "    step=0.001,\n",
    "    description='Ion Diameter (nm):',\n",
    "    style=style\n",
    ")\n",
    "ion_diam"
   ]
  },
  {
   "cell_type": "code",
   "execution_count": 7,
   "metadata": {
    "extensions": {
     "jupyter_dashboards": {
      "version": 1,
      "views": {
       "grid_default": {
        "col": 0,
        "height": 2,
        "hidden": false,
        "row": 16,
        "width": 4
       },
       "report_default": {
        "hidden": false
       }
      }
     }
    }
   },
   "outputs": [
    {
     "data": {
      "application/vnd.jupyter.widget-view+json": {
       "model_id": "09efe81d875745f6bd960ba79e82db2e",
       "version_major": 2,
       "version_minor": 0
      },
      "text/html": [
       "<p>Failed to display Jupyter Widget of type <code>BoundedIntText</code>.</p>\n",
       "<p>\n",
       "  If you're reading this message in the Jupyter Notebook or JupyterLab Notebook, it may mean\n",
       "  that the widgets JavaScript is still loading. If this message persists, it\n",
       "  likely means that the widgets JavaScript library is either not installed or\n",
       "  not enabled. See the <a href=\"https://ipywidgets.readthedocs.io/en/stable/user_install.html\">Jupyter\n",
       "  Widgets Documentation</a> for setup instructions.\n",
       "</p>\n",
       "<p>\n",
       "  If you're reading this message in another frontend (for example, a static\n",
       "  rendering on GitHub or <a href=\"https://nbviewer.jupyter.org/\">NBViewer</a>),\n",
       "  it may mean that your frontend doesn't currently support widgets.\n",
       "</p>\n"
      ],
      "text/plain": [
       "BoundedIntText(value=20000, description='Simulation Steps:', max=5000000, min=20000, step=100000, style=DescriptionStyle(description_width='initial'))"
      ]
     },
     "metadata": {},
     "output_type": "display_data"
    }
   ],
   "source": [
    "steps = widgets.BoundedIntText(\n",
    "    value=20000,\n",
    "    min=20000,\n",
    "    max=5000000,\n",
    "    step=100000,\n",
    "    description='Simulation Steps:',\n",
    "    style=style,\n",
    ")\n",
    "steps"
   ]
  },
  {
   "cell_type": "code",
   "execution_count": 8,
   "metadata": {
    "extensions": {
     "jupyter_dashboards": {
      "version": 1,
      "views": {
       "grid_default": {
        "hidden": true
       },
       "report_default": {
        "hidden": true
       }
      }
     }
    }
   },
   "outputs": [],
   "source": [
    "label_style = \"style='background-color: #DCDCDC; font-size:200; padding: 5px'\"\n",
    "def make_label(name, desc=\"\"):\n",
    "    lval = '<p  %s %s>%s</p>' % (desc, label_style, name)\n",
    "    return widgets.HTML(lval)\n",
    "\n",
    "plabel = make_label('Physical', '')\n",
    "clabel = make_label('Computing', '')"
   ]
  },
  {
   "cell_type": "code",
   "execution_count": 9,
   "metadata": {
    "extensions": {
     "jupyter_dashboards": {
      "version": 1,
      "views": {
       "grid_default": {
        "col": 0,
        "height": 12,
        "hidden": false,
        "row": 22,
        "width": 4
       },
       "report_default": {
        "hidden": false
       }
      }
     }
    }
   },
   "outputs": [
    {
     "data": {
      "application/vnd.jupyter.widget-view+json": {
       "model_id": "03576a2c158b43659be2b76628971b3c",
       "version_major": 2,
       "version_minor": 0
      },
      "text/html": [
       "<p>Failed to display Jupyter Widget of type <code>HTML</code>.</p>\n",
       "<p>\n",
       "  If you're reading this message in the Jupyter Notebook or JupyterLab Notebook, it may mean\n",
       "  that the widgets JavaScript is still loading. If this message persists, it\n",
       "  likely means that the widgets JavaScript library is either not installed or\n",
       "  not enabled. See the <a href=\"https://ipywidgets.readthedocs.io/en/stable/user_install.html\">Jupyter\n",
       "  Widgets Documentation</a> for setup instructions.\n",
       "</p>\n",
       "<p>\n",
       "  If you're reading this message in another frontend (for example, a static\n",
       "  rendering on GitHub or <a href=\"https://nbviewer.jupyter.org/\">NBViewer</a>),\n",
       "  it may mean that your frontend doesn't currently support widgets.\n",
       "</p>\n"
      ],
      "text/plain": [
       "HTML(value='<img src=\"webcontent/images/overview.jpg\" style=\"width: 500px\"/>')"
      ]
     },
     "metadata": {},
     "output_type": "display_data"
    }
   ],
   "source": [
    "image_html = widgets.HTML(\n",
    "    value='<img src=\"webcontent/images/overview.jpg\" style=\"width: 500px\"/>',\n",
    ")\n",
    "image_html"
   ]
  },
  {
   "cell_type": "code",
   "execution_count": 10,
   "metadata": {
    "extensions": {
     "jupyter_dashboards": {
      "version": 1,
      "views": {
       "grid_default": {
        "col": 0,
        "height": 6,
        "hidden": false,
        "row": 0,
        "width": 12
       },
       "report_default": {}
      }
     }
    }
   },
   "outputs": [
    {
     "data": {
      "application/vnd.jupyter.widget-view+json": {
       "model_id": "94c6f6085f4b4ea3af65f250190a0512",
       "version_major": 2,
       "version_minor": 0
      },
      "text/html": [
       "<p>Failed to display Jupyter Widget of type <code>Textarea</code>.</p>\n",
       "<p>\n",
       "  If you're reading this message in the Jupyter Notebook or JupyterLab Notebook, it may mean\n",
       "  that the widgets JavaScript is still loading. If this message persists, it\n",
       "  likely means that the widgets JavaScript library is either not installed or\n",
       "  not enabled. See the <a href=\"https://ipywidgets.readthedocs.io/en/stable/user_install.html\">Jupyter\n",
       "  Widgets Documentation</a> for setup instructions.\n",
       "</p>\n",
       "<p>\n",
       "  If you're reading this message in another frontend (for example, a static\n",
       "  rendering on GitHub or <a href=\"https://nbviewer.jupyter.org/\">NBViewer</a>),\n",
       "  it may mean that your frontend doesn't currently support widgets.\n",
       "</p>\n"
      ],
      "text/plain": [
       "Textarea(value='This app enables users to simulate ions confined between nanoparticle (NP) surfaces in aqueous media. Nanoparticles can be synthetic (such as gold NPs) or natural (e.g. proteins) and the length of confinement is of the order of nanometers. Example systems include ion channel proteins of the cell membrane, adsorbed ions near surfaces of porous electrodes, and ions confined by NPs and/or colloidal particles. NP surfaces are assumed to be unpolarizable and are modeled as planar interfaces considering the large size difference between the ions and the NPs. \\nThe app facilitates investigations for a wide array of ionic and environmental parameters. Users can extract the ionic structure (density profile) and study its dependence on salt concentration (c), ion valency (z), and other physical attributes. \\nUsers can explore interesting effects by changing the c parameter from 0.3 to 0.9 M. This increase in density leads to crowding of the channel (confinement) with a large number of ions. The effect of symmetry breaking caused by the surfaces is seen: to avoid being pushed by ions from both the sides, an ion prefers the interface over the central region (bulk). The app enables users to explore this effect of ion accumulation near the interface, and make a quantitative assessment of ionic structure in strong confinement.\\nAnother rich avenue to explore is to tune the valency of positive ions (parameter z) from 1 to 3. A positively-charged multivalent ion (+3 Fe or +2 Ca) near an interface is pulled away from the interface by oppositely charged ions with a stronger force relative to the bulk where the symmetry allows for no preferred movement. Thus, stronger electrostatic interactions (as in the case of multivalent ions) tend to cause depletion of the ions from the interface. This app empowers users to investigate this depletion effect via accurate computation of the density profiles of ions. \\nEffects of changing other physical attributes such as confinement length and ion size are also available for users to explore. We invite users to take an inside look at what happens to the self-assembly of ions in these nanoscale channels by investigating the interplay of electrostatic effects and steric (or entropic) effects caused due to confinement, and measuring associated density profiles. \\nWhile we provide a default of 20000 steps for users to get started on exploring different features of the app by obtaining immediate results, converged results of smooth profiles are expected for around 1 million steps.', disabled=True, layout=Layout(height='150px', width='100%'), placeholder='')"
      ]
     },
     "metadata": {},
     "output_type": "display_data"
    }
   ],
   "source": [
    "about=widgets.Textarea(\n",
    "    value='This app enables users to simulate ions confined between nanoparticle (NP) surfaces in aqueous media. Nanoparticles can be synthetic (such as gold NPs) or natural (e.g. proteins) and the length of confinement is of the order of nanometers. Example systems include ion channel proteins of the cell membrane, adsorbed ions near surfaces of porous electrodes, and ions confined by NPs and/or colloidal particles. NP surfaces are assumed to be unpolarizable and are modeled as planar interfaces considering the large size difference between the ions and the NPs. \\nThe app facilitates investigations for a wide array of ionic and environmental parameters. Users can extract the ionic structure (density profile) and study its dependence on salt concentration (c), ion valency (z), and other physical attributes. \\nUsers can explore interesting effects by changing the c parameter from 0.3 to 0.9 M. This increase in density leads to crowding of the channel (confinement) with a large number of ions. The effect of symmetry breaking caused by the surfaces is seen: to avoid being pushed by ions from both the sides, an ion prefers the interface over the central region (bulk). The app enables users to explore this effect of ion accumulation near the interface, and make a quantitative assessment of ionic structure in strong confinement.\\nAnother rich avenue to explore is to tune the valency of positive ions (parameter z) from 1 to 3. A positively-charged multivalent ion (+3 Fe or +2 Ca) near an interface is pulled away from the interface by oppositely charged ions with a stronger force relative to the bulk where the symmetry allows for no preferred movement. Thus, stronger electrostatic interactions (as in the case of multivalent ions) tend to cause depletion of the ions from the interface. This app empowers users to investigate this depletion effect via accurate computation of the density profiles of ions. \\nEffects of changing other physical attributes such as confinement length and ion size are also available for users to explore. We invite users to take an inside look at what happens to the self-assembly of ions in these nanoscale channels by investigating the interplay of electrostatic effects and steric (or entropic) effects caused due to confinement, and measuring associated density profiles. \\nWhile we provide a default of 20000 steps for users to get started on exploring different features of the app by obtaining immediate results, converged results of smooth profiles are expected for around 1 million steps.',\n",
    "    placeholder='',\n",
    "    layout={'height': '150px','width': '100%'},\n",
    "    disabled=True\n",
    ")\n",
    "about"
   ]
  },
  {
   "cell_type": "code",
   "execution_count": 11,
   "metadata": {
    "extensions": {
     "jupyter_dashboards": {
      "version": 1,
      "views": {
       "grid_default": {
        "hidden": true
       },
       "report_default": {}
      }
     }
    }
   },
   "outputs": [],
   "source": [
    "def but_cb(change):\n",
    "    global pdX, pdY, logoutput\n",
    "    but.disabled=True\n",
    "    output.disabled=True\n",
    "    clearoutputs()\n",
    "    #setting stdout again to a file\n",
    "    sys.stdout = open('stdlog.txt', 'w')\n",
    "    #progress bar and live feedback thread\n",
    "    t2 = Thread(target=grabStdOut)\n",
    "    t2.start()\n",
    "    callExe()\n",
    "    t2.join()\n",
    "    stdOutText.value=logoutput\n",
    "    #sys.stdout.close()\n",
    "    #os.remove('stdlog.txt')\n",
    "    output.disabled=False\n",
    "    but.disabled=False\n",
    "    plot('Positive density Profie', 'Distribution of positive ions confined within the nanoparticle surfaces', pdX, pdY,1)\n"
   ]
  },
  {
   "cell_type": "code",
   "execution_count": 12,
   "metadata": {
    "extensions": {
     "jupyter_dashboards": {
      "version": 1,
      "views": {
       "grid_default": {
        "col": 0,
        "height": 2,
        "hidden": false,
        "row": 18,
        "width": 4
       },
       "report_default": {
        "hidden": false
       }
      }
     }
    }
   },
   "outputs": [
    {
     "data": {
      "application/vnd.jupyter.widget-view+json": {
       "model_id": "aa4a8227619945cd89fd83f89f02d178",
       "version_major": 2,
       "version_minor": 0
      },
      "text/html": [
       "<p>Failed to display Jupyter Widget of type <code>Button</code>.</p>\n",
       "<p>\n",
       "  If you're reading this message in the Jupyter Notebook or JupyterLab Notebook, it may mean\n",
       "  that the widgets JavaScript is still loading. If this message persists, it\n",
       "  likely means that the widgets JavaScript library is either not installed or\n",
       "  not enabled. See the <a href=\"https://ipywidgets.readthedocs.io/en/stable/user_install.html\">Jupyter\n",
       "  Widgets Documentation</a> for setup instructions.\n",
       "</p>\n",
       "<p>\n",
       "  If you're reading this message in another frontend (for example, a static\n",
       "  rendering on GitHub or <a href=\"https://nbviewer.jupyter.org/\">NBViewer</a>),\n",
       "  it may mean that your frontend doesn't currently support widgets.\n",
       "</p>\n"
      ],
      "text/plain": [
       "Button(description='Simulate', style=ButtonStyle())"
      ]
     },
     "metadata": {},
     "output_type": "display_data"
    }
   ],
   "source": [
    "but = widgets.Button(description='Simulate')\n",
    "outputs = but.on_click(but_cb)\n",
    "but"
   ]
  },
  {
   "cell_type": "code",
   "execution_count": 13,
   "metadata": {
    "extensions": {
     "jupyter_dashboards": {
      "version": 1,
      "views": {
       "grid_default": {
        "hidden": true
       },
       "report_default": {}
      }
     }
    }
   },
   "outputs": [],
   "source": [
    "def clearoutputs():\n",
    "    global fig\n",
    "    stdOutText.value = ''\n",
    "    stdOutSubmitText.value = ''\n",
    "    progressBar.value=0\n",
    "    fig = plt.figure('Outputs')\n",
    "    "
   ]
  },
  {
   "cell_type": "code",
   "execution_count": null,
   "metadata": {
    "extensions": {
     "jupyter_dashboards": {
      "version": 1,
      "views": {
       "grid_default": {
        "col": 4,
        "height": 10,
        "hidden": true,
        "row": 12,
        "width": 4
       },
       "report_default": {}
      }
     }
    }
   },
   "outputs": [],
   "source": []
  },
  {
   "cell_type": "code",
   "execution_count": 14,
   "metadata": {
    "extensions": {
     "jupyter_dashboards": {
      "version": 1,
      "views": {
       "grid_default": {
        "hidden": true
       },
       "report_default": {}
      }
     }
    }
   },
   "outputs": [],
   "source": [
    "def grabStdOut():\n",
    "    global runFlag\n",
    "    while runFlag:\n",
    "        logfile = open('stdlog.txt','r')\n",
    "        loglines = follow(logfile)\n",
    "        for line in loglines:\n",
    "            if not line.startswith('=RAPPTURE-PROGRESS'):\n",
    "                stdOutSubmitText.value=stdOutSubmitText.value + line\n",
    "            else:\n",
    "                percent = (line.split('=RAPPTURE-PROGRESS=>'))[1].split(' Simulation Running...')[0]\n",
    "                progressBar.value=int(percent)\n",
    "        time.sleep(0.1)\n",
    "        logfile.close()\n",
    "    progressBar.value=100\n",
    "    \n",
    "def follow(thefile):\n",
    "    global runFlag\n",
    "    thefile.seek(0,2)\n",
    "    while runFlag:\n",
    "        line = thefile.readline()\n",
    "        if not line:\n",
    "            time.sleep(0.1)\n",
    "            continue\n",
    "        yield line\n",
    "    "
   ]
  },
  {
   "cell_type": "code",
   "execution_count": 15,
   "metadata": {
    "extensions": {
     "jupyter_dashboards": {
      "version": 1,
      "views": {
       "grid_default": {
        "hidden": true
       },
       "report_default": {}
      }
     }
    }
   },
   "outputs": [],
   "source": [
    "pdX=[]\n",
    "pdY=[]\n",
    "ndX=[]\n",
    "ndY=[]\n",
    "logoutput = ''\n",
    "runFlag=True\n",
    "stdoutputarry=[]\n",
    "def callExe():\n",
    "    \n",
    "    global pdX, pdY, ndX, ndY, logoutput, runFlag\n",
    "    \n",
    "    salt_concentration = salt.value\n",
    "    positive_valency = pion.value\n",
    "    negative_valency = nion.value\n",
    "    confinement_length = clen.value\n",
    "    ion_diameter = ion_diam.value\n",
    "    simulation_steps = steps.value\n",
    "    simulation_params=\"_%.2f\" % float(confinement_length)+\"_%d\" % int(positive_valency)+\"_%d\" % int(negative_valency)+\"_%.2f\" % float(salt_concentration)+\"_%.3f\" % float(ion_diameter)+\"_%d\" % int(simulation_steps);\n",
    "\n",
    "    mpi_processors=int(round((int(simulation_steps) + 333333)/333333))\n",
    "    total_processors=str(int(mpi_processors*16))\n",
    "\n",
    "    #walltime = str(int(round((16*(1+(5.25 * math.exp(-mpi_processors/1.78)))))))\n",
    "    walltime=str(int(round((int(simulation_steps) + 40000)/40000)+2))\n",
    "     \n",
    "    print(\"Salt concentration is\", salt_concentration)\n",
    "    print(\"Positive Ion Valency is\", positive_valency)\n",
    "    print(\"Negative Ion Valency is\", negative_valency)\n",
    "    print(\"confinement length is\", confinement_length)\n",
    "    print(\"Ion diameter is\", ion_diameter)\n",
    "    print(\"simulation steps is\", simulation_steps)\n",
    "    print(\"simulation_params is\", simulation_params)\n",
    "    print (\"Requested walltime is \",walltime)\n",
    "    print (\"Requested total_processors are \", total_processors)\n",
    "    \n",
    "    shutil.rmtree('data',True)\n",
    "    if not os.path.exists('data'):\n",
    "        os.makedirs('data')\n",
    "\n",
    "    #os.system(\"use boost-1.62.0-mpich2-1.3-gnu-4.7.2\")\n",
    "\n",
    "    runName='nanoconfine'\n",
    "     \n",
    "    try:\n",
    "        submitCommand = SubmitCommand()\n",
    "        result = submitCommand.submit(['--venue','standby@conte','-w',walltime,'-n',str(total_processors), '-N','16', '--runName',runName, '--tailStdout', '--inputfile','data', 'nanoconfinement-r27',\n",
    "             '-Z', str(confinement_length), '-p', str(positive_valency), '-n', str(negative_valency), '-c', str(salt_concentration),\n",
    "             '-d', str(ion_diameter), '-S', str(simulation_steps), '-f', str(simulation_params), '-v', 'false'])\n",
    "        \n",
    "        time.sleep(2)\n",
    "        runFlag= False    \n",
    "        \n",
    "    except  Exception as e:\n",
    "        sys.stderr.write('Error during execution of md_simulation_confined_ions')\n",
    "        sys.stderr.write(str(e))\n",
    "        runFlag= False\n",
    "        sys.exit(1)\n",
    "        \n",
    "    # Reading standard output from the file\n",
    "    try:\n",
    "        fid = open(runName+'.stdout','r')\n",
    "        info = fid.readlines()\n",
    "        fid.close()\n",
    "        os.remove(runName+'.stdout') \n",
    "    except:\n",
    "        sys.stderr.write('Can not find the .stdout file')\n",
    "        sys.exit(1);\n",
    "    \n",
    "    stdoutProcessed=[]\n",
    "    \n",
    "    for line in info:\n",
    "        if not line.startswith('=RAPPTURE-PROGRESS'):\n",
    "            stdoutProcessed.append(line)\n",
    "    \n",
    "    # Setting standard output\n",
    "    logoutput='\\n'.join(stdoutProcessed)\n",
    "    \n",
    "    try:\n",
    "        fid = open('data/p_density_profile'+simulation_params+'.dat','r')\n",
    "        info = fid.readlines()\n",
    "        fid.close()\n",
    "        os.remove('data/p_density_profile'+simulation_params+'.dat') \n",
    "    except:\n",
    "        sys.stderr.write('Can not find the positive density results file')\n",
    "        sys.exit(1);\n",
    "\n",
    "   # add density profile to xy data\n",
    "    \n",
    "    for line in info:\n",
    "        proLine=\" \".join(line.split())\n",
    "        d,m,e = proLine.split()\n",
    "        pdX.append(float(d))\n",
    "        pdY.append(float(m))\n",
    "        \n",
    "    try:\n",
    "        fid = open('data/n_density_profile'+simulation_params+'.dat','r')\n",
    "        info = fid.readlines()\n",
    "        fid.close()\n",
    "        os.remove('data/n_density_profile'+simulation_params+'.dat') \n",
    "    except:\n",
    "        sys.stderr.write('Can not find the negative density results file')\n",
    "        sys.exit(1);\n",
    "\n",
    "   # add density profile to xy data\n",
    "    \n",
    "    for line in info:\n",
    "        proLine=\" \".join(line.split())\n",
    "        d,m,e = proLine.split()\n",
    "        ndX.append(float(d))\n",
    "        ndY.append(float(m))\n",
    "    "
   ]
  },
  {
   "cell_type": "code",
   "execution_count": 16,
   "metadata": {
    "extensions": {
     "jupyter_dashboards": {
      "version": 1,
      "views": {
       "grid_default": {
        "col": 4,
        "height": 20,
        "hidden": false,
        "row": 22,
        "width": 8
       },
       "report_default": {
        "hidden": false
       }
      }
     }
    }
   },
   "outputs": [
    {
     "data": {
      "application/javascript": [
       "/* Put everything inside the global mpl namespace */\n",
       "window.mpl = {};\n",
       "\n",
       "\n",
       "mpl.get_websocket_type = function() {\n",
       "    if (typeof(WebSocket) !== 'undefined') {\n",
       "        return WebSocket;\n",
       "    } else if (typeof(MozWebSocket) !== 'undefined') {\n",
       "        return MozWebSocket;\n",
       "    } else {\n",
       "        alert('Your browser does not have WebSocket support.' +\n",
       "              'Please try Chrome, Safari or Firefox ≥ 6. ' +\n",
       "              'Firefox 4 and 5 are also supported but you ' +\n",
       "              'have to enable WebSockets in about:config.');\n",
       "    };\n",
       "}\n",
       "\n",
       "mpl.figure = function(figure_id, websocket, ondownload, parent_element) {\n",
       "    this.id = figure_id;\n",
       "\n",
       "    this.ws = websocket;\n",
       "\n",
       "    this.supports_binary = (this.ws.binaryType != undefined);\n",
       "\n",
       "    if (!this.supports_binary) {\n",
       "        var warnings = document.getElementById(\"mpl-warnings\");\n",
       "        if (warnings) {\n",
       "            warnings.style.display = 'block';\n",
       "            warnings.textContent = (\n",
       "                \"This browser does not support binary websocket messages. \" +\n",
       "                    \"Performance may be slow.\");\n",
       "        }\n",
       "    }\n",
       "\n",
       "    this.imageObj = new Image();\n",
       "\n",
       "    this.context = undefined;\n",
       "    this.message = undefined;\n",
       "    this.canvas = undefined;\n",
       "    this.rubberband_canvas = undefined;\n",
       "    this.rubberband_context = undefined;\n",
       "    this.format_dropdown = undefined;\n",
       "\n",
       "    this.image_mode = 'full';\n",
       "\n",
       "    this.root = $('<div/>');\n",
       "    this._root_extra_style(this.root)\n",
       "    this.root.attr('style', 'display: inline-block');\n",
       "\n",
       "    $(parent_element).append(this.root);\n",
       "\n",
       "    this._init_header(this);\n",
       "    this._init_canvas(this);\n",
       "    this._init_toolbar(this);\n",
       "\n",
       "    var fig = this;\n",
       "\n",
       "    this.waiting = false;\n",
       "\n",
       "    this.ws.onopen =  function () {\n",
       "            fig.send_message(\"supports_binary\", {value: fig.supports_binary});\n",
       "            fig.send_message(\"send_image_mode\", {});\n",
       "            if (mpl.ratio != 1) {\n",
       "                fig.send_message(\"set_dpi_ratio\", {'dpi_ratio': mpl.ratio});\n",
       "            }\n",
       "            fig.send_message(\"refresh\", {});\n",
       "        }\n",
       "\n",
       "    this.imageObj.onload = function() {\n",
       "            if (fig.image_mode == 'full') {\n",
       "                // Full images could contain transparency (where diff images\n",
       "                // almost always do), so we need to clear the canvas so that\n",
       "                // there is no ghosting.\n",
       "                fig.context.clearRect(0, 0, fig.canvas.width, fig.canvas.height);\n",
       "            }\n",
       "            fig.context.drawImage(fig.imageObj, 0, 0);\n",
       "        };\n",
       "\n",
       "    this.imageObj.onunload = function() {\n",
       "        this.ws.close();\n",
       "    }\n",
       "\n",
       "    this.ws.onmessage = this._make_on_message_function(this);\n",
       "\n",
       "    this.ondownload = ondownload;\n",
       "}\n",
       "\n",
       "mpl.figure.prototype._init_header = function() {\n",
       "    var titlebar = $(\n",
       "        '<div class=\"ui-dialog-titlebar ui-widget-header ui-corner-all ' +\n",
       "        'ui-helper-clearfix\"/>');\n",
       "    var titletext = $(\n",
       "        '<div class=\"ui-dialog-title\" style=\"width: 100%; ' +\n",
       "        'text-align: center; padding: 3px;\"/>');\n",
       "    titlebar.append(titletext)\n",
       "    this.root.append(titlebar);\n",
       "    this.header = titletext[0];\n",
       "}\n",
       "\n",
       "\n",
       "\n",
       "mpl.figure.prototype._canvas_extra_style = function(canvas_div) {\n",
       "\n",
       "}\n",
       "\n",
       "\n",
       "mpl.figure.prototype._root_extra_style = function(canvas_div) {\n",
       "\n",
       "}\n",
       "\n",
       "mpl.figure.prototype._init_canvas = function() {\n",
       "    var fig = this;\n",
       "\n",
       "    var canvas_div = $('<div/>');\n",
       "\n",
       "    canvas_div.attr('style', 'position: relative; clear: both; outline: 0');\n",
       "\n",
       "    function canvas_keyboard_event(event) {\n",
       "        return fig.key_event(event, event['data']);\n",
       "    }\n",
       "\n",
       "    canvas_div.keydown('key_press', canvas_keyboard_event);\n",
       "    canvas_div.keyup('key_release', canvas_keyboard_event);\n",
       "    this.canvas_div = canvas_div\n",
       "    this._canvas_extra_style(canvas_div)\n",
       "    this.root.append(canvas_div);\n",
       "\n",
       "    var canvas = $('<canvas/>');\n",
       "    canvas.addClass('mpl-canvas');\n",
       "    canvas.attr('style', \"left: 0; top: 0; z-index: 0; outline: 0\")\n",
       "\n",
       "    this.canvas = canvas[0];\n",
       "    this.context = canvas[0].getContext(\"2d\");\n",
       "\n",
       "    var backingStore = this.context.backingStorePixelRatio ||\n",
       "\tthis.context.webkitBackingStorePixelRatio ||\n",
       "\tthis.context.mozBackingStorePixelRatio ||\n",
       "\tthis.context.msBackingStorePixelRatio ||\n",
       "\tthis.context.oBackingStorePixelRatio ||\n",
       "\tthis.context.backingStorePixelRatio || 1;\n",
       "\n",
       "    mpl.ratio = (window.devicePixelRatio || 1) / backingStore;\n",
       "\n",
       "    var rubberband = $('<canvas/>');\n",
       "    rubberband.attr('style', \"position: absolute; left: 0; top: 0; z-index: 1;\")\n",
       "\n",
       "    var pass_mouse_events = true;\n",
       "\n",
       "    canvas_div.resizable({\n",
       "        start: function(event, ui) {\n",
       "            pass_mouse_events = false;\n",
       "        },\n",
       "        resize: function(event, ui) {\n",
       "            fig.request_resize(ui.size.width, ui.size.height);\n",
       "        },\n",
       "        stop: function(event, ui) {\n",
       "            pass_mouse_events = true;\n",
       "            fig.request_resize(ui.size.width, ui.size.height);\n",
       "        },\n",
       "    });\n",
       "\n",
       "    function mouse_event_fn(event) {\n",
       "        if (pass_mouse_events)\n",
       "            return fig.mouse_event(event, event['data']);\n",
       "    }\n",
       "\n",
       "    rubberband.mousedown('button_press', mouse_event_fn);\n",
       "    rubberband.mouseup('button_release', mouse_event_fn);\n",
       "    // Throttle sequential mouse events to 1 every 20ms.\n",
       "    rubberband.mousemove('motion_notify', mouse_event_fn);\n",
       "\n",
       "    rubberband.mouseenter('figure_enter', mouse_event_fn);\n",
       "    rubberband.mouseleave('figure_leave', mouse_event_fn);\n",
       "\n",
       "    canvas_div.on(\"wheel\", function (event) {\n",
       "        event = event.originalEvent;\n",
       "        event['data'] = 'scroll'\n",
       "        if (event.deltaY < 0) {\n",
       "            event.step = 1;\n",
       "        } else {\n",
       "            event.step = -1;\n",
       "        }\n",
       "        mouse_event_fn(event);\n",
       "    });\n",
       "\n",
       "    canvas_div.append(canvas);\n",
       "    canvas_div.append(rubberband);\n",
       "\n",
       "    this.rubberband = rubberband;\n",
       "    this.rubberband_canvas = rubberband[0];\n",
       "    this.rubberband_context = rubberband[0].getContext(\"2d\");\n",
       "    this.rubberband_context.strokeStyle = \"#000000\";\n",
       "\n",
       "    this._resize_canvas = function(width, height) {\n",
       "        // Keep the size of the canvas, canvas container, and rubber band\n",
       "        // canvas in synch.\n",
       "        canvas_div.css('width', width)\n",
       "        canvas_div.css('height', height)\n",
       "\n",
       "        canvas.attr('width', width * mpl.ratio);\n",
       "        canvas.attr('height', height * mpl.ratio);\n",
       "        canvas.attr('style', 'width: ' + width + 'px; height: ' + height + 'px;');\n",
       "\n",
       "        rubberband.attr('width', width);\n",
       "        rubberband.attr('height', height);\n",
       "    }\n",
       "\n",
       "    // Set the figure to an initial 600x600px, this will subsequently be updated\n",
       "    // upon first draw.\n",
       "    this._resize_canvas(600, 600);\n",
       "\n",
       "    // Disable right mouse context menu.\n",
       "    $(this.rubberband_canvas).bind(\"contextmenu\",function(e){\n",
       "        return false;\n",
       "    });\n",
       "\n",
       "    function set_focus () {\n",
       "        canvas.focus();\n",
       "        canvas_div.focus();\n",
       "    }\n",
       "\n",
       "    window.setTimeout(set_focus, 100);\n",
       "}\n",
       "\n",
       "mpl.figure.prototype._init_toolbar = function() {\n",
       "    var fig = this;\n",
       "\n",
       "    var nav_element = $('<div/>')\n",
       "    nav_element.attr('style', 'width: 100%');\n",
       "    this.root.append(nav_element);\n",
       "\n",
       "    // Define a callback function for later on.\n",
       "    function toolbar_event(event) {\n",
       "        return fig.toolbar_button_onclick(event['data']);\n",
       "    }\n",
       "    function toolbar_mouse_event(event) {\n",
       "        return fig.toolbar_button_onmouseover(event['data']);\n",
       "    }\n",
       "\n",
       "    for(var toolbar_ind in mpl.toolbar_items) {\n",
       "        var name = mpl.toolbar_items[toolbar_ind][0];\n",
       "        var tooltip = mpl.toolbar_items[toolbar_ind][1];\n",
       "        var image = mpl.toolbar_items[toolbar_ind][2];\n",
       "        var method_name = mpl.toolbar_items[toolbar_ind][3];\n",
       "\n",
       "        if (!name) {\n",
       "            // put a spacer in here.\n",
       "            continue;\n",
       "        }\n",
       "        var button = $('<button/>');\n",
       "        button.addClass('ui-button ui-widget ui-state-default ui-corner-all ' +\n",
       "                        'ui-button-icon-only');\n",
       "        button.attr('role', 'button');\n",
       "        button.attr('aria-disabled', 'false');\n",
       "        button.click(method_name, toolbar_event);\n",
       "        button.mouseover(tooltip, toolbar_mouse_event);\n",
       "\n",
       "        var icon_img = $('<span/>');\n",
       "        icon_img.addClass('ui-button-icon-primary ui-icon');\n",
       "        icon_img.addClass(image);\n",
       "        icon_img.addClass('ui-corner-all');\n",
       "\n",
       "        var tooltip_span = $('<span/>');\n",
       "        tooltip_span.addClass('ui-button-text');\n",
       "        tooltip_span.html(tooltip);\n",
       "\n",
       "        button.append(icon_img);\n",
       "        button.append(tooltip_span);\n",
       "\n",
       "        nav_element.append(button);\n",
       "    }\n",
       "\n",
       "    var fmt_picker_span = $('<span/>');\n",
       "\n",
       "    var fmt_picker = $('<select/>');\n",
       "    fmt_picker.addClass('mpl-toolbar-option ui-widget ui-widget-content');\n",
       "    fmt_picker_span.append(fmt_picker);\n",
       "    nav_element.append(fmt_picker_span);\n",
       "    this.format_dropdown = fmt_picker[0];\n",
       "\n",
       "    for (var ind in mpl.extensions) {\n",
       "        var fmt = mpl.extensions[ind];\n",
       "        var option = $(\n",
       "            '<option/>', {selected: fmt === mpl.default_extension}).html(fmt);\n",
       "        fmt_picker.append(option)\n",
       "    }\n",
       "\n",
       "    // Add hover states to the ui-buttons\n",
       "    $( \".ui-button\" ).hover(\n",
       "        function() { $(this).addClass(\"ui-state-hover\");},\n",
       "        function() { $(this).removeClass(\"ui-state-hover\");}\n",
       "    );\n",
       "\n",
       "    var status_bar = $('<span class=\"mpl-message\"/>');\n",
       "    nav_element.append(status_bar);\n",
       "    this.message = status_bar[0];\n",
       "}\n",
       "\n",
       "mpl.figure.prototype.request_resize = function(x_pixels, y_pixels) {\n",
       "    // Request matplotlib to resize the figure. Matplotlib will then trigger a resize in the client,\n",
       "    // which will in turn request a refresh of the image.\n",
       "    this.send_message('resize', {'width': x_pixels, 'height': y_pixels});\n",
       "}\n",
       "\n",
       "mpl.figure.prototype.send_message = function(type, properties) {\n",
       "    properties['type'] = type;\n",
       "    properties['figure_id'] = this.id;\n",
       "    this.ws.send(JSON.stringify(properties));\n",
       "}\n",
       "\n",
       "mpl.figure.prototype.send_draw_message = function() {\n",
       "    if (!this.waiting) {\n",
       "        this.waiting = true;\n",
       "        this.ws.send(JSON.stringify({type: \"draw\", figure_id: this.id}));\n",
       "    }\n",
       "}\n",
       "\n",
       "\n",
       "mpl.figure.prototype.handle_save = function(fig, msg) {\n",
       "    var format_dropdown = fig.format_dropdown;\n",
       "    var format = format_dropdown.options[format_dropdown.selectedIndex].value;\n",
       "    fig.ondownload(fig, format);\n",
       "}\n",
       "\n",
       "\n",
       "mpl.figure.prototype.handle_resize = function(fig, msg) {\n",
       "    var size = msg['size'];\n",
       "    if (size[0] != fig.canvas.width || size[1] != fig.canvas.height) {\n",
       "        fig._resize_canvas(size[0], size[1]);\n",
       "        fig.send_message(\"refresh\", {});\n",
       "    };\n",
       "}\n",
       "\n",
       "mpl.figure.prototype.handle_rubberband = function(fig, msg) {\n",
       "    var x0 = msg['x0'] / mpl.ratio;\n",
       "    var y0 = (fig.canvas.height - msg['y0']) / mpl.ratio;\n",
       "    var x1 = msg['x1'] / mpl.ratio;\n",
       "    var y1 = (fig.canvas.height - msg['y1']) / mpl.ratio;\n",
       "    x0 = Math.floor(x0) + 0.5;\n",
       "    y0 = Math.floor(y0) + 0.5;\n",
       "    x1 = Math.floor(x1) + 0.5;\n",
       "    y1 = Math.floor(y1) + 0.5;\n",
       "    var min_x = Math.min(x0, x1);\n",
       "    var min_y = Math.min(y0, y1);\n",
       "    var width = Math.abs(x1 - x0);\n",
       "    var height = Math.abs(y1 - y0);\n",
       "\n",
       "    fig.rubberband_context.clearRect(\n",
       "        0, 0, fig.canvas.width, fig.canvas.height);\n",
       "\n",
       "    fig.rubberband_context.strokeRect(min_x, min_y, width, height);\n",
       "}\n",
       "\n",
       "mpl.figure.prototype.handle_figure_label = function(fig, msg) {\n",
       "    // Updates the figure title.\n",
       "    fig.header.textContent = msg['label'];\n",
       "}\n",
       "\n",
       "mpl.figure.prototype.handle_cursor = function(fig, msg) {\n",
       "    var cursor = msg['cursor'];\n",
       "    switch(cursor)\n",
       "    {\n",
       "    case 0:\n",
       "        cursor = 'pointer';\n",
       "        break;\n",
       "    case 1:\n",
       "        cursor = 'default';\n",
       "        break;\n",
       "    case 2:\n",
       "        cursor = 'crosshair';\n",
       "        break;\n",
       "    case 3:\n",
       "        cursor = 'move';\n",
       "        break;\n",
       "    }\n",
       "    fig.rubberband_canvas.style.cursor = cursor;\n",
       "}\n",
       "\n",
       "mpl.figure.prototype.handle_message = function(fig, msg) {\n",
       "    fig.message.textContent = msg['message'];\n",
       "}\n",
       "\n",
       "mpl.figure.prototype.handle_draw = function(fig, msg) {\n",
       "    // Request the server to send over a new figure.\n",
       "    fig.send_draw_message();\n",
       "}\n",
       "\n",
       "mpl.figure.prototype.handle_image_mode = function(fig, msg) {\n",
       "    fig.image_mode = msg['mode'];\n",
       "}\n",
       "\n",
       "mpl.figure.prototype.updated_canvas_event = function() {\n",
       "    // Called whenever the canvas gets updated.\n",
       "    this.send_message(\"ack\", {});\n",
       "}\n",
       "\n",
       "// A function to construct a web socket function for onmessage handling.\n",
       "// Called in the figure constructor.\n",
       "mpl.figure.prototype._make_on_message_function = function(fig) {\n",
       "    return function socket_on_message(evt) {\n",
       "        if (evt.data instanceof Blob) {\n",
       "            /* FIXME: We get \"Resource interpreted as Image but\n",
       "             * transferred with MIME type text/plain:\" errors on\n",
       "             * Chrome.  But how to set the MIME type?  It doesn't seem\n",
       "             * to be part of the websocket stream */\n",
       "            evt.data.type = \"image/png\";\n",
       "\n",
       "            /* Free the memory for the previous frames */\n",
       "            if (fig.imageObj.src) {\n",
       "                (window.URL || window.webkitURL).revokeObjectURL(\n",
       "                    fig.imageObj.src);\n",
       "            }\n",
       "\n",
       "            fig.imageObj.src = (window.URL || window.webkitURL).createObjectURL(\n",
       "                evt.data);\n",
       "            fig.updated_canvas_event();\n",
       "            fig.waiting = false;\n",
       "            return;\n",
       "        }\n",
       "        else if (typeof evt.data === 'string' && evt.data.slice(0, 21) == \"data:image/png;base64\") {\n",
       "            fig.imageObj.src = evt.data;\n",
       "            fig.updated_canvas_event();\n",
       "            fig.waiting = false;\n",
       "            return;\n",
       "        }\n",
       "\n",
       "        var msg = JSON.parse(evt.data);\n",
       "        var msg_type = msg['type'];\n",
       "\n",
       "        // Call the  \"handle_{type}\" callback, which takes\n",
       "        // the figure and JSON message as its only arguments.\n",
       "        try {\n",
       "            var callback = fig[\"handle_\" + msg_type];\n",
       "        } catch (e) {\n",
       "            console.log(\"No handler for the '\" + msg_type + \"' message type: \", msg);\n",
       "            return;\n",
       "        }\n",
       "\n",
       "        if (callback) {\n",
       "            try {\n",
       "                // console.log(\"Handling '\" + msg_type + \"' message: \", msg);\n",
       "                callback(fig, msg);\n",
       "            } catch (e) {\n",
       "                console.log(\"Exception inside the 'handler_\" + msg_type + \"' callback:\", e, e.stack, msg);\n",
       "            }\n",
       "        }\n",
       "    };\n",
       "}\n",
       "\n",
       "// from http://stackoverflow.com/questions/1114465/getting-mouse-location-in-canvas\n",
       "mpl.findpos = function(e) {\n",
       "    //this section is from http://www.quirksmode.org/js/events_properties.html\n",
       "    var targ;\n",
       "    if (!e)\n",
       "        e = window.event;\n",
       "    if (e.target)\n",
       "        targ = e.target;\n",
       "    else if (e.srcElement)\n",
       "        targ = e.srcElement;\n",
       "    if (targ.nodeType == 3) // defeat Safari bug\n",
       "        targ = targ.parentNode;\n",
       "\n",
       "    // jQuery normalizes the pageX and pageY\n",
       "    // pageX,Y are the mouse positions relative to the document\n",
       "    // offset() returns the position of the element relative to the document\n",
       "    var x = e.pageX - $(targ).offset().left;\n",
       "    var y = e.pageY - $(targ).offset().top;\n",
       "\n",
       "    return {\"x\": x, \"y\": y};\n",
       "};\n",
       "\n",
       "/*\n",
       " * return a copy of an object with only non-object keys\n",
       " * we need this to avoid circular references\n",
       " * http://stackoverflow.com/a/24161582/3208463\n",
       " */\n",
       "function simpleKeys (original) {\n",
       "  return Object.keys(original).reduce(function (obj, key) {\n",
       "    if (typeof original[key] !== 'object')\n",
       "        obj[key] = original[key]\n",
       "    return obj;\n",
       "  }, {});\n",
       "}\n",
       "\n",
       "mpl.figure.prototype.mouse_event = function(event, name) {\n",
       "    var canvas_pos = mpl.findpos(event)\n",
       "\n",
       "    if (name === 'button_press')\n",
       "    {\n",
       "        this.canvas.focus();\n",
       "        this.canvas_div.focus();\n",
       "    }\n",
       "\n",
       "    var x = canvas_pos.x * mpl.ratio;\n",
       "    var y = canvas_pos.y * mpl.ratio;\n",
       "\n",
       "    this.send_message(name, {x: x, y: y, button: event.button,\n",
       "                             step: event.step,\n",
       "                             guiEvent: simpleKeys(event)});\n",
       "\n",
       "    /* This prevents the web browser from automatically changing to\n",
       "     * the text insertion cursor when the button is pressed.  We want\n",
       "     * to control all of the cursor setting manually through the\n",
       "     * 'cursor' event from matplotlib */\n",
       "    event.preventDefault();\n",
       "    return false;\n",
       "}\n",
       "\n",
       "mpl.figure.prototype._key_event_extra = function(event, name) {\n",
       "    // Handle any extra behaviour associated with a key event\n",
       "}\n",
       "\n",
       "mpl.figure.prototype.key_event = function(event, name) {\n",
       "\n",
       "    // Prevent repeat events\n",
       "    if (name == 'key_press')\n",
       "    {\n",
       "        if (event.which === this._key)\n",
       "            return;\n",
       "        else\n",
       "            this._key = event.which;\n",
       "    }\n",
       "    if (name == 'key_release')\n",
       "        this._key = null;\n",
       "\n",
       "    var value = '';\n",
       "    if (event.ctrlKey && event.which != 17)\n",
       "        value += \"ctrl+\";\n",
       "    if (event.altKey && event.which != 18)\n",
       "        value += \"alt+\";\n",
       "    if (event.shiftKey && event.which != 16)\n",
       "        value += \"shift+\";\n",
       "\n",
       "    value += 'k';\n",
       "    value += event.which.toString();\n",
       "\n",
       "    this._key_event_extra(event, name);\n",
       "\n",
       "    this.send_message(name, {key: value,\n",
       "                             guiEvent: simpleKeys(event)});\n",
       "    return false;\n",
       "}\n",
       "\n",
       "mpl.figure.prototype.toolbar_button_onclick = function(name) {\n",
       "    if (name == 'download') {\n",
       "        this.handle_save(this, null);\n",
       "    } else {\n",
       "        this.send_message(\"toolbar_button\", {name: name});\n",
       "    }\n",
       "};\n",
       "\n",
       "mpl.figure.prototype.toolbar_button_onmouseover = function(tooltip) {\n",
       "    this.message.textContent = tooltip;\n",
       "};\n",
       "mpl.toolbar_items = [[\"Home\", \"Reset original view\", \"fa fa-home icon-home\", \"home\"], [\"Back\", \"Back to  previous view\", \"fa fa-arrow-left icon-arrow-left\", \"back\"], [\"Forward\", \"Forward to next view\", \"fa fa-arrow-right icon-arrow-right\", \"forward\"], [\"\", \"\", \"\", \"\"], [\"Pan\", \"Pan axes with left mouse, zoom with right\", \"fa fa-arrows icon-move\", \"pan\"], [\"Zoom\", \"Zoom to rectangle\", \"fa fa-square-o icon-check-empty\", \"zoom\"], [\"\", \"\", \"\", \"\"], [\"Download\", \"Download plot\", \"fa fa-floppy-o icon-save\", \"download\"]];\n",
       "\n",
       "mpl.extensions = [\"eps\", \"jpeg\", \"pdf\", \"png\", \"ps\", \"raw\", \"svg\", \"tif\"];\n",
       "\n",
       "mpl.default_extension = \"png\";var comm_websocket_adapter = function(comm) {\n",
       "    // Create a \"websocket\"-like object which calls the given IPython comm\n",
       "    // object with the appropriate methods. Currently this is a non binary\n",
       "    // socket, so there is still some room for performance tuning.\n",
       "    var ws = {};\n",
       "\n",
       "    ws.close = function() {\n",
       "        comm.close()\n",
       "    };\n",
       "    ws.send = function(m) {\n",
       "        //console.log('sending', m);\n",
       "        comm.send(m);\n",
       "    };\n",
       "    // Register the callback with on_msg.\n",
       "    comm.on_msg(function(msg) {\n",
       "        //console.log('receiving', msg['content']['data'], msg);\n",
       "        // Pass the mpl event to the overriden (by mpl) onmessage function.\n",
       "        ws.onmessage(msg['content']['data'])\n",
       "    });\n",
       "    return ws;\n",
       "}\n",
       "\n",
       "mpl.mpl_figure_comm = function(comm, msg) {\n",
       "    // This is the function which gets called when the mpl process\n",
       "    // starts-up an IPython Comm through the \"matplotlib\" channel.\n",
       "\n",
       "    var id = msg.content.data.id;\n",
       "    // Get hold of the div created by the display call when the Comm\n",
       "    // socket was opened in Python.\n",
       "    var element = $(\"#\" + id);\n",
       "    var ws_proxy = comm_websocket_adapter(comm)\n",
       "\n",
       "    function ondownload(figure, format) {\n",
       "        window.open(figure.imageObj.src);\n",
       "    }\n",
       "\n",
       "    var fig = new mpl.figure(id, ws_proxy,\n",
       "                           ondownload,\n",
       "                           element.get(0));\n",
       "\n",
       "    // Call onopen now - mpl needs it, as it is assuming we've passed it a real\n",
       "    // web socket which is closed, not our websocket->open comm proxy.\n",
       "    ws_proxy.onopen();\n",
       "\n",
       "    fig.parent_element = element.get(0);\n",
       "    fig.cell_info = mpl.find_output_cell(\"<div id='\" + id + \"'></div>\");\n",
       "    if (!fig.cell_info) {\n",
       "        console.error(\"Failed to find cell for figure\", id, fig);\n",
       "        return;\n",
       "    }\n",
       "\n",
       "    var output_index = fig.cell_info[2]\n",
       "    var cell = fig.cell_info[0];\n",
       "\n",
       "};\n",
       "\n",
       "mpl.figure.prototype.handle_close = function(fig, msg) {\n",
       "    var width = fig.canvas.width/mpl.ratio\n",
       "    fig.root.unbind('remove')\n",
       "\n",
       "    // Update the output cell to use the data from the current canvas.\n",
       "    fig.push_to_output();\n",
       "    var dataURL = fig.canvas.toDataURL();\n",
       "    // Re-enable the keyboard manager in IPython - without this line, in FF,\n",
       "    // the notebook keyboard shortcuts fail.\n",
       "    IPython.keyboard_manager.enable()\n",
       "    $(fig.parent_element).html('<img src=\"' + dataURL + '\" width=\"' + width + '\">');\n",
       "    fig.close_ws(fig, msg);\n",
       "}\n",
       "\n",
       "mpl.figure.prototype.close_ws = function(fig, msg){\n",
       "    fig.send_message('closing', msg);\n",
       "    // fig.ws.close()\n",
       "}\n",
       "\n",
       "mpl.figure.prototype.push_to_output = function(remove_interactive) {\n",
       "    // Turn the data on the canvas into data in the output cell.\n",
       "    var width = this.canvas.width/mpl.ratio\n",
       "    var dataURL = this.canvas.toDataURL();\n",
       "    this.cell_info[1]['text/html'] = '<img src=\"' + dataURL + '\" width=\"' + width + '\">';\n",
       "}\n",
       "\n",
       "mpl.figure.prototype.updated_canvas_event = function() {\n",
       "    // Tell IPython that the notebook contents must change.\n",
       "    IPython.notebook.set_dirty(true);\n",
       "    this.send_message(\"ack\", {});\n",
       "    var fig = this;\n",
       "    // Wait a second, then push the new image to the DOM so\n",
       "    // that it is saved nicely (might be nice to debounce this).\n",
       "    setTimeout(function () { fig.push_to_output() }, 1000);\n",
       "}\n",
       "\n",
       "mpl.figure.prototype._init_toolbar = function() {\n",
       "    var fig = this;\n",
       "\n",
       "    var nav_element = $('<div/>')\n",
       "    nav_element.attr('style', 'width: 100%');\n",
       "    this.root.append(nav_element);\n",
       "\n",
       "    // Define a callback function for later on.\n",
       "    function toolbar_event(event) {\n",
       "        return fig.toolbar_button_onclick(event['data']);\n",
       "    }\n",
       "    function toolbar_mouse_event(event) {\n",
       "        return fig.toolbar_button_onmouseover(event['data']);\n",
       "    }\n",
       "\n",
       "    for(var toolbar_ind in mpl.toolbar_items){\n",
       "        var name = mpl.toolbar_items[toolbar_ind][0];\n",
       "        var tooltip = mpl.toolbar_items[toolbar_ind][1];\n",
       "        var image = mpl.toolbar_items[toolbar_ind][2];\n",
       "        var method_name = mpl.toolbar_items[toolbar_ind][3];\n",
       "\n",
       "        if (!name) { continue; };\n",
       "\n",
       "        var button = $('<button class=\"btn btn-default\" href=\"#\" title=\"' + name + '\"><i class=\"fa ' + image + ' fa-lg\"></i></button>');\n",
       "        button.click(method_name, toolbar_event);\n",
       "        button.mouseover(tooltip, toolbar_mouse_event);\n",
       "        nav_element.append(button);\n",
       "    }\n",
       "\n",
       "    // Add the status bar.\n",
       "    var status_bar = $('<span class=\"mpl-message\" style=\"text-align:right; float: right;\"/>');\n",
       "    nav_element.append(status_bar);\n",
       "    this.message = status_bar[0];\n",
       "\n",
       "    // Add the close button to the window.\n",
       "    var buttongrp = $('<div class=\"btn-group inline pull-right\"></div>');\n",
       "    var button = $('<button class=\"btn btn-mini btn-primary\" href=\"#\" title=\"Stop Interaction\"><i class=\"fa fa-power-off icon-remove icon-large\"></i></button>');\n",
       "    button.click(function (evt) { fig.handle_close(fig, {}); } );\n",
       "    button.mouseover('Stop Interaction', toolbar_mouse_event);\n",
       "    buttongrp.append(button);\n",
       "    var titlebar = this.root.find($('.ui-dialog-titlebar'));\n",
       "    titlebar.prepend(buttongrp);\n",
       "}\n",
       "\n",
       "mpl.figure.prototype._root_extra_style = function(el){\n",
       "    var fig = this\n",
       "    el.on(\"remove\", function(){\n",
       "\tfig.close_ws(fig, {});\n",
       "    });\n",
       "}\n",
       "\n",
       "mpl.figure.prototype._canvas_extra_style = function(el){\n",
       "    // this is important to make the div 'focusable\n",
       "    el.attr('tabindex', 0)\n",
       "    // reach out to IPython and tell the keyboard manager to turn it's self\n",
       "    // off when our div gets focus\n",
       "\n",
       "    // location in version 3\n",
       "    if (IPython.notebook.keyboard_manager) {\n",
       "        IPython.notebook.keyboard_manager.register_events(el);\n",
       "    }\n",
       "    else {\n",
       "        // location in version 2\n",
       "        IPython.keyboard_manager.register_events(el);\n",
       "    }\n",
       "\n",
       "}\n",
       "\n",
       "mpl.figure.prototype._key_event_extra = function(event, name) {\n",
       "    var manager = IPython.notebook.keyboard_manager;\n",
       "    if (!manager)\n",
       "        manager = IPython.keyboard_manager;\n",
       "\n",
       "    // Check for shift+enter\n",
       "    if (event.shiftKey && event.which == 13) {\n",
       "        this.canvas_div.blur();\n",
       "        // select the cell after this one\n",
       "        var index = IPython.notebook.find_cell_index(this.cell_info[0]);\n",
       "        IPython.notebook.select(index + 1);\n",
       "    }\n",
       "}\n",
       "\n",
       "mpl.figure.prototype.handle_save = function(fig, msg) {\n",
       "    fig.ondownload(fig, null);\n",
       "}\n",
       "\n",
       "\n",
       "mpl.find_output_cell = function(html_output) {\n",
       "    // Return the cell and output element which can be found *uniquely* in the notebook.\n",
       "    // Note - this is a bit hacky, but it is done because the \"notebook_saving.Notebook\"\n",
       "    // IPython event is triggered only after the cells have been serialised, which for\n",
       "    // our purposes (turning an active figure into a static one), is too late.\n",
       "    var cells = IPython.notebook.get_cells();\n",
       "    var ncells = cells.length;\n",
       "    for (var i=0; i<ncells; i++) {\n",
       "        var cell = cells[i];\n",
       "        if (cell.cell_type === 'code'){\n",
       "            for (var j=0; j<cell.output_area.outputs.length; j++) {\n",
       "                var data = cell.output_area.outputs[j];\n",
       "                if (data.data) {\n",
       "                    // IPython >= 3 moved mimebundle to data attribute of output\n",
       "                    data = data.data;\n",
       "                }\n",
       "                if (data['text/html'] == html_output) {\n",
       "                    return [cell, data, j];\n",
       "                }\n",
       "            }\n",
       "        }\n",
       "    }\n",
       "}\n",
       "\n",
       "// Register the function which deals with the matplotlib target/channel.\n",
       "// The kernel may be null if the page has been refreshed.\n",
       "if (IPython.notebook.kernel != null) {\n",
       "    IPython.notebook.kernel.comm_manager.register_target('matplotlib', mpl.mpl_figure_comm);\n",
       "}\n"
      ],
      "text/plain": [
       "<IPython.core.display.Javascript object>"
      ]
     },
     "metadata": {},
     "output_type": "display_data"
    },
    {
     "data": {
      "text/html": [
       "<img src=\"data:image/png;base64,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\" width=\"640\">"
      ],
      "text/plain": [
       "<IPython.core.display.HTML object>"
      ]
     },
     "metadata": {},
     "output_type": "display_data"
    }
   ],
   "source": [
    "outPlots=plt.ion()\n",
    "fig = plt.figure('Outputs')\n",
    "\n",
    "def plot(name='',suptitle='', xList=[], yList=[],value=1):\n",
    "    global fig\n",
    "    fig.suptitle(name, fontsize=20)\n",
    "    plt.xlabel('xlabel', fontsize=18)\n",
    "    plt.ylabel('ylabel', fontsize=16)\n",
    "    fig.canvas.set_window_title(name)\n",
    "    fig.clf()\n",
    "    ax = fig.add_subplot(111)\n",
    "    if value==1:\n",
    "        ax.plot(xList, yList, 'r-')\n",
    "    elif value==2:\n",
    "        ax.plot(xList, yList, 'b-')\n",
    "    else:\n",
    "        print('stdoutput')\n",
    "    fig.suptitle(suptitle, fontsize=10)\n",
    "    plt.xlabel('Distance measure between the two Surfaces (z = 0 is the midpoint)(nm)', fontsize=10)\n",
    "    plt.ylabel('Density(M)', fontsize=10)\n",
    "    plt.show()\n",
    "\n",
    "def complexPlot(name='',suptitle='', xList=[], yList=[],xList2=[], yList2=[]):\n",
    "    global fig\n",
    "    fig.suptitle(name, fontsize=20)\n",
    "    plt.xlabel('xlabel', fontsize=18)\n",
    "    plt.ylabel('ylabel', fontsize=16)\n",
    "    fig.canvas.set_window_title(name)\n",
    "    fig.clf()\n",
    "    ax = fig.add_subplot(111)\n",
    "    ax.plot(xList, yList, 'r-', label='Positive density')\n",
    "    ax.plot(xList2, yList2, 'b--', label='Negative density')\n",
    "    legend = ax.legend(loc='upper center', shadow=True, fontsize='x-small')\n",
    "    fig.suptitle(suptitle, fontsize=10)\n",
    "    plt.xlabel('Distance measure between the two Surfaces (z = 0 is the midpoint)(nm)', fontsize=10)\n",
    "    plt.ylabel('Density(M)', fontsize=10)\n",
    "    plt.show()    \n"
   ]
  },
  {
   "cell_type": "code",
   "execution_count": 17,
   "metadata": {
    "extensions": {
     "jupyter_dashboards": {
      "version": 1,
      "views": {
       "grid_default": {
        "col": 4,
        "height": 2,
        "hidden": false,
        "row": 6,
        "width": 8
       },
       "report_default": {
        "hidden": false
       }
      }
     }
    }
   },
   "outputs": [
    {
     "data": {
      "application/vnd.jupyter.widget-view+json": {
       "model_id": "6f293be13c5b4319b9ae5beeca23f8ba",
       "version_major": 2,
       "version_minor": 0
      },
      "text/html": [
       "<p>Failed to display Jupyter Widget of type <code>IntProgress</code>.</p>\n",
       "<p>\n",
       "  If you're reading this message in the Jupyter Notebook or JupyterLab Notebook, it may mean\n",
       "  that the widgets JavaScript is still loading. If this message persists, it\n",
       "  likely means that the widgets JavaScript library is either not installed or\n",
       "  not enabled. See the <a href=\"https://ipywidgets.readthedocs.io/en/stable/user_install.html\">Jupyter\n",
       "  Widgets Documentation</a> for setup instructions.\n",
       "</p>\n",
       "<p>\n",
       "  If you're reading this message in another frontend (for example, a static\n",
       "  rendering on GitHub or <a href=\"https://nbviewer.jupyter.org/\">NBViewer</a>),\n",
       "  it may mean that your frontend doesn't currently support widgets.\n",
       "</p>\n"
      ],
      "text/plain": [
       "IntProgress(value=0, description='Progress:', layout=Layout(width='100%'))"
      ]
     },
     "metadata": {},
     "output_type": "display_data"
    }
   ],
   "source": [
    "progressBar=widgets.IntProgress(\n",
    "    value=0,\n",
    "    min=0,\n",
    "    max=100,\n",
    "    step=1,\n",
    "    description='Progress:',\n",
    "    bar_style='', # 'success', 'info', 'warning', 'danger' or ''\n",
    "    orientation='horizontal',\n",
    "    layout={'width': '100%'},\n",
    ")\n",
    "progressBar\n"
   ]
  },
  {
   "cell_type": "code",
   "execution_count": 18,
   "metadata": {
    "extensions": {
     "jupyter_dashboards": {
      "version": 1,
      "views": {
       "grid_default": {
        "hidden": true
       },
       "report_default": {
        "hidden": true
       }
      }
     }
    }
   },
   "outputs": [],
   "source": [
    "def on_change(change):\n",
    "    if change['type'] == 'change' and change['name'] == 'value':\n",
    "        global pdX, pdY, ndX, ndY, logoutput\n",
    "        if change['new']==1:\n",
    "            plot('Positive density Profie', 'Distribution of positive ions confined within the nanoparticle surfaces', pdX, pdY,1)\n",
    "        elif change['new']==2:\n",
    "            plot('Negative density Profie', 'Distribution of negative ions confined within the nanoparticle surfaces', ndX, ndY,2)\n",
    "        elif change['new']==3:\n",
    "            complexPlot('Positive/negative density Profie', 'Distribution of positive/negative ions confined within the nanoparticle surfaces', pdX, pdY, ndX, ndY)\n",
    "        else:\n",
    "            stdOutText.value=logoutput"
   ]
  },
  {
   "cell_type": "code",
   "execution_count": 19,
   "metadata": {
    "extensions": {
     "jupyter_dashboards": {
      "version": 1,
      "views": {
       "grid_default": {
        "col": 0,
        "height": 2,
        "hidden": false,
        "row": 20,
        "width": 4
       },
       "report_default": {
        "hidden": false
       }
      }
     }
    }
   },
   "outputs": [
    {
     "data": {
      "application/vnd.jupyter.widget-view+json": {
       "model_id": "70a7c292c1d54b558b0cbd738c0114ef",
       "version_major": 2,
       "version_minor": 0
      },
      "text/html": [
       "<p>Failed to display Jupyter Widget of type <code>Dropdown</code>.</p>\n",
       "<p>\n",
       "  If you're reading this message in the Jupyter Notebook or JupyterLab Notebook, it may mean\n",
       "  that the widgets JavaScript is still loading. If this message persists, it\n",
       "  likely means that the widgets JavaScript library is either not installed or\n",
       "  not enabled. See the <a href=\"https://ipywidgets.readthedocs.io/en/stable/user_install.html\">Jupyter\n",
       "  Widgets Documentation</a> for setup instructions.\n",
       "</p>\n",
       "<p>\n",
       "  If you're reading this message in another frontend (for example, a static\n",
       "  rendering on GitHub or <a href=\"https://nbviewer.jupyter.org/\">NBViewer</a>),\n",
       "  it may mean that your frontend doesn't currently support widgets.\n",
       "</p>\n"
      ],
      "text/plain": [
       "Dropdown(description='Output plots', disabled=True, options={'Positive density Profie': 1, 'Negaitive density Profie': 2, 'Positive/Negaitive density Profie': 3}, style=DescriptionStyle(description_width='initial'), value=1)"
      ]
     },
     "metadata": {},
     "output_type": "display_data"
    }
   ],
   "source": [
    "output = widgets.Dropdown(\n",
    "    name='Outputs',\n",
    "    options={'Positive density Profie': 1, 'Negaitive density Profie': 2,  'Positive/Negaitive density Profie': 3},\n",
    "    value=1,\n",
    "    description=\"Output plots\",\n",
    "    style=style,\n",
    "    disabled=True\n",
    ")\n",
    "output.observe(on_change)\n",
    "output\n"
   ]
  },
  {
   "cell_type": "code",
   "execution_count": 20,
   "metadata": {
    "extensions": {
     "jupyter_dashboards": {
      "version": 1,
      "views": {
       "grid_default": {
        "col": 4,
        "height": 14,
        "hidden": false,
        "row": 8,
        "width": 4
       },
       "report_default": {
        "hidden": true
       }
      }
     }
    }
   },
   "outputs": [
    {
     "data": {
      "application/vnd.jupyter.widget-view+json": {
       "model_id": "f0bf34abe5ff4a8fb069826e63ee1e5f",
       "version_major": 2,
       "version_minor": 0
      },
      "text/html": [
       "<p>Failed to display Jupyter Widget of type <code>Textarea</code>.</p>\n",
       "<p>\n",
       "  If you're reading this message in the Jupyter Notebook or JupyterLab Notebook, it may mean\n",
       "  that the widgets JavaScript is still loading. If this message persists, it\n",
       "  likely means that the widgets JavaScript library is either not installed or\n",
       "  not enabled. See the <a href=\"https://ipywidgets.readthedocs.io/en/stable/user_install.html\">Jupyter\n",
       "  Widgets Documentation</a> for setup instructions.\n",
       "</p>\n",
       "<p>\n",
       "  If you're reading this message in another frontend (for example, a static\n",
       "  rendering on GitHub or <a href=\"https://nbviewer.jupyter.org/\">NBViewer</a>),\n",
       "  it may mean that your frontend doesn't currently support widgets.\n",
       "</p>\n"
      ],
      "text/plain": [
       "Textarea(value='', layout=Layout(height='400px'), placeholder='Job execution messages is here')"
      ]
     },
     "metadata": {},
     "output_type": "display_data"
    }
   ],
   "source": [
    "stdOutSubmitText=widgets.Textarea(\n",
    "    value='',\n",
    "    placeholder='Job execution messages is here',\n",
    "    layout={'height': '400px'},\n",
    "    disabled=False\n",
    ")\n",
    "stdOutSubmitText"
   ]
  },
  {
   "cell_type": "code",
   "execution_count": 21,
   "metadata": {
    "extensions": {
     "jupyter_dashboards": {
      "version": 1,
      "views": {
       "grid_default": {
        "col": 8,
        "height": 14,
        "hidden": false,
        "row": 8,
        "width": 4
       },
       "report_default": {
        "hidden": false
       }
      }
     }
    }
   },
   "outputs": [
    {
     "data": {
      "application/vnd.jupyter.widget-view+json": {
       "model_id": "8811163d98324cb4bb208b3119c4db76",
       "version_major": 2,
       "version_minor": 0
      },
      "text/html": [
       "<p>Failed to display Jupyter Widget of type <code>Textarea</code>.</p>\n",
       "<p>\n",
       "  If you're reading this message in the Jupyter Notebook or JupyterLab Notebook, it may mean\n",
       "  that the widgets JavaScript is still loading. If this message persists, it\n",
       "  likely means that the widgets JavaScript library is either not installed or\n",
       "  not enabled. See the <a href=\"https://ipywidgets.readthedocs.io/en/stable/user_install.html\">Jupyter\n",
       "  Widgets Documentation</a> for setup instructions.\n",
       "</p>\n",
       "<p>\n",
       "  If you're reading this message in another frontend (for example, a static\n",
       "  rendering on GitHub or <a href=\"https://nbviewer.jupyter.org/\">NBViewer</a>),\n",
       "  it may mean that your frontend doesn't currently support widgets.\n",
       "</p>\n"
      ],
      "text/plain": [
       "Textarea(value='', layout=Layout(height='400px'), placeholder='Simulation output is here')"
      ]
     },
     "metadata": {},
     "output_type": "display_data"
    }
   ],
   "source": [
    "stdOutText=widgets.Textarea(\n",
    "    value='',\n",
    "    placeholder='Simulation output is here',\n",
    "    layout={'height': '400px'},\n",
    "    disabled=False\n",
    ")\n",
    "stdOutText"
   ]
  },
  {
   "cell_type": "code",
   "execution_count": 22,
   "metadata": {
    "extensions": {
     "jupyter_dashboards": {
      "version": 1,
      "views": {
       "grid_default": {
        "col": 0,
        "height": 9,
        "hidden": true,
        "row": 28,
        "width": 4
       },
       "report_default": {
        "hidden": true
       }
      }
     }
    }
   },
   "outputs": [],
   "source": [
    "\n",
    "#widgets.VBox([plabel, salt, pion, nion, clen, ion_diam, clabel, steps, image_html, but, progressBar, out])"
   ]
  }
 ],
 "metadata": {
  "extensions": {
   "jupyter_dashboards": {
    "activeView": "grid_default",
    "version": 1,
    "views": {
     "grid_default": {
      "cellMargin": 10,
      "defaultCellHeight": 20,
      "maxColumns": 12,
      "name": "grid",
      "type": "grid"
     },
     "report_default": {
      "name": "report",
      "type": "report"
     }
    }
   }
  },
  "kernelspec": {
   "display_name": "Python3",
   "language": "python",
   "name": "python3"
  },
  "language_info": {
   "codemirror_mode": {
    "name": "ipython",
    "version": 3
   },
   "file_extension": ".py",
   "mimetype": "text/x-python",
   "name": "python",
   "nbconvert_exporter": "python",
   "pygments_lexer": "ipython3",
   "version": "3.6.2"
  },
  "widgets": {
   "application/vnd.jupyter.widget-state+json": {
    "state": {
     "0928bdb3f16145de8f3bdc629c434672": {
      "model_module": "@jupyter-widgets/base",
      "model_module_version": "1.0.0",
      "model_name": "LayoutModel",
      "state": {}
     },
     "113232b6f0b0489c857571e43b2fc7c0": {
      "model_module": "@jupyter-widgets/controls",
      "model_module_version": "1.0.0",
      "model_name": "HTMLModel",
      "state": {
       "layout": "IPY_MODEL_33445fc625f34d0bbeeddd4c97736d58",
       "style": "IPY_MODEL_6d300a697da3458c80bec3d9f5dd9aee",
       "value": "<img src=\"imageV5.jpg\" style=\"width: 300px\"/>"
      }
     },
     "17e316ab391d438ea2d65e76f4767f5e": {
      "model_module": "@jupyter-widgets/base",
      "model_module_version": "1.0.0",
      "model_name": "LayoutModel",
      "state": {}
     },
     "1b37f86d44a84a748bf0f856f082f995": {
      "model_module": "@jupyter-widgets/controls",
      "model_module_version": "1.0.0",
      "model_name": "DropdownModel",
      "state": {
       "_options_labels": [
        "1(monovalent)",
        "2(divalent)",
        "3(trivalent)"
       ],
       "description": "Positive Ion Valency (z)",
       "index": 2,
       "layout": "IPY_MODEL_0928bdb3f16145de8f3bdc629c434672",
       "style": "IPY_MODEL_42bfc62f7b0a40b28042c92ea51358b6"
      }
     },
     "1c1ce5a816634e95ba4fd9c260a0e035": {
      "model_module": "@jupyter-widgets/controls",
      "model_module_version": "1.0.0",
      "model_name": "BoundedFloatTextModel",
      "state": {
       "description": "Ion Diameter (nm):",
       "layout": "IPY_MODEL_b75073530edf4a96b67df16319442848",
       "max": 0.8,
       "min": 0.5,
       "step": 0.001,
       "style": "IPY_MODEL_cba8a7396c344ef49134b9b3b3577ef5",
       "value": 0.714
      }
     },
     "24a70f35d36b4d4eb6b8faef61e818e1": {
      "model_module": "@jupyter-widgets/controls",
      "model_module_version": "1.0.0",
      "model_name": "BoundedFloatTextModel",
      "state": {
       "description": "Salt Concentration (c in M):",
       "layout": "IPY_MODEL_2fedeb6b81c543169901f6f01ed839cd",
       "max": 0.9,
       "min": 0.3,
       "style": "IPY_MODEL_45d6aa209f234a8a9a5d856d1b8c4894",
       "value": 0.7
      }
     },
     "2fedeb6b81c543169901f6f01ed839cd": {
      "model_module": "@jupyter-widgets/base",
      "model_module_version": "1.0.0",
      "model_name": "LayoutModel",
      "state": {}
     },
     "33445fc625f34d0bbeeddd4c97736d58": {
      "model_module": "@jupyter-widgets/base",
      "model_module_version": "1.0.0",
      "model_name": "LayoutModel",
      "state": {}
     },
     "36d5fefc93e84ab081d80ce41001de6f": {
      "model_module": "@jupyter-widgets/controls",
      "model_module_version": "1.0.0",
      "model_name": "ButtonModel",
      "state": {
       "description": "Simulate",
       "layout": "IPY_MODEL_f4cbb854239940da8e36bc8f9611fd13",
       "style": "IPY_MODEL_90d2800131be4e46b2b415fae5cc3976"
      }
     },
     "421f485f7df44b158c5ebc2cead2e4fc": {
      "model_module": "@jupyter-widgets/base",
      "model_module_version": "1.0.0",
      "model_name": "LayoutModel",
      "state": {}
     },
     "42bfc62f7b0a40b28042c92ea51358b6": {
      "model_module": "@jupyter-widgets/controls",
      "model_module_version": "1.0.0",
      "model_name": "DescriptionStyleModel",
      "state": {
       "description_width": "initial"
      }
     },
     "45d6aa209f234a8a9a5d856d1b8c4894": {
      "model_module": "@jupyter-widgets/controls",
      "model_module_version": "1.0.0",
      "model_name": "DescriptionStyleModel",
      "state": {
       "description_width": "initial"
      }
     },
     "45d97dd36250486787312d12a1a0eaf2": {
      "model_module": "@jupyter-widgets/controls",
      "model_module_version": "1.0.0",
      "model_name": "BoundedIntTextModel",
      "state": {
       "description": "Simulation Steps:",
       "layout": "IPY_MODEL_bf0216a2f8b24c489de53ab167969b49",
       "max": 5000000,
       "min": 20000,
       "step": 10000,
       "style": "IPY_MODEL_e4131453ffbf4876acdf9652cdb5b893",
       "value": 20000
      }
     },
     "520b6eb96ab54cd9a7c50b7bd2960207": {
      "model_module": "@jupyter-widgets/controls",
      "model_module_version": "1.0.0",
      "model_name": "DescriptionStyleModel",
      "state": {
       "description_width": "initial"
      }
     },
     "5b8456ddd09d48d8b782d04c0f5a8666": {
      "model_module": "@jupyter-widgets/controls",
      "model_module_version": "1.0.0",
      "model_name": "DescriptionStyleModel",
      "state": {
       "description_width": "initial"
      }
     },
     "6b49ad221a4f4738b7967d0195642151": {
      "model_module": "@jupyter-widgets/controls",
      "model_module_version": "1.0.0",
      "model_name": "BoundedFloatTextModel",
      "state": {
       "description": "Confinement Length (nm):",
       "layout": "IPY_MODEL_17e316ab391d438ea2d65e76f4767f5e",
       "max": 4,
       "min": 2,
       "style": "IPY_MODEL_747d7d8031df4ff984c508e9da864b35",
       "value": 3
      }
     },
     "6d300a697da3458c80bec3d9f5dd9aee": {
      "model_module": "@jupyter-widgets/controls",
      "model_module_version": "1.0.0",
      "model_name": "DescriptionStyleModel",
      "state": {
       "description_width": ""
      }
     },
     "73d6a9e62f6d40938e21e2c7fd5daf6a": {
      "model_module": "@jupyter-widgets/base",
      "model_module_version": "1.0.0",
      "model_name": "LayoutModel",
      "state": {}
     },
     "747d7d8031df4ff984c508e9da864b35": {
      "model_module": "@jupyter-widgets/controls",
      "model_module_version": "1.0.0",
      "model_name": "DescriptionStyleModel",
      "state": {
       "description_width": "initial"
      }
     },
     "75176e8e3f694980b4e2156ab5fdba16": {
      "model_module": "@jupyter-widgets/base",
      "model_module_version": "1.0.0",
      "model_name": "LayoutModel",
      "state": {}
     },
     "76459a9affde44d0a9daa29363008e4a": {
      "model_module": "@jupyter-widgets/controls",
      "model_module_version": "1.0.0",
      "model_name": "VBoxModel",
      "state": {
       "children": [
        "IPY_MODEL_fa7df53473e2422e9184a389817fa28a",
        "IPY_MODEL_24a70f35d36b4d4eb6b8faef61e818e1",
        "IPY_MODEL_1b37f86d44a84a748bf0f856f082f995",
        "IPY_MODEL_aaaf4ee3198948a28c188b9237d15a9f",
        "IPY_MODEL_6b49ad221a4f4738b7967d0195642151",
        "IPY_MODEL_1c1ce5a816634e95ba4fd9c260a0e035",
        "IPY_MODEL_8d645f6477254c368de96a816ed5e9f1",
        "IPY_MODEL_45d97dd36250486787312d12a1a0eaf2",
        "IPY_MODEL_113232b6f0b0489c857571e43b2fc7c0",
        "IPY_MODEL_36d5fefc93e84ab081d80ce41001de6f"
       ],
       "layout": "IPY_MODEL_dcca354f544646418d0eeb48fd1b5a9e"
      }
     },
     "8d645f6477254c368de96a816ed5e9f1": {
      "model_module": "@jupyter-widgets/controls",
      "model_module_version": "1.0.0",
      "model_name": "HTMLModel",
      "state": {
       "layout": "IPY_MODEL_421f485f7df44b158c5ebc2cead2e4fc",
       "style": "IPY_MODEL_de576513a12147e8bc083aeec4971950",
       "value": "<p   style='background-color: #DCDCDC; font-size:200; padding: 5px'>Computing</p>"
      }
     },
     "90d2800131be4e46b2b415fae5cc3976": {
      "model_module": "@jupyter-widgets/controls",
      "model_module_version": "1.0.0",
      "model_name": "ButtonStyleModel",
      "state": {}
     },
     "aaaf4ee3198948a28c188b9237d15a9f": {
      "model_module": "@jupyter-widgets/controls",
      "model_module_version": "1.0.0",
      "model_name": "DropdownModel",
      "state": {
       "_options_labels": [
        "-1",
        "-2",
        "-3"
       ],
       "description": "Negative Ion Valency",
       "index": 0,
       "layout": "IPY_MODEL_75176e8e3f694980b4e2156ab5fdba16",
       "style": "IPY_MODEL_520b6eb96ab54cd9a7c50b7bd2960207"
      }
     },
     "b75073530edf4a96b67df16319442848": {
      "model_module": "@jupyter-widgets/base",
      "model_module_version": "1.0.0",
      "model_name": "LayoutModel",
      "state": {}
     },
     "b9eaabc9eb4144fc82a2c63b9ef58541": {
      "model_module": "@jupyter-widgets/controls",
      "model_module_version": "1.0.0",
      "model_name": "DropdownModel",
      "state": {
       "_options_labels": [
        "1(monovalent)",
        "2(divalent)",
        "3(trivalent)"
       ],
       "description": "Positive Ion Valency (z)",
       "index": 0,
       "layout": "IPY_MODEL_c9aa90d11bec44f4aa17ca4467b7ff64",
       "style": "IPY_MODEL_5b8456ddd09d48d8b782d04c0f5a8666"
      }
     },
     "bf0216a2f8b24c489de53ab167969b49": {
      "model_module": "@jupyter-widgets/base",
      "model_module_version": "1.0.0",
      "model_name": "LayoutModel",
      "state": {}
     },
     "c9aa90d11bec44f4aa17ca4467b7ff64": {
      "model_module": "@jupyter-widgets/base",
      "model_module_version": "1.0.0",
      "model_name": "LayoutModel",
      "state": {}
     },
     "cba8a7396c344ef49134b9b3b3577ef5": {
      "model_module": "@jupyter-widgets/controls",
      "model_module_version": "1.0.0",
      "model_name": "DescriptionStyleModel",
      "state": {
       "description_width": "initial"
      }
     },
     "dcca354f544646418d0eeb48fd1b5a9e": {
      "model_module": "@jupyter-widgets/base",
      "model_module_version": "1.0.0",
      "model_name": "LayoutModel",
      "state": {}
     },
     "de576513a12147e8bc083aeec4971950": {
      "model_module": "@jupyter-widgets/controls",
      "model_module_version": "1.0.0",
      "model_name": "DescriptionStyleModel",
      "state": {
       "description_width": ""
      }
     },
     "e4131453ffbf4876acdf9652cdb5b893": {
      "model_module": "@jupyter-widgets/controls",
      "model_module_version": "1.0.0",
      "model_name": "DescriptionStyleModel",
      "state": {
       "description_width": "initial"
      }
     },
     "eba521d82a8f43bd996a3598254ea209": {
      "model_module": "@jupyter-widgets/controls",
      "model_module_version": "1.0.0",
      "model_name": "DescriptionStyleModel",
      "state": {
       "description_width": ""
      }
     },
     "f4cbb854239940da8e36bc8f9611fd13": {
      "model_module": "@jupyter-widgets/base",
      "model_module_version": "1.0.0",
      "model_name": "LayoutModel",
      "state": {}
     },
     "fa7df53473e2422e9184a389817fa28a": {
      "model_module": "@jupyter-widgets/controls",
      "model_module_version": "1.0.0",
      "model_name": "HTMLModel",
      "state": {
       "layout": "IPY_MODEL_73d6a9e62f6d40938e21e2c7fd5daf6a",
       "style": "IPY_MODEL_eba521d82a8f43bd996a3598254ea209",
       "value": "<p   style='background-color: #DCDCDC; font-size:200; padding: 5px'>Physical</p>"
      }
     }
    },
    "version_major": 2,
    "version_minor": 0
   }
  }
 },
 "nbformat": 4,
 "nbformat_minor": 2
}
